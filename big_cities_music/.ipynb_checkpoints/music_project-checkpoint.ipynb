{
 "cells": [
  {
   "cell_type": "markdown",
   "metadata": {
    "id": "E0vqbgi9ay0H"
   },
   "source": [
    "# Яндекс.Музыка"
   ]
  },
  {
   "cell_type": "markdown",
   "metadata": {
    "id": "VUC88oWjTJw2"
   },
   "source": [
    "Сравнение Москвы и Петербурга окружено мифами. Например:\n",
    " * Москва — мегаполис, подчинённый жёсткому ритму рабочей недели;\n",
    " * Петербург — культурная столица, со своими вкусами.\n",
    "\n",
    "На данных Яндекс.Музыки вы сравните поведение пользователей двух столиц.\n",
    "\n",
    "**Цель исследования** — проверьте три гипотезы:\n",
    "1. Активность пользователей зависит от дня недели. Причём в Москве и Петербурге это проявляется по-разному.\n",
    "2. В понедельник утром в Москве преобладают одни жанры, а в Петербурге — другие. Так же и вечером пятницы преобладают разные жанры — в зависимости от города. \n",
    "3. Москва и Петербург предпочитают разные жанры музыки. В Москве чаще слушают поп-музыку, в Петербурге — русский рэп.\n",
    "\n",
    "**Ход исследования**\n",
    "\n",
    "Данные о поведении пользователей вы получите из файла `yandex_music_project.csv`. О качестве данных ничего не известно. Поэтому перед проверкой гипотез понадобится обзор данных. \n",
    "\n",
    "Вы проверите данные на ошибки и оцените их влияние на исследование. Затем, на этапе предобработки вы поищете возможность исправить самые критичные ошибки данных.\n",
    " \n",
    "Таким образом, исследование пройдёт в три этапа:\n",
    " 1. Обзор данных.\n",
    " 2. Предобработка данных.\n",
    " 3. Проверка гипотез.\n",
    "\n"
   ]
  },
  {
   "cell_type": "markdown",
   "metadata": {
    "id": "Ml1hmfXC_Zcs"
   },
   "source": [
    "## Обзор данных\n",
    "\n",
    "Составьте первое представление о данных Яндекс.Музыки.\n",
    "\n",
    "\n"
   ]
  },
  {
   "cell_type": "markdown",
   "metadata": {
    "id": "57eAOGIz_Zcs"
   },
   "source": [
    "Основной инструмент аналитика — `pandas`. Импортируйте эту библиотеку."
   ]
  },
  {
   "cell_type": "code",
   "execution_count": 43,
   "metadata": {
    "id": "AXN7PHPN_Zcs"
   },
   "outputs": [],
   "source": [
    "# импорт библиотеки pandas\n",
    "import pandas as pd"
   ]
  },
  {
   "cell_type": "markdown",
   "metadata": {
    "id": "SG23P8tt_Zcs"
   },
   "source": [
    "Прочитайте файл `yandex_music_project.csv` из папки `/datasets` и сохраните его в переменной `df`:"
   ]
  },
  {
   "cell_type": "code",
   "execution_count": 56,
   "metadata": {
    "id": "fFVu7vqh_Zct"
   },
   "outputs": [],
   "source": [
    "# чтение файла с данными и сохранение в df\n",
    "df = pd.read_csv('/datasets/yandex_music_project.csv')\n",
    "#df.to_csv('data.cvs', index=False)"
   ]
  },
  {
   "cell_type": "markdown",
   "metadata": {
    "id": "rDoOMd3uTqnZ"
   },
   "source": [
    "Выведите на экран первые десять строк таблицы:"
   ]
  },
  {
   "cell_type": "code",
   "execution_count": 45,
   "metadata": {
    "id": "oWTVX3gW_Zct"
   },
   "outputs": [
    {
     "data": {
      "text/html": [
       "<div>\n",
       "<style scoped>\n",
       "    .dataframe tbody tr th:only-of-type {\n",
       "        vertical-align: middle;\n",
       "    }\n",
       "\n",
       "    .dataframe tbody tr th {\n",
       "        vertical-align: top;\n",
       "    }\n",
       "\n",
       "    .dataframe thead th {\n",
       "        text-align: right;\n",
       "    }\n",
       "</style>\n",
       "<table border=\"1\" class=\"dataframe\">\n",
       "  <thead>\n",
       "    <tr style=\"text-align: right;\">\n",
       "      <th></th>\n",
       "      <th>userID</th>\n",
       "      <th>Track</th>\n",
       "      <th>artist</th>\n",
       "      <th>genre</th>\n",
       "      <th>City</th>\n",
       "      <th>time</th>\n",
       "      <th>Day</th>\n",
       "    </tr>\n",
       "  </thead>\n",
       "  <tbody>\n",
       "    <tr>\n",
       "      <td>0</td>\n",
       "      <td>FFB692EC</td>\n",
       "      <td>Kamigata To Boots</td>\n",
       "      <td>The Mass Missile</td>\n",
       "      <td>rock</td>\n",
       "      <td>Saint-Petersburg</td>\n",
       "      <td>20:28:33</td>\n",
       "      <td>Wednesday</td>\n",
       "    </tr>\n",
       "    <tr>\n",
       "      <td>1</td>\n",
       "      <td>55204538</td>\n",
       "      <td>Delayed Because of Accident</td>\n",
       "      <td>Andreas Rönnberg</td>\n",
       "      <td>rock</td>\n",
       "      <td>Moscow</td>\n",
       "      <td>14:07:09</td>\n",
       "      <td>Friday</td>\n",
       "    </tr>\n",
       "    <tr>\n",
       "      <td>2</td>\n",
       "      <td>20EC38</td>\n",
       "      <td>Funiculì funiculà</td>\n",
       "      <td>Mario Lanza</td>\n",
       "      <td>pop</td>\n",
       "      <td>Saint-Petersburg</td>\n",
       "      <td>20:58:07</td>\n",
       "      <td>Wednesday</td>\n",
       "    </tr>\n",
       "    <tr>\n",
       "      <td>3</td>\n",
       "      <td>A3DD03C9</td>\n",
       "      <td>Dragons in the Sunset</td>\n",
       "      <td>Fire + Ice</td>\n",
       "      <td>folk</td>\n",
       "      <td>Saint-Petersburg</td>\n",
       "      <td>08:37:09</td>\n",
       "      <td>Monday</td>\n",
       "    </tr>\n",
       "    <tr>\n",
       "      <td>4</td>\n",
       "      <td>E2DC1FAE</td>\n",
       "      <td>Soul People</td>\n",
       "      <td>Space Echo</td>\n",
       "      <td>dance</td>\n",
       "      <td>Moscow</td>\n",
       "      <td>08:34:34</td>\n",
       "      <td>Monday</td>\n",
       "    </tr>\n",
       "    <tr>\n",
       "      <td>5</td>\n",
       "      <td>842029A1</td>\n",
       "      <td>Преданная</td>\n",
       "      <td>IMPERVTOR</td>\n",
       "      <td>rusrap</td>\n",
       "      <td>Saint-Petersburg</td>\n",
       "      <td>13:09:41</td>\n",
       "      <td>Friday</td>\n",
       "    </tr>\n",
       "    <tr>\n",
       "      <td>6</td>\n",
       "      <td>4CB90AA5</td>\n",
       "      <td>True</td>\n",
       "      <td>Roman Messer</td>\n",
       "      <td>dance</td>\n",
       "      <td>Moscow</td>\n",
       "      <td>13:00:07</td>\n",
       "      <td>Wednesday</td>\n",
       "    </tr>\n",
       "    <tr>\n",
       "      <td>7</td>\n",
       "      <td>F03E1C1F</td>\n",
       "      <td>Feeling This Way</td>\n",
       "      <td>Polina Griffith</td>\n",
       "      <td>dance</td>\n",
       "      <td>Moscow</td>\n",
       "      <td>20:47:49</td>\n",
       "      <td>Wednesday</td>\n",
       "    </tr>\n",
       "    <tr>\n",
       "      <td>8</td>\n",
       "      <td>8FA1D3BE</td>\n",
       "      <td>И вновь продолжается бой</td>\n",
       "      <td>NaN</td>\n",
       "      <td>ruspop</td>\n",
       "      <td>Moscow</td>\n",
       "      <td>09:17:40</td>\n",
       "      <td>Friday</td>\n",
       "    </tr>\n",
       "    <tr>\n",
       "      <td>9</td>\n",
       "      <td>E772D5C0</td>\n",
       "      <td>Pessimist</td>\n",
       "      <td>NaN</td>\n",
       "      <td>dance</td>\n",
       "      <td>Saint-Petersburg</td>\n",
       "      <td>21:20:49</td>\n",
       "      <td>Wednesday</td>\n",
       "    </tr>\n",
       "  </tbody>\n",
       "</table>\n",
       "</div>"
      ],
      "text/plain": [
       "     userID                        Track            artist   genre  \\\n",
       "0  FFB692EC            Kamigata To Boots  The Mass Missile    rock   \n",
       "1  55204538  Delayed Because of Accident  Andreas Rönnberg    rock   \n",
       "2    20EC38            Funiculì funiculà       Mario Lanza     pop   \n",
       "3  A3DD03C9        Dragons in the Sunset        Fire + Ice    folk   \n",
       "4  E2DC1FAE                  Soul People        Space Echo   dance   \n",
       "5  842029A1                    Преданная         IMPERVTOR  rusrap   \n",
       "6  4CB90AA5                         True      Roman Messer   dance   \n",
       "7  F03E1C1F             Feeling This Way   Polina Griffith   dance   \n",
       "8  8FA1D3BE     И вновь продолжается бой               NaN  ruspop   \n",
       "9  E772D5C0                    Pessimist               NaN   dance   \n",
       "\n",
       "             City        time        Day  \n",
       "0  Saint-Petersburg  20:28:33  Wednesday  \n",
       "1            Moscow  14:07:09     Friday  \n",
       "2  Saint-Petersburg  20:58:07  Wednesday  \n",
       "3  Saint-Petersburg  08:37:09     Monday  \n",
       "4            Moscow  08:34:34     Monday  \n",
       "5  Saint-Petersburg  13:09:41     Friday  \n",
       "6            Moscow  13:00:07  Wednesday  \n",
       "7            Moscow  20:47:49  Wednesday  \n",
       "8            Moscow  09:17:40     Friday  \n",
       "9  Saint-Petersburg  21:20:49  Wednesday  "
      ]
     },
     "metadata": {},
     "output_type": "display_data"
    }
   ],
   "source": [
    "# получение первых 10 строк таблицы df\n",
    "display(df.head(10))"
   ]
  },
  {
   "cell_type": "markdown",
   "metadata": {
    "id": "EO73Kwic_Zct"
   },
   "source": [
    "Одной командой получить общую информацию о таблице:"
   ]
  },
  {
   "cell_type": "code",
   "execution_count": 46,
   "metadata": {
    "id": "DSf2kIb-_Zct"
   },
   "outputs": [
    {
     "name": "stdout",
     "output_type": "stream",
     "text": [
      "<class 'pandas.core.frame.DataFrame'>\n",
      "RangeIndex: 65079 entries, 0 to 65078\n",
      "Data columns (total 7 columns):\n",
      "  userID    65079 non-null object\n",
      "Track       63848 non-null object\n",
      "artist      57876 non-null object\n",
      "genre       63881 non-null object\n",
      "  City      65079 non-null object\n",
      "time        65079 non-null object\n",
      "Day         65079 non-null object\n",
      "dtypes: object(7)\n",
      "memory usage: 3.5+ MB\n"
     ]
    }
   ],
   "source": [
    "# получение общей информации о данных в таблице df\n",
    "df.info()"
   ]
  },
  {
   "cell_type": "markdown",
   "metadata": {
    "id": "TaQ2Iwbr_Zct"
   },
   "source": [
    "Итак, в таблице семь столбцов. Тип данных во всех столбцах — `object`.\n",
    "\n",
    "Согласно документации к данным:\n",
    "* `userID` — идентификатор пользователя;\n",
    "* `Track` — название трека;  \n",
    "* `artist` — имя исполнителя;\n",
    "* `genre` — название жанра;\n",
    "* `City` — город пользователя;\n",
    "* `time` — время начала прослушивания;\n",
    "* `Day` — день недели.\n",
    "\n",
    "В названиях колонок видны три нарушения стиля:\n",
    "1. Строчные буквы сочетаются с прописными.\n",
    "2. Встречаются пробелы.\n",
    "3. Найдите ещё одну проблему в названии колонок и опишите её в этом пункте.\n",
    "\n",
    "\n",
    "\n",
    "Количество значений в столбцах различается. Значит, в данных есть пропущенные значения.\n"
   ]
  },
  {
   "cell_type": "markdown",
   "metadata": {
    "id": "MCB6-dXG_Zct"
   },
   "source": [
    "**Выводы**\n",
    "\n",
    "В каждой строке таблицы — данные о прослушанном треке. Часть колонок описывает саму композицию: название, исполнителя и жанр. Остальные данные рассказывают о пользователе: из какого он города, когда он слушал музыку. \n",
    "\n",
    "Предварительно можно утверждать, что, данных достаточно для проверки гипотез. Но встречаются пропуски в данных, а в названиях колонок — расхождения с хорошим стилем.\n",
    "\n",
    "Чтобы двигаться дальше, нужно устранить проблемы в данных."
   ]
  },
  {
   "cell_type": "markdown",
   "metadata": {
    "id": "SjYF6Ub9_Zct"
   },
   "source": [
    "## Предобработка данных\n",
    "Исправьте стиль в заголовках столбцов, исключите пропуски. Затем проверьте данные на дубликаты."
   ]
  },
  {
   "cell_type": "markdown",
   "metadata": {
    "id": "dIaKXr29_Zct"
   },
   "source": [
    "### Стиль заголовков\n",
    "Выведите на экран названия столбцов:"
   ]
  },
  {
   "cell_type": "code",
   "execution_count": 47,
   "metadata": {
    "id": "oKOTdF_Q_Zct"
   },
   "outputs": [
    {
     "data": {
      "text/plain": [
       "Index(['  userID', 'Track', 'artist', 'genre', '  City  ', 'time', 'Day'], dtype='object')"
      ]
     },
     "execution_count": 47,
     "metadata": {},
     "output_type": "execute_result"
    }
   ],
   "source": [
    "# перечень названий столбцов таблицы df\n",
    "df.columns"
   ]
  },
  {
   "cell_type": "markdown",
   "metadata": {
    "id": "zj5534cv_Zct"
   },
   "source": [
    "Приведите названия в соответствие с хорошим стилем:\n",
    "* несколько слов в названии запишите в «змеином_регистре»,\n",
    "* все символы сделайте строчными,\n",
    "* устраните пробелы.\n",
    "\n",
    "Для этого переименуйте колонки так:\n",
    "* `'  userID'` → `'user_id'`;\n",
    "* `'Track'` → `'track'`;\n",
    "* `'  City  '` → `'city'`;\n",
    "* `'Day'` → `'day'`."
   ]
  },
  {
   "cell_type": "code",
   "execution_count": 48,
   "metadata": {
    "id": "ISlFqs5y_Zct"
   },
   "outputs": [],
   "source": [
    "# переименование столбцов\n",
    "df = df.rename(columns={'  userID': 'user_id', 'Track': 'track', '  City  ': 'city', 'Day': 'day'})"
   ]
  },
  {
   "cell_type": "markdown",
   "metadata": {
    "id": "1dqbh00J_Zct"
   },
   "source": [
    "Проверьте результат. Для этого ещё раз выведите на экран названия столбцов:"
   ]
  },
  {
   "cell_type": "code",
   "execution_count": 49,
   "metadata": {
    "id": "d4NOAmTW_Zct"
   },
   "outputs": [
    {
     "data": {
      "text/plain": [
       "Index(['user_id', 'track', 'artist', 'genre', 'city', 'time', 'day'], dtype='object')"
      ]
     },
     "metadata": {},
     "output_type": "display_data"
    }
   ],
   "source": [
    "# проверка результатов - перечень названий столбцов\n",
    "display(df.columns)"
   ]
  },
  {
   "cell_type": "markdown",
   "metadata": {
    "id": "5ISfbcfY_Zct"
   },
   "source": [
    "### Пропуски значений\n",
    "Сначала посчитайте, сколько в таблице пропущенных значений. Для этого достаточно двух методов `pandas`:"
   ]
  },
  {
   "cell_type": "code",
   "execution_count": 61,
   "metadata": {
    "id": "RskX29qr_Zct"
   },
   "outputs": [
    {
     "data": {
      "text/plain": [
       "  userID       0\n",
       "Track       1231\n",
       "artist      7203\n",
       "genre       1198\n",
       "  City         0\n",
       "time           0\n",
       "Day            0\n",
       "dtype: int64"
      ]
     },
     "metadata": {},
     "output_type": "display_data"
    }
   ],
   "source": [
    "# подсчёт пропусков\n",
    "display(df.isna().sum())"
   ]
  },
  {
   "cell_type": "markdown",
   "metadata": {
    "id": "qubhgnlO_Zct"
   },
   "source": [
    "Не все пропущенные значения влияют на исследование. Так в `track` и `artist` пропуски не важны для вашей работы. Достаточно заменить их явными обозначениями.\n",
    "\n",
    "Но пропуски в `genre` могут помешать сравнению музыкальных вкусов в Москве и Санкт-Петербурге. На практике было бы правильно установить причину пропусков и восстановить данные. Такой возможности нет в учебном проекте. Придётся:\n",
    "* заполнить и эти пропуски явными обозначениями,\n",
    "* оценить, насколько они повредят расчётам. "
   ]
  },
  {
   "cell_type": "markdown",
   "metadata": {
    "id": "fSv2laPA_Zct"
   },
   "source": [
    "Замените пропущенные значения в столбцах `track`, `artist` и `genre` на строку `'unknown'`. Для этого создайте список `columns_to_replace`, переберите его элементы циклом `for` и для каждого столбца выполните замену пропущенных значений:"
   ]
  },
  {
   "cell_type": "code",
   "execution_count": 62,
   "metadata": {
    "id": "KplB5qWs_Zct"
   },
   "outputs": [],
   "source": [
    "# перебор названий столбцов в цикле и замена пропущенных значений на 'unknown'\n",
    "for column in df.columns:\n",
    "    df[column] = df[column].fillna('unknown')"
   ]
  },
  {
   "cell_type": "markdown",
   "metadata": {
    "id": "Ilsm-MZo_Zct"
   },
   "source": [
    "Убедитесь, что в таблице не осталось пропусков. Для этого ещё раз посчитайте пропущенные значения."
   ]
  },
  {
   "cell_type": "code",
   "execution_count": 63,
   "metadata": {
    "id": "Tq4nYRX4_Zct"
   },
   "outputs": [
    {
     "data": {
      "text/plain": [
       "  userID    0\n",
       "Track       0\n",
       "artist      0\n",
       "genre       0\n",
       "  City      0\n",
       "time        0\n",
       "Day         0\n",
       "dtype: int64"
      ]
     },
     "execution_count": 63,
     "metadata": {},
     "output_type": "execute_result"
    }
   ],
   "source": [
    "# подсчёт пропусков\n",
    "df.isna().sum()"
   ]
  },
  {
   "cell_type": "markdown",
   "metadata": {
    "id": "BWKRtBJ3_Zct"
   },
   "source": [
    "## Дубликаты\n",
    "Посчитайте явные дубликаты в таблице одной командой:"
   ]
  },
  {
   "cell_type": "code",
   "execution_count": 64,
   "metadata": {
    "id": "36eES_S0_Zct"
   },
   "outputs": [
    {
     "name": "stdout",
     "output_type": "stream",
     "text": [
      "0        False\n",
      "1        False\n",
      "2        False\n",
      "3        False\n",
      "4        False\n",
      "         ...  \n",
      "65074    False\n",
      "65075    False\n",
      "65076    False\n",
      "65077    False\n",
      "65078    False\n",
      "Length: 65079, dtype: bool\n"
     ]
    }
   ],
   "source": [
    "# подсчёт явных дубликатов\n",
    "print(df.duplicated().sum())"
   ]
  },
  {
   "cell_type": "markdown",
   "metadata": {
    "id": "Ot25h6XR_Zct"
   },
   "source": [
    "Вызовите специальный метод `pandas`, чтобы удалить явные дубликаты:"
   ]
  },
  {
   "cell_type": "code",
   "execution_count": 12,
   "metadata": {
    "id": "exFHq6tt_Zct"
   },
   "outputs": [],
   "source": [
    "# удаление явных дубликатов (с удалением старых индексов и формированием новых)\n",
    "df = df.drop_duplicates().reset_index(drop=True)"
   ]
  },
  {
   "cell_type": "markdown",
   "metadata": {
    "id": "Im2YwBEG_Zct"
   },
   "source": [
    "Ещё раз посчитайте явные дубликаты в таблице — убедитесь, что полностью от них избавились:"
   ]
  },
  {
   "cell_type": "code",
   "execution_count": 13,
   "metadata": {
    "id": "-8PuNWQ0_Zct"
   },
   "outputs": [
    {
     "name": "stdout",
     "output_type": "stream",
     "text": [
      "0\n"
     ]
    }
   ],
   "source": [
    "# проверка на отсутствие дубликатов\n",
    "print(df.duplicated().sum())"
   ]
  },
  {
   "cell_type": "markdown",
   "metadata": {
    "id": "QlFBsxAr_Zct"
   },
   "source": [
    "Теперь избавьтесь от неявных дубликатов в колонке `genre`. Например, название одного и того же жанра может быть записано немного по-разному. Такие ошибки тоже повлияют на результат исследования."
   ]
  },
  {
   "cell_type": "markdown",
   "metadata": {
    "id": "eSjWwsOh_Zct"
   },
   "source": [
    "Выведите на экран список уникальных названий жанров, отсортированный в алфавитном порядке. Для этого:\n",
    "* извлеките нужный столбец датафрейма, \n",
    "* примените к нему метод сортировки,\n",
    "* для отсортированного столбца вызовите метод, который вернёт уникальные значения из столбца."
   ]
  },
  {
   "cell_type": "code",
   "execution_count": 14,
   "metadata": {
    "id": "JIUcqzZN_Zct"
   },
   "outputs": [
    {
     "data": {
      "text/plain": [
       "array(['acid', 'acoustic', 'action', 'adult', 'africa', 'afrikaans',\n",
       "       'alternative', 'alternativepunk', 'ambient', 'americana',\n",
       "       'animated', 'anime', 'arabesk', 'arabic', 'arena',\n",
       "       'argentinetango', 'art', 'audiobook', 'author', 'avantgarde',\n",
       "       'axé', 'baile', 'balkan', 'beats', 'bigroom', 'black', 'bluegrass',\n",
       "       'blues', 'bollywood', 'bossa', 'brazilian', 'breakbeat', 'breaks',\n",
       "       'broadway', 'cantautori', 'cantopop', 'canzone', 'caribbean',\n",
       "       'caucasian', 'celtic', 'chamber', 'chanson', 'children', 'chill',\n",
       "       'chinese', 'choral', 'christian', 'christmas', 'classical',\n",
       "       'classicmetal', 'club', 'colombian', 'comedy', 'conjazz',\n",
       "       'contemporary', 'country', 'cuban', 'dance', 'dancehall',\n",
       "       'dancepop', 'dark', 'death', 'deep', 'deutschrock', 'deutschspr',\n",
       "       'dirty', 'disco', 'dnb', 'documentary', 'downbeat', 'downtempo',\n",
       "       'drum', 'dub', 'dubstep', 'eastern', 'easy', 'electronic',\n",
       "       'electropop', 'emo', 'entehno', 'epicmetal', 'estrada', 'ethnic',\n",
       "       'eurofolk', 'european', 'experimental', 'extrememetal', 'fado',\n",
       "       'fairytail', 'film', 'fitness', 'flamenco', 'folk', 'folklore',\n",
       "       'folkmetal', 'folkrock', 'folktronica', 'forró', 'frankreich',\n",
       "       'französisch', 'french', 'funk', 'future', 'gangsta', 'garage',\n",
       "       'german', 'ghazal', 'gitarre', 'glitch', 'gospel', 'gothic',\n",
       "       'grime', 'grunge', 'gypsy', 'handsup', \"hard'n'heavy\", 'hardcore',\n",
       "       'hardstyle', 'hardtechno', 'hip', 'hip-hop', 'hiphop',\n",
       "       'historisch', 'holiday', 'hop', 'horror', 'house', 'hymn', 'idm',\n",
       "       'independent', 'indian', 'indie', 'indipop', 'industrial',\n",
       "       'inspirational', 'instrumental', 'international', 'irish', 'jam',\n",
       "       'japanese', 'jazz', 'jewish', 'jpop', 'jungle', 'k-pop',\n",
       "       'karadeniz', 'karaoke', 'kayokyoku', 'korean', 'laiko', 'latin',\n",
       "       'latino', 'leftfield', 'local', 'lounge', 'loungeelectronic',\n",
       "       'lovers', 'malaysian', 'mandopop', 'marschmusik', 'meditative',\n",
       "       'mediterranean', 'melodic', 'metal', 'metalcore', 'mexican',\n",
       "       'middle', 'minimal', 'miscellaneous', 'modern', 'mood', 'mpb',\n",
       "       'muslim', 'native', 'neoklassik', 'neue', 'new', 'newage',\n",
       "       'newwave', 'nu', 'nujazz', 'numetal', 'oceania', 'old', 'opera',\n",
       "       'orchestral', 'other', 'piano', 'podcasts', 'pop', 'popdance',\n",
       "       'popelectronic', 'popeurodance', 'poprussian', 'post',\n",
       "       'posthardcore', 'postrock', 'power', 'progmetal', 'progressive',\n",
       "       'psychedelic', 'punjabi', 'punk', 'quebecois', 'ragga', 'ram',\n",
       "       'rancheras', 'rap', 'rave', 'reggae', 'reggaeton', 'regional',\n",
       "       'relax', 'religious', 'retro', 'rhythm', 'rnb', 'rnr', 'rock',\n",
       "       'rockabilly', 'rockalternative', 'rockindie', 'rockother',\n",
       "       'romance', 'roots', 'ruspop', 'rusrap', 'rusrock', 'russian',\n",
       "       'salsa', 'samba', 'scenic', 'schlager', 'self', 'sertanejo',\n",
       "       'shanson', 'shoegazing', 'showtunes', 'singer', 'ska', 'skarock',\n",
       "       'slow', 'smooth', 'soft', 'soul', 'soulful', 'sound', 'soundtrack',\n",
       "       'southern', 'specialty', 'speech', 'spiritual', 'sport',\n",
       "       'stonerrock', 'surf', 'swing', 'synthpop', 'synthrock',\n",
       "       'sängerportrait', 'tango', 'tanzorchester', 'taraftar', 'tatar',\n",
       "       'tech', 'techno', 'teen', 'thrash', 'top', 'traditional',\n",
       "       'tradjazz', 'trance', 'tribal', 'trip', 'triphop', 'tropical',\n",
       "       'türk', 'türkçe', 'ukrrock', 'unknown', 'urban', 'uzbek',\n",
       "       'variété', 'vi', 'videogame', 'vocal', 'western', 'world',\n",
       "       'worldbeat', 'ïîï', 'электроника'], dtype=object)"
      ]
     },
     "metadata": {},
     "output_type": "display_data"
    }
   ],
   "source": [
    "# Просмотр уникальных названий жанров\n",
    "uniques_genre = df['genre'].unique()\n",
    "uniques_genre.sort()\n",
    "display(uniques_genre)"
   ]
  },
  {
   "cell_type": "code",
   "execution_count": 15,
   "metadata": {},
   "outputs": [],
   "source": [
    "wrong_genres = [\n",
    "    ['hip', 'hop', 'hip-hop'], \n",
    "    ['türk', 'türkçe'], \n",
    "    ['электроника'], \n",
    "    ['tech']]\n",
    "\n",
    "correct_genre = ['hiphop', \n",
    "                 'Turkish', \n",
    "                 'electronic', \n",
    "                 'techno']"
   ]
  },
  {
   "cell_type": "markdown",
   "metadata": {
    "id": "qej-Qmuo_Zct"
   },
   "source": [
    "Просмотрите список и найдите неявные дубликаты названия `hiphop`. Это могут быть названия с ошибками или альтернативные названия того же жанра.\n",
    "\n",
    "Вы увидите следующие неявные дубликаты:\n",
    "* *hip*,\n",
    "* *hop*,\n",
    "* *hip-hop*.\n",
    "\n",
    "Чтобы очистить от них таблицу, напишите функцию `replace_wrong_genres()` с двумя параметрами: \n",
    "* `wrong_genres` — список дубликатов,\n",
    "* `correct_genre` — строка с правильным значением.\n",
    "\n",
    "Функция должна исправить колонку `genre` в таблице `df`: заменить каждое значение из списка `wrong_genres` на значение из `correct_genre`."
   ]
  },
  {
   "cell_type": "code",
   "execution_count": 16,
   "metadata": {
    "id": "ErNDkmns_Zct"
   },
   "outputs": [],
   "source": [
    "# Функция для замены неявных дубликатов\n",
    "def replace_wrong_genres(wrong_genres, correct_genre):\n",
    "    for wrong_genre in wrong_genres:\n",
    "        df['genre'] = df['genre'].replace(wrong_genre, correct_genre)"
   ]
  },
  {
   "cell_type": "markdown",
   "metadata": {
    "id": "aDoBJxbA_Zct"
   },
   "source": [
    "Вызовите `replace_wrong_genres()` и передайте ей такие аргументы, чтобы она устранила неявные дубликаты: вместо `hip`, `hop` и `hip-hop` в таблице должно быть значение `hiphop`:"
   ]
  },
  {
   "cell_type": "code",
   "execution_count": 17,
   "metadata": {
    "id": "YN5i2hpmSo09"
   },
   "outputs": [],
   "source": [
    "# Устранение неявных дубликатов\n",
    "wrong_genres = ['hip', 'hop', 'hip-hop']\n",
    "correct_genre = 'hiphop'\n",
    "replace_wrong_genres(wrong_genres, correct_genre)"
   ]
  },
  {
   "cell_type": "markdown",
   "metadata": {
    "id": "zQKF16_RG15m"
   },
   "source": [
    "Проверьте, что заменили неправильные названия:\n",
    "\n",
    "*   hip\n",
    "*   hop\n",
    "*   hip-hop\n",
    "\n",
    "Выведите отсортированный список уникальных значений столбца `genre`:"
   ]
  },
  {
   "cell_type": "code",
   "execution_count": 18,
   "metadata": {
    "id": "wvixALnFG15m"
   },
   "outputs": [
    {
     "data": {
      "text/plain": [
       "array(['acid', 'acoustic', 'action', 'adult', 'africa', 'afrikaans',\n",
       "       'alternative', 'alternativepunk', 'ambient', 'americana',\n",
       "       'animated', 'anime', 'arabesk', 'arabic', 'arena',\n",
       "       'argentinetango', 'art', 'audiobook', 'author', 'avantgarde',\n",
       "       'axé', 'baile', 'balkan', 'beats', 'bigroom', 'black', 'bluegrass',\n",
       "       'blues', 'bollywood', 'bossa', 'brazilian', 'breakbeat', 'breaks',\n",
       "       'broadway', 'cantautori', 'cantopop', 'canzone', 'caribbean',\n",
       "       'caucasian', 'celtic', 'chamber', 'chanson', 'children', 'chill',\n",
       "       'chinese', 'choral', 'christian', 'christmas', 'classical',\n",
       "       'classicmetal', 'club', 'colombian', 'comedy', 'conjazz',\n",
       "       'contemporary', 'country', 'cuban', 'dance', 'dancehall',\n",
       "       'dancepop', 'dark', 'death', 'deep', 'deutschrock', 'deutschspr',\n",
       "       'dirty', 'disco', 'dnb', 'documentary', 'downbeat', 'downtempo',\n",
       "       'drum', 'dub', 'dubstep', 'eastern', 'easy', 'electronic',\n",
       "       'electropop', 'emo', 'entehno', 'epicmetal', 'estrada', 'ethnic',\n",
       "       'eurofolk', 'european', 'experimental', 'extrememetal', 'fado',\n",
       "       'fairytail', 'film', 'fitness', 'flamenco', 'folk', 'folklore',\n",
       "       'folkmetal', 'folkrock', 'folktronica', 'forró', 'frankreich',\n",
       "       'französisch', 'french', 'funk', 'future', 'gangsta', 'garage',\n",
       "       'german', 'ghazal', 'gitarre', 'glitch', 'gospel', 'gothic',\n",
       "       'grime', 'grunge', 'gypsy', 'handsup', \"hard'n'heavy\", 'hardcore',\n",
       "       'hardstyle', 'hardtechno', 'hip', 'hip-hop', 'hiphop',\n",
       "       'historisch', 'holiday', 'hop', 'horror', 'house', 'hymn', 'idm',\n",
       "       'independent', 'indian', 'indie', 'indipop', 'industrial',\n",
       "       'inspirational', 'instrumental', 'international', 'irish', 'jam',\n",
       "       'japanese', 'jazz', 'jewish', 'jpop', 'jungle', 'k-pop',\n",
       "       'karadeniz', 'karaoke', 'kayokyoku', 'korean', 'laiko', 'latin',\n",
       "       'latino', 'leftfield', 'local', 'lounge', 'loungeelectronic',\n",
       "       'lovers', 'malaysian', 'mandopop', 'marschmusik', 'meditative',\n",
       "       'mediterranean', 'melodic', 'metal', 'metalcore', 'mexican',\n",
       "       'middle', 'minimal', 'miscellaneous', 'modern', 'mood', 'mpb',\n",
       "       'muslim', 'native', 'neoklassik', 'neue', 'new', 'newage',\n",
       "       'newwave', 'nu', 'nujazz', 'numetal', 'oceania', 'old', 'opera',\n",
       "       'orchestral', 'other', 'piano', 'podcasts', 'pop', 'popdance',\n",
       "       'popelectronic', 'popeurodance', 'poprussian', 'post',\n",
       "       'posthardcore', 'postrock', 'power', 'progmetal', 'progressive',\n",
       "       'psychedelic', 'punjabi', 'punk', 'quebecois', 'ragga', 'ram',\n",
       "       'rancheras', 'rap', 'rave', 'reggae', 'reggaeton', 'regional',\n",
       "       'relax', 'religious', 'retro', 'rhythm', 'rnb', 'rnr', 'rock',\n",
       "       'rockabilly', 'rockalternative', 'rockindie', 'rockother',\n",
       "       'romance', 'roots', 'ruspop', 'rusrap', 'rusrock', 'russian',\n",
       "       'salsa', 'samba', 'scenic', 'schlager', 'self', 'sertanejo',\n",
       "       'shanson', 'shoegazing', 'showtunes', 'singer', 'ska', 'skarock',\n",
       "       'slow', 'smooth', 'soft', 'soul', 'soulful', 'sound', 'soundtrack',\n",
       "       'southern', 'specialty', 'speech', 'spiritual', 'sport',\n",
       "       'stonerrock', 'surf', 'swing', 'synthpop', 'synthrock',\n",
       "       'sängerportrait', 'tango', 'tanzorchester', 'taraftar', 'tatar',\n",
       "       'tech', 'techno', 'teen', 'thrash', 'top', 'traditional',\n",
       "       'tradjazz', 'trance', 'tribal', 'trip', 'triphop', 'tropical',\n",
       "       'türk', 'türkçe', 'ukrrock', 'unknown', 'urban', 'uzbek',\n",
       "       'variété', 'vi', 'videogame', 'vocal', 'western', 'world',\n",
       "       'worldbeat', 'ïîï', 'электроника'], dtype=object)"
      ]
     },
     "metadata": {},
     "output_type": "display_data"
    }
   ],
   "source": [
    "# Проверка на неявные дубликаты\n",
    "display(uniques_genre)"
   ]
  },
  {
   "cell_type": "markdown",
   "metadata": {
    "id": "jz6a9-7HQUDd"
   },
   "source": [
    "**Выводы**\n",
    "\n",
    "Предобработка обнаружила три проблемы в данных:\n",
    "\n",
    "- нарушения в стиле заголовков,\n",
    "- пропущенные значения,\n",
    "- дубликаты — явные и неявные.\n",
    "\n",
    "Вы исправили заголовки, чтобы упростить работу с таблицей. Без дубликатов исследование станет более точным.\n",
    "\n",
    "Пропущенные значения вы заменили на `'unknown'`. Ещё предстоит увидеть, не повредят ли исследованию пропуски в колонке `genre`.\n",
    "\n",
    "Теперь можно перейти к проверке гипотез. "
   ]
  },
  {
   "cell_type": "markdown",
   "metadata": {
    "id": "WttZHXH0SqKk"
   },
   "source": [
    "## Проверка гипотез"
   ]
  },
  {
   "cell_type": "markdown",
   "metadata": {
    "id": "Im936VVi_Zcu"
   },
   "source": [
    "### Сравнение поведения пользователей двух столиц"
   ]
  },
  {
   "cell_type": "markdown",
   "metadata": {
    "id": "nwt_MuaL_Zcu"
   },
   "source": [
    "Первая гипотеза утверждает, что пользователи по-разному слушают музыку в Москве и Санкт-Петербурге. Проверьте это предположение по данным о трёх днях недели — понедельнике, среде и пятнице. Для этого:\n",
    "\n",
    "* Разделите пользователей Москвы и Санкт-Петербурга\n",
    "* Сравните, сколько треков послушала каждая группа пользователей в понедельник, среду и пятницу.\n"
   ]
  },
  {
   "cell_type": "markdown",
   "metadata": {
    "id": "8Dw_YMmT_Zcu"
   },
   "source": [
    "Для тренировки сначала выполните каждый из расчётов по отдельности. \n",
    "\n",
    "Оцените активность пользователей в каждом городе. Сгруппируйте данные по городу и посчитайте прослушивания в каждой группе.\n",
    "\n"
   ]
  },
  {
   "cell_type": "code",
   "execution_count": 19,
   "metadata": {
    "id": "0_Qs96oh_Zcu"
   },
   "outputs": [
    {
     "data": {
      "text/plain": [
       "city\n",
       "Moscow              42741\n",
       "Saint-Petersburg    18512\n",
       "Name: track, dtype: int64"
      ]
     },
     "metadata": {},
     "output_type": "display_data"
    }
   ],
   "source": [
    "# Подсчёт прослушиваний в каждом городе\n",
    "auditions_city = df.groupby(by='city').count()\n",
    "display(auditions_city['track'])"
   ]
  },
  {
   "cell_type": "markdown",
   "metadata": {
    "id": "dzli3w8o_Zcu"
   },
   "source": [
    "В Москве прослушиваний больше, чем в Петербурге. Из этого не следует, что московские пользователи чаще слушают музыку. Просто самих пользователей в Москве больше.\n",
    "\n",
    "Теперь сгруппируйте данные по дню недели и подсчитайте прослушивания в понедельник, среду и пятницу. Учтите, что в данных есть информация только о прослушиваниях только за эти дни.\n"
   ]
  },
  {
   "cell_type": "code",
   "execution_count": 20,
   "metadata": {
    "id": "uZMKjiJz_Zcu"
   },
   "outputs": [
    {
     "data": {
      "text/plain": [
       "day\n",
       "Friday       21840\n",
       "Monday       21354\n",
       "Wednesday    18059\n",
       "Name: track, dtype: int64"
      ]
     },
     "metadata": {},
     "output_type": "display_data"
    }
   ],
   "source": [
    "# Подсчёт прослушиваний в каждый из трёх дней\n",
    "auditions_week_days = df.groupby(by='day').count()\n",
    "display(auditions_week_days['track'])"
   ]
  },
  {
   "cell_type": "markdown",
   "metadata": {
    "id": "cC2tNrlL_Zcu"
   },
   "source": [
    "В среднем пользователи из двух городов менее активны по средам. Но картина может измениться, если рассмотреть каждый город в отдельности."
   ]
  },
  {
   "cell_type": "markdown",
   "metadata": {
    "id": "POzs8bGa_Zcu"
   },
   "source": [
    "Вы видели, как работает группировка по городу и по дням недели. Теперь напишите функцию, которая объединит два эти расчёта.\n",
    "\n",
    "Создайте функцию `number_tracks()`, которая посчитает прослушивания для заданного дня и города. Ей понадобятся два параметра:\n",
    "* день недели,\n",
    "* название города.\n",
    "\n",
    "В функции сохраните в переменную строки исходной таблицы, у которых значение:\n",
    "  * в колонке `day` равно параметру `day`,\n",
    "  * в колонке `city` равно параметру `city`.\n",
    "\n",
    "Для этого примените последовательную фильтрацию с логической индексацией.\n",
    "\n",
    "Затем посчитайте значения в столбце `user_id` получившейся таблицы. Результат сохраните в новую переменную. Верните эту переменную из функции."
   ]
  },
  {
   "cell_type": "code",
   "execution_count": 21,
   "metadata": {
    "id": "Nz3GdQB1_Zcu"
   },
   "outputs": [],
   "source": [
    "# <создание функции number_tracks()>\n",
    "# Объявляется функция с двумя параметрами: day, city.\n",
    "# В переменной track_list сохраняются те строки таблицы df, для которых \n",
    "# значение в столбце 'day' равно параметру day и одновременно значение\n",
    "# в столбце 'city' равно параметру city (используйте последовательную фильтрацию\n",
    "# с помощью логической индексации).\n",
    "# В переменной track_list_count сохраняется число значений столбца 'user_id',\n",
    "# рассчитанное методом count() для таблицы track_list.\n",
    "# Функция возвращает число - значение track_list_count.\n",
    "\n",
    "\n",
    "def number_tracks(day, city):\n",
    "    track_list = df.loc[df.loc[:, 'day'] == day]\n",
    "    track_list = track_list.loc[track_list.loc[:, 'city'] == city]\n",
    "    track_list_count = track_list['user_id'].count().sum()\n",
    "    return track_list_count\n",
    "    \n",
    "    \n",
    "# Функция для подсчёта прослушиваний для конкретного города и дня.\n",
    "# С помощью последовательной фильтрации с логической индексацией она \n",
    "# сначала получит из исходной таблицы строки с нужным днём,\n",
    "# затем из результата отфильтрует строки с нужным городом,\n",
    "# методом count() посчитает количество значений в колонке user_id. \n",
    "# Это количество функция вернёт в качестве результата"
   ]
  },
  {
   "cell_type": "markdown",
   "metadata": {
    "id": "ytf7xFrFJQ2r"
   },
   "source": [
    "Вызовите `number_tracks()` шесть раз, меняя значение параметров — так, чтобы получить данные для каждого города в каждый из трёх дней."
   ]
  },
  {
   "cell_type": "code",
   "execution_count": 22,
   "metadata": {
    "id": "rJcRATNQ_Zcu"
   },
   "outputs": [
    {
     "data": {
      "text/plain": [
       "15740"
      ]
     },
     "execution_count": 22,
     "metadata": {},
     "output_type": "execute_result"
    }
   ],
   "source": [
    "# количество прослушиваний в Москве по понедельникам\n",
    "number_tracks('Monday', 'Moscow')"
   ]
  },
  {
   "cell_type": "code",
   "execution_count": 23,
   "metadata": {
    "id": "hq_ncZ5T_Zcu"
   },
   "outputs": [
    {
     "data": {
      "text/plain": [
       "5614"
      ]
     },
     "execution_count": 23,
     "metadata": {},
     "output_type": "execute_result"
    }
   ],
   "source": [
    "# количество прослушиваний в Санкт-Петербурге по понедельникам\n",
    "number_tracks('Monday', 'Saint-Petersburg')"
   ]
  },
  {
   "cell_type": "code",
   "execution_count": 24,
   "metadata": {
    "id": "_NTy2VPU_Zcu"
   },
   "outputs": [
    {
     "data": {
      "text/plain": [
       "11056"
      ]
     },
     "execution_count": 24,
     "metadata": {},
     "output_type": "execute_result"
    }
   ],
   "source": [
    "# количество прослушиваний в Москве по средам\n",
    "number_tracks('Wednesday', 'Moscow')"
   ]
  },
  {
   "cell_type": "code",
   "execution_count": 25,
   "metadata": {
    "id": "j2y3TAwo_Zcu"
   },
   "outputs": [
    {
     "data": {
      "text/plain": [
       "7003"
      ]
     },
     "execution_count": 25,
     "metadata": {},
     "output_type": "execute_result"
    }
   ],
   "source": [
    "# количество прослушиваний в Санкт-Петербурге по средам\n",
    "number_tracks('Wednesday', 'Saint-Petersburg')"
   ]
  },
  {
   "cell_type": "code",
   "execution_count": 26,
   "metadata": {
    "id": "vYDw5u_K_Zcu"
   },
   "outputs": [
    {
     "data": {
      "text/plain": [
       "15945"
      ]
     },
     "execution_count": 26,
     "metadata": {},
     "output_type": "execute_result"
    }
   ],
   "source": [
    "# количество прослушиваний в Москве по пятницам\n",
    "number_tracks('Friday', 'Moscow')"
   ]
  },
  {
   "cell_type": "code",
   "execution_count": 27,
   "metadata": {
    "id": "8_yzFtW3_Zcu"
   },
   "outputs": [
    {
     "data": {
      "text/plain": [
       "5895"
      ]
     },
     "execution_count": 27,
     "metadata": {},
     "output_type": "execute_result"
    }
   ],
   "source": [
    "# количество прослушиваний в Санкт-Петербурге по пятницам\n",
    "number_tracks('Friday', 'Saint-Petersburg')"
   ]
  },
  {
   "cell_type": "markdown",
   "metadata": {
    "id": "7QXffbO-_Zcu"
   },
   "source": [
    "Создайте c помощью конструктора `pd.DataFrame` таблицу, где\n",
    "* названия колонок — `['city', 'monday', 'wednesday', 'friday']`;\n",
    "* данные — результаты, которые вы получили с помощью `number_tracks`."
   ]
  },
  {
   "cell_type": "code",
   "execution_count": 28,
   "metadata": {
    "id": "APAcLpOr_Zcu"
   },
   "outputs": [
    {
     "data": {
      "text/html": [
       "<div>\n",
       "<style scoped>\n",
       "    .dataframe tbody tr th:only-of-type {\n",
       "        vertical-align: middle;\n",
       "    }\n",
       "\n",
       "    .dataframe tbody tr th {\n",
       "        vertical-align: top;\n",
       "    }\n",
       "\n",
       "    .dataframe thead th {\n",
       "        text-align: right;\n",
       "    }\n",
       "</style>\n",
       "<table border=\"1\" class=\"dataframe\">\n",
       "  <thead>\n",
       "    <tr style=\"text-align: right;\">\n",
       "      <th></th>\n",
       "      <th>city</th>\n",
       "      <th>monday</th>\n",
       "      <th>wednesday</th>\n",
       "      <th>friday</th>\n",
       "    </tr>\n",
       "  </thead>\n",
       "  <tbody>\n",
       "    <tr>\n",
       "      <td>0</td>\n",
       "      <td>Moscow</td>\n",
       "      <td>15740</td>\n",
       "      <td>11056</td>\n",
       "      <td>15945</td>\n",
       "    </tr>\n",
       "    <tr>\n",
       "      <td>1</td>\n",
       "      <td>Saint-Petersburg</td>\n",
       "      <td>5614</td>\n",
       "      <td>7003</td>\n",
       "      <td>5895</td>\n",
       "    </tr>\n",
       "  </tbody>\n",
       "</table>\n",
       "</div>"
      ],
      "text/plain": [
       "               city  monday  wednesday  friday\n",
       "0            Moscow   15740      11056   15945\n",
       "1  Saint-Petersburg    5614       7003    5895"
      ]
     },
     "metadata": {},
     "output_type": "display_data"
    }
   ],
   "source": [
    "# Таблица с результатами\n",
    "days = ['Monday', 'Wednesday', 'Friday']  # Список дней недель в том же порядке что и DataFrame\n",
    "cities = ['Moscow', 'Saint-Petersburg']   # Список городов\n",
    "\n",
    "# Расчет с помощью функции number_tracks данных для таблицы DataFrame \n",
    "data = [[number_tracks(day, city) for day in days] for city in cities]\n",
    "# цикл для записи города в списки\n",
    "for index in range(len(data)):\n",
    "    data[index].insert(0, cities[index])\n",
    "\n",
    "    \n",
    "# Список с названием заголовков талблицы DataFrame\n",
    "columns = ['city', 'monday', 'wednesday', 'friday']\n",
    "\n",
    "# Создание таблицы DataFrame\n",
    "cities_days_df = pd.DataFrame(data=data, columns=columns)\n",
    "\n",
    "display(cities_days_df)"
   ]
  },
  {
   "cell_type": "markdown",
   "metadata": {
    "id": "-EgPIHYu_Zcu"
   },
   "source": [
    "**Выводы**\n",
    "\n",
    "Данные показывают разницу поведения пользователей:\n",
    "\n",
    "- В Москве пик прослушиваний приходится на понедельник и пятницу, а в среду заметен спад.\n",
    "- В Петербурге, наоборот, больше слушают музыку по средам. Активность в понедельник и пятницу здесь почти в равной мере уступает среде.\n",
    "\n",
    "Значит, данные говорят в пользу первой гипотезы."
   ]
  },
  {
   "cell_type": "markdown",
   "metadata": {
    "id": "atZAxtq4_Zcu"
   },
   "source": [
    "### Музыка в начале и в конце недели"
   ]
  },
  {
   "cell_type": "markdown",
   "metadata": {
    "id": "eXrQqXFH_Zcu"
   },
   "source": [
    "Согласно второй гипотезе, утром в понедельник в Москве преобладают одни жанры, а в Петербурге — другие. Так же и вечером пятницы преобладают разные жанры — в зависимости от города."
   ]
  },
  {
   "cell_type": "markdown",
   "metadata": {
    "id": "S8UcW6Hw_Zcu"
   },
   "source": [
    "Сохраните таблицы с данными в две переменные:\n",
    "* по Москве — в `moscow_general`;\n",
    "* по Санкт-Петербургу — в `spb_general`."
   ]
  },
  {
   "cell_type": "code",
   "execution_count": 29,
   "metadata": {
    "id": "qeaFfM_P_Zcu"
   },
   "outputs": [],
   "source": [
    "# получение таблицы moscow_general из тех строк таблицы df, \n",
    "# для которых значение в столбце 'city' равно 'Moscow'\n",
    "moscow_general = df.loc[df.loc[:, 'city'] == 'Moscow']"
   ]
  },
  {
   "cell_type": "code",
   "execution_count": 30,
   "metadata": {
    "id": "ORaVRKto_Zcu"
   },
   "outputs": [],
   "source": [
    "# получение таблицы spb_general из тех строк таблицы df,\n",
    "# для которых значение в столбце 'city' равно 'Saint-Petersburg'\n",
    "spb_general = df.loc[df.loc[:, 'city'] == 'Saint-Petersburg']"
   ]
  },
  {
   "cell_type": "markdown",
   "metadata": {
    "id": "MEJV-CX2_Zcu"
   },
   "source": [
    "Создайте функцию `genre_weekday()` с четырьмя параметрами:\n",
    "* таблица (датафрейм) с данными,\n",
    "* день недели,\n",
    "* начальная временная метка в формате 'hh:mm', \n",
    "* последняя временная метка в формате 'hh:mm'.\n",
    "\n",
    "Функция должна вернуть информацию о топ-10 жанров тех треков, которые прослушивали в указанный день, в промежутке между двумя отметками времени."
   ]
  },
  {
   "cell_type": "code",
   "execution_count": 31,
   "metadata": {
    "id": "laJT9BYl_Zcu"
   },
   "outputs": [],
   "source": [
    "# Объявление функции genre_weekday() с параметрами table, day, time1, time2,\n",
    "# которая возвращает информацию о самых популярных жанрах в указанный день в\n",
    "# заданное время:\n",
    "# 1) в переменную genre_df сохраняются те строки переданного датафрейма table, для\n",
    "#    которых одновременно:\n",
    "#    - значение в столбце day равно значению аргумента day\n",
    "#    - значение в столбце time больше значения аргумента time1\n",
    "#    - значение в столбце time меньше значения аргумента time2\n",
    "#    Используйте последовательную фильтрацию с помощью логической индексации.\n",
    "# 2) сгруппировать датафрейм genre_df по столбцу genre, взять один из его\n",
    "#    столбцов и посчитать методом count() количество записей для каждого из\n",
    "#    присутствующих жанров, получившийся Series записать в переменную\n",
    "#    genre_df_count\n",
    "# 3) отсортировать genre_df_count по убыванию встречаемости и сохранить\n",
    "#    в переменную genre_df_sorted\n",
    "# 4) вернуть Series из 10 первых значений genre_df_sorted, это будут топ-10\n",
    "#    популярных жанров (в указанный день, в заданное время)\n",
    "\n",
    "\n",
    "def genre_weekday(table, day, time1, time2, count=10):\n",
    "    genre_df = table.loc[table.loc[:, 'day'] == day]\n",
    "    genre_df = table.loc[table.loc[:, 'time'] > time1]\n",
    "    genre_df = table.loc[table.loc[:, 'time'] < time2]\n",
    "    genre_df_count = genre_df.groupby('genre')['user_id'].count()\n",
    "    genre_df_sorted = genre_df_count.sort_values(ascending=False)\n",
    "    return genre_df_sorted.head(count)\n",
    "\n",
    "\n"
   ]
  },
  {
   "cell_type": "markdown",
   "metadata": {
    "id": "la2s2_PF_Zcu"
   },
   "source": [
    "Cравните результаты функции `genre_weekday()` для Москвы и Санкт-Петербурга в понедельник утром (с 7:00 до 11:00) и в пятницу вечером (с 17:00 до 23:00):"
   ]
  },
  {
   "cell_type": "code",
   "execution_count": 32,
   "metadata": {
    "id": "yz7itPUQ_Zcu"
   },
   "outputs": [
    {
     "data": {
      "text/plain": [
       "genre\n",
       "pop            2015\n",
       "dance          1444\n",
       "rock           1259\n",
       "electronic     1249\n",
       "hiphop          709\n",
       "ruspop          510\n",
       "classical       473\n",
       "world           439\n",
       "alternative     436\n",
       "rusrap          406\n",
       "Name: user_id, dtype: int64"
      ]
     },
     "execution_count": 32,
     "metadata": {},
     "output_type": "execute_result"
    }
   ],
   "source": [
    "# вызов функции для утра понедельника в Москве (вместо df — таблица moscow_general)\n",
    "# объекты, хранящие время, являются строками и сравниваются как строки\n",
    "# пример вызова: genre_weekday(moscow_general, 'Monday', '07:00', '11:00')\n",
    "\n",
    "genre_weekday(moscow_general, 'Monday', '07:00', '11:00')"
   ]
  },
  {
   "cell_type": "code",
   "execution_count": 33,
   "metadata": {
    "id": "kwUcHPdy_Zcu"
   },
   "outputs": [
    {
     "data": {
      "text/plain": [
       "genre\n",
       "pop            701\n",
       "dance          606\n",
       "rock           520\n",
       "electronic     519\n",
       "hiphop         288\n",
       "rusrap         195\n",
       "alternative    184\n",
       "ruspop         174\n",
       "classical      155\n",
       "world          130\n",
       "Name: user_id, dtype: int64"
      ]
     },
     "execution_count": 33,
     "metadata": {},
     "output_type": "execute_result"
    }
   ],
   "source": [
    "# вызов функции для утра понедельника в Петербурге (вместо df — таблица spb_general)\n",
    "genre_weekday(spb_general, 'Monday', '07:00', '11:00')"
   ]
  },
  {
   "cell_type": "code",
   "execution_count": 34,
   "metadata": {
    "id": "EzXVRE1o_Zcu"
   },
   "outputs": [
    {
     "data": {
      "text/plain": [
       "genre\n",
       "pop            5892\n",
       "dance          4435\n",
       "rock           3965\n",
       "electronic     3786\n",
       "hiphop         2096\n",
       "classical      1616\n",
       "world          1432\n",
       "alternative    1379\n",
       "ruspop         1372\n",
       "rusrap         1161\n",
       "Name: user_id, dtype: int64"
      ]
     },
     "execution_count": 34,
     "metadata": {},
     "output_type": "execute_result"
    }
   ],
   "source": [
    "# вызов функции для вечера пятницы в Москве\n",
    "genre_weekday(moscow_general, 'Friday', '17:00', '23:00')"
   ]
  },
  {
   "cell_type": "code",
   "execution_count": 35,
   "metadata": {
    "id": "JZaEKu5v_Zcu"
   },
   "outputs": [
    {
     "data": {
      "text/plain": [
       "genre\n",
       "pop            2431\n",
       "dance          1932\n",
       "rock           1879\n",
       "electronic     1736\n",
       "hiphop          960\n",
       "alternative     649\n",
       "classical       646\n",
       "rusrap          564\n",
       "ruspop          538\n",
       "world           515\n",
       "Name: user_id, dtype: int64"
      ]
     },
     "execution_count": 35,
     "metadata": {},
     "output_type": "execute_result"
    }
   ],
   "source": [
    "# вызов функции для вечера пятницы в Петербурге\n",
    "genre_weekday(spb_general, 'Friday', '17:00', '23:00')"
   ]
  },
  {
   "cell_type": "code",
   "execution_count": 36,
   "metadata": {},
   "outputs": [
    {
     "data": {
      "text/plain": [
       "genre\n",
       "pop            5892\n",
       "dance          4435\n",
       "rock           3965\n",
       "electronic     3786\n",
       "hiphop         2096\n",
       "classical      1616\n",
       "world          1432\n",
       "alternative    1379\n",
       "ruspop         1372\n",
       "rusrap         1161\n",
       "jazz            980\n",
       "unknown         849\n",
       "Name: user_id, dtype: int64"
      ]
     },
     "execution_count": 36,
     "metadata": {},
     "output_type": "execute_result"
    }
   ],
   "source": [
    "genre_weekday(moscow_general, 'Friday', '17:00', '23:00', 12)"
   ]
  },
  {
   "cell_type": "markdown",
   "metadata": {
    "id": "wrCe4MNX_Zcu"
   },
   "source": [
    "**Выводы**\n",
    "\n",
    "Если сравнить топ-10 жанров в понедельник утром, можно сделать такие выводы:\n",
    "\n",
    "1. В Москве и Петербурге слушают похожую музыку. Единственное отличие — в московский рейтинг вошёл жанр “world”, а в петербургский — джаз и классика.\n",
    "\n",
    "2. В Москве пропущенных значений оказалось так много, что значение `'unknown'` заняло десятое место среди самых популярных жанров. Значит, пропущенные значения занимают существенную долю в данных и угрожают достоверности исследования.\n",
    "\n",
    "Вечер пятницы не меняет эту картину. Некоторые жанры поднимаются немного выше, другие спускаются, но в целом топ-10 остаётся тем же самым.\n",
    "\n",
    "Таким образом, вторая гипотеза подтвердилась лишь частично:\n",
    "* Пользователи слушают похожую музыку в начале недели и в конце.\n",
    "* Разница между Москвой и Петербургом не слишком выражена. В Москве чаще слушают русскую популярную музыку, в Петербурге — джаз.\n",
    "\n",
    "Однако пропуски в данных ставят под сомнение этот результат. В Москве их так много, что рейтинг топ-10 мог бы выглядеть иначе, если бы не утерянные  данные о жанрах."
   ]
  },
  {
   "cell_type": "markdown",
   "metadata": {
    "id": "JolODAqr_Zcu"
   },
   "source": [
    "### Жанровые предпочтения в Москве и Петербурге\n",
    "\n",
    "Гипотеза: Петербург — столица рэпа, музыку этого жанра там слушают чаще, чем в Москве.  А Москва — город контрастов, в котором, тем не менее, преобладает поп-музыка."
   ]
  },
  {
   "cell_type": "markdown",
   "metadata": {
    "id": "DlegSvaT_Zcu"
   },
   "source": [
    "Сгруппируйте таблицу `moscow_general` по жанру и посчитайте прослушивания треков каждого жанра методом `count()`. Затем отсортируйте результат в порядке убывания и сохраните его в таблице `moscow_genres`."
   ]
  },
  {
   "cell_type": "code",
   "execution_count": 37,
   "metadata": {
    "id": "r19lIPke_Zcu"
   },
   "outputs": [],
   "source": [
    "# одной строкой: группировка таблицы moscow_general по столбцу 'genre', \n",
    "# подсчёт числа значений 'genre' в этой группировке методом count(), \n",
    "# сортировка получившегося Series в порядке убывания и сохранение в moscow_genres\n",
    "moscow_genres = moscow_general.groupby(by='genre').count()\n",
    "moscow_genres = moscow_genres['user_id'].sort_values(ascending=False)"
   ]
  },
  {
   "cell_type": "markdown",
   "metadata": {
    "id": "6kMuomxTiIr8"
   },
   "source": [
    "Выведите на экран первые десять строк `moscow_genres`:"
   ]
  },
  {
   "cell_type": "code",
   "execution_count": 38,
   "metadata": {
    "id": "WhCSooF8_Zcv"
   },
   "outputs": [
    {
     "data": {
      "text/plain": [
       "genre\n",
       "pop            5892\n",
       "dance          4435\n",
       "rock           3965\n",
       "electronic     3786\n",
       "hiphop         2096\n",
       "classical      1616\n",
       "world          1432\n",
       "alternative    1379\n",
       "ruspop         1372\n",
       "rusrap         1161\n",
       "Name: user_id, dtype: int64"
      ]
     },
     "metadata": {},
     "output_type": "display_data"
    }
   ],
   "source": [
    "# просмотр первых 10 строк moscow_genres\n",
    "display(moscow_genres.head(10))"
   ]
  },
  {
   "cell_type": "markdown",
   "metadata": {
    "id": "cnPG2vnN_Zcv"
   },
   "source": [
    "Теперь повторите то же и для Петербурга.\n",
    "\n",
    "Сгруппируйте таблицу `spb_general` по жанру. Посчитайте прослушивания треков каждого жанра. Результат отсортируйте в порядке убывания и сохраните в таблице `spb_genres`:\n"
   ]
  },
  {
   "cell_type": "code",
   "execution_count": 39,
   "metadata": {
    "id": "gluLIpE7_Zcv"
   },
   "outputs": [],
   "source": [
    "# одной строкой: группировка таблицы spb_general по столбцу 'genre', \n",
    "# подсчёт числа значений 'genre' в этой группировке методом count(), \n",
    "# сортировка получившегося Series в порядке убывания и сохранение в spb_genres\n",
    "spb_genres = spb_general.groupby(by='genre').count()\n",
    "spb_genres = spb_genres['user_id'].sort_values(ascending=False)"
   ]
  },
  {
   "cell_type": "markdown",
   "metadata": {
    "id": "5Doha_ODgyQ8"
   },
   "source": [
    "Выведите на экран первые десять строк `spb_genres`:"
   ]
  },
  {
   "cell_type": "code",
   "execution_count": 40,
   "metadata": {
    "id": "uaGJHjVU_Zcv"
   },
   "outputs": [
    {
     "data": {
      "text/plain": [
       "genre\n",
       "pop            2431\n",
       "dance          1932\n",
       "rock           1879\n",
       "electronic     1736\n",
       "hiphop          960\n",
       "alternative     649\n",
       "classical       646\n",
       "rusrap          564\n",
       "ruspop          538\n",
       "world           515\n",
       "Name: user_id, dtype: int64"
      ]
     },
     "metadata": {},
     "output_type": "display_data"
    }
   ],
   "source": [
    "# просмотр первых 10 строк spb_genres\n",
    "display(spb_genres.head(10))"
   ]
  },
  {
   "cell_type": "markdown",
   "metadata": {
    "id": "RY51YJYu_Zcv"
   },
   "source": [
    "**Выводы**"
   ]
  },
  {
   "cell_type": "markdown",
   "metadata": {
    "id": "nVhnJEm__Zcv"
   },
   "source": [
    "Гипотеза частично подтвердилась:\n",
    "* Поп-музыка — самый популярный жанр в Москве, как и предполагала гипотеза. Более того, в топ-10 жанров встречается близкий жанр — русская популярная музыка.\n",
    "* Вопреки ожиданиям, рэп одинаково популярен в Москве и Петербурге. \n"
   ]
  },
  {
   "cell_type": "markdown",
   "metadata": {
    "id": "ykKQ0N65_Zcv"
   },
   "source": [
    "## Итоги исследования"
   ]
  },
  {
   "cell_type": "markdown",
   "metadata": {
    "id": "tjUwbHb3_Zcv"
   },
   "source": [
    "Вы проверили три гипотезы и установили:\n",
    "\n",
    "1. День недели по-разному влияет на активность пользователей в Москве и Петербурге. \n",
    "\n",
    "Первая гипотеза полностью подтвердилась.\n",
    "\n",
    "2. Музыкальные предпочтения не сильно меняются в течение недели — будь то Москва или Петербург. Небольшие различия заметны в начале недели, по понедельникам:\n",
    "* в Москве слушают музыку жанра “world”,\n",
    "* в Петербурге — джаз и классику.\n",
    "\n",
    "Таким образом, вторая гипотеза подтвердилась лишь отчасти. Этот результат мог оказаться иным, если бы не пропуски в данных.\n",
    "\n",
    "3. Во вкусах пользователей Москвы и Петербурга больше общего чем различий. Вопреки ожиданиям, предпочтения жанров в Петербурге напоминают московские.\n",
    "\n",
    "Третья гипотеза не подтвердилась. Если различия в предпочтениях и существуют, на основной массе пользователей они незаметны.\n",
    "\n",
    "**На практике исследования содержат проверки статистических гипотез.**\n",
    "Из данных одного сервиса не всегда можно сделать вывод о всех жителях города.\n",
    "Проверки статистических гипотез покажут, насколько они достоверны, исходя из имеющихся данных. \n",
    "С методами проверок гипотез вы ещё познакомитесь в следующих темах."
   ]
  }
 ],
 "metadata": {
  "ExecuteTimeLog": [
   {
    "duration": 617,
    "start_time": "2021-12-07T19:09:35.811Z"
   },
   {
    "duration": 167,
    "start_time": "2021-12-07T19:10:29.224Z"
   },
   {
    "duration": 20,
    "start_time": "2021-12-07T19:10:51.268Z"
   },
   {
    "duration": 35,
    "start_time": "2021-12-07T19:11:40.851Z"
   },
   {
    "duration": 27,
    "start_time": "2021-12-07T19:11:55.277Z"
   },
   {
    "duration": 28,
    "start_time": "2021-12-07T19:12:02.644Z"
   },
   {
    "duration": 3,
    "start_time": "2021-12-07T19:12:44.136Z"
   },
   {
    "duration": 4,
    "start_time": "2021-12-07T19:13:04.928Z"
   },
   {
    "duration": 9,
    "start_time": "2021-12-07T19:13:13.762Z"
   },
   {
    "duration": 3,
    "start_time": "2021-12-07T19:13:49.802Z"
   },
   {
    "duration": 2,
    "start_time": "2021-12-07T19:13:54.437Z"
   },
   {
    "duration": 504,
    "start_time": "2021-12-07T19:18:55.083Z"
   },
   {
    "duration": 437,
    "start_time": "2021-12-07T19:20:39.664Z"
   },
   {
    "duration": 6,
    "start_time": "2021-12-07T19:21:19.428Z"
   },
   {
    "duration": 24,
    "start_time": "2021-12-07T19:21:41.809Z"
   },
   {
    "duration": 4,
    "start_time": "2021-12-07T19:21:55.614Z"
   },
   {
    "duration": 48,
    "start_time": "2021-12-07T19:27:20.622Z"
   },
   {
    "duration": 4,
    "start_time": "2021-12-07T19:27:22.435Z"
   },
   {
    "duration": 15,
    "start_time": "2021-12-07T19:27:36.120Z"
   },
   {
    "duration": 4,
    "start_time": "2021-12-07T19:27:37.901Z"
   },
   {
    "duration": 4,
    "start_time": "2021-12-07T19:27:39.791Z"
   },
   {
    "duration": 181,
    "start_time": "2021-12-07T19:28:01.439Z"
   },
   {
    "duration": 17,
    "start_time": "2021-12-07T19:28:07.690Z"
   },
   {
    "duration": 5,
    "start_time": "2021-12-07T19:28:09.445Z"
   },
   {
    "duration": 27,
    "start_time": "2021-12-07T19:28:42.894Z"
   },
   {
    "duration": 25,
    "start_time": "2021-12-07T19:28:51.711Z"
   },
   {
    "duration": 25,
    "start_time": "2021-12-07T19:29:41.707Z"
   },
   {
    "duration": 3,
    "start_time": "2021-12-07T19:30:08.898Z"
   },
   {
    "duration": 145,
    "start_time": "2021-12-07T19:30:09.476Z"
   },
   {
    "duration": 10,
    "start_time": "2021-12-07T19:30:10.255Z"
   },
   {
    "duration": 24,
    "start_time": "2021-12-07T19:30:11.372Z"
   },
   {
    "duration": 3,
    "start_time": "2021-12-07T19:30:15.909Z"
   },
   {
    "duration": 23,
    "start_time": "2021-12-07T19:30:17.671Z"
   },
   {
    "duration": 4,
    "start_time": "2021-12-07T19:30:19.567Z"
   },
   {
    "duration": 24,
    "start_time": "2021-12-07T19:30:22.102Z"
   },
   {
    "duration": 37,
    "start_time": "2021-12-07T19:31:59.435Z"
   },
   {
    "duration": 24,
    "start_time": "2021-12-07T19:33:01.534Z"
   },
   {
    "duration": 7,
    "start_time": "2021-12-07T19:33:09.759Z"
   },
   {
    "duration": 6,
    "start_time": "2021-12-07T19:33:13.743Z"
   },
   {
    "duration": 34,
    "start_time": "2021-12-07T19:33:31.242Z"
   },
   {
    "duration": 8,
    "start_time": "2021-12-07T19:33:42.647Z"
   },
   {
    "duration": 25,
    "start_time": "2021-12-07T19:33:46.208Z"
   },
   {
    "duration": 32,
    "start_time": "2021-12-07T19:35:01.648Z"
   },
   {
    "duration": 23,
    "start_time": "2021-12-07T19:35:10.241Z"
   },
   {
    "duration": 47,
    "start_time": "2021-12-07T19:35:11.946Z"
   },
   {
    "duration": 23,
    "start_time": "2021-12-07T19:35:37.537Z"
   },
   {
    "duration": 23,
    "start_time": "2021-12-07T19:35:49.593Z"
   },
   {
    "duration": 31,
    "start_time": "2021-12-07T19:35:58.149Z"
   },
   {
    "duration": 160,
    "start_time": "2021-12-07T19:36:06.718Z"
   },
   {
    "duration": 18,
    "start_time": "2021-12-07T19:36:14.784Z"
   },
   {
    "duration": 34,
    "start_time": "2021-12-07T19:36:18.951Z"
   },
   {
    "duration": 36,
    "start_time": "2021-12-07T19:36:23.783Z"
   },
   {
    "duration": 28,
    "start_time": "2021-12-07T19:36:25.647Z"
   },
   {
    "duration": 56,
    "start_time": "2021-12-07T19:37:27.899Z"
   },
   {
    "duration": 54,
    "start_time": "2021-12-07T19:37:32.629Z"
   },
   {
    "duration": 52,
    "start_time": "2021-12-07T19:37:41.884Z"
   },
   {
    "duration": 56,
    "start_time": "2021-12-07T19:37:44.688Z"
   },
   {
    "duration": 267,
    "start_time": "2021-12-07T19:42:48.012Z"
   },
   {
    "duration": 77,
    "start_time": "2021-12-07T19:43:05.740Z"
   },
   {
    "duration": 64,
    "start_time": "2021-12-07T19:43:30.814Z"
   },
   {
    "duration": 266,
    "start_time": "2021-12-07T19:43:57.728Z"
   },
   {
    "duration": 85,
    "start_time": "2021-12-07T19:44:06.355Z"
   },
   {
    "duration": 249,
    "start_time": "2021-12-07T19:44:09.353Z"
   },
   {
    "duration": 12,
    "start_time": "2021-12-07T19:44:39.567Z"
   },
   {
    "duration": 3,
    "start_time": "2021-12-07T19:49:38.706Z"
   },
   {
    "duration": 606,
    "start_time": "2021-12-07T19:50:24.993Z"
   },
   {
    "duration": 3,
    "start_time": "2021-12-07T19:52:07.238Z"
   },
   {
    "duration": 292,
    "start_time": "2021-12-07T19:52:10.013Z"
   },
   {
    "duration": 3,
    "start_time": "2021-12-07T19:52:25.133Z"
   },
   {
    "duration": 300,
    "start_time": "2021-12-07T19:52:26.893Z"
   },
   {
    "duration": 5,
    "start_time": "2021-12-07T19:52:33.556Z"
   },
   {
    "duration": 5,
    "start_time": "2021-12-07T19:52:34.950Z"
   },
   {
    "duration": 6,
    "start_time": "2021-12-07T19:52:36.556Z"
   },
   {
    "duration": 3,
    "start_time": "2021-12-07T19:52:40.392Z"
   },
   {
    "duration": 750,
    "start_time": "2021-12-07T19:52:42.728Z"
   },
   {
    "duration": 3566,
    "start_time": "2021-12-07T19:53:13.110Z"
   },
   {
    "duration": 248,
    "start_time": "2021-12-07T19:53:54.503Z"
   },
   {
    "duration": 3,
    "start_time": "2021-12-07T19:55:51.034Z"
   },
   {
    "duration": 153,
    "start_time": "2021-12-07T19:55:51.482Z"
   },
   {
    "duration": 11,
    "start_time": "2021-12-07T19:55:51.897Z"
   },
   {
    "duration": 26,
    "start_time": "2021-12-07T19:55:52.315Z"
   },
   {
    "duration": 3,
    "start_time": "2021-12-07T19:55:53.410Z"
   },
   {
    "duration": 25,
    "start_time": "2021-12-07T19:55:53.842Z"
   },
   {
    "duration": 4,
    "start_time": "2021-12-07T19:55:54.352Z"
   },
   {
    "duration": 32,
    "start_time": "2021-12-07T19:55:55.250Z"
   },
   {
    "duration": 52,
    "start_time": "2021-12-07T19:55:57.052Z"
   },
   {
    "duration": 39,
    "start_time": "2021-12-07T19:55:58.282Z"
   },
   {
    "duration": 67,
    "start_time": "2021-12-07T19:55:59.275Z"
   },
   {
    "duration": 123,
    "start_time": "2021-12-07T19:56:01.324Z"
   },
   {
    "duration": 76,
    "start_time": "2021-12-07T19:56:03.823Z"
   },
   {
    "duration": 6,
    "start_time": "2021-12-07T19:56:05.754Z"
   },
   {
    "duration": 3,
    "start_time": "2021-12-07T19:56:08.098Z"
   },
   {
    "duration": 350,
    "start_time": "2021-12-07T19:56:10.196Z"
   },
   {
    "duration": 367,
    "start_time": "2021-12-07T20:00:03.383Z"
   },
   {
    "duration": 3,
    "start_time": "2021-12-07T20:00:14.800Z"
   },
   {
    "duration": 172,
    "start_time": "2021-12-07T20:00:15.245Z"
   },
   {
    "duration": 12,
    "start_time": "2021-12-07T20:00:15.693Z"
   },
   {
    "duration": 25,
    "start_time": "2021-12-07T20:00:16.139Z"
   },
   {
    "duration": 3,
    "start_time": "2021-12-07T20:00:17.325Z"
   },
   {
    "duration": 25,
    "start_time": "2021-12-07T20:00:17.668Z"
   },
   {
    "duration": 5,
    "start_time": "2021-12-07T20:00:18.339Z"
   },
   {
    "duration": 32,
    "start_time": "2021-12-07T20:00:19.952Z"
   },
   {
    "duration": 35,
    "start_time": "2021-12-07T20:00:21.686Z"
   },
   {
    "duration": 24,
    "start_time": "2021-12-07T20:00:22.820Z"
   },
   {
    "duration": 64,
    "start_time": "2021-12-07T20:00:23.865Z"
   },
   {
    "duration": 76,
    "start_time": "2021-12-07T20:00:24.954Z"
   },
   {
    "duration": 67,
    "start_time": "2021-12-07T20:00:26.237Z"
   },
   {
    "duration": 5,
    "start_time": "2021-12-07T20:00:28.289Z"
   },
   {
    "duration": 4,
    "start_time": "2021-12-07T20:00:29.726Z"
   },
   {
    "duration": 251,
    "start_time": "2021-12-07T20:00:32.891Z"
   },
   {
    "duration": 15,
    "start_time": "2021-12-07T20:00:58.657Z"
   },
   {
    "duration": 13,
    "start_time": "2021-12-07T20:01:37.749Z"
   },
   {
    "duration": 5,
    "start_time": "2021-12-07T20:02:02.800Z"
   },
   {
    "duration": 7,
    "start_time": "2021-12-07T20:02:19.104Z"
   },
   {
    "duration": 273,
    "start_time": "2021-12-07T20:02:26.416Z"
   },
   {
    "duration": 279,
    "start_time": "2021-12-07T20:02:31.392Z"
   },
   {
    "duration": 7,
    "start_time": "2021-12-07T20:02:36.505Z"
   },
   {
    "duration": 6,
    "start_time": "2021-12-07T20:02:49.739Z"
   },
   {
    "duration": 271,
    "start_time": "2021-12-07T20:03:00.599Z"
   },
   {
    "duration": 7,
    "start_time": "2021-12-07T20:03:18.980Z"
   },
   {
    "duration": 14,
    "start_time": "2021-12-07T20:03:21.971Z"
   },
   {
    "duration": 4,
    "start_time": "2021-12-07T20:03:22.955Z"
   },
   {
    "duration": 10,
    "start_time": "2021-12-07T20:03:24.697Z"
   },
   {
    "duration": 6,
    "start_time": "2021-12-07T20:03:26.129Z"
   },
   {
    "duration": 79,
    "start_time": "2021-12-07T20:03:35.872Z"
   },
   {
    "duration": 294,
    "start_time": "2021-12-07T20:03:42.205Z"
   },
   {
    "duration": 4,
    "start_time": "2021-12-07T20:03:51.117Z"
   },
   {
    "duration": 9,
    "start_time": "2021-12-07T20:03:59.073Z"
   },
   {
    "duration": 6,
    "start_time": "2021-12-07T20:04:29.827Z"
   },
   {
    "duration": 13,
    "start_time": "2021-12-07T20:05:34.845Z"
   },
   {
    "duration": 15,
    "start_time": "2021-12-07T20:05:41.835Z"
   },
   {
    "duration": 3,
    "start_time": "2021-12-07T20:07:16.659Z"
   },
   {
    "duration": 5,
    "start_time": "2021-12-07T20:07:28.955Z"
   },
   {
    "duration": 4,
    "start_time": "2021-12-07T20:07:46.833Z"
   },
   {
    "duration": 14,
    "start_time": "2021-12-07T20:08:17.416Z"
   },
   {
    "duration": 32,
    "start_time": "2021-12-07T20:08:59.346Z"
   },
   {
    "duration": 34,
    "start_time": "2021-12-07T20:10:42.312Z"
   },
   {
    "duration": 38,
    "start_time": "2021-12-07T20:23:18.875Z"
   },
   {
    "duration": 41,
    "start_time": "2021-12-07T20:23:52.742Z"
   },
   {
    "duration": 37,
    "start_time": "2021-12-07T20:24:45.172Z"
   },
   {
    "duration": 52,
    "start_time": "2021-12-07T20:25:00.979Z"
   },
   {
    "duration": 33,
    "start_time": "2021-12-07T20:25:16.023Z"
   },
   {
    "duration": 34,
    "start_time": "2021-12-07T20:25:29.199Z"
   },
   {
    "duration": 48,
    "start_time": "2021-12-07T20:25:46.765Z"
   },
   {
    "duration": 31,
    "start_time": "2021-12-07T20:26:52.617Z"
   },
   {
    "duration": 32,
    "start_time": "2021-12-07T20:27:08.414Z"
   },
   {
    "duration": 4,
    "start_time": "2021-12-07T20:31:58.915Z"
   },
   {
    "duration": 284,
    "start_time": "2021-12-07T20:34:05.450Z"
   },
   {
    "duration": 4,
    "start_time": "2021-12-07T20:34:10.956Z"
   },
   {
    "duration": 19,
    "start_time": "2021-12-07T20:34:15.988Z"
   },
   {
    "duration": 18,
    "start_time": "2021-12-07T20:34:58.479Z"
   },
   {
    "duration": 18,
    "start_time": "2021-12-07T20:35:40.407Z"
   },
   {
    "duration": 18,
    "start_time": "2021-12-07T20:35:49.178Z"
   },
   {
    "duration": 18,
    "start_time": "2021-12-07T20:36:00.540Z"
   },
   {
    "duration": 18,
    "start_time": "2021-12-07T20:36:08.173Z"
   },
   {
    "duration": 83,
    "start_time": "2021-12-07T20:40:16.978Z"
   },
   {
    "duration": 111,
    "start_time": "2021-12-07T20:40:40.518Z"
   },
   {
    "duration": 262,
    "start_time": "2021-12-07T20:40:47.242Z"
   },
   {
    "duration": 4,
    "start_time": "2021-12-07T20:41:44.502Z"
   },
   {
    "duration": 6,
    "start_time": "2021-12-07T20:41:49.832Z"
   },
   {
    "duration": 95,
    "start_time": "2021-12-07T20:42:32.993Z"
   },
   {
    "duration": 85,
    "start_time": "2021-12-07T20:42:36.241Z"
   },
   {
    "duration": 96,
    "start_time": "2021-12-07T20:42:49.982Z"
   },
   {
    "duration": 5,
    "start_time": "2021-12-07T20:42:54.800Z"
   },
   {
    "duration": 34,
    "start_time": "2021-12-07T20:44:35.596Z"
   },
   {
    "duration": 34,
    "start_time": "2021-12-07T20:44:51.112Z"
   },
   {
    "duration": 62,
    "start_time": "2021-12-07T20:44:53.342Z"
   },
   {
    "duration": 78,
    "start_time": "2021-12-07T20:45:12.871Z"
   },
   {
    "duration": 93,
    "start_time": "2021-12-07T20:45:58.534Z"
   },
   {
    "duration": 87,
    "start_time": "2021-12-07T20:46:49.642Z"
   },
   {
    "duration": 86,
    "start_time": "2021-12-07T20:46:55.716Z"
   },
   {
    "duration": 79,
    "start_time": "2021-12-07T20:49:19.631Z"
   },
   {
    "duration": 80,
    "start_time": "2021-12-07T20:49:26.307Z"
   },
   {
    "duration": 85,
    "start_time": "2021-12-07T20:49:33.734Z"
   },
   {
    "duration": 77,
    "start_time": "2021-12-07T20:49:39.264Z"
   },
   {
    "duration": 83,
    "start_time": "2021-12-07T20:49:46.360Z"
   },
   {
    "duration": 87,
    "start_time": "2021-12-07T20:49:53.708Z"
   },
   {
    "duration": 90,
    "start_time": "2021-12-07T20:51:53.118Z"
   },
   {
    "duration": 96,
    "start_time": "2021-12-07T20:56:40.841Z"
   },
   {
    "duration": 90,
    "start_time": "2021-12-07T20:57:30.942Z"
   },
   {
    "duration": 13,
    "start_time": "2021-12-07T21:01:34.022Z"
   },
   {
    "duration": 10,
    "start_time": "2021-12-07T21:02:13.198Z"
   },
   {
    "duration": 12,
    "start_time": "2021-12-07T21:06:47.620Z"
   },
   {
    "duration": 4,
    "start_time": "2021-12-07T21:07:18.965Z"
   },
   {
    "duration": 4,
    "start_time": "2021-12-07T21:07:33.834Z"
   },
   {
    "duration": 23,
    "start_time": "2021-12-07T21:07:49.413Z"
   },
   {
    "duration": 20,
    "start_time": "2021-12-07T21:08:07.172Z"
   },
   {
    "duration": 17,
    "start_time": "2021-12-07T21:08:20.281Z"
   },
   {
    "duration": 9,
    "start_time": "2021-12-07T21:09:11.416Z"
   },
   {
    "duration": 367,
    "start_time": "2021-12-07T21:12:08.803Z"
   },
   {
    "duration": 282,
    "start_time": "2021-12-07T21:13:47.633Z"
   },
   {
    "duration": 19,
    "start_time": "2021-12-07T21:13:58.564Z"
   },
   {
    "duration": 10,
    "start_time": "2021-12-07T21:14:06.884Z"
   },
   {
    "duration": 5,
    "start_time": "2021-12-07T21:15:19.080Z"
   },
   {
    "duration": 2053,
    "start_time": "2021-12-07T21:15:55.659Z"
   },
   {
    "duration": 9,
    "start_time": "2021-12-07T21:16:23.699Z"
   },
   {
    "duration": 17,
    "start_time": "2021-12-07T21:16:36.107Z"
   },
   {
    "duration": 6,
    "start_time": "2021-12-07T21:17:57.576Z"
   },
   {
    "duration": 37,
    "start_time": "2021-12-07T21:17:58.763Z"
   },
   {
    "duration": 26,
    "start_time": "2021-12-07T21:19:10.073Z"
   },
   {
    "duration": 50,
    "start_time": "2021-12-07T21:19:22.231Z"
   },
   {
    "duration": 38,
    "start_time": "2021-12-07T21:20:27.855Z"
   },
   {
    "duration": 38,
    "start_time": "2021-12-07T21:20:39.767Z"
   },
   {
    "duration": 5,
    "start_time": "2021-12-07T21:22:21.196Z"
   },
   {
    "duration": 41,
    "start_time": "2021-12-07T21:22:22.559Z"
   },
   {
    "duration": 5,
    "start_time": "2021-12-07T21:22:38.305Z"
   },
   {
    "duration": 5,
    "start_time": "2021-12-07T21:22:40.545Z"
   },
   {
    "duration": 32,
    "start_time": "2021-12-07T21:22:41.527Z"
   },
   {
    "duration": 20,
    "start_time": "2021-12-07T21:22:42.243Z"
   },
   {
    "duration": 35,
    "start_time": "2021-12-07T21:22:42.527Z"
   },
   {
    "duration": 37,
    "start_time": "2021-12-07T21:22:42.630Z"
   },
   {
    "duration": 4,
    "start_time": "2021-12-07T21:24:12.994Z"
   },
   {
    "duration": 32,
    "start_time": "2021-12-07T21:24:13.890Z"
   },
   {
    "duration": 21,
    "start_time": "2021-12-07T21:24:19.683Z"
   },
   {
    "duration": 34,
    "start_time": "2021-12-07T21:24:20.588Z"
   },
   {
    "duration": 38,
    "start_time": "2021-12-07T21:24:20.939Z"
   },
   {
    "duration": 4,
    "start_time": "2021-12-07T21:24:42.099Z"
   },
   {
    "duration": 39,
    "start_time": "2021-12-07T21:24:43.747Z"
   },
   {
    "duration": 28,
    "start_time": "2021-12-07T21:24:49.886Z"
   },
   {
    "duration": 48,
    "start_time": "2021-12-07T21:24:50.394Z"
   },
   {
    "duration": 35,
    "start_time": "2021-12-07T21:24:50.885Z"
   },
   {
    "duration": 21,
    "start_time": "2021-12-07T21:25:14.298Z"
   },
   {
    "duration": 8,
    "start_time": "2021-12-07T21:26:37.581Z"
   },
   {
    "duration": 40,
    "start_time": "2021-12-07T21:26:38.576Z"
   },
   {
    "duration": 5,
    "start_time": "2021-12-07T21:26:47.883Z"
   },
   {
    "duration": 45,
    "start_time": "2021-12-07T21:26:48.667Z"
   },
   {
    "duration": 19,
    "start_time": "2021-12-07T21:26:49.080Z"
   },
   {
    "duration": 27,
    "start_time": "2021-12-07T21:26:49.543Z"
   },
   {
    "duration": 18,
    "start_time": "2021-12-07T21:26:50.002Z"
   },
   {
    "duration": 24,
    "start_time": "2021-12-07T21:27:16.638Z"
   },
   {
    "duration": 8,
    "start_time": "2021-12-07T21:27:28.764Z"
   },
   {
    "duration": 42,
    "start_time": "2021-12-07T21:27:29.837Z"
   },
   {
    "duration": 21,
    "start_time": "2021-12-07T21:27:30.388Z"
   },
   {
    "duration": 33,
    "start_time": "2021-12-07T21:27:30.915Z"
   },
   {
    "duration": 21,
    "start_time": "2021-12-07T21:27:31.427Z"
   },
   {
    "duration": 286,
    "start_time": "2021-12-07T21:29:50.483Z"
   },
   {
    "duration": 29,
    "start_time": "2021-12-07T21:30:53.637Z"
   },
   {
    "duration": 314,
    "start_time": "2021-12-07T21:31:16.472Z"
   },
   {
    "duration": 32,
    "start_time": "2021-12-07T21:31:51.945Z"
   },
   {
    "duration": 5,
    "start_time": "2021-12-07T21:32:17.498Z"
   },
   {
    "duration": 6,
    "start_time": "2021-12-07T21:32:28.886Z"
   },
   {
    "duration": 5,
    "start_time": "2021-12-07T21:32:34.689Z"
   },
   {
    "duration": 18,
    "start_time": "2021-12-07T21:34:39.761Z"
   },
   {
    "duration": 5,
    "start_time": "2021-12-07T21:35:08.078Z"
   },
   {
    "duration": 158,
    "start_time": "2021-12-07T21:41:06.538Z"
   },
   {
    "duration": 16,
    "start_time": "2021-12-07T21:41:11.020Z"
   },
   {
    "duration": 26,
    "start_time": "2021-12-07T21:41:17.923Z"
   },
   {
    "duration": 25,
    "start_time": "2021-12-07T21:41:21.689Z"
   },
   {
    "duration": 3,
    "start_time": "2021-12-07T21:41:27.764Z"
   },
   {
    "duration": 5,
    "start_time": "2021-12-07T21:41:37.565Z"
   },
   {
    "duration": 30,
    "start_time": "2021-12-07T21:41:44.244Z"
   },
   {
    "duration": 5,
    "start_time": "2021-12-07T21:42:01.716Z"
   },
   {
    "duration": 31,
    "start_time": "2021-12-07T21:42:14.045Z"
   },
   {
    "duration": 44,
    "start_time": "2021-12-07T21:42:24.033Z"
   },
   {
    "duration": 37,
    "start_time": "2021-12-07T21:42:40.540Z"
   },
   {
    "duration": 24,
    "start_time": "2021-12-07T21:42:50.870Z"
   },
   {
    "duration": 61,
    "start_time": "2021-12-07T21:42:56.236Z"
   },
   {
    "duration": 107,
    "start_time": "2021-12-07T21:43:01.467Z"
   },
   {
    "duration": 59,
    "start_time": "2021-12-07T21:43:04.918Z"
   },
   {
    "duration": 7,
    "start_time": "2021-12-07T21:43:13.158Z"
   },
   {
    "duration": 3,
    "start_time": "2021-12-07T21:43:19.952Z"
   },
   {
    "duration": 16,
    "start_time": "2021-12-07T21:43:23.773Z"
   },
   {
    "duration": 6,
    "start_time": "2021-12-07T21:43:26.944Z"
   },
   {
    "duration": 7,
    "start_time": "2021-12-07T21:43:54.865Z"
   },
   {
    "duration": 5,
    "start_time": "2021-12-07T21:45:23.058Z"
   },
   {
    "duration": 296,
    "start_time": "2021-12-07T21:46:01.752Z"
   },
   {
    "duration": 9,
    "start_time": "2021-12-07T21:46:29.103Z"
   },
   {
    "duration": 7,
    "start_time": "2021-12-07T21:46:44.339Z"
   },
   {
    "duration": 7,
    "start_time": "2021-12-07T21:46:56.210Z"
   },
   {
    "duration": 5,
    "start_time": "2021-12-07T21:48:28.053Z"
   },
   {
    "duration": 5,
    "start_time": "2021-12-07T21:49:00.585Z"
   },
   {
    "duration": 38,
    "start_time": "2021-12-07T21:49:28.672Z"
   },
   {
    "duration": 35,
    "start_time": "2021-12-07T21:49:39.785Z"
   },
   {
    "duration": 5,
    "start_time": "2021-12-07T21:50:37.838Z"
   },
   {
    "duration": 26,
    "start_time": "2021-12-07T21:50:38.794Z"
   },
   {
    "duration": 22,
    "start_time": "2021-12-07T21:50:55.487Z"
   },
   {
    "duration": 19,
    "start_time": "2021-12-07T21:50:55.965Z"
   },
   {
    "duration": 19,
    "start_time": "2021-12-07T21:50:56.425Z"
   },
   {
    "duration": 17,
    "start_time": "2021-12-07T21:50:56.856Z"
   },
   {
    "duration": 21,
    "start_time": "2021-12-07T21:50:57.352Z"
   },
   {
    "duration": 19,
    "start_time": "2021-12-07T21:50:57.817Z"
   },
   {
    "duration": 121,
    "start_time": "2021-12-07T21:51:19.146Z"
   },
   {
    "duration": 14,
    "start_time": "2021-12-07T21:51:25.515Z"
   },
   {
    "duration": 13,
    "start_time": "2021-12-07T21:51:27.901Z"
   },
   {
    "duration": 5,
    "start_time": "2021-12-07T21:51:45.206Z"
   },
   {
    "duration": 48,
    "start_time": "2021-12-07T21:51:48.908Z"
   },
   {
    "duration": 34,
    "start_time": "2021-12-07T21:51:53.038Z"
   },
   {
    "duration": 36,
    "start_time": "2021-12-07T21:52:06.975Z"
   },
   {
    "duration": 32,
    "start_time": "2021-12-07T21:52:16.276Z"
   },
   {
    "duration": 23,
    "start_time": "2021-12-07T21:52:17.953Z"
   },
   {
    "duration": 38,
    "start_time": "2021-12-07T21:52:18.498Z"
   },
   {
    "duration": 24,
    "start_time": "2021-12-07T21:52:19.236Z"
   },
   {
    "duration": 6,
    "start_time": "2021-12-07T21:52:56.508Z"
   },
   {
    "duration": 539,
    "start_time": "2021-12-07T21:52:57.510Z"
   },
   {
    "duration": 551,
    "start_time": "2021-12-07T21:52:58.079Z"
   },
   {
    "duration": 6,
    "start_time": "2021-12-07T21:53:03.698Z"
   },
   {
    "duration": 36,
    "start_time": "2021-12-07T21:53:05.035Z"
   },
   {
    "duration": 23,
    "start_time": "2021-12-07T21:53:34.493Z"
   },
   {
    "duration": 32,
    "start_time": "2021-12-07T21:53:38.112Z"
   },
   {
    "duration": 3,
    "start_time": "2021-12-07T21:55:05.931Z"
   },
   {
    "duration": 5,
    "start_time": "2021-12-07T21:55:12.902Z"
   },
   {
    "duration": 34,
    "start_time": "2021-12-07T21:55:25.490Z"
   },
   {
    "duration": 28,
    "start_time": "2021-12-07T21:56:13.326Z"
   },
   {
    "duration": 29,
    "start_time": "2021-12-07T21:56:37.975Z"
   },
   {
    "duration": 40,
    "start_time": "2021-12-07T21:56:57.073Z"
   },
   {
    "duration": 43,
    "start_time": "2021-12-07T21:57:25.603Z"
   },
   {
    "duration": 4,
    "start_time": "2021-12-07T21:58:20.465Z"
   },
   {
    "duration": 44,
    "start_time": "2021-12-07T21:58:21.210Z"
   },
   {
    "duration": 41,
    "start_time": "2021-12-07T21:58:23.753Z"
   },
   {
    "duration": 39,
    "start_time": "2021-12-07T21:58:33.996Z"
   },
   {
    "duration": 11,
    "start_time": "2021-12-07T21:59:26.860Z"
   },
   {
    "duration": 34,
    "start_time": "2021-12-07T21:59:27.406Z"
   },
   {
    "duration": 42,
    "start_time": "2021-12-07T21:59:28.639Z"
   },
   {
    "duration": 38,
    "start_time": "2021-12-07T21:59:44.029Z"
   },
   {
    "duration": 43,
    "start_time": "2021-12-07T21:59:56.650Z"
   },
   {
    "duration": 23,
    "start_time": "2021-12-07T21:59:57.435Z"
   },
   {
    "duration": 48,
    "start_time": "2021-12-07T21:59:58.013Z"
   },
   {
    "duration": 22,
    "start_time": "2021-12-07T21:59:58.523Z"
   },
   {
    "duration": 34,
    "start_time": "2021-12-07T22:00:11.611Z"
   },
   {
    "duration": 30,
    "start_time": "2021-12-07T22:00:12.150Z"
   },
   {
    "duration": 50,
    "start_time": "2021-12-07T22:00:12.652Z"
   },
   {
    "duration": 22,
    "start_time": "2021-12-07T22:00:13.012Z"
   },
   {
    "duration": 33,
    "start_time": "2021-12-07T22:00:18.448Z"
   },
   {
    "duration": 5,
    "start_time": "2021-12-07T22:00:21.012Z"
   },
   {
    "duration": 20,
    "start_time": "2021-12-07T22:00:27.279Z"
   },
   {
    "duration": 7,
    "start_time": "2021-12-07T22:00:28.066Z"
   },
   {
    "duration": 674,
    "start_time": "2021-12-07T22:01:46.375Z"
   },
   {
    "duration": 199,
    "start_time": "2021-12-07T22:01:47.051Z"
   },
   {
    "duration": 26,
    "start_time": "2021-12-07T22:01:47.252Z"
   },
   {
    "duration": 27,
    "start_time": "2021-12-07T22:01:47.281Z"
   },
   {
    "duration": 4,
    "start_time": "2021-12-07T22:01:47.310Z"
   },
   {
    "duration": 64,
    "start_time": "2021-12-07T22:01:47.316Z"
   },
   {
    "duration": 4,
    "start_time": "2021-12-07T22:01:47.381Z"
   },
   {
    "duration": 46,
    "start_time": "2021-12-07T22:01:47.388Z"
   },
   {
    "duration": 41,
    "start_time": "2021-12-07T22:01:47.566Z"
   },
   {
    "duration": 26,
    "start_time": "2021-12-07T22:01:47.682Z"
   },
   {
    "duration": 75,
    "start_time": "2021-12-07T22:01:47.805Z"
   },
   {
    "duration": 99,
    "start_time": "2021-12-07T22:01:47.924Z"
   },
   {
    "duration": 85,
    "start_time": "2021-12-07T22:01:48.040Z"
   },
   {
    "duration": 8,
    "start_time": "2021-12-07T22:01:48.229Z"
   },
   {
    "duration": 3,
    "start_time": "2021-12-07T22:01:48.340Z"
   },
   {
    "duration": 11,
    "start_time": "2021-12-07T22:01:48.494Z"
   },
   {
    "duration": 4,
    "start_time": "2021-12-07T22:01:48.607Z"
   },
   {
    "duration": 33,
    "start_time": "2021-12-07T22:01:48.995Z"
   },
   {
    "duration": 48,
    "start_time": "2021-12-07T22:01:49.150Z"
   },
   {
    "duration": 4,
    "start_time": "2021-12-07T22:01:49.383Z"
   },
   {
    "duration": 26,
    "start_time": "2021-12-07T22:01:49.509Z"
   },
   {
    "duration": 22,
    "start_time": "2021-12-07T22:01:49.593Z"
   },
   {
    "duration": 25,
    "start_time": "2021-12-07T22:01:49.655Z"
   },
   {
    "duration": 16,
    "start_time": "2021-12-07T22:01:49.724Z"
   },
   {
    "duration": 23,
    "start_time": "2021-12-07T22:01:49.774Z"
   },
   {
    "duration": 21,
    "start_time": "2021-12-07T22:01:49.827Z"
   },
   {
    "duration": 96,
    "start_time": "2021-12-07T22:01:49.948Z"
   },
   {
    "duration": 12,
    "start_time": "2021-12-07T22:01:50.243Z"
   },
   {
    "duration": 10,
    "start_time": "2021-12-07T22:01:50.304Z"
   },
   {
    "duration": 6,
    "start_time": "2021-12-07T22:01:50.432Z"
   },
   {
    "duration": 50,
    "start_time": "2021-12-07T22:01:50.552Z"
   },
   {
    "duration": 25,
    "start_time": "2021-12-07T22:01:50.630Z"
   },
   {
    "duration": 54,
    "start_time": "2021-12-07T22:01:50.689Z"
   },
   {
    "duration": 27,
    "start_time": "2021-12-07T22:01:50.746Z"
   },
   {
    "duration": 25,
    "start_time": "2021-12-07T22:01:50.986Z"
   },
   {
    "duration": 6,
    "start_time": "2021-12-07T22:01:51.107Z"
   },
   {
    "duration": 18,
    "start_time": "2021-12-07T22:01:51.226Z"
   },
   {
    "duration": 5,
    "start_time": "2021-12-07T22:01:51.344Z"
   },
   {
    "duration": 4,
    "start_time": "2021-12-08T12:19:44.221Z"
   },
   {
    "duration": 451,
    "start_time": "2021-12-08T13:43:45.976Z"
   },
   {
    "duration": 1033,
    "start_time": "2021-12-08T13:43:57.378Z"
   },
   {
    "duration": 183,
    "start_time": "2021-12-08T13:43:59.394Z"
   },
   {
    "duration": 26,
    "start_time": "2021-12-08T13:44:02.068Z"
   },
   {
    "duration": 33,
    "start_time": "2021-12-08T13:44:08.942Z"
   },
   {
    "duration": 5,
    "start_time": "2021-12-08T13:44:28.143Z"
   },
   {
    "duration": 28,
    "start_time": "2021-12-08T13:44:40.757Z"
   },
   {
    "duration": 5,
    "start_time": "2021-12-08T13:44:45.909Z"
   },
   {
    "duration": 32,
    "start_time": "2021-12-08T13:44:47.381Z"
   },
   {
    "duration": 46,
    "start_time": "2021-12-08T13:45:00.833Z"
   },
   {
    "duration": 30,
    "start_time": "2021-12-08T13:45:08.847Z"
   },
   {
    "duration": 85,
    "start_time": "2021-12-08T13:45:18.958Z"
   },
   {
    "duration": 110,
    "start_time": "2021-12-08T13:45:23.138Z"
   },
   {
    "duration": 78,
    "start_time": "2021-12-08T13:45:24.103Z"
   },
   {
    "duration": 12,
    "start_time": "2021-12-08T13:45:27.776Z"
   },
   {
    "duration": 358,
    "start_time": "2021-12-08T13:52:54.326Z"
   },
   {
    "duration": 105,
    "start_time": "2021-12-08T14:27:23.679Z"
   },
   {
    "duration": 106,
    "start_time": "2021-12-08T14:27:27.950Z"
   },
   {
    "duration": 96,
    "start_time": "2021-12-08T14:27:29.449Z"
   },
   {
    "duration": 143,
    "start_time": "2021-12-08T14:27:32.070Z"
   },
   {
    "duration": 6,
    "start_time": "2021-12-08T14:36:19.563Z"
   },
   {
    "duration": 323,
    "start_time": "2021-12-08T14:36:22.107Z"
   },
   {
    "duration": 6,
    "start_time": "2021-12-08T14:36:30.487Z"
   },
   {
    "duration": 948,
    "start_time": "2021-12-08T14:36:31.188Z"
   },
   {
    "duration": 602,
    "start_time": "2021-12-08T14:36:32.139Z"
   },
   {
    "duration": 298,
    "start_time": "2021-12-08T14:36:32.744Z"
   },
   {
    "duration": 5,
    "start_time": "2021-12-08T14:36:34.637Z"
   },
   {
    "duration": 18,
    "start_time": "2021-12-08T14:36:35.664Z"
   },
   {
    "duration": 5,
    "start_time": "2021-12-08T14:36:36.376Z"
   },
   {
    "duration": 32,
    "start_time": "2021-12-08T14:36:36.854Z"
   },
   {
    "duration": 45,
    "start_time": "2021-12-08T14:36:37.804Z"
   },
   {
    "duration": 31,
    "start_time": "2021-12-08T14:36:38.487Z"
   },
   {
    "duration": 239,
    "start_time": "2021-12-08T14:36:38.972Z"
   },
   {
    "duration": 95,
    "start_time": "2021-12-08T14:36:39.779Z"
   },
   {
    "duration": 79,
    "start_time": "2021-12-08T14:36:40.305Z"
   },
   {
    "duration": 10,
    "start_time": "2021-12-08T14:36:41.068Z"
   },
   {
    "duration": 5,
    "start_time": "2021-12-08T14:36:42.433Z"
   },
   {
    "duration": 17,
    "start_time": "2021-12-08T14:36:44.226Z"
   },
   {
    "duration": 6,
    "start_time": "2021-12-08T14:36:45.460Z"
   },
   {
    "duration": 40,
    "start_time": "2021-12-08T14:36:46.849Z"
   },
   {
    "duration": 455,
    "start_time": "2021-12-08T14:36:47.358Z"
   },
   {
    "duration": 6,
    "start_time": "2021-12-08T14:36:49.781Z"
   },
   {
    "duration": 23,
    "start_time": "2021-12-08T14:36:50.858Z"
   },
   {
    "duration": 195,
    "start_time": "2021-12-08T14:36:51.063Z"
   },
   {
    "duration": 365,
    "start_time": "2021-12-08T14:36:51.262Z"
   },
   {
    "duration": 372,
    "start_time": "2021-12-08T14:36:51.631Z"
   },
   {
    "duration": 299,
    "start_time": "2021-12-08T14:36:52.006Z"
   },
   {
    "duration": 265,
    "start_time": "2021-12-08T14:36:52.307Z"
   },
   {
    "duration": 105,
    "start_time": "2021-12-08T14:36:53.606Z"
   },
   {
    "duration": 17,
    "start_time": "2021-12-08T14:36:57.193Z"
   },
   {
    "duration": 817,
    "start_time": "2021-12-08T14:36:57.600Z"
   },
   {
    "duration": 1029,
    "start_time": "2021-12-08T14:36:58.761Z"
   },
   {
    "duration": 389,
    "start_time": "2021-12-08T14:37:00.836Z"
   },
   {
    "duration": 26,
    "start_time": "2021-12-08T14:37:01.989Z"
   },
   {
    "duration": 43,
    "start_time": "2021-12-08T14:37:02.822Z"
   },
   {
    "duration": 27,
    "start_time": "2021-12-08T14:37:03.579Z"
   },
   {
    "duration": 40,
    "start_time": "2021-12-08T14:39:35.091Z"
   },
   {
    "duration": 43,
    "start_time": "2021-12-08T14:40:28.716Z"
   },
   {
    "duration": 44,
    "start_time": "2021-12-08T14:42:44.449Z"
   },
   {
    "duration": 736,
    "start_time": "2021-12-08T14:43:11.942Z"
   },
   {
    "duration": 193,
    "start_time": "2021-12-08T14:43:12.770Z"
   },
   {
    "duration": 25,
    "start_time": "2021-12-08T14:43:13.351Z"
   },
   {
    "duration": 36,
    "start_time": "2021-12-08T14:43:13.979Z"
   },
   {
    "duration": 5,
    "start_time": "2021-12-08T14:43:15.650Z"
   },
   {
    "duration": 29,
    "start_time": "2021-12-08T14:43:16.444Z"
   },
   {
    "duration": 6,
    "start_time": "2021-12-08T14:43:17.079Z"
   },
   {
    "duration": 31,
    "start_time": "2021-12-08T14:43:17.500Z"
   },
   {
    "duration": 42,
    "start_time": "2021-12-08T14:43:18.306Z"
   },
   {
    "duration": 31,
    "start_time": "2021-12-08T14:43:18.916Z"
   },
   {
    "duration": 88,
    "start_time": "2021-12-08T14:43:19.316Z"
   },
   {
    "duration": 102,
    "start_time": "2021-12-08T14:43:19.937Z"
   },
   {
    "duration": 82,
    "start_time": "2021-12-08T14:43:20.356Z"
   },
   {
    "duration": 10,
    "start_time": "2021-12-08T14:43:20.997Z"
   },
   {
    "duration": 5,
    "start_time": "2021-12-08T14:43:21.686Z"
   },
   {
    "duration": 14,
    "start_time": "2021-12-08T14:43:22.380Z"
   },
   {
    "duration": 308,
    "start_time": "2021-12-08T14:43:22.852Z"
   },
   {
    "duration": 40,
    "start_time": "2021-12-08T14:43:24.610Z"
   },
   {
    "duration": 42,
    "start_time": "2021-12-08T14:43:25.259Z"
   },
   {
    "duration": 6,
    "start_time": "2021-12-08T14:43:26.538Z"
   },
   {
    "duration": 22,
    "start_time": "2021-12-08T14:43:27.517Z"
   },
   {
    "duration": 84,
    "start_time": "2021-12-08T14:43:27.833Z"
   },
   {
    "duration": 364,
    "start_time": "2021-12-08T14:43:28.151Z"
   },
   {
    "duration": 430,
    "start_time": "2021-12-08T14:43:28.518Z"
   },
   {
    "duration": 241,
    "start_time": "2021-12-08T14:43:28.951Z"
   },
   {
    "duration": 217,
    "start_time": "2021-12-08T14:43:29.195Z"
   },
   {
    "duration": 227,
    "start_time": "2021-12-08T14:43:29.459Z"
   },
   {
    "duration": 15,
    "start_time": "2021-12-08T14:43:31.116Z"
   },
   {
    "duration": 12,
    "start_time": "2021-12-08T14:43:31.342Z"
   },
   {
    "duration": 7,
    "start_time": "2021-12-08T14:43:31.805Z"
   },
   {
    "duration": 38,
    "start_time": "2021-12-08T14:43:32.487Z"
   },
   {
    "duration": 24,
    "start_time": "2021-12-08T14:43:32.706Z"
   },
   {
    "duration": 65,
    "start_time": "2021-12-08T14:43:32.952Z"
   },
   {
    "duration": 44,
    "start_time": "2021-12-08T14:43:33.192Z"
   },
   {
    "duration": 42,
    "start_time": "2021-12-08T14:43:33.873Z"
   },
   {
    "duration": 34,
    "start_time": "2021-12-08T14:43:35.890Z"
   },
   {
    "duration": 7,
    "start_time": "2021-12-08T14:43:36.538Z"
   },
   {
    "duration": 21,
    "start_time": "2021-12-08T14:43:37.263Z"
   },
   {
    "duration": 6,
    "start_time": "2021-12-08T14:43:38.060Z"
   },
   {
    "duration": 51,
    "start_time": "2021-12-08T14:50:42.002Z"
   },
   {
    "duration": 54,
    "start_time": "2021-12-08T14:50:49.316Z"
   },
   {
    "duration": 45,
    "start_time": "2021-12-08T14:51:06.108Z"
   },
   {
    "duration": 44,
    "start_time": "2021-12-08T14:51:17.054Z"
   },
   {
    "duration": 314,
    "start_time": "2021-12-09T07:18:19.396Z"
   },
   {
    "duration": -500,
    "start_time": "2021-12-09T07:18:20.212Z"
   },
   {
    "duration": 329,
    "start_time": "2021-12-09T07:18:19.724Z"
   },
   {
    "duration": -480,
    "start_time": "2021-12-09T07:18:20.535Z"
   },
   {
    "duration": 264,
    "start_time": "2021-12-09T07:18:20.708Z"
   },
   {
    "duration": 325,
    "start_time": "2021-12-09T07:18:21.347Z"
   },
   {
    "duration": -539,
    "start_time": "2021-12-09T07:18:22.213Z"
   },
   {
    "duration": 277,
    "start_time": "2021-12-09T07:18:21.821Z"
   },
   {
    "duration": -574,
    "start_time": "2021-12-09T07:18:22.674Z"
   },
   {
    "duration": 283,
    "start_time": "2021-12-09T07:18:44.469Z"
   },
   {
    "duration": 294,
    "start_time": "2021-12-09T07:18:48.240Z"
   },
   {
    "duration": 633,
    "start_time": "2021-12-09T07:19:00.730Z"
   },
   {
    "duration": 141,
    "start_time": "2021-12-09T07:19:04.273Z"
   },
   {
    "duration": 16,
    "start_time": "2021-12-09T07:19:06.137Z"
   },
   {
    "duration": 23,
    "start_time": "2021-12-09T07:19:06.429Z"
   },
   {
    "duration": 4,
    "start_time": "2021-12-09T07:19:06.934Z"
   },
   {
    "duration": 21,
    "start_time": "2021-12-09T07:19:07.216Z"
   },
   {
    "duration": 4,
    "start_time": "2021-12-09T07:19:07.471Z"
   },
   {
    "duration": 22,
    "start_time": "2021-12-09T07:19:07.555Z"
   },
   {
    "duration": 30,
    "start_time": "2021-12-09T07:19:07.845Z"
   },
   {
    "duration": 24,
    "start_time": "2021-12-09T07:19:08.082Z"
   },
   {
    "duration": 54,
    "start_time": "2021-12-09T07:19:08.283Z"
   },
   {
    "duration": 66,
    "start_time": "2021-12-09T07:19:08.576Z"
   },
   {
    "duration": 48,
    "start_time": "2021-12-09T07:19:08.643Z"
   },
   {
    "duration": 7,
    "start_time": "2021-12-09T07:19:10.421Z"
   },
   {
    "duration": 4,
    "start_time": "2021-12-09T07:19:10.686Z"
   },
   {
    "duration": 10,
    "start_time": "2021-12-09T07:19:11.870Z"
   },
   {
    "duration": 4,
    "start_time": "2021-12-09T07:19:13.269Z"
   },
   {
    "duration": 28,
    "start_time": "2021-12-09T07:19:13.678Z"
   },
   {
    "duration": 27,
    "start_time": "2021-12-09T07:19:14.532Z"
   },
   {
    "duration": 4,
    "start_time": "2021-12-09T07:19:15.821Z"
   },
   {
    "duration": 16,
    "start_time": "2021-12-09T07:19:17.134Z"
   },
   {
    "duration": 15,
    "start_time": "2021-12-09T07:19:17.505Z"
   },
   {
    "duration": 14,
    "start_time": "2021-12-09T07:19:17.951Z"
   },
   {
    "duration": 20,
    "start_time": "2021-12-09T07:19:18.286Z"
   },
   {
    "duration": 17,
    "start_time": "2021-12-09T07:19:18.616Z"
   },
   {
    "duration": 15,
    "start_time": "2021-12-09T07:19:18.955Z"
   },
   {
    "duration": 72,
    "start_time": "2021-12-09T07:19:19.917Z"
   },
   {
    "duration": 11,
    "start_time": "2021-12-09T07:19:24.480Z"
   },
   {
    "duration": 9,
    "start_time": "2021-12-09T07:19:25.036Z"
   },
   {
    "duration": 4,
    "start_time": "2021-12-09T07:19:25.779Z"
   },
   {
    "duration": 27,
    "start_time": "2021-12-09T07:19:27.492Z"
   },
   {
    "duration": 17,
    "start_time": "2021-12-09T07:19:28.188Z"
   },
   {
    "duration": 30,
    "start_time": "2021-12-09T07:19:28.746Z"
   },
   {
    "duration": 19,
    "start_time": "2021-12-09T07:19:29.109Z"
   },
   {
    "duration": 541,
    "start_time": "2021-12-09T07:19:30.947Z"
   },
   {
    "duration": 92,
    "start_time": "2021-12-09T07:19:31.790Z"
   },
   {
    "duration": 3,
    "start_time": "2021-12-09T07:23:17.256Z"
   },
   {
    "duration": 580,
    "start_time": "2021-12-09T07:23:26.903Z"
   },
   {
    "duration": 136,
    "start_time": "2021-12-09T07:23:29.320Z"
   },
   {
    "duration": 17,
    "start_time": "2021-12-09T07:23:29.855Z"
   },
   {
    "duration": 25,
    "start_time": "2021-12-09T07:23:31.011Z"
   },
   {
    "duration": 5,
    "start_time": "2021-12-09T07:23:33.899Z"
   },
   {
    "duration": 21,
    "start_time": "2021-12-09T07:23:35.257Z"
   },
   {
    "duration": 4,
    "start_time": "2021-12-09T07:23:36.630Z"
   },
   {
    "duration": 23,
    "start_time": "2021-12-09T07:23:37.817Z"
   },
   {
    "duration": 31,
    "start_time": "2021-12-09T07:23:48.736Z"
   },
   {
    "duration": 22,
    "start_time": "2021-12-09T07:23:50.913Z"
   },
   {
    "duration": 58,
    "start_time": "2021-12-09T07:23:52.162Z"
   },
   {
    "duration": 62,
    "start_time": "2021-12-09T07:23:53.714Z"
   },
   {
    "duration": 47,
    "start_time": "2021-12-09T07:23:54.891Z"
   },
   {
    "duration": 7,
    "start_time": "2021-12-09T07:23:56.583Z"
   },
   {
    "duration": 3,
    "start_time": "2021-12-09T07:23:58.884Z"
   },
   {
    "duration": 11,
    "start_time": "2021-12-09T07:24:01.052Z"
   },
   {
    "duration": 5,
    "start_time": "2021-12-09T07:24:03.181Z"
   },
   {
    "duration": 29,
    "start_time": "2021-12-09T07:24:07.219Z"
   },
   {
    "duration": 29,
    "start_time": "2021-12-09T07:24:08.468Z"
   },
   {
    "duration": 3,
    "start_time": "2021-12-09T07:24:10.083Z"
   },
   {
    "duration": 15,
    "start_time": "2021-12-09T07:24:11.482Z"
   },
   {
    "duration": 15,
    "start_time": "2021-12-09T07:24:12.011Z"
   },
   {
    "duration": 15,
    "start_time": "2021-12-09T07:24:12.479Z"
   },
   {
    "duration": 19,
    "start_time": "2021-12-09T07:24:12.908Z"
   },
   {
    "duration": 17,
    "start_time": "2021-12-09T07:24:13.349Z"
   },
   {
    "duration": 15,
    "start_time": "2021-12-09T07:24:13.854Z"
   },
   {
    "duration": 69,
    "start_time": "2021-12-09T07:24:15.391Z"
   },
   {
    "duration": 10,
    "start_time": "2021-12-09T07:24:20.326Z"
   },
   {
    "duration": 11,
    "start_time": "2021-12-09T07:24:21.597Z"
   },
   {
    "duration": 4,
    "start_time": "2021-12-09T07:24:22.891Z"
   },
   {
    "duration": 36,
    "start_time": "2021-12-09T07:24:25.623Z"
   },
   {
    "duration": 19,
    "start_time": "2021-12-09T07:24:27.135Z"
   },
   {
    "duration": 33,
    "start_time": "2021-12-09T07:24:27.157Z"
   },
   {
    "duration": 19,
    "start_time": "2021-12-09T07:24:27.962Z"
   },
   {
    "duration": 326,
    "start_time": "2021-12-09T07:24:31.714Z"
   },
   {
    "duration": 5,
    "start_time": "2021-12-09T07:26:30.472Z"
   },
   {
    "duration": 673,
    "start_time": "2021-12-09T07:26:32.277Z"
   },
   {
    "duration": -513,
    "start_time": "2021-12-09T07:26:33.465Z"
   },
   {
    "duration": 4,
    "start_time": "2021-12-09T07:27:19.399Z"
   },
   {
    "duration": 28,
    "start_time": "2021-12-09T07:27:21.706Z"
   },
   {
    "duration": 17,
    "start_time": "2021-12-09T07:27:25.473Z"
   },
   {
    "duration": 33,
    "start_time": "2021-12-09T07:27:26.058Z"
   },
   {
    "duration": 20,
    "start_time": "2021-12-09T07:27:30.181Z"
   },
   {
    "duration": 385,
    "start_time": "2021-12-09T07:27:33.009Z"
   },
   {
    "duration": 30,
    "start_time": "2021-12-09T07:27:39.703Z"
   },
   {
    "duration": 21,
    "start_time": "2021-12-09T07:27:49.888Z"
   },
   {
    "duration": 536,
    "start_time": "2021-12-15T19:12:05.729Z"
   },
   {
    "duration": 125,
    "start_time": "2021-12-15T19:12:06.267Z"
   },
   {
    "duration": 15,
    "start_time": "2021-12-15T19:12:06.394Z"
   },
   {
    "duration": 24,
    "start_time": "2021-12-15T19:12:06.410Z"
   },
   {
    "duration": 3,
    "start_time": "2021-12-15T19:12:06.436Z"
   },
   {
    "duration": 22,
    "start_time": "2021-12-15T19:12:06.440Z"
   },
   {
    "duration": 24,
    "start_time": "2021-12-15T19:12:06.464Z"
   },
   {
    "duration": 23,
    "start_time": "2021-12-15T19:12:06.491Z"
   },
   {
    "duration": 28,
    "start_time": "2021-12-15T19:12:06.516Z"
   },
   {
    "duration": 21,
    "start_time": "2021-12-15T19:12:06.546Z"
   },
   {
    "duration": 58,
    "start_time": "2021-12-15T19:12:06.588Z"
   },
   {
    "duration": 72,
    "start_time": "2021-12-15T19:12:06.647Z"
   },
   {
    "duration": 45,
    "start_time": "2021-12-15T19:12:06.721Z"
   },
   {
    "duration": 23,
    "start_time": "2021-12-15T19:12:06.767Z"
   },
   {
    "duration": 2,
    "start_time": "2021-12-15T19:12:06.792Z"
   },
   {
    "duration": 5,
    "start_time": "2021-12-15T19:12:06.796Z"
   },
   {
    "duration": 12,
    "start_time": "2021-12-15T19:12:06.803Z"
   },
   {
    "duration": 4,
    "start_time": "2021-12-15T19:12:06.817Z"
   },
   {
    "duration": 32,
    "start_time": "2021-12-15T19:12:06.822Z"
   },
   {
    "duration": 46,
    "start_time": "2021-12-15T19:12:06.856Z"
   },
   {
    "duration": 3,
    "start_time": "2021-12-15T19:12:06.904Z"
   },
   {
    "duration": 20,
    "start_time": "2021-12-15T19:12:06.908Z"
   },
   {
    "duration": 13,
    "start_time": "2021-12-15T19:12:06.931Z"
   },
   {
    "duration": 13,
    "start_time": "2021-12-15T19:12:06.945Z"
   },
   {
    "duration": 36,
    "start_time": "2021-12-15T19:12:06.960Z"
   },
   {
    "duration": 15,
    "start_time": "2021-12-15T19:12:06.998Z"
   },
   {
    "duration": 14,
    "start_time": "2021-12-15T19:12:07.015Z"
   },
   {
    "duration": 96,
    "start_time": "2021-12-15T19:12:07.031Z"
   },
   {
    "duration": 11,
    "start_time": "2021-12-15T19:12:07.129Z"
   },
   {
    "duration": 9,
    "start_time": "2021-12-15T19:12:07.141Z"
   },
   {
    "duration": 4,
    "start_time": "2021-12-15T19:12:07.152Z"
   },
   {
    "duration": 48,
    "start_time": "2021-12-15T19:12:07.158Z"
   },
   {
    "duration": 16,
    "start_time": "2021-12-15T19:12:07.208Z"
   },
   {
    "duration": 25,
    "start_time": "2021-12-15T19:12:07.226Z"
   },
   {
    "duration": 42,
    "start_time": "2021-12-15T19:12:07.252Z"
   },
   {
    "duration": 27,
    "start_time": "2021-12-15T19:12:07.295Z"
   },
   {
    "duration": 21,
    "start_time": "2021-12-15T19:12:07.324Z"
   },
   {
    "duration": 5,
    "start_time": "2021-12-15T19:12:07.346Z"
   },
   {
    "duration": 45,
    "start_time": "2021-12-15T19:12:07.352Z"
   },
   {
    "duration": 4,
    "start_time": "2021-12-15T19:12:07.399Z"
   },
   {
    "duration": 424,
    "start_time": "2021-12-15T19:12:53.088Z"
   },
   {
    "duration": 812,
    "start_time": "2021-12-15T19:13:03.056Z"
   },
   {
    "duration": 838,
    "start_time": "2022-01-19T18:58:09.102Z"
   },
   {
    "duration": 194,
    "start_time": "2022-01-19T18:58:09.943Z"
   },
   {
    "duration": 28,
    "start_time": "2022-01-19T18:58:10.140Z"
   },
   {
    "duration": 33,
    "start_time": "2022-01-19T18:58:10.171Z"
   },
   {
    "duration": 6,
    "start_time": "2022-01-19T18:58:10.233Z"
   },
   {
    "duration": 32,
    "start_time": "2022-01-19T18:58:10.241Z"
   },
   {
    "duration": 7,
    "start_time": "2022-01-19T18:58:10.275Z"
   },
   {
    "duration": 70,
    "start_time": "2022-01-19T18:58:10.285Z"
   },
   {
    "duration": 85,
    "start_time": "2022-01-19T18:58:10.359Z"
   },
   {
    "duration": 49,
    "start_time": "2022-01-19T18:58:10.447Z"
   },
   {
    "duration": 109,
    "start_time": "2022-01-19T18:58:10.499Z"
   },
   {
    "duration": 123,
    "start_time": "2022-01-19T18:58:10.611Z"
   },
   {
    "duration": 79,
    "start_time": "2022-01-19T18:58:10.736Z"
   },
   {
    "duration": 21,
    "start_time": "2022-01-19T18:58:10.817Z"
   },
   {
    "duration": 7,
    "start_time": "2022-01-19T18:58:10.841Z"
   },
   {
    "duration": 8,
    "start_time": "2022-01-19T18:58:10.851Z"
   },
   {
    "duration": 23,
    "start_time": "2022-01-19T18:58:10.862Z"
   },
   {
    "duration": 44,
    "start_time": "2022-01-19T18:58:10.888Z"
   },
   {
    "duration": 42,
    "start_time": "2022-01-19T18:58:10.936Z"
   },
   {
    "duration": 73,
    "start_time": "2022-01-19T18:58:10.981Z"
   },
   {
    "duration": 5,
    "start_time": "2022-01-19T18:58:11.057Z"
   },
   {
    "duration": 42,
    "start_time": "2022-01-19T18:58:11.065Z"
   },
   {
    "duration": 33,
    "start_time": "2022-01-19T18:58:11.139Z"
   },
   {
    "duration": 21,
    "start_time": "2022-01-19T18:58:11.175Z"
   },
   {
    "duration": 44,
    "start_time": "2022-01-19T18:58:11.199Z"
   },
   {
    "duration": 23,
    "start_time": "2022-01-19T18:58:11.246Z"
   },
   {
    "duration": 21,
    "start_time": "2022-01-19T18:58:11.271Z"
   },
   {
    "duration": 125,
    "start_time": "2022-01-19T18:58:11.294Z"
   },
   {
    "duration": 16,
    "start_time": "2022-01-19T18:58:11.433Z"
   },
   {
    "duration": 22,
    "start_time": "2022-01-19T18:58:11.451Z"
   },
   {
    "duration": 7,
    "start_time": "2022-01-19T18:58:11.475Z"
   },
   {
    "duration": 74,
    "start_time": "2022-01-19T18:58:11.484Z"
   },
   {
    "duration": 25,
    "start_time": "2022-01-19T18:58:11.560Z"
   },
   {
    "duration": 70,
    "start_time": "2022-01-19T18:58:11.588Z"
   },
   {
    "duration": 27,
    "start_time": "2022-01-19T18:58:11.660Z"
   },
   {
    "duration": 69,
    "start_time": "2022-01-19T18:58:11.689Z"
   },
   {
    "duration": 31,
    "start_time": "2022-01-19T18:58:11.761Z"
   },
   {
    "duration": 38,
    "start_time": "2022-01-19T18:58:11.795Z"
   },
   {
    "duration": 20,
    "start_time": "2022-01-19T18:58:11.835Z"
   },
   {
    "duration": 6,
    "start_time": "2022-01-19T18:58:11.857Z"
   },
   {
    "duration": 28,
    "start_time": "2022-01-19T18:58:40.974Z"
   },
   {
    "duration": 43,
    "start_time": "2022-01-19T18:58:46.104Z"
   },
   {
    "duration": 3,
    "start_time": "2022-01-19T18:59:14.054Z"
   },
   {
    "duration": 202,
    "start_time": "2022-01-19T18:59:15.154Z"
   },
   {
    "duration": 16,
    "start_time": "2022-01-19T18:59:16.323Z"
   },
   {
    "duration": 50,
    "start_time": "2022-01-19T18:59:17.651Z"
   },
   {
    "duration": 7,
    "start_time": "2022-01-19T18:59:21.928Z"
   },
   {
    "duration": 29,
    "start_time": "2022-01-19T18:59:24.571Z"
   },
   {
    "duration": 6,
    "start_time": "2022-01-19T18:59:26.862Z"
   },
   {
    "duration": 32,
    "start_time": "2022-01-19T18:59:28.540Z"
   },
   {
    "duration": 45,
    "start_time": "2022-01-19T18:59:39.501Z"
   },
   {
    "duration": 41,
    "start_time": "2022-01-19T18:59:41.063Z"
   },
   {
    "duration": 32,
    "start_time": "2022-01-19T18:59:53.071Z"
   },
   {
    "duration": 43,
    "start_time": "2022-01-19T19:00:27.818Z"
   },
   {
    "duration": 30,
    "start_time": "2022-01-19T19:00:52.898Z"
   },
   {
    "duration": 197,
    "start_time": "2022-01-19T19:01:06.472Z"
   },
   {
    "duration": 33,
    "start_time": "2022-01-19T19:01:15.134Z"
   },
   {
    "duration": 47,
    "start_time": "2022-01-19T19:01:23.328Z"
   },
   {
    "duration": 50,
    "start_time": "2022-01-19T19:01:41.643Z"
   },
   {
    "duration": 32,
    "start_time": "2022-01-19T19:02:10.251Z"
   },
   {
    "duration": 30,
    "start_time": "2022-01-19T19:02:28.211Z"
   },
   {
    "duration": 42,
    "start_time": "2022-01-19T19:02:30.398Z"
   },
   {
    "duration": 31,
    "start_time": "2022-01-19T19:02:32.661Z"
   },
   {
    "duration": 91,
    "start_time": "2022-01-19T19:04:21.144Z"
   }
  ],
  "colab": {
   "collapsed_sections": [
    "E0vqbgi9ay0H",
    "VUC88oWjTJw2"
   ],
   "name": "yandex_music_project_2021.2.ipynb",
   "provenance": []
  },
  "kernelspec": {
   "display_name": "Python 3 (ipykernel)",
   "language": "python",
   "name": "python3"
  },
  "language_info": {
   "codemirror_mode": {
    "name": "ipython",
    "version": 3
   },
   "file_extension": ".py",
   "mimetype": "text/x-python",
   "name": "python",
   "nbconvert_exporter": "python",
   "pygments_lexer": "ipython3",
   "version": "3.8.10"
  },
  "toc": {
   "base_numbering": 1,
   "nav_menu": {},
   "number_sections": true,
   "sideBar": true,
   "skip_h1_title": true,
   "title_cell": "Table of Contents",
   "title_sidebar": "Contents",
   "toc_cell": false,
   "toc_position": {
    "height": "calc(100% - 180px)",
    "left": "10px",
    "top": "150px",
    "width": "165px"
   },
   "toc_section_display": true,
   "toc_window_display": false
  }
 },
 "nbformat": 4,
 "nbformat_minor": 1
}
