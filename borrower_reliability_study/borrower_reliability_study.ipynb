{
 "cells": [
  {
   "cell_type": "markdown",
   "metadata": {},
   "source": [
    "# Исследование надёжности заёмщиков\n",
    "\n",
    "Заказчик — кредитный отдел банка. Нужно разобраться, влияет ли семейное положение и количество детей клиента на факт погашения кредита в срок. Входные данные от банка — статистика о платёжеспособности клиентов.\n",
    "\n",
    "Результаты исследования будут учтены при построении модели **кредитного скоринга** — специальной системы, которая оценивает способность потенциального заёмщика вернуть кредит банку."
   ]
  },
  {
   "cell_type": "markdown",
   "metadata": {},
   "source": [
    "## Шаг 1. Откройте файл с данными и изучите общую информацию"
   ]
  },
  {
   "cell_type": "code",
   "execution_count": 1,
   "metadata": {},
   "outputs": [],
   "source": [
    "# Импорт необходимых библиотек\n",
    "\n",
    "import pandas as pd\n",
    "import numpy as np"
   ]
  },
  {
   "cell_type": "code",
   "execution_count": 2,
   "metadata": {
    "scrolled": true
   },
   "outputs": [],
   "source": [
    "# Чтение из данных и создание переменной scoring_data\n",
    "scoring_data = pd.read_csv('/datasets/data.csv')"
   ]
  },
  {
   "cell_type": "code",
   "execution_count": 3,
   "metadata": {},
   "outputs": [
    {
     "name": "stdout",
     "output_type": "stream",
     "text": [
      "<class 'pandas.core.frame.DataFrame'>\n",
      "RangeIndex: 21525 entries, 0 to 21524\n",
      "Data columns (total 12 columns):\n",
      "children            21525 non-null int64\n",
      "days_employed       19351 non-null float64\n",
      "dob_years           21525 non-null int64\n",
      "education           21525 non-null object\n",
      "education_id        21525 non-null int64\n",
      "family_status       21525 non-null object\n",
      "family_status_id    21525 non-null int64\n",
      "gender              21525 non-null object\n",
      "income_type         21525 non-null object\n",
      "debt                21525 non-null int64\n",
      "total_income        19351 non-null float64\n",
      "purpose             21525 non-null object\n",
      "dtypes: float64(2), int64(5), object(5)\n",
      "memory usage: 2.0+ MB\n"
     ]
    }
   ],
   "source": [
    "# Вывод основной информации\n",
    "scoring_data.info()"
   ]
  },
  {
   "cell_type": "code",
   "execution_count": 4,
   "metadata": {
    "scrolled": true
   },
   "outputs": [
    {
     "data": {
      "text/html": [
       "<div>\n",
       "<style scoped>\n",
       "    .dataframe tbody tr th:only-of-type {\n",
       "        vertical-align: middle;\n",
       "    }\n",
       "\n",
       "    .dataframe tbody tr th {\n",
       "        vertical-align: top;\n",
       "    }\n",
       "\n",
       "    .dataframe thead th {\n",
       "        text-align: right;\n",
       "    }\n",
       "</style>\n",
       "<table border=\"1\" class=\"dataframe\">\n",
       "  <thead>\n",
       "    <tr style=\"text-align: right;\">\n",
       "      <th></th>\n",
       "      <th>children</th>\n",
       "      <th>days_employed</th>\n",
       "      <th>dob_years</th>\n",
       "      <th>education</th>\n",
       "      <th>education_id</th>\n",
       "      <th>family_status</th>\n",
       "      <th>family_status_id</th>\n",
       "      <th>gender</th>\n",
       "      <th>income_type</th>\n",
       "      <th>debt</th>\n",
       "      <th>total_income</th>\n",
       "      <th>purpose</th>\n",
       "    </tr>\n",
       "  </thead>\n",
       "  <tbody>\n",
       "    <tr>\n",
       "      <td>0</td>\n",
       "      <td>1</td>\n",
       "      <td>-8437.673028</td>\n",
       "      <td>42</td>\n",
       "      <td>высшее</td>\n",
       "      <td>0</td>\n",
       "      <td>женат / замужем</td>\n",
       "      <td>0</td>\n",
       "      <td>F</td>\n",
       "      <td>сотрудник</td>\n",
       "      <td>0</td>\n",
       "      <td>253875.639453</td>\n",
       "      <td>покупка жилья</td>\n",
       "    </tr>\n",
       "    <tr>\n",
       "      <td>1</td>\n",
       "      <td>1</td>\n",
       "      <td>-4024.803754</td>\n",
       "      <td>36</td>\n",
       "      <td>среднее</td>\n",
       "      <td>1</td>\n",
       "      <td>женат / замужем</td>\n",
       "      <td>0</td>\n",
       "      <td>F</td>\n",
       "      <td>сотрудник</td>\n",
       "      <td>0</td>\n",
       "      <td>112080.014102</td>\n",
       "      <td>приобретение автомобиля</td>\n",
       "    </tr>\n",
       "    <tr>\n",
       "      <td>2</td>\n",
       "      <td>0</td>\n",
       "      <td>-5623.422610</td>\n",
       "      <td>33</td>\n",
       "      <td>Среднее</td>\n",
       "      <td>1</td>\n",
       "      <td>женат / замужем</td>\n",
       "      <td>0</td>\n",
       "      <td>M</td>\n",
       "      <td>сотрудник</td>\n",
       "      <td>0</td>\n",
       "      <td>145885.952297</td>\n",
       "      <td>покупка жилья</td>\n",
       "    </tr>\n",
       "    <tr>\n",
       "      <td>3</td>\n",
       "      <td>3</td>\n",
       "      <td>-4124.747207</td>\n",
       "      <td>32</td>\n",
       "      <td>среднее</td>\n",
       "      <td>1</td>\n",
       "      <td>женат / замужем</td>\n",
       "      <td>0</td>\n",
       "      <td>M</td>\n",
       "      <td>сотрудник</td>\n",
       "      <td>0</td>\n",
       "      <td>267628.550329</td>\n",
       "      <td>дополнительное образование</td>\n",
       "    </tr>\n",
       "    <tr>\n",
       "      <td>4</td>\n",
       "      <td>0</td>\n",
       "      <td>340266.072047</td>\n",
       "      <td>53</td>\n",
       "      <td>среднее</td>\n",
       "      <td>1</td>\n",
       "      <td>гражданский брак</td>\n",
       "      <td>1</td>\n",
       "      <td>F</td>\n",
       "      <td>пенсионер</td>\n",
       "      <td>0</td>\n",
       "      <td>158616.077870</td>\n",
       "      <td>сыграть свадьбу</td>\n",
       "    </tr>\n",
       "    <tr>\n",
       "      <td>5</td>\n",
       "      <td>0</td>\n",
       "      <td>-926.185831</td>\n",
       "      <td>27</td>\n",
       "      <td>высшее</td>\n",
       "      <td>0</td>\n",
       "      <td>гражданский брак</td>\n",
       "      <td>1</td>\n",
       "      <td>M</td>\n",
       "      <td>компаньон</td>\n",
       "      <td>0</td>\n",
       "      <td>255763.565419</td>\n",
       "      <td>покупка жилья</td>\n",
       "    </tr>\n",
       "    <tr>\n",
       "      <td>6</td>\n",
       "      <td>0</td>\n",
       "      <td>-2879.202052</td>\n",
       "      <td>43</td>\n",
       "      <td>высшее</td>\n",
       "      <td>0</td>\n",
       "      <td>женат / замужем</td>\n",
       "      <td>0</td>\n",
       "      <td>F</td>\n",
       "      <td>компаньон</td>\n",
       "      <td>0</td>\n",
       "      <td>240525.971920</td>\n",
       "      <td>операции с жильем</td>\n",
       "    </tr>\n",
       "    <tr>\n",
       "      <td>7</td>\n",
       "      <td>0</td>\n",
       "      <td>-152.779569</td>\n",
       "      <td>50</td>\n",
       "      <td>СРЕДНЕЕ</td>\n",
       "      <td>1</td>\n",
       "      <td>женат / замужем</td>\n",
       "      <td>0</td>\n",
       "      <td>M</td>\n",
       "      <td>сотрудник</td>\n",
       "      <td>0</td>\n",
       "      <td>135823.934197</td>\n",
       "      <td>образование</td>\n",
       "    </tr>\n",
       "    <tr>\n",
       "      <td>8</td>\n",
       "      <td>2</td>\n",
       "      <td>-6929.865299</td>\n",
       "      <td>35</td>\n",
       "      <td>ВЫСШЕЕ</td>\n",
       "      <td>0</td>\n",
       "      <td>гражданский брак</td>\n",
       "      <td>1</td>\n",
       "      <td>F</td>\n",
       "      <td>сотрудник</td>\n",
       "      <td>0</td>\n",
       "      <td>95856.832424</td>\n",
       "      <td>на проведение свадьбы</td>\n",
       "    </tr>\n",
       "    <tr>\n",
       "      <td>9</td>\n",
       "      <td>0</td>\n",
       "      <td>-2188.756445</td>\n",
       "      <td>41</td>\n",
       "      <td>среднее</td>\n",
       "      <td>1</td>\n",
       "      <td>женат / замужем</td>\n",
       "      <td>0</td>\n",
       "      <td>M</td>\n",
       "      <td>сотрудник</td>\n",
       "      <td>0</td>\n",
       "      <td>144425.938277</td>\n",
       "      <td>покупка жилья для семьи</td>\n",
       "    </tr>\n",
       "    <tr>\n",
       "      <td>10</td>\n",
       "      <td>2</td>\n",
       "      <td>-4171.483647</td>\n",
       "      <td>36</td>\n",
       "      <td>высшее</td>\n",
       "      <td>0</td>\n",
       "      <td>женат / замужем</td>\n",
       "      <td>0</td>\n",
       "      <td>M</td>\n",
       "      <td>компаньон</td>\n",
       "      <td>0</td>\n",
       "      <td>113943.491460</td>\n",
       "      <td>покупка недвижимости</td>\n",
       "    </tr>\n",
       "    <tr>\n",
       "      <td>11</td>\n",
       "      <td>0</td>\n",
       "      <td>-792.701887</td>\n",
       "      <td>40</td>\n",
       "      <td>среднее</td>\n",
       "      <td>1</td>\n",
       "      <td>женат / замужем</td>\n",
       "      <td>0</td>\n",
       "      <td>F</td>\n",
       "      <td>сотрудник</td>\n",
       "      <td>0</td>\n",
       "      <td>77069.234271</td>\n",
       "      <td>покупка коммерческой недвижимости</td>\n",
       "    </tr>\n",
       "    <tr>\n",
       "      <td>12</td>\n",
       "      <td>0</td>\n",
       "      <td>NaN</td>\n",
       "      <td>65</td>\n",
       "      <td>среднее</td>\n",
       "      <td>1</td>\n",
       "      <td>гражданский брак</td>\n",
       "      <td>1</td>\n",
       "      <td>M</td>\n",
       "      <td>пенсионер</td>\n",
       "      <td>0</td>\n",
       "      <td>NaN</td>\n",
       "      <td>сыграть свадьбу</td>\n",
       "    </tr>\n",
       "    <tr>\n",
       "      <td>13</td>\n",
       "      <td>0</td>\n",
       "      <td>-1846.641941</td>\n",
       "      <td>54</td>\n",
       "      <td>неоконченное высшее</td>\n",
       "      <td>2</td>\n",
       "      <td>женат / замужем</td>\n",
       "      <td>0</td>\n",
       "      <td>F</td>\n",
       "      <td>сотрудник</td>\n",
       "      <td>0</td>\n",
       "      <td>130458.228857</td>\n",
       "      <td>приобретение автомобиля</td>\n",
       "    </tr>\n",
       "    <tr>\n",
       "      <td>14</td>\n",
       "      <td>0</td>\n",
       "      <td>-1844.956182</td>\n",
       "      <td>56</td>\n",
       "      <td>высшее</td>\n",
       "      <td>0</td>\n",
       "      <td>гражданский брак</td>\n",
       "      <td>1</td>\n",
       "      <td>F</td>\n",
       "      <td>компаньон</td>\n",
       "      <td>1</td>\n",
       "      <td>165127.911772</td>\n",
       "      <td>покупка жилой недвижимости</td>\n",
       "    </tr>\n",
       "  </tbody>\n",
       "</table>\n",
       "</div>"
      ],
      "text/plain": [
       "    children  days_employed  dob_years            education  education_id  \\\n",
       "0          1   -8437.673028         42               высшее             0   \n",
       "1          1   -4024.803754         36              среднее             1   \n",
       "2          0   -5623.422610         33              Среднее             1   \n",
       "3          3   -4124.747207         32              среднее             1   \n",
       "4          0  340266.072047         53              среднее             1   \n",
       "5          0    -926.185831         27               высшее             0   \n",
       "6          0   -2879.202052         43               высшее             0   \n",
       "7          0    -152.779569         50              СРЕДНЕЕ             1   \n",
       "8          2   -6929.865299         35               ВЫСШЕЕ             0   \n",
       "9          0   -2188.756445         41              среднее             1   \n",
       "10         2   -4171.483647         36               высшее             0   \n",
       "11         0    -792.701887         40              среднее             1   \n",
       "12         0            NaN         65              среднее             1   \n",
       "13         0   -1846.641941         54  неоконченное высшее             2   \n",
       "14         0   -1844.956182         56               высшее             0   \n",
       "\n",
       "       family_status  family_status_id gender income_type  debt  \\\n",
       "0    женат / замужем                 0      F   сотрудник     0   \n",
       "1    женат / замужем                 0      F   сотрудник     0   \n",
       "2    женат / замужем                 0      M   сотрудник     0   \n",
       "3    женат / замужем                 0      M   сотрудник     0   \n",
       "4   гражданский брак                 1      F   пенсионер     0   \n",
       "5   гражданский брак                 1      M   компаньон     0   \n",
       "6    женат / замужем                 0      F   компаньон     0   \n",
       "7    женат / замужем                 0      M   сотрудник     0   \n",
       "8   гражданский брак                 1      F   сотрудник     0   \n",
       "9    женат / замужем                 0      M   сотрудник     0   \n",
       "10   женат / замужем                 0      M   компаньон     0   \n",
       "11   женат / замужем                 0      F   сотрудник     0   \n",
       "12  гражданский брак                 1      M   пенсионер     0   \n",
       "13   женат / замужем                 0      F   сотрудник     0   \n",
       "14  гражданский брак                 1      F   компаньон     1   \n",
       "\n",
       "     total_income                            purpose  \n",
       "0   253875.639453                      покупка жилья  \n",
       "1   112080.014102            приобретение автомобиля  \n",
       "2   145885.952297                      покупка жилья  \n",
       "3   267628.550329         дополнительное образование  \n",
       "4   158616.077870                    сыграть свадьбу  \n",
       "5   255763.565419                      покупка жилья  \n",
       "6   240525.971920                  операции с жильем  \n",
       "7   135823.934197                        образование  \n",
       "8    95856.832424              на проведение свадьбы  \n",
       "9   144425.938277            покупка жилья для семьи  \n",
       "10  113943.491460               покупка недвижимости  \n",
       "11   77069.234271  покупка коммерческой недвижимости  \n",
       "12            NaN                    сыграть свадьбу  \n",
       "13  130458.228857            приобретение автомобиля  \n",
       "14  165127.911772         покупка жилой недвижимости  "
      ]
     },
     "execution_count": 4,
     "metadata": {},
     "output_type": "execute_result"
    }
   ],
   "source": [
    "# Вывод первых 15 строк для первичного осмотра даннных\n",
    "scoring_data.head(15)"
   ]
  },
  {
   "cell_type": "code",
   "execution_count": 5,
   "metadata": {
    "scrolled": true
   },
   "outputs": [
    {
     "data": {
      "text/html": [
       "<div>\n",
       "<style scoped>\n",
       "    .dataframe tbody tr th:only-of-type {\n",
       "        vertical-align: middle;\n",
       "    }\n",
       "\n",
       "    .dataframe tbody tr th {\n",
       "        vertical-align: top;\n",
       "    }\n",
       "\n",
       "    .dataframe thead th {\n",
       "        text-align: right;\n",
       "    }\n",
       "</style>\n",
       "<table border=\"1\" class=\"dataframe\">\n",
       "  <thead>\n",
       "    <tr style=\"text-align: right;\">\n",
       "      <th></th>\n",
       "      <th>children</th>\n",
       "      <th>days_employed</th>\n",
       "      <th>dob_years</th>\n",
       "      <th>education_id</th>\n",
       "      <th>family_status_id</th>\n",
       "      <th>debt</th>\n",
       "      <th>total_income</th>\n",
       "    </tr>\n",
       "  </thead>\n",
       "  <tbody>\n",
       "    <tr>\n",
       "      <td>count</td>\n",
       "      <td>21525.000000</td>\n",
       "      <td>19351.000000</td>\n",
       "      <td>21525.000000</td>\n",
       "      <td>21525.000000</td>\n",
       "      <td>21525.000000</td>\n",
       "      <td>21525.000000</td>\n",
       "      <td>1.935100e+04</td>\n",
       "    </tr>\n",
       "    <tr>\n",
       "      <td>mean</td>\n",
       "      <td>0.538908</td>\n",
       "      <td>63046.497661</td>\n",
       "      <td>43.293380</td>\n",
       "      <td>0.817236</td>\n",
       "      <td>0.972544</td>\n",
       "      <td>0.080883</td>\n",
       "      <td>1.674223e+05</td>\n",
       "    </tr>\n",
       "    <tr>\n",
       "      <td>std</td>\n",
       "      <td>1.381587</td>\n",
       "      <td>140827.311974</td>\n",
       "      <td>12.574584</td>\n",
       "      <td>0.548138</td>\n",
       "      <td>1.420324</td>\n",
       "      <td>0.272661</td>\n",
       "      <td>1.029716e+05</td>\n",
       "    </tr>\n",
       "    <tr>\n",
       "      <td>min</td>\n",
       "      <td>-1.000000</td>\n",
       "      <td>-18388.949901</td>\n",
       "      <td>0.000000</td>\n",
       "      <td>0.000000</td>\n",
       "      <td>0.000000</td>\n",
       "      <td>0.000000</td>\n",
       "      <td>2.066726e+04</td>\n",
       "    </tr>\n",
       "    <tr>\n",
       "      <td>25%</td>\n",
       "      <td>0.000000</td>\n",
       "      <td>-2747.423625</td>\n",
       "      <td>33.000000</td>\n",
       "      <td>1.000000</td>\n",
       "      <td>0.000000</td>\n",
       "      <td>0.000000</td>\n",
       "      <td>1.030532e+05</td>\n",
       "    </tr>\n",
       "    <tr>\n",
       "      <td>50%</td>\n",
       "      <td>0.000000</td>\n",
       "      <td>-1203.369529</td>\n",
       "      <td>42.000000</td>\n",
       "      <td>1.000000</td>\n",
       "      <td>0.000000</td>\n",
       "      <td>0.000000</td>\n",
       "      <td>1.450179e+05</td>\n",
       "    </tr>\n",
       "    <tr>\n",
       "      <td>75%</td>\n",
       "      <td>1.000000</td>\n",
       "      <td>-291.095954</td>\n",
       "      <td>53.000000</td>\n",
       "      <td>1.000000</td>\n",
       "      <td>1.000000</td>\n",
       "      <td>0.000000</td>\n",
       "      <td>2.034351e+05</td>\n",
       "    </tr>\n",
       "    <tr>\n",
       "      <td>max</td>\n",
       "      <td>20.000000</td>\n",
       "      <td>401755.400475</td>\n",
       "      <td>75.000000</td>\n",
       "      <td>4.000000</td>\n",
       "      <td>4.000000</td>\n",
       "      <td>1.000000</td>\n",
       "      <td>2.265604e+06</td>\n",
       "    </tr>\n",
       "  </tbody>\n",
       "</table>\n",
       "</div>"
      ],
      "text/plain": [
       "           children  days_employed     dob_years  education_id  \\\n",
       "count  21525.000000   19351.000000  21525.000000  21525.000000   \n",
       "mean       0.538908   63046.497661     43.293380      0.817236   \n",
       "std        1.381587  140827.311974     12.574584      0.548138   \n",
       "min       -1.000000  -18388.949901      0.000000      0.000000   \n",
       "25%        0.000000   -2747.423625     33.000000      1.000000   \n",
       "50%        0.000000   -1203.369529     42.000000      1.000000   \n",
       "75%        1.000000    -291.095954     53.000000      1.000000   \n",
       "max       20.000000  401755.400475     75.000000      4.000000   \n",
       "\n",
       "       family_status_id          debt  total_income  \n",
       "count      21525.000000  21525.000000  1.935100e+04  \n",
       "mean           0.972544      0.080883  1.674223e+05  \n",
       "std            1.420324      0.272661  1.029716e+05  \n",
       "min            0.000000      0.000000  2.066726e+04  \n",
       "25%            0.000000      0.000000  1.030532e+05  \n",
       "50%            0.000000      0.000000  1.450179e+05  \n",
       "75%            1.000000      0.000000  2.034351e+05  \n",
       "max            4.000000      1.000000  2.265604e+06  "
      ]
     },
     "execution_count": 5,
     "metadata": {},
     "output_type": "execute_result"
    }
   ],
   "source": [
    "# Вывод описания таблицы\n",
    "scoring_data.describe()"
   ]
  },
  {
   "cell_type": "code",
   "execution_count": 6,
   "metadata": {},
   "outputs": [
    {
     "data": {
      "text/html": [
       "<div>\n",
       "<style scoped>\n",
       "    .dataframe tbody tr th:only-of-type {\n",
       "        vertical-align: middle;\n",
       "    }\n",
       "\n",
       "    .dataframe tbody tr th {\n",
       "        vertical-align: top;\n",
       "    }\n",
       "\n",
       "    .dataframe thead th {\n",
       "        text-align: right;\n",
       "    }\n",
       "</style>\n",
       "<table border=\"1\" class=\"dataframe\">\n",
       "  <thead>\n",
       "    <tr style=\"text-align: right;\">\n",
       "      <th></th>\n",
       "      <th>days_employed</th>\n",
       "      <th>dob_years</th>\n",
       "      <th>education</th>\n",
       "      <th>education_id</th>\n",
       "      <th>family_status</th>\n",
       "      <th>family_status_id</th>\n",
       "      <th>gender</th>\n",
       "      <th>income_type</th>\n",
       "      <th>debt</th>\n",
       "      <th>total_income</th>\n",
       "      <th>purpose</th>\n",
       "    </tr>\n",
       "    <tr>\n",
       "      <th>children</th>\n",
       "      <th></th>\n",
       "      <th></th>\n",
       "      <th></th>\n",
       "      <th></th>\n",
       "      <th></th>\n",
       "      <th></th>\n",
       "      <th></th>\n",
       "      <th></th>\n",
       "      <th></th>\n",
       "      <th></th>\n",
       "      <th></th>\n",
       "    </tr>\n",
       "  </thead>\n",
       "  <tbody>\n",
       "    <tr>\n",
       "      <td>-1</td>\n",
       "      <td>44</td>\n",
       "      <td>47</td>\n",
       "      <td>47</td>\n",
       "      <td>47</td>\n",
       "      <td>47</td>\n",
       "      <td>47</td>\n",
       "      <td>47</td>\n",
       "      <td>47</td>\n",
       "      <td>47</td>\n",
       "      <td>44</td>\n",
       "      <td>47</td>\n",
       "    </tr>\n",
       "    <tr>\n",
       "      <td>0</td>\n",
       "      <td>12710</td>\n",
       "      <td>14149</td>\n",
       "      <td>14149</td>\n",
       "      <td>14149</td>\n",
       "      <td>14149</td>\n",
       "      <td>14149</td>\n",
       "      <td>14149</td>\n",
       "      <td>14149</td>\n",
       "      <td>14149</td>\n",
       "      <td>12710</td>\n",
       "      <td>14149</td>\n",
       "    </tr>\n",
       "    <tr>\n",
       "      <td>1</td>\n",
       "      <td>4343</td>\n",
       "      <td>4818</td>\n",
       "      <td>4818</td>\n",
       "      <td>4818</td>\n",
       "      <td>4818</td>\n",
       "      <td>4818</td>\n",
       "      <td>4818</td>\n",
       "      <td>4818</td>\n",
       "      <td>4818</td>\n",
       "      <td>4343</td>\n",
       "      <td>4818</td>\n",
       "    </tr>\n",
       "    <tr>\n",
       "      <td>2</td>\n",
       "      <td>1851</td>\n",
       "      <td>2055</td>\n",
       "      <td>2055</td>\n",
       "      <td>2055</td>\n",
       "      <td>2055</td>\n",
       "      <td>2055</td>\n",
       "      <td>2055</td>\n",
       "      <td>2055</td>\n",
       "      <td>2055</td>\n",
       "      <td>1851</td>\n",
       "      <td>2055</td>\n",
       "    </tr>\n",
       "    <tr>\n",
       "      <td>3</td>\n",
       "      <td>294</td>\n",
       "      <td>330</td>\n",
       "      <td>330</td>\n",
       "      <td>330</td>\n",
       "      <td>330</td>\n",
       "      <td>330</td>\n",
       "      <td>330</td>\n",
       "      <td>330</td>\n",
       "      <td>330</td>\n",
       "      <td>294</td>\n",
       "      <td>330</td>\n",
       "    </tr>\n",
       "    <tr>\n",
       "      <td>4</td>\n",
       "      <td>34</td>\n",
       "      <td>41</td>\n",
       "      <td>41</td>\n",
       "      <td>41</td>\n",
       "      <td>41</td>\n",
       "      <td>41</td>\n",
       "      <td>41</td>\n",
       "      <td>41</td>\n",
       "      <td>41</td>\n",
       "      <td>34</td>\n",
       "      <td>41</td>\n",
       "    </tr>\n",
       "    <tr>\n",
       "      <td>5</td>\n",
       "      <td>8</td>\n",
       "      <td>9</td>\n",
       "      <td>9</td>\n",
       "      <td>9</td>\n",
       "      <td>9</td>\n",
       "      <td>9</td>\n",
       "      <td>9</td>\n",
       "      <td>9</td>\n",
       "      <td>9</td>\n",
       "      <td>8</td>\n",
       "      <td>9</td>\n",
       "    </tr>\n",
       "    <tr>\n",
       "      <td>20</td>\n",
       "      <td>67</td>\n",
       "      <td>76</td>\n",
       "      <td>76</td>\n",
       "      <td>76</td>\n",
       "      <td>76</td>\n",
       "      <td>76</td>\n",
       "      <td>76</td>\n",
       "      <td>76</td>\n",
       "      <td>76</td>\n",
       "      <td>67</td>\n",
       "      <td>76</td>\n",
       "    </tr>\n",
       "  </tbody>\n",
       "</table>\n",
       "</div>"
      ],
      "text/plain": [
       "          days_employed  dob_years  education  education_id  family_status  \\\n",
       "children                                                                     \n",
       "-1                   44         47         47            47             47   \n",
       " 0                12710      14149      14149         14149          14149   \n",
       " 1                 4343       4818       4818          4818           4818   \n",
       " 2                 1851       2055       2055          2055           2055   \n",
       " 3                  294        330        330           330            330   \n",
       " 4                   34         41         41            41             41   \n",
       " 5                    8          9          9             9              9   \n",
       " 20                  67         76         76            76             76   \n",
       "\n",
       "          family_status_id  gender  income_type   debt  total_income  purpose  \n",
       "children                                                                       \n",
       "-1                      47      47           47     47            44       47  \n",
       " 0                   14149   14149        14149  14149         12710    14149  \n",
       " 1                    4818    4818         4818   4818          4343     4818  \n",
       " 2                    2055    2055         2055   2055          1851     2055  \n",
       " 3                     330     330          330    330           294      330  \n",
       " 4                      41      41           41     41            34       41  \n",
       " 5                       9       9            9      9             8        9  \n",
       " 20                     76      76           76     76            67       76  "
      ]
     },
     "execution_count": 6,
     "metadata": {},
     "output_type": "execute_result"
    }
   ],
   "source": [
    "# Группировка по количеству детей\n",
    "scoring_data.groupby('children').count()"
   ]
  },
  {
   "cell_type": "markdown",
   "metadata": {},
   "source": [
    "`Можно сделать вывод о том что значения -1 и 20 являются ошибкам при вводе данных пользователем`"
   ]
  },
  {
   "cell_type": "markdown",
   "metadata": {},
   "source": [
    "**Вывод**"
   ]
  },
  {
   "cell_type": "markdown",
   "metadata": {},
   "source": [
    "Столбцы ***days_employed*** и ***total_income*** имеют пустые значения.\n",
    "\n",
    "47 клиентов указали количество детей равной ***-1***, 76 клиентов указали ***20***\n",
    "\n",
    "В столбце ***days_employed*** отрицательные значения, и некоторые значения слишком большие\n",
    "\n",
    "В столбце ***education*** нет единого формата записи\n",
    "\n",
    "101 клиент указали возраст ***dob_years*** равным ***нулю***\n",
    "\n",
    "71 строк являются дубликатами"
   ]
  },
  {
   "cell_type": "markdown",
   "metadata": {},
   "source": [
    "## Шаг 2. Предобработка данных"
   ]
  },
  {
   "cell_type": "code",
   "execution_count": 7,
   "metadata": {},
   "outputs": [],
   "source": [
    "# Подведем к единому форматированию стобец образования\n",
    "scoring_data['education'] = scoring_data['education'].apply(str.lower)"
   ]
  },
  {
   "cell_type": "markdown",
   "metadata": {},
   "source": [
    "---"
   ]
  },
  {
   "cell_type": "code",
   "execution_count": 8,
   "metadata": {},
   "outputs": [],
   "source": [
    "# Исправим ошибки в столбце с количеством детей.\n",
    "# Вместо -1 поставим 1\n",
    "# Вместо 20 поставим 2\n",
    "scoring_data.loc[scoring_data.loc[:, 'children'] == -1, 'children'] = 1\n",
    "scoring_data.loc[scoring_data.loc[:, 'children'] == 20, 'children'] = 2"
   ]
  },
  {
   "cell_type": "markdown",
   "metadata": {},
   "source": [
    "### Обработка пропусков"
   ]
  },
  {
   "cell_type": "code",
   "execution_count": 9,
   "metadata": {},
   "outputs": [
    {
     "data": {
      "text/plain": [
       "children               0\n",
       "days_employed       2174\n",
       "dob_years              0\n",
       "education              0\n",
       "education_id           0\n",
       "family_status          0\n",
       "family_status_id       0\n",
       "gender                 0\n",
       "income_type            0\n",
       "debt                   0\n",
       "total_income        2174\n",
       "purpose                0\n",
       "dtype: int64"
      ]
     },
     "execution_count": 9,
     "metadata": {},
     "output_type": "execute_result"
    }
   ],
   "source": [
    "# Количество явных пропусков\n",
    "scoring_data.isna().sum()"
   ]
  },
  {
   "cell_type": "markdown",
   "metadata": {},
   "source": [
    "---"
   ]
  },
  {
   "cell_type": "code",
   "execution_count": 10,
   "metadata": {},
   "outputs": [
    {
     "name": "stdout",
     "output_type": "stream",
     "text": [
      "Клиенты с отрицательным стажем 15906\n",
      "Клиенты с положительным стажем 3445\n",
      "Клиенты с не заполненным стажем 2174\n"
     ]
    }
   ],
   "source": [
    "# Проверим столбец days_employed чтобы найти проблему с отрицательными значениями\n",
    "print(f'Клиенты с отрицательным стажем {(scoring_data[\"days_employed\"] < 0).sum()}')\n",
    "print(f'Клиенты с положительным стажем {(scoring_data[\"days_employed\"] > 0).sum()}')\n",
    "print(f'Клиенты с не заполненным стажем {scoring_data[\"days_employed\"].isna().sum()}')"
   ]
  },
  {
   "cell_type": "code",
   "execution_count": 11,
   "metadata": {},
   "outputs": [],
   "source": [
    "# Рассмотрим стаж в годах для каждой из групп\n",
    "abs((scoring_data[\"days_employed\"][scoring_data[\"days_employed\"] < 0]) / 365).sort_values()\n",
    "# Можно смело отрицательные значения переписать по модулю\n",
    "scoring_data[\"days_employed\"] = scoring_data[\"days_employed\"].abs()"
   ]
  },
  {
   "cell_type": "code",
   "execution_count": 12,
   "metadata": {},
   "outputs": [
    {
     "name": "stdout",
     "output_type": "stream",
     "text": [
      "Клиенты с отрицательным стажем 0\n",
      "Клиенты с положительным стажем 19351\n",
      "Клиенты с не заполненным стажем 2174\n"
     ]
    }
   ],
   "source": [
    "print(f'Клиенты с отрицательным стажем {(scoring_data[\"days_employed\"] < 0).sum()}')\n",
    "print(f'Клиенты с положительным стажем {(scoring_data[\"days_employed\"] > 0).sum()}')\n",
    "print(f'Клиенты с не заполненным стажем {scoring_data[\"days_employed\"].isna().sum()}')"
   ]
  },
  {
   "cell_type": "markdown",
   "metadata": {},
   "source": [
    "Можно предположить что проблема с данными по стажу связана с тем что при расчете стажа для пенсионеров и безработных в таблицу занесены не дни а часы."
   ]
  },
  {
   "cell_type": "markdown",
   "metadata": {},
   "source": [
    "---"
   ]
  },
  {
   "cell_type": "code",
   "execution_count": 13,
   "metadata": {},
   "outputs": [
    {
     "data": {
      "text/html": [
       "<div>\n",
       "<style scoped>\n",
       "    .dataframe tbody tr th:only-of-type {\n",
       "        vertical-align: middle;\n",
       "    }\n",
       "\n",
       "    .dataframe tbody tr th {\n",
       "        vertical-align: top;\n",
       "    }\n",
       "\n",
       "    .dataframe thead th {\n",
       "        text-align: right;\n",
       "    }\n",
       "</style>\n",
       "<table border=\"1\" class=\"dataframe\">\n",
       "  <thead>\n",
       "    <tr style=\"text-align: right;\">\n",
       "      <th></th>\n",
       "    </tr>\n",
       "    <tr>\n",
       "      <th>income_type</th>\n",
       "    </tr>\n",
       "  </thead>\n",
       "  <tbody>\n",
       "    <tr>\n",
       "      <td>госслужащий</td>\n",
       "    </tr>\n",
       "    <tr>\n",
       "      <td>компаньон</td>\n",
       "    </tr>\n",
       "    <tr>\n",
       "      <td>пенсионер</td>\n",
       "    </tr>\n",
       "    <tr>\n",
       "      <td>предприниматель</td>\n",
       "    </tr>\n",
       "    <tr>\n",
       "      <td>сотрудник</td>\n",
       "    </tr>\n",
       "  </tbody>\n",
       "</table>\n",
       "</div>"
      ],
      "text/plain": [
       "Empty DataFrame\n",
       "Columns: []\n",
       "Index: [госслужащий, компаньон, пенсионер, предприниматель, сотрудник]"
      ]
     },
     "execution_count": 13,
     "metadata": {},
     "output_type": "execute_result"
    }
   ],
   "source": [
    "# Категории клиентов по типу работы среди пропусков\n",
    "scoring_data.loc[scoring_data['days_employed'].isna() == True, ['income_type']].groupby('income_type').sum()"
   ]
  },
  {
   "cell_type": "code",
   "execution_count": 14,
   "metadata": {},
   "outputs": [],
   "source": [
    "# Заполним пропуски в столбце total_income средними по значениями по типу профессии\n",
    "scoring_data['total_income'] = scoring_data.groupby('income_type')['total_income'].transform(lambda x: x.fillna(x.median()))"
   ]
  },
  {
   "cell_type": "markdown",
   "metadata": {},
   "source": [
    "---"
   ]
  },
  {
   "cell_type": "code",
   "execution_count": 15,
   "metadata": {},
   "outputs": [],
   "source": [
    "# Заполним пропуски в столбце days_employed средним значением по возрасту клиента\n",
    "scoring_data['days_employed'] = scoring_data.groupby('income_type')['days_employed'].transform(lambda x: x.fillna(x.mean() * scoring_data['dob_years'] * 365))"
   ]
  },
  {
   "cell_type": "code",
   "execution_count": 16,
   "metadata": {},
   "outputs": [
    {
     "data": {
      "text/plain": [
       "children            0\n",
       "days_employed       0\n",
       "dob_years           0\n",
       "education           0\n",
       "education_id        0\n",
       "family_status       0\n",
       "family_status_id    0\n",
       "gender              0\n",
       "income_type         0\n",
       "debt                0\n",
       "total_income        0\n",
       "purpose             0\n",
       "dtype: int64"
      ]
     },
     "execution_count": 16,
     "metadata": {},
     "output_type": "execute_result"
    }
   ],
   "source": [
    "# Количество явных пропусков после обработки\n",
    "scoring_data.isna().sum()"
   ]
  },
  {
   "cell_type": "code",
   "execution_count": 17,
   "metadata": {},
   "outputs": [],
   "source": [
    "#Решим последную проблему связанную с возрастом клиентов, подставив среднее значение по типу работы\n",
    "scoring_data[\"dob_years\"] = scoring_data.groupby(\"income_type\")[\"dob_years\"].transform(lambda x: x.replace(0, x.mean()))"
   ]
  },
  {
   "cell_type": "code",
   "execution_count": 18,
   "metadata": {},
   "outputs": [
    {
     "data": {
      "text/html": [
       "<div>\n",
       "<style scoped>\n",
       "    .dataframe tbody tr th:only-of-type {\n",
       "        vertical-align: middle;\n",
       "    }\n",
       "\n",
       "    .dataframe tbody tr th {\n",
       "        vertical-align: top;\n",
       "    }\n",
       "\n",
       "    .dataframe thead th {\n",
       "        text-align: right;\n",
       "    }\n",
       "</style>\n",
       "<table border=\"1\" class=\"dataframe\">\n",
       "  <thead>\n",
       "    <tr style=\"text-align: right;\">\n",
       "      <th></th>\n",
       "      <th>children</th>\n",
       "      <th>days_employed</th>\n",
       "      <th>dob_years</th>\n",
       "      <th>education_id</th>\n",
       "      <th>family_status_id</th>\n",
       "      <th>debt</th>\n",
       "      <th>total_income</th>\n",
       "    </tr>\n",
       "  </thead>\n",
       "  <tbody>\n",
       "    <tr>\n",
       "      <td>count</td>\n",
       "      <td>21525.000000</td>\n",
       "      <td>2.152500e+04</td>\n",
       "      <td>21525.00000</td>\n",
       "      <td>21525.000000</td>\n",
       "      <td>21525.000000</td>\n",
       "      <td>21525.000000</td>\n",
       "      <td>2.152500e+04</td>\n",
       "    </tr>\n",
       "    <tr>\n",
       "      <td>mean</td>\n",
       "      <td>0.479721</td>\n",
       "      <td>1.522834e+08</td>\n",
       "      <td>43.49822</td>\n",
       "      <td>0.817236</td>\n",
       "      <td>0.972544</td>\n",
       "      <td>0.080883</td>\n",
       "      <td>1.652253e+05</td>\n",
       "    </tr>\n",
       "    <tr>\n",
       "      <td>std</td>\n",
       "      <td>0.755528</td>\n",
       "      <td>1.078074e+09</td>\n",
       "      <td>12.22943</td>\n",
       "      <td>0.548138</td>\n",
       "      <td>1.420324</td>\n",
       "      <td>0.272661</td>\n",
       "      <td>9.804367e+04</td>\n",
       "    </tr>\n",
       "    <tr>\n",
       "      <td>min</td>\n",
       "      <td>0.000000</td>\n",
       "      <td>0.000000e+00</td>\n",
       "      <td>19.00000</td>\n",
       "      <td>0.000000</td>\n",
       "      <td>0.000000</td>\n",
       "      <td>0.000000</td>\n",
       "      <td>2.066726e+04</td>\n",
       "    </tr>\n",
       "    <tr>\n",
       "      <td>25%</td>\n",
       "      <td>0.000000</td>\n",
       "      <td>1.024652e+03</td>\n",
       "      <td>34.00000</td>\n",
       "      <td>1.000000</td>\n",
       "      <td>0.000000</td>\n",
       "      <td>0.000000</td>\n",
       "      <td>1.077982e+05</td>\n",
       "    </tr>\n",
       "    <tr>\n",
       "      <td>50%</td>\n",
       "      <td>0.000000</td>\n",
       "      <td>2.605748e+03</td>\n",
       "      <td>43.00000</td>\n",
       "      <td>1.000000</td>\n",
       "      <td>0.000000</td>\n",
       "      <td>0.000000</td>\n",
       "      <td>1.425944e+05</td>\n",
       "    </tr>\n",
       "    <tr>\n",
       "      <td>75%</td>\n",
       "      <td>1.000000</td>\n",
       "      <td>3.336411e+05</td>\n",
       "      <td>53.00000</td>\n",
       "      <td>1.000000</td>\n",
       "      <td>1.000000</td>\n",
       "      <td>0.000000</td>\n",
       "      <td>1.955499e+05</td>\n",
       "    </tr>\n",
       "    <tr>\n",
       "      <td>max</td>\n",
       "      <td>5.000000</td>\n",
       "      <td>9.725518e+09</td>\n",
       "      <td>75.00000</td>\n",
       "      <td>4.000000</td>\n",
       "      <td>4.000000</td>\n",
       "      <td>1.000000</td>\n",
       "      <td>2.265604e+06</td>\n",
       "    </tr>\n",
       "  </tbody>\n",
       "</table>\n",
       "</div>"
      ],
      "text/plain": [
       "           children  days_employed    dob_years  education_id  \\\n",
       "count  21525.000000   2.152500e+04  21525.00000  21525.000000   \n",
       "mean       0.479721   1.522834e+08     43.49822      0.817236   \n",
       "std        0.755528   1.078074e+09     12.22943      0.548138   \n",
       "min        0.000000   0.000000e+00     19.00000      0.000000   \n",
       "25%        0.000000   1.024652e+03     34.00000      1.000000   \n",
       "50%        0.000000   2.605748e+03     43.00000      1.000000   \n",
       "75%        1.000000   3.336411e+05     53.00000      1.000000   \n",
       "max        5.000000   9.725518e+09     75.00000      4.000000   \n",
       "\n",
       "       family_status_id          debt  total_income  \n",
       "count      21525.000000  21525.000000  2.152500e+04  \n",
       "mean           0.972544      0.080883  1.652253e+05  \n",
       "std            1.420324      0.272661  9.804367e+04  \n",
       "min            0.000000      0.000000  2.066726e+04  \n",
       "25%            0.000000      0.000000  1.077982e+05  \n",
       "50%            0.000000      0.000000  1.425944e+05  \n",
       "75%            1.000000      0.000000  1.955499e+05  \n",
       "max            4.000000      1.000000  2.265604e+06  "
      ]
     },
     "execution_count": 18,
     "metadata": {},
     "output_type": "execute_result"
    }
   ],
   "source": [
    "scoring_data.describe()"
   ]
  },
  {
   "cell_type": "markdown",
   "metadata": {},
   "source": [
    "**Вывод**"
   ]
  },
  {
   "cell_type": "markdown",
   "metadata": {},
   "source": [
    "Все пропуски заполнены средними значениями по группам.\n",
    "\n",
    "Столбец образования подведен к единому формату.\n",
    "\n",
    "Обработаны ошибки с количеством детей.\n",
    "\n",
    "Обработан столбец с возрастом."
   ]
  },
  {
   "cell_type": "markdown",
   "metadata": {},
   "source": [
    "### Замена типа данных"
   ]
  },
  {
   "cell_type": "code",
   "execution_count": 19,
   "metadata": {},
   "outputs": [
    {
     "name": "stdout",
     "output_type": "stream",
     "text": [
      "<class 'pandas.core.frame.DataFrame'>\n",
      "RangeIndex: 21525 entries, 0 to 21524\n",
      "Data columns (total 12 columns):\n",
      "children            21525 non-null int64\n",
      "days_employed       21525 non-null float64\n",
      "dob_years           21525 non-null float64\n",
      "education           21525 non-null object\n",
      "education_id        21525 non-null int64\n",
      "family_status       21525 non-null object\n",
      "family_status_id    21525 non-null int64\n",
      "gender              21525 non-null object\n",
      "income_type         21525 non-null object\n",
      "debt                21525 non-null int64\n",
      "total_income        21525 non-null float64\n",
      "purpose             21525 non-null object\n",
      "dtypes: float64(3), int64(4), object(5)\n",
      "memory usage: 2.0+ MB\n"
     ]
    }
   ],
   "source": [
    "scoring_data.info()"
   ]
  },
  {
   "cell_type": "code",
   "execution_count": 20,
   "metadata": {},
   "outputs": [],
   "source": [
    "scoring_data[\"days_employed\"] = scoring_data[\"days_employed\"].astype('int')\n",
    "scoring_data[\"dob_years\"] = scoring_data[\"dob_years\"].astype('int')\n",
    "scoring_data[\"total_income\"] = scoring_data[\"total_income\"].astype('int')"
   ]
  },
  {
   "cell_type": "code",
   "execution_count": 21,
   "metadata": {},
   "outputs": [
    {
     "name": "stdout",
     "output_type": "stream",
     "text": [
      "<class 'pandas.core.frame.DataFrame'>\n",
      "RangeIndex: 21525 entries, 0 to 21524\n",
      "Data columns (total 12 columns):\n",
      "children            21525 non-null int64\n",
      "days_employed       21525 non-null int64\n",
      "dob_years           21525 non-null int64\n",
      "education           21525 non-null object\n",
      "education_id        21525 non-null int64\n",
      "family_status       21525 non-null object\n",
      "family_status_id    21525 non-null int64\n",
      "gender              21525 non-null object\n",
      "income_type         21525 non-null object\n",
      "debt                21525 non-null int64\n",
      "total_income        21525 non-null int64\n",
      "purpose             21525 non-null object\n",
      "dtypes: int64(7), object(5)\n",
      "memory usage: 2.0+ MB\n"
     ]
    }
   ],
   "source": [
    "scoring_data.info()"
   ]
  },
  {
   "cell_type": "markdown",
   "metadata": {},
   "source": [
    "**Вывод**"
   ]
  },
  {
   "cell_type": "markdown",
   "metadata": {},
   "source": [
    "Произвел замену вещественных чисел на целочисленный в столбцах ***days_employed, dob_years, total_income***\n",
    "\n",
    "astype использовался в силу того что после об"
   ]
  },
  {
   "cell_type": "markdown",
   "metadata": {},
   "source": [
    "### Обработка дубликатов"
   ]
  },
  {
   "cell_type": "code",
   "execution_count": 22,
   "metadata": {},
   "outputs": [
    {
     "data": {
      "text/plain": [
       "71"
      ]
     },
     "execution_count": 22,
     "metadata": {},
     "output_type": "execute_result"
    }
   ],
   "source": [
    "# Количество дубликатов\n",
    "scoring_data.duplicated().sum()"
   ]
  },
  {
   "cell_type": "code",
   "execution_count": 23,
   "metadata": {},
   "outputs": [],
   "source": [
    "# Удаляем дубликаты\n",
    "scoring_data = scoring_data.drop_duplicates().reset_index(drop=True)"
   ]
  },
  {
   "cell_type": "markdown",
   "metadata": {},
   "source": [
    "**Вывод**"
   ]
  },
  {
   "cell_type": "markdown",
   "metadata": {},
   "source": [
    "Очистил данные от дубликатов, причина скорее всего просто ошибка при записи данных"
   ]
  },
  {
   "cell_type": "markdown",
   "metadata": {},
   "source": [
    "### Лемматизация"
   ]
  },
  {
   "cell_type": "code",
   "execution_count": 24,
   "metadata": {},
   "outputs": [],
   "source": [
    "# Импорт библиотеки для лемматизации \n",
    "from pymystem3 import Mystem\n",
    "m = Mystem()"
   ]
  },
  {
   "cell_type": "code",
   "execution_count": 25,
   "metadata": {},
   "outputs": [],
   "source": [
    "# Создадим функцию для обработки списка леммы что бы избавится от про\n",
    "def treatment_lemo_list(arr):\n",
    "    result = list()\n",
    "    for value in arr:\n",
    "        if value == ' ' or value == '\\n' or len(value) < 5:\n",
    "            continue\n",
    "        result.append(value)\n",
    "    return result"
   ]
  },
  {
   "cell_type": "code",
   "execution_count": 26,
   "metadata": {},
   "outputs": [],
   "source": [
    "# Рассмотрим цели кредитования и проведемм леммитизацию\n",
    "lemo_list = []\n",
    "for goal in scoring_data['purpose']:\n",
    "    lemo_list.extend(treatment_lemo_list(m.lemmatize(goal)))"
   ]
  },
  {
   "cell_type": "code",
   "execution_count": 27,
   "metadata": {},
   "outputs": [
    {
     "name": "stdout",
     "output_type": "stream",
     "text": [
      "недвижимость - 6351\n",
      "покупка - 5897\n",
      "жилье - 4460\n",
      "автомобиль - 4306\n",
      "образование - 4013\n",
      "операция - 2604\n",
      "свадьба - 2324\n",
      "строительство - 1878\n",
      "высокий - 1374\n",
      "получение - 1314\n",
      "коммерческий - 1311\n",
      "жилой - 1230\n",
      "сделка - 941\n",
      "дополнительный - 906\n",
      "заниматься - 904\n",
      "проведение - 768\n",
      "сыграть - 765\n",
      "сдача - 651\n",
      "семья - 638\n",
      "собственный - 635\n",
      "ремонт - 607\n",
      "подержанный - 486\n",
      "подержать - 478\n",
      "приобретение - 461\n",
      "профильный - 436\n"
     ]
    }
   ],
   "source": [
    "from collections import Counter\n",
    "lemo_dict = Counter(lemo_list)\n",
    "\n",
    "for goal_lemo, count in sorted(lemo_dict.items(), key=lambda x: x[1], reverse=True):\n",
    "    print(f\"{goal_lemo} - {count}\")"
   ]
  },
  {
   "cell_type": "markdown",
   "metadata": {},
   "source": [
    "Теперь выберим топ - 10 слов, и создадим список для его дальнейшего редактирования для сздания категорий по целям."
   ]
  },
  {
   "cell_type": "code",
   "execution_count": 28,
   "metadata": {},
   "outputs": [
    {
     "data": {
      "text/plain": [
       "['недвижимость',\n",
       " 'покупка',\n",
       " 'жилье',\n",
       " 'автомобиль',\n",
       " 'образование',\n",
       " 'операция',\n",
       " 'свадьба',\n",
       " 'строительство',\n",
       " 'высокий',\n",
       " 'получение']"
      ]
     },
     "execution_count": 28,
     "metadata": {},
     "output_type": "execute_result"
    }
   ],
   "source": [
    "# Сделаем срез по отсортированому словарю.\n",
    "result_list = [value[0] for value in sorted(lemo_dict.items(), key=lambda x: x[1], reverse=True)[:10]]\n",
    "[value[0] for value in sorted(lemo_dict.items(), key=lambda x: x[1], reverse=True)[:10]]"
   ]
  },
  {
   "cell_type": "markdown",
   "metadata": {},
   "source": [
    "Теперь из полученного списка нужно убрать те слова которые являются общими.\n",
    "***покупка, операция, строительство, высокий, получение***"
   ]
  },
  {
   "cell_type": "code",
   "execution_count": 29,
   "metadata": {},
   "outputs": [],
   "source": [
    "erase = ['покупка', 'операция', 'строительство', 'высокий', 'получение']\n",
    "for value in erase:\n",
    "    result_list.remove(value)"
   ]
  },
  {
   "cell_type": "code",
   "execution_count": 30,
   "metadata": {},
   "outputs": [
    {
     "data": {
      "text/plain": [
       "['недвижимость', 'жилье', 'автомобиль', 'образование', 'свадьба']"
      ]
     },
     "execution_count": 30,
     "metadata": {},
     "output_type": "execute_result"
    }
   ],
   "source": [
    "# Теперь мы получили список из основных целей взятия кредита.\n",
    "result_list"
   ]
  },
  {
   "cell_type": "code",
   "execution_count": 31,
   "metadata": {},
   "outputs": [
    {
     "data": {
      "text/html": [
       "<div>\n",
       "<style scoped>\n",
       "    .dataframe tbody tr th:only-of-type {\n",
       "        vertical-align: middle;\n",
       "    }\n",
       "\n",
       "    .dataframe tbody tr th {\n",
       "        vertical-align: top;\n",
       "    }\n",
       "\n",
       "    .dataframe thead th {\n",
       "        text-align: right;\n",
       "    }\n",
       "</style>\n",
       "<table border=\"1\" class=\"dataframe\">\n",
       "  <thead>\n",
       "    <tr style=\"text-align: right;\">\n",
       "      <th></th>\n",
       "      <th>purpose_lem</th>\n",
       "      <th>purpose_id</th>\n",
       "    </tr>\n",
       "  </thead>\n",
       "  <tbody>\n",
       "    <tr>\n",
       "      <td>0</td>\n",
       "      <td>недвижимость</td>\n",
       "      <td>1</td>\n",
       "    </tr>\n",
       "    <tr>\n",
       "      <td>1</td>\n",
       "      <td>жилье</td>\n",
       "      <td>1</td>\n",
       "    </tr>\n",
       "    <tr>\n",
       "      <td>2</td>\n",
       "      <td>автомобиль</td>\n",
       "      <td>2</td>\n",
       "    </tr>\n",
       "    <tr>\n",
       "      <td>3</td>\n",
       "      <td>образование</td>\n",
       "      <td>3</td>\n",
       "    </tr>\n",
       "    <tr>\n",
       "      <td>4</td>\n",
       "      <td>свадьба</td>\n",
       "      <td>4</td>\n",
       "    </tr>\n",
       "  </tbody>\n",
       "</table>\n",
       "</div>"
      ],
      "text/plain": [
       "    purpose_lem  purpose_id\n",
       "0  недвижимость           1\n",
       "1         жилье           1\n",
       "2    автомобиль           2\n",
       "3   образование           3\n",
       "4       свадьба           4"
      ]
     },
     "execution_count": 31,
     "metadata": {},
     "output_type": "execute_result"
    }
   ],
   "source": [
    "purpose_tempory = pd.DataFrame(result_list, columns=['purpose_lem'])\n",
    "purpose_tempory['purpose_id'] = [1,1,2,3,4]\n",
    "purpose_tempory"
   ]
  },
  {
   "cell_type": "markdown",
   "metadata": {},
   "source": [
    "**Вывод**"
   ]
  },
  {
   "cell_type": "markdown",
   "metadata": {},
   "source": [
    "Вывел список с целями кредитования. Теперь необходимо создать столбец с категориями по целям покупки."
   ]
  },
  {
   "cell_type": "markdown",
   "metadata": {},
   "source": [
    "### Категоризация данных"
   ]
  },
  {
   "cell_type": "markdown",
   "metadata": {},
   "source": [
    "На основе результатов лемматизации создадим список содержащий цель и уникальный id для этой цели.\n",
    "\n",
    "Как видно по списку целей мы можем объединить недвижимость и жилье в одну категорию."
   ]
  },
  {
   "cell_type": "code",
   "execution_count": 32,
   "metadata": {},
   "outputs": [],
   "source": [
    "def purpose_categ(purpose):\n",
    "    buf = m.lemmatize(purpose)\n",
    "    for index in range(len(purpose_tempory)):\n",
    "        if purpose_tempory['purpose_lem'][index] in buf:\n",
    "            return purpose_tempory['purpose_id'][index]"
   ]
  },
  {
   "cell_type": "code",
   "execution_count": 33,
   "metadata": {},
   "outputs": [],
   "source": [
    "scoring_data['purpose_id'] = scoring_data['purpose'].apply(purpose_categ)"
   ]
  },
  {
   "cell_type": "code",
   "execution_count": 34,
   "metadata": {},
   "outputs": [
    {
     "data": {
      "text/html": [
       "<div>\n",
       "<style scoped>\n",
       "    .dataframe tbody tr th:only-of-type {\n",
       "        vertical-align: middle;\n",
       "    }\n",
       "\n",
       "    .dataframe tbody tr th {\n",
       "        vertical-align: top;\n",
       "    }\n",
       "\n",
       "    .dataframe thead th {\n",
       "        text-align: right;\n",
       "    }\n",
       "</style>\n",
       "<table border=\"1\" class=\"dataframe\">\n",
       "  <thead>\n",
       "    <tr style=\"text-align: right;\">\n",
       "      <th></th>\n",
       "      <th>children</th>\n",
       "      <th>days_employed</th>\n",
       "      <th>dob_years</th>\n",
       "      <th>education</th>\n",
       "      <th>education_id</th>\n",
       "      <th>family_status</th>\n",
       "      <th>family_status_id</th>\n",
       "      <th>gender</th>\n",
       "      <th>income_type</th>\n",
       "      <th>debt</th>\n",
       "      <th>total_income</th>\n",
       "      <th>purpose</th>\n",
       "      <th>purpose_id</th>\n",
       "    </tr>\n",
       "  </thead>\n",
       "  <tbody>\n",
       "    <tr>\n",
       "      <td>0</td>\n",
       "      <td>1</td>\n",
       "      <td>8437</td>\n",
       "      <td>42</td>\n",
       "      <td>высшее</td>\n",
       "      <td>0</td>\n",
       "      <td>женат / замужем</td>\n",
       "      <td>0</td>\n",
       "      <td>F</td>\n",
       "      <td>сотрудник</td>\n",
       "      <td>0</td>\n",
       "      <td>253875</td>\n",
       "      <td>покупка жилья</td>\n",
       "      <td>1</td>\n",
       "    </tr>\n",
       "    <tr>\n",
       "      <td>1</td>\n",
       "      <td>1</td>\n",
       "      <td>4024</td>\n",
       "      <td>36</td>\n",
       "      <td>среднее</td>\n",
       "      <td>1</td>\n",
       "      <td>женат / замужем</td>\n",
       "      <td>0</td>\n",
       "      <td>F</td>\n",
       "      <td>сотрудник</td>\n",
       "      <td>0</td>\n",
       "      <td>112080</td>\n",
       "      <td>приобретение автомобиля</td>\n",
       "      <td>2</td>\n",
       "    </tr>\n",
       "    <tr>\n",
       "      <td>2</td>\n",
       "      <td>0</td>\n",
       "      <td>5623</td>\n",
       "      <td>33</td>\n",
       "      <td>среднее</td>\n",
       "      <td>1</td>\n",
       "      <td>женат / замужем</td>\n",
       "      <td>0</td>\n",
       "      <td>M</td>\n",
       "      <td>сотрудник</td>\n",
       "      <td>0</td>\n",
       "      <td>145885</td>\n",
       "      <td>покупка жилья</td>\n",
       "      <td>1</td>\n",
       "    </tr>\n",
       "    <tr>\n",
       "      <td>3</td>\n",
       "      <td>3</td>\n",
       "      <td>4124</td>\n",
       "      <td>32</td>\n",
       "      <td>среднее</td>\n",
       "      <td>1</td>\n",
       "      <td>женат / замужем</td>\n",
       "      <td>0</td>\n",
       "      <td>M</td>\n",
       "      <td>сотрудник</td>\n",
       "      <td>0</td>\n",
       "      <td>267628</td>\n",
       "      <td>дополнительное образование</td>\n",
       "      <td>3</td>\n",
       "    </tr>\n",
       "    <tr>\n",
       "      <td>4</td>\n",
       "      <td>0</td>\n",
       "      <td>340266</td>\n",
       "      <td>53</td>\n",
       "      <td>среднее</td>\n",
       "      <td>1</td>\n",
       "      <td>гражданский брак</td>\n",
       "      <td>1</td>\n",
       "      <td>F</td>\n",
       "      <td>пенсионер</td>\n",
       "      <td>0</td>\n",
       "      <td>158616</td>\n",
       "      <td>сыграть свадьбу</td>\n",
       "      <td>4</td>\n",
       "    </tr>\n",
       "  </tbody>\n",
       "</table>\n",
       "</div>"
      ],
      "text/plain": [
       "   children  days_employed  dob_years education  education_id  \\\n",
       "0         1           8437         42    высшее             0   \n",
       "1         1           4024         36   среднее             1   \n",
       "2         0           5623         33   среднее             1   \n",
       "3         3           4124         32   среднее             1   \n",
       "4         0         340266         53   среднее             1   \n",
       "\n",
       "      family_status  family_status_id gender income_type  debt  total_income  \\\n",
       "0   женат / замужем                 0      F   сотрудник     0        253875   \n",
       "1   женат / замужем                 0      F   сотрудник     0        112080   \n",
       "2   женат / замужем                 0      M   сотрудник     0        145885   \n",
       "3   женат / замужем                 0      M   сотрудник     0        267628   \n",
       "4  гражданский брак                 1      F   пенсионер     0        158616   \n",
       "\n",
       "                      purpose  purpose_id  \n",
       "0               покупка жилья           1  \n",
       "1     приобретение автомобиля           2  \n",
       "2               покупка жилья           1  \n",
       "3  дополнительное образование           3  \n",
       "4             сыграть свадьбу           4  "
      ]
     },
     "execution_count": 34,
     "metadata": {},
     "output_type": "execute_result"
    }
   ],
   "source": [
    "scoring_data.head(5)"
   ]
  },
  {
   "cell_type": "markdown",
   "metadata": {},
   "source": [
    "---\n",
    "Создадим функцию для создания категории клиентов по заработку\n",
    "Разделим по следующим категориям\n",
    "- бедность         (income < 25k)\n",
    "- низкий средний   (25k < income < 50k)\n",
    "- средний класс    (50к < income < 140k)\n",
    "- высокий средний  (140k < income < 250k)\n",
    "- богатый          (250k < income < 500k)\n",
    "- Очень богатые    (500k < income)"
   ]
  },
  {
   "cell_type": "code",
   "execution_count": 35,
   "metadata": {},
   "outputs": [],
   "source": [
    "def income_categ(income):\n",
    "    if (income < 60000):\n",
    "        return 'бедность [_60k]'\n",
    "    elif (60000 < income < 120000):\n",
    "        return 'низкий средний [60k_120K]'\n",
    "    elif (120000 < income < 170000):\n",
    "        return 'средний класс [120k_170K]'\n",
    "    elif 170000 < income < 250000:\n",
    "        return 'высокий средний [170k_250K]'\n",
    "    elif (250000 < income < 500000):\n",
    "        return 'богатый [250k_500K]'\n",
    "    elif income > 500000:\n",
    "        return 'Очень богатый [500k]'"
   ]
  },
  {
   "cell_type": "markdown",
   "metadata": {},
   "source": [
    "---\n",
    "Создадим функцию для категоризации по количеству детей клиентов\n",
    "\n",
    "- Нет детей (children == 0)\n",
    "- Малодетная (children [1, 2])\n",
    "- Многодетная (Children >= 3)"
   ]
  },
  {
   "cell_type": "code",
   "execution_count": 36,
   "metadata": {},
   "outputs": [],
   "source": [
    "def children_categ(children):\n",
    "    if children == 0:\n",
    "        return 'Нет детей'\n",
    "    elif children >= 3:\n",
    "        return 'Многодетная'\n",
    "    else:\n",
    "        return 'Малодетная'"
   ]
  },
  {
   "cell_type": "markdown",
   "metadata": {},
   "source": [
    "---\n",
    "\n",
    "\n",
    "Создадим функцию для категоризации по Задержкам платежей\n",
    "\n",
    "- Нет проблем (normal)\n",
    "- Есть проблемы (debtor)"
   ]
  },
  {
   "cell_type": "code",
   "execution_count": 37,
   "metadata": {},
   "outputs": [],
   "source": [
    "def debt_categ(debt):\n",
    "    if debt:\n",
    "        return 'debtor'\n",
    "    return 'normal'"
   ]
  },
  {
   "cell_type": "markdown",
   "metadata": {},
   "source": [
    "---\n",
    "Функция для создания категорий по леммам"
   ]
  },
  {
   "cell_type": "code",
   "execution_count": 38,
   "metadata": {},
   "outputs": [],
   "source": [
    "def purpose_lemm_func(purp):\n",
    "    if purp == 1:\n",
    "        return 'недвижимость/жилье'\n",
    "    elif purp == 2:\n",
    "        return 'автомобиль'\n",
    "    elif purp == 3:\n",
    "        return 'образование'\n",
    "    elif purp == 4:\n",
    "        return 'свадьба'"
   ]
  },
  {
   "cell_type": "markdown",
   "metadata": {},
   "source": [
    "---\n",
    "Запустим функции для создания катеогорий "
   ]
  },
  {
   "cell_type": "code",
   "execution_count": 39,
   "metadata": {},
   "outputs": [],
   "source": [
    "scoring_data['purpose_lemm'] = scoring_data['purpose_id'].apply(purpose_lemm_func)"
   ]
  },
  {
   "cell_type": "code",
   "execution_count": 40,
   "metadata": {},
   "outputs": [],
   "source": [
    "scoring_data['income_categ'] = scoring_data['total_income'].apply(income_categ)"
   ]
  },
  {
   "cell_type": "code",
   "execution_count": 41,
   "metadata": {},
   "outputs": [],
   "source": [
    "scoring_data['children_categ'] = scoring_data['children'].apply(children_categ)"
   ]
  },
  {
   "cell_type": "code",
   "execution_count": 42,
   "metadata": {},
   "outputs": [],
   "source": [
    "scoring_data['debt_categ'] = scoring_data['debt'].apply(debt_categ)"
   ]
  },
  {
   "cell_type": "markdown",
   "metadata": {},
   "source": [
    "---"
   ]
  },
  {
   "cell_type": "markdown",
   "metadata": {},
   "source": [
    "**Вывод**"
   ]
  },
  {
   "cell_type": "markdown",
   "metadata": {},
   "source": [
    "Созданы категории по целям. Для дальнейшего использваония в анализе.\n",
    "\n",
    "Так же создал категории по количеству детей, и уровню заработной платы."
   ]
  },
  {
   "cell_type": "markdown",
   "metadata": {},
   "source": [
    "## Шаг 3. Ответьте на вопросы"
   ]
  },
  {
   "cell_type": "markdown",
   "metadata": {},
   "source": [
    "- Есть ли зависимость между наличием детей и возвратом кредита в срок?"
   ]
  },
  {
   "cell_type": "markdown",
   "metadata": {},
   "source": [
    "Для нахождения зависимости построим pivot таблицу взяв за основу данные по клиентам."
   ]
  },
  {
   "cell_type": "code",
   "execution_count": 43,
   "metadata": {},
   "outputs": [],
   "source": [
    "data_children = pd.pivot_table(scoring_data, \n",
    "               index='children_categ', \n",
    "               columns='debt_categ',\n",
    "               values='debt',\n",
    "               aggfunc=len)"
   ]
  },
  {
   "cell_type": "code",
   "execution_count": 44,
   "metadata": {},
   "outputs": [],
   "source": [
    "# Добавление столбца с значением в процентах клиентов задерживающих платеж по категориям.\n",
    "data_children['stat'] = data_children['debtor'] / (data_children['debtor'] + data_children['normal']) * 100"
   ]
  },
  {
   "cell_type": "code",
   "execution_count": 45,
   "metadata": {},
   "outputs": [
    {
     "data": {
      "text/html": [
       "<div>\n",
       "<style scoped>\n",
       "    .dataframe tbody tr th:only-of-type {\n",
       "        vertical-align: middle;\n",
       "    }\n",
       "\n",
       "    .dataframe tbody tr th {\n",
       "        vertical-align: top;\n",
       "    }\n",
       "\n",
       "    .dataframe thead th {\n",
       "        text-align: right;\n",
       "    }\n",
       "</style>\n",
       "<table border=\"1\" class=\"dataframe\">\n",
       "  <thead>\n",
       "    <tr style=\"text-align: right;\">\n",
       "      <th>debt_categ</th>\n",
       "      <th>debtor</th>\n",
       "      <th>normal</th>\n",
       "      <th>stat</th>\n",
       "    </tr>\n",
       "    <tr>\n",
       "      <th>children_categ</th>\n",
       "      <th></th>\n",
       "      <th></th>\n",
       "      <th></th>\n",
       "    </tr>\n",
       "  </thead>\n",
       "  <tbody>\n",
       "    <tr>\n",
       "      <td>Нет детей</td>\n",
       "      <td>1063</td>\n",
       "      <td>13028</td>\n",
       "      <td>7.543822</td>\n",
       "    </tr>\n",
       "    <tr>\n",
       "      <td>Многодетная</td>\n",
       "      <td>31</td>\n",
       "      <td>349</td>\n",
       "      <td>8.157895</td>\n",
       "    </tr>\n",
       "    <tr>\n",
       "      <td>Малодетная</td>\n",
       "      <td>647</td>\n",
       "      <td>6336</td>\n",
       "      <td>9.265359</td>\n",
       "    </tr>\n",
       "  </tbody>\n",
       "</table>\n",
       "</div>"
      ],
      "text/plain": [
       "debt_categ      debtor  normal      stat\n",
       "children_categ                          \n",
       "Нет детей         1063   13028  7.543822\n",
       "Многодетная         31     349  8.157895\n",
       "Малодетная         647    6336  9.265359"
      ]
     },
     "execution_count": 45,
     "metadata": {},
     "output_type": "execute_result"
    }
   ],
   "source": [
    "data_children.sort_values('stat')"
   ]
  },
  {
   "cell_type": "markdown",
   "metadata": {},
   "source": [
    "**Вывод**"
   ]
  },
  {
   "cell_type": "markdown",
   "metadata": {},
   "source": [
    "Как видно лучше всех платят клиенты без детей. Так что мы можем уверенно сказать о том что есть связь между наличием детей и возвратом кредита."
   ]
  },
  {
   "cell_type": "markdown",
   "metadata": {},
   "source": [
    "- Есть ли зависимость между семейным положением и возвратом кредита в срок?"
   ]
  },
  {
   "cell_type": "code",
   "execution_count": 46,
   "metadata": {},
   "outputs": [],
   "source": [
    "data_family = pd.pivot_table(scoring_data,\n",
    "                            index='family_status',\n",
    "                            columns='debt_categ',\n",
    "                            values='debt',\n",
    "                            aggfunc=len)"
   ]
  },
  {
   "cell_type": "code",
   "execution_count": 47,
   "metadata": {},
   "outputs": [],
   "source": [
    "# Добавление столбца с значением в процентах клиентов задерживающих платеж по категориям.\n",
    "data_family['stat'] = data_family['debtor'] / (data_family['debtor'] + data_family['normal']) * 100"
   ]
  },
  {
   "cell_type": "code",
   "execution_count": 48,
   "metadata": {},
   "outputs": [
    {
     "data": {
      "text/html": [
       "<div>\n",
       "<style scoped>\n",
       "    .dataframe tbody tr th:only-of-type {\n",
       "        vertical-align: middle;\n",
       "    }\n",
       "\n",
       "    .dataframe tbody tr th {\n",
       "        vertical-align: top;\n",
       "    }\n",
       "\n",
       "    .dataframe thead th {\n",
       "        text-align: right;\n",
       "    }\n",
       "</style>\n",
       "<table border=\"1\" class=\"dataframe\">\n",
       "  <thead>\n",
       "    <tr style=\"text-align: right;\">\n",
       "      <th>debt_categ</th>\n",
       "      <th>debtor</th>\n",
       "      <th>normal</th>\n",
       "      <th>stat</th>\n",
       "    </tr>\n",
       "    <tr>\n",
       "      <th>family_status</th>\n",
       "      <th></th>\n",
       "      <th></th>\n",
       "      <th></th>\n",
       "    </tr>\n",
       "  </thead>\n",
       "  <tbody>\n",
       "    <tr>\n",
       "      <td>вдовец / вдова</td>\n",
       "      <td>63</td>\n",
       "      <td>896</td>\n",
       "      <td>6.569343</td>\n",
       "    </tr>\n",
       "    <tr>\n",
       "      <td>в разводе</td>\n",
       "      <td>85</td>\n",
       "      <td>1110</td>\n",
       "      <td>7.112971</td>\n",
       "    </tr>\n",
       "    <tr>\n",
       "      <td>женат / замужем</td>\n",
       "      <td>931</td>\n",
       "      <td>11408</td>\n",
       "      <td>7.545182</td>\n",
       "    </tr>\n",
       "    <tr>\n",
       "      <td>гражданский брак</td>\n",
       "      <td>388</td>\n",
       "      <td>3763</td>\n",
       "      <td>9.347145</td>\n",
       "    </tr>\n",
       "    <tr>\n",
       "      <td>Не женат / не замужем</td>\n",
       "      <td>274</td>\n",
       "      <td>2536</td>\n",
       "      <td>9.750890</td>\n",
       "    </tr>\n",
       "  </tbody>\n",
       "</table>\n",
       "</div>"
      ],
      "text/plain": [
       "debt_categ             debtor  normal      stat\n",
       "family_status                                  \n",
       "вдовец / вдова             63     896  6.569343\n",
       "в разводе                  85    1110  7.112971\n",
       "женат / замужем           931   11408  7.545182\n",
       "гражданский брак          388    3763  9.347145\n",
       "Не женат / не замужем     274    2536  9.750890"
      ]
     },
     "execution_count": 48,
     "metadata": {},
     "output_type": "execute_result"
    }
   ],
   "source": [
    "data_family.sort_values('stat')"
   ]
  },
  {
   "cell_type": "markdown",
   "metadata": {},
   "source": [
    "**Вывод**"
   ]
  },
  {
   "cell_type": "markdown",
   "metadata": {},
   "source": [
    "Клиенты которые не узаконили свои отношения более склонны к задержкам платежей"
   ]
  },
  {
   "cell_type": "markdown",
   "metadata": {},
   "source": [
    "- Есть ли зависимость между уровнем дохода и возвратом кредита в срок?"
   ]
  },
  {
   "cell_type": "code",
   "execution_count": 49,
   "metadata": {},
   "outputs": [],
   "source": [
    "data_income = pd.pivot_table(scoring_data,\n",
    "                            index='income_categ',\n",
    "                            columns='debt_categ',\n",
    "                            values='debt',\n",
    "                            aggfunc=len)"
   ]
  },
  {
   "cell_type": "code",
   "execution_count": 50,
   "metadata": {},
   "outputs": [],
   "source": [
    "data_income['stat'] = data_income['debtor'] / (data_income['debtor'] + data_income['normal']) * 100"
   ]
  },
  {
   "cell_type": "code",
   "execution_count": 51,
   "metadata": {},
   "outputs": [
    {
     "data": {
      "text/html": [
       "<div>\n",
       "<style scoped>\n",
       "    .dataframe tbody tr th:only-of-type {\n",
       "        vertical-align: middle;\n",
       "    }\n",
       "\n",
       "    .dataframe tbody tr th {\n",
       "        vertical-align: top;\n",
       "    }\n",
       "\n",
       "    .dataframe thead th {\n",
       "        text-align: right;\n",
       "    }\n",
       "</style>\n",
       "<table border=\"1\" class=\"dataframe\">\n",
       "  <thead>\n",
       "    <tr style=\"text-align: right;\">\n",
       "      <th>debt_categ</th>\n",
       "      <th>debtor</th>\n",
       "      <th>normal</th>\n",
       "      <th>stat</th>\n",
       "    </tr>\n",
       "    <tr>\n",
       "      <th>income_categ</th>\n",
       "      <th></th>\n",
       "      <th></th>\n",
       "      <th></th>\n",
       "    </tr>\n",
       "  </thead>\n",
       "  <tbody>\n",
       "    <tr>\n",
       "      <td>бедность [_60k]</td>\n",
       "      <td>49</td>\n",
       "      <td>757</td>\n",
       "      <td>6.079404</td>\n",
       "    </tr>\n",
       "    <tr>\n",
       "      <td>Очень богатый [500k]</td>\n",
       "      <td>14</td>\n",
       "      <td>208</td>\n",
       "      <td>6.306306</td>\n",
       "    </tr>\n",
       "    <tr>\n",
       "      <td>богатый [250k_500K]</td>\n",
       "      <td>180</td>\n",
       "      <td>2411</td>\n",
       "      <td>6.947125</td>\n",
       "    </tr>\n",
       "    <tr>\n",
       "      <td>высокий средний [170k_250K]</td>\n",
       "      <td>383</td>\n",
       "      <td>4522</td>\n",
       "      <td>7.808359</td>\n",
       "    </tr>\n",
       "    <tr>\n",
       "      <td>низкий средний [60k_120K]</td>\n",
       "      <td>537</td>\n",
       "      <td>5888</td>\n",
       "      <td>8.357977</td>\n",
       "    </tr>\n",
       "    <tr>\n",
       "      <td>средний класс [120k_170K]</td>\n",
       "      <td>578</td>\n",
       "      <td>5927</td>\n",
       "      <td>8.885473</td>\n",
       "    </tr>\n",
       "  </tbody>\n",
       "</table>\n",
       "</div>"
      ],
      "text/plain": [
       "debt_categ                   debtor  normal      stat\n",
       "income_categ                                         \n",
       "бедность [_60k]                  49     757  6.079404\n",
       "Очень богатый [500k]             14     208  6.306306\n",
       "богатый [250k_500K]             180    2411  6.947125\n",
       "высокий средний [170k_250K]     383    4522  7.808359\n",
       "низкий средний [60k_120K]       537    5888  8.357977\n",
       "средний класс [120k_170K]       578    5927  8.885473"
      ]
     },
     "execution_count": 51,
     "metadata": {},
     "output_type": "execute_result"
    }
   ],
   "source": [
    "data_income.sort_values('stat')"
   ]
  },
  {
   "cell_type": "markdown",
   "metadata": {},
   "source": [
    "**Вывод**"
   ]
  },
  {
   "cell_type": "markdown",
   "metadata": {},
   "source": [
    "Интересный результат в том что люди зарабатывающие до 50к задерживают платежи реже чем люди зарабатывающий до 500."
   ]
  },
  {
   "cell_type": "markdown",
   "metadata": {},
   "source": [
    "- Как разные цели кредита влияют на его возврат в срок?"
   ]
  },
  {
   "cell_type": "code",
   "execution_count": 52,
   "metadata": {},
   "outputs": [],
   "source": [
    "data_purpose = pd.pivot_table(scoring_data,\n",
    "                            index=['purpose_lemm'],\n",
    "                            columns='debt_categ',\n",
    "                            values='debt',\n",
    "                            aggfunc=len)"
   ]
  },
  {
   "cell_type": "code",
   "execution_count": 53,
   "metadata": {},
   "outputs": [],
   "source": [
    "data_purpose['stat'] = data_purpose['debtor'] / (data_purpose['debtor'] + data_purpose['normal']) * 100"
   ]
  },
  {
   "cell_type": "code",
   "execution_count": 54,
   "metadata": {},
   "outputs": [
    {
     "data": {
      "text/html": [
       "<div>\n",
       "<style scoped>\n",
       "    .dataframe tbody tr th:only-of-type {\n",
       "        vertical-align: middle;\n",
       "    }\n",
       "\n",
       "    .dataframe tbody tr th {\n",
       "        vertical-align: top;\n",
       "    }\n",
       "\n",
       "    .dataframe thead th {\n",
       "        text-align: right;\n",
       "    }\n",
       "</style>\n",
       "<table border=\"1\" class=\"dataframe\">\n",
       "  <thead>\n",
       "    <tr style=\"text-align: right;\">\n",
       "      <th>debt_categ</th>\n",
       "      <th>debtor</th>\n",
       "      <th>normal</th>\n",
       "      <th>stat</th>\n",
       "    </tr>\n",
       "    <tr>\n",
       "      <th>purpose_lemm</th>\n",
       "      <th></th>\n",
       "      <th></th>\n",
       "      <th></th>\n",
       "    </tr>\n",
       "  </thead>\n",
       "  <tbody>\n",
       "    <tr>\n",
       "      <td>недвижимость/жилье</td>\n",
       "      <td>782</td>\n",
       "      <td>10029</td>\n",
       "      <td>7.233373</td>\n",
       "    </tr>\n",
       "    <tr>\n",
       "      <td>свадьба</td>\n",
       "      <td>186</td>\n",
       "      <td>2138</td>\n",
       "      <td>8.003442</td>\n",
       "    </tr>\n",
       "    <tr>\n",
       "      <td>образование</td>\n",
       "      <td>370</td>\n",
       "      <td>3643</td>\n",
       "      <td>9.220035</td>\n",
       "    </tr>\n",
       "    <tr>\n",
       "      <td>автомобиль</td>\n",
       "      <td>403</td>\n",
       "      <td>3903</td>\n",
       "      <td>9.359034</td>\n",
       "    </tr>\n",
       "  </tbody>\n",
       "</table>\n",
       "</div>"
      ],
      "text/plain": [
       "debt_categ          debtor  normal      stat\n",
       "purpose_lemm                                \n",
       "недвижимость/жилье     782   10029  7.233373\n",
       "свадьба                186    2138  8.003442\n",
       "образование            370    3643  9.220035\n",
       "автомобиль             403    3903  9.359034"
      ]
     },
     "execution_count": 54,
     "metadata": {},
     "output_type": "execute_result"
    }
   ],
   "source": [
    "data_purpose.sort_values('stat')"
   ]
  },
  {
   "cell_type": "markdown",
   "metadata": {},
   "source": [
    "**Вывод**"
   ]
  },
  {
   "cell_type": "markdown",
   "metadata": {},
   "source": [
    "Клиенты берущие кредит для приобретения/проведение операций с жильем, наиболее ответственны и менее склонны нарушать обязательства по выплатам кредита в срок."
   ]
  },
  {
   "cell_type": "markdown",
   "metadata": {},
   "source": [
    "## Шаг 4. Общий вывод"
   ]
  },
  {
   "cell_type": "code",
   "execution_count": 55,
   "metadata": {},
   "outputs": [],
   "source": [
    "data_ender = pd.pivot_table(scoring_data,\n",
    "                            index=['family_status', 'children_categ'],\n",
    "                            columns='debt_categ',\n",
    "                            values='debt',\n",
    "                            aggfunc=len)"
   ]
  },
  {
   "cell_type": "code",
   "execution_count": 56,
   "metadata": {},
   "outputs": [
    {
     "data": {
      "text/html": [
       "<div>\n",
       "<style scoped>\n",
       "    .dataframe tbody tr th:only-of-type {\n",
       "        vertical-align: middle;\n",
       "    }\n",
       "\n",
       "    .dataframe tbody tr th {\n",
       "        vertical-align: top;\n",
       "    }\n",
       "\n",
       "    .dataframe thead th {\n",
       "        text-align: right;\n",
       "    }\n",
       "</style>\n",
       "<table border=\"1\" class=\"dataframe\">\n",
       "  <thead>\n",
       "    <tr style=\"text-align: right;\">\n",
       "      <th></th>\n",
       "      <th>debt_categ</th>\n",
       "      <th>debtor</th>\n",
       "      <th>normal</th>\n",
       "      <th>stat</th>\n",
       "    </tr>\n",
       "    <tr>\n",
       "      <th>family_status</th>\n",
       "      <th>children_categ</th>\n",
       "      <th></th>\n",
       "      <th></th>\n",
       "      <th></th>\n",
       "    </tr>\n",
       "  </thead>\n",
       "  <tbody>\n",
       "    <tr>\n",
       "      <td>вдовец / вдова</td>\n",
       "      <td>Нет детей</td>\n",
       "      <td>53.0</td>\n",
       "      <td>794.0</td>\n",
       "      <td>6.257379</td>\n",
       "    </tr>\n",
       "    <tr>\n",
       "      <td>женат / замужем</td>\n",
       "      <td>Нет детей</td>\n",
       "      <td>516.0</td>\n",
       "      <td>6952.0</td>\n",
       "      <td>6.909480</td>\n",
       "    </tr>\n",
       "    <tr>\n",
       "      <td>в разводе</td>\n",
       "      <td>Нет детей</td>\n",
       "      <td>55.0</td>\n",
       "      <td>729.0</td>\n",
       "      <td>7.015306</td>\n",
       "    </tr>\n",
       "    <tr>\n",
       "      <td>женат / замужем</td>\n",
       "      <td>Многодетная</td>\n",
       "      <td>20.0</td>\n",
       "      <td>265.0</td>\n",
       "      <td>7.017544</td>\n",
       "    </tr>\n",
       "    <tr>\n",
       "      <td rowspan=\"2\" valign=\"top\">в разводе</td>\n",
       "      <td>Малодетная</td>\n",
       "      <td>29.0</td>\n",
       "      <td>370.0</td>\n",
       "      <td>7.268170</td>\n",
       "    </tr>\n",
       "    <tr>\n",
       "      <td>Многодетная</td>\n",
       "      <td>1.0</td>\n",
       "      <td>11.0</td>\n",
       "      <td>8.333333</td>\n",
       "    </tr>\n",
       "    <tr>\n",
       "      <td>гражданский брак</td>\n",
       "      <td>Нет детей</td>\n",
       "      <td>229.0</td>\n",
       "      <td>2501.0</td>\n",
       "      <td>8.388278</td>\n",
       "    </tr>\n",
       "    <tr>\n",
       "      <td>женат / замужем</td>\n",
       "      <td>Малодетная</td>\n",
       "      <td>395.0</td>\n",
       "      <td>4191.0</td>\n",
       "      <td>8.613171</td>\n",
       "    </tr>\n",
       "    <tr>\n",
       "      <td>Не женат / не замужем</td>\n",
       "      <td>Нет детей</td>\n",
       "      <td>210.0</td>\n",
       "      <td>2052.0</td>\n",
       "      <td>9.283820</td>\n",
       "    </tr>\n",
       "    <tr>\n",
       "      <td>вдовец / вдова</td>\n",
       "      <td>Малодетная</td>\n",
       "      <td>10.0</td>\n",
       "      <td>95.0</td>\n",
       "      <td>9.523810</td>\n",
       "    </tr>\n",
       "    <tr>\n",
       "      <td>гражданский брак</td>\n",
       "      <td>Малодетная</td>\n",
       "      <td>151.0</td>\n",
       "      <td>1204.0</td>\n",
       "      <td>11.143911</td>\n",
       "    </tr>\n",
       "    <tr>\n",
       "      <td>Не женат / не замужем</td>\n",
       "      <td>Малодетная</td>\n",
       "      <td>62.0</td>\n",
       "      <td>476.0</td>\n",
       "      <td>11.524164</td>\n",
       "    </tr>\n",
       "    <tr>\n",
       "      <td>гражданский брак</td>\n",
       "      <td>Многодетная</td>\n",
       "      <td>8.0</td>\n",
       "      <td>58.0</td>\n",
       "      <td>12.121212</td>\n",
       "    </tr>\n",
       "    <tr>\n",
       "      <td>Не женат / не замужем</td>\n",
       "      <td>Многодетная</td>\n",
       "      <td>2.0</td>\n",
       "      <td>8.0</td>\n",
       "      <td>20.000000</td>\n",
       "    </tr>\n",
       "    <tr>\n",
       "      <td>вдовец / вдова</td>\n",
       "      <td>Многодетная</td>\n",
       "      <td>NaN</td>\n",
       "      <td>7.0</td>\n",
       "      <td>NaN</td>\n",
       "    </tr>\n",
       "  </tbody>\n",
       "</table>\n",
       "</div>"
      ],
      "text/plain": [
       "debt_categ                            debtor  normal       stat\n",
       "family_status         children_categ                           \n",
       "вдовец / вдова        Нет детей         53.0   794.0   6.257379\n",
       "женат / замужем       Нет детей        516.0  6952.0   6.909480\n",
       "в разводе             Нет детей         55.0   729.0   7.015306\n",
       "женат / замужем       Многодетная       20.0   265.0   7.017544\n",
       "в разводе             Малодетная        29.0   370.0   7.268170\n",
       "                      Многодетная        1.0    11.0   8.333333\n",
       "гражданский брак      Нет детей        229.0  2501.0   8.388278\n",
       "женат / замужем       Малодетная       395.0  4191.0   8.613171\n",
       "Не женат / не замужем Нет детей        210.0  2052.0   9.283820\n",
       "вдовец / вдова        Малодетная        10.0    95.0   9.523810\n",
       "гражданский брак      Малодетная       151.0  1204.0  11.143911\n",
       "Не женат / не замужем Малодетная        62.0   476.0  11.524164\n",
       "гражданский брак      Многодетная        8.0    58.0  12.121212\n",
       "Не женат / не замужем Многодетная        2.0     8.0  20.000000\n",
       "вдовец / вдова        Многодетная        NaN     7.0        NaN"
      ]
     },
     "execution_count": 56,
     "metadata": {},
     "output_type": "execute_result"
    }
   ],
   "source": [
    "data_ender['stat'] = data_ender['debtor'] / (data_ender['debtor'] + data_ender['normal']) * 100\n",
    "data_ender.sort_values('stat')"
   ]
  },
  {
   "cell_type": "markdown",
   "metadata": {},
   "source": [
    "Можно смело сказать о том что есть связь между семейным положением, количеством детей и фактом погащения кредита во время.\n",
    "- Клиента с официально оформленными отношениями (или которые в прошлом были в официальном в браке) и не имеющие детей - самые ответственные\n",
    "- Клиенты состоящие в неофициальном браке или находящиеся без отношений, при этом имеющие 1 или 2 детей - самые ***не*** ответственные.\n",
    "\n"
   ]
  },
  {
   "cell_type": "markdown",
   "metadata": {},
   "source": [
    "\n",
    "## Чек-лист готовности проекта\n",
    "\n",
    "Поставьте 'x' в выполненных пунктах. Далее нажмите Shift+Enter."
   ]
  },
  {
   "cell_type": "markdown",
   "metadata": {},
   "source": [
    "- [x]  открыт файл;\n",
    "- [x]  файл изучен;\n",
    "- [x]  определены пропущенные значения;\n",
    "- [x]  заполнены пропущенные значения;\n",
    "- [x]  есть пояснение, какие пропущенные значения обнаружены;\n",
    "- [x]  описаны возможные причины появления пропусков в данных;\n",
    "- [x]  объяснено, по какому принципу заполнены пропуски;\n",
    "- [x]  заменен вещественный тип данных на целочисленный;\n",
    "- [x]  есть пояснение, какой метод используется для изменения типа данных и почему;\n",
    "- [x]  удалены дубликаты;\n",
    "- [x]  есть пояснение, какой метод используется для поиска и удаления дубликатов;\n",
    "- [x]  описаны возможные причины появления дубликатов в данных;\n",
    "- [x]  выделены леммы в значениях столбца с целями получения кредита;\n",
    "- [x]  описан процесс лемматизации;\n",
    "- [x]  данные категоризированы;\n",
    "- [x]  есть объяснение принципа категоризации данных;\n",
    "- [x]  есть ответ на вопрос: \"Есть ли зависимость между наличием детей и возвратом кредита в срок?\";\n",
    "- [x]  есть ответ на вопрос: \"Есть ли зависимость между семейным положением и возвратом кредита в срок?\";\n",
    "- [x]  есть ответ на вопрос: \"Есть ли зависимость между уровнем дохода и возвратом кредита в срок?\";\n",
    "- [x]  есть ответ на вопрос: \"Как разные цели кредита влияют на его возврат в срок?\";\n",
    "- [x]  в каждом этапе есть выводы;\n",
    "- [x]  есть общий вывод."
   ]
  }
 ],
 "metadata": {
  "ExecuteTimeLog": [
   {
    "duration": 787,
    "start_time": "2021-12-21T18:15:44.096Z"
   },
   {
    "duration": 67,
    "start_time": "2021-12-21T18:16:23.152Z"
   },
   {
    "duration": 75,
    "start_time": "2021-12-21T18:16:34.673Z"
   },
   {
    "duration": 46,
    "start_time": "2021-12-21T18:17:33.241Z"
   },
   {
    "duration": 44,
    "start_time": "2021-12-21T18:19:58.452Z"
   },
   {
    "duration": 32,
    "start_time": "2021-12-21T18:21:45.472Z"
   },
   {
    "duration": 15,
    "start_time": "2021-12-21T18:21:51.250Z"
   },
   {
    "duration": 34,
    "start_time": "2021-12-21T18:22:05.382Z"
   },
   {
    "duration": 21,
    "start_time": "2021-12-21T18:40:16.952Z"
   },
   {
    "duration": 21,
    "start_time": "2021-12-21T18:41:12.926Z"
   },
   {
    "duration": 18,
    "start_time": "2021-12-21T18:41:39.351Z"
   },
   {
    "duration": 17,
    "start_time": "2021-12-21T18:42:06.650Z"
   },
   {
    "duration": 22,
    "start_time": "2021-12-21T18:43:41.213Z"
   },
   {
    "duration": 6,
    "start_time": "2021-12-21T18:46:29.679Z"
   },
   {
    "duration": 491,
    "start_time": "2021-12-21T18:46:39.557Z"
   },
   {
    "duration": 278,
    "start_time": "2021-12-21T18:46:42.637Z"
   },
   {
    "duration": 305,
    "start_time": "2021-12-21T18:46:48.173Z"
   },
   {
    "duration": 1379,
    "start_time": "2021-12-21T18:47:03.517Z"
   },
   {
    "duration": 300,
    "start_time": "2021-12-21T18:47:15.258Z"
   },
   {
    "duration": 37,
    "start_time": "2021-12-21T18:47:29.620Z"
   },
   {
    "duration": 19,
    "start_time": "2021-12-21T18:48:22.580Z"
   },
   {
    "duration": 38,
    "start_time": "2021-12-21T18:48:32.289Z"
   },
   {
    "duration": 7583,
    "start_time": "2021-12-21T18:49:21.950Z"
   },
   {
    "duration": 18,
    "start_time": "2021-12-21T18:49:37.353Z"
   },
   {
    "duration": 55,
    "start_time": "2021-12-21T18:49:45.952Z"
   },
   {
    "duration": 32,
    "start_time": "2021-12-21T18:49:53.064Z"
   },
   {
    "duration": 38,
    "start_time": "2021-12-21T18:50:38.637Z"
   },
   {
    "duration": 18,
    "start_time": "2021-12-21T18:50:46.540Z"
   },
   {
    "duration": 24,
    "start_time": "2021-12-21T19:03:43.087Z"
   },
   {
    "duration": 28,
    "start_time": "2021-12-21T19:03:51.199Z"
   },
   {
    "duration": 7,
    "start_time": "2021-12-21T19:05:11.194Z"
   },
   {
    "duration": 871,
    "start_time": "2021-12-21T19:06:51.111Z"
   },
   {
    "duration": 94,
    "start_time": "2021-12-21T19:06:51.990Z"
   },
   {
    "duration": 30,
    "start_time": "2021-12-21T19:06:52.087Z"
   },
   {
    "duration": 43,
    "start_time": "2021-12-21T19:06:52.120Z"
   },
   {
    "duration": 13,
    "start_time": "2021-12-21T19:07:07.512Z"
   },
   {
    "duration": 9,
    "start_time": "2021-12-21T19:07:29.206Z"
   },
   {
    "duration": 19,
    "start_time": "2021-12-21T19:08:48.282Z"
   },
   {
    "duration": 38,
    "start_time": "2021-12-21T19:10:29.291Z"
   },
   {
    "duration": 448,
    "start_time": "2021-12-21T19:10:44.997Z"
   },
   {
    "duration": 26,
    "start_time": "2021-12-21T19:11:07.195Z"
   },
   {
    "duration": 24,
    "start_time": "2021-12-21T19:12:04.034Z"
   },
   {
    "duration": 314,
    "start_time": "2021-12-21T19:12:28.820Z"
   },
   {
    "duration": 289,
    "start_time": "2021-12-21T19:12:34.208Z"
   },
   {
    "duration": 285,
    "start_time": "2021-12-21T19:12:40.317Z"
   },
   {
    "duration": 290,
    "start_time": "2021-12-21T19:18:22.542Z"
   },
   {
    "duration": 27,
    "start_time": "2021-12-21T19:18:44.700Z"
   },
   {
    "duration": 10,
    "start_time": "2021-12-21T19:19:36.219Z"
   },
   {
    "duration": 821,
    "start_time": "2021-12-21T19:19:44.642Z"
   },
   {
    "duration": 296,
    "start_time": "2021-12-21T19:19:59.732Z"
   },
   {
    "duration": 715,
    "start_time": "2021-12-21T19:20:05.272Z"
   },
   {
    "duration": 389,
    "start_time": "2021-12-21T19:20:20.007Z"
   },
   {
    "duration": 281,
    "start_time": "2021-12-21T19:20:29.817Z"
   },
   {
    "duration": 306,
    "start_time": "2021-12-21T19:21:16.179Z"
   },
   {
    "duration": 31,
    "start_time": "2021-12-21T19:21:22.149Z"
   },
   {
    "duration": 7,
    "start_time": "2021-12-21T19:22:42.144Z"
   },
   {
    "duration": 22,
    "start_time": "2021-12-21T19:26:31.254Z"
   },
   {
    "duration": 10,
    "start_time": "2021-12-21T19:27:13.884Z"
   },
   {
    "duration": 9,
    "start_time": "2021-12-21T19:27:23.650Z"
   },
   {
    "duration": 11,
    "start_time": "2021-12-21T19:28:12.881Z"
   },
   {
    "duration": 11,
    "start_time": "2021-12-21T19:28:20.120Z"
   },
   {
    "duration": 10,
    "start_time": "2021-12-21T19:36:53.512Z"
   },
   {
    "duration": 10,
    "start_time": "2021-12-21T19:37:03.635Z"
   },
   {
    "duration": 11,
    "start_time": "2021-12-21T19:37:09.982Z"
   },
   {
    "duration": 9,
    "start_time": "2021-12-21T19:37:19.874Z"
   },
   {
    "duration": 5041,
    "start_time": "2021-12-21T19:39:28.095Z"
   },
   {
    "duration": 14,
    "start_time": "2021-12-21T19:39:52.619Z"
   },
   {
    "duration": 40,
    "start_time": "2021-12-21T19:39:59.078Z"
   },
   {
    "duration": 21,
    "start_time": "2021-12-21T19:40:06.004Z"
   },
   {
    "duration": 55,
    "start_time": "2021-12-21T19:41:25.194Z"
   },
   {
    "duration": 16,
    "start_time": "2021-12-21T19:41:31.719Z"
   },
   {
    "duration": 38,
    "start_time": "2021-12-21T19:41:44.032Z"
   },
   {
    "duration": 14,
    "start_time": "2021-12-21T19:41:54.262Z"
   },
   {
    "duration": 686,
    "start_time": "2021-12-22T10:33:07.162Z"
   },
   {
    "duration": 63,
    "start_time": "2021-12-22T10:33:08.676Z"
   },
   {
    "duration": 19,
    "start_time": "2021-12-22T10:33:09.794Z"
   },
   {
    "duration": 92,
    "start_time": "2021-12-22T10:33:12.117Z"
   },
   {
    "duration": 12,
    "start_time": "2021-12-22T10:33:19.408Z"
   },
   {
    "duration": 3,
    "start_time": "2021-12-22T10:33:22.933Z"
   },
   {
    "duration": 1765,
    "start_time": "2021-12-22T10:35:52.402Z"
   },
   {
    "duration": 1586,
    "start_time": "2021-12-22T10:36:06.712Z"
   },
   {
    "duration": 275,
    "start_time": "2021-12-22T10:37:11.550Z"
   },
   {
    "duration": 5,
    "start_time": "2021-12-22T10:37:17.044Z"
   },
   {
    "duration": 4136,
    "start_time": "2021-12-22T10:37:46.081Z"
   },
   {
    "duration": 238,
    "start_time": "2021-12-22T10:38:07.962Z"
   },
   {
    "duration": 509,
    "start_time": "2021-12-22T10:38:36.988Z"
   },
   {
    "duration": 579,
    "start_time": "2021-12-22T10:38:44.681Z"
   },
   {
    "duration": 4076,
    "start_time": "2021-12-22T10:38:58.220Z"
   },
   {
    "duration": 88,
    "start_time": "2021-12-22T10:39:08.822Z"
   },
   {
    "duration": 9,
    "start_time": "2021-12-22T10:39:17.549Z"
   },
   {
    "duration": 3857,
    "start_time": "2021-12-22T10:39:45.901Z"
   },
   {
    "duration": 231,
    "start_time": "2021-12-22T10:40:03.803Z"
   },
   {
    "duration": 104,
    "start_time": "2021-12-22T10:40:32.788Z"
   },
   {
    "duration": 233,
    "start_time": "2021-12-22T10:40:39.663Z"
   },
   {
    "duration": 236,
    "start_time": "2021-12-22T10:40:55.607Z"
   },
   {
    "duration": 246,
    "start_time": "2021-12-22T10:41:25.628Z"
   },
   {
    "duration": 242,
    "start_time": "2021-12-22T10:41:35.226Z"
   },
   {
    "duration": 247,
    "start_time": "2021-12-22T10:41:55.295Z"
   },
   {
    "duration": 298,
    "start_time": "2021-12-22T10:42:45.804Z"
   },
   {
    "duration": 245,
    "start_time": "2021-12-22T10:44:56.496Z"
   },
   {
    "duration": 248,
    "start_time": "2021-12-22T10:45:13.503Z"
   },
   {
    "duration": 245,
    "start_time": "2021-12-22T10:45:34.236Z"
   },
   {
    "duration": 3,
    "start_time": "2021-12-22T10:47:08.790Z"
   },
   {
    "duration": 338,
    "start_time": "2021-12-22T10:47:09.317Z"
   },
   {
    "duration": 3,
    "start_time": "2021-12-22T10:47:52.899Z"
   },
   {
    "duration": 338,
    "start_time": "2021-12-22T10:47:53.849Z"
   },
   {
    "duration": 610,
    "start_time": "2021-12-22T12:35:29.674Z"
   },
   {
    "duration": 60,
    "start_time": "2021-12-22T12:35:30.286Z"
   },
   {
    "duration": 20,
    "start_time": "2021-12-22T12:35:30.832Z"
   },
   {
    "duration": 4,
    "start_time": "2021-12-22T12:35:33.067Z"
   },
   {
    "duration": 306,
    "start_time": "2021-12-22T12:35:34.015Z"
   },
   {
    "duration": 324,
    "start_time": "2021-12-22T12:35:52.826Z"
   },
   {
    "duration": 326,
    "start_time": "2021-12-22T12:36:28.861Z"
   },
   {
    "duration": 317,
    "start_time": "2021-12-22T12:37:33.681Z"
   },
   {
    "duration": 310,
    "start_time": "2021-12-22T12:38:05.294Z"
   },
   {
    "duration": 321,
    "start_time": "2021-12-22T12:38:35.076Z"
   },
   {
    "duration": 272,
    "start_time": "2021-12-22T12:39:25.745Z"
   },
   {
    "duration": 706,
    "start_time": "2021-12-22T12:39:43.866Z"
   },
   {
    "duration": 4,
    "start_time": "2021-12-22T12:39:58.325Z"
   },
   {
    "duration": 346,
    "start_time": "2021-12-22T12:40:35.801Z"
   },
   {
    "duration": 1629,
    "start_time": "2021-12-22T12:42:29.722Z"
   },
   {
    "duration": 1138,
    "start_time": "2021-12-22T12:42:50.704Z"
   },
   {
    "duration": 10,
    "start_time": "2021-12-22T12:43:28.297Z"
   },
   {
    "duration": 11,
    "start_time": "2021-12-22T12:43:34.120Z"
   },
   {
    "duration": 3,
    "start_time": "2021-12-22T12:43:38.628Z"
   },
   {
    "duration": 332,
    "start_time": "2021-12-22T12:43:39.255Z"
   },
   {
    "duration": 90,
    "start_time": "2021-12-22T12:43:59.864Z"
   },
   {
    "duration": 335,
    "start_time": "2021-12-22T12:44:03.158Z"
   },
   {
    "duration": 332,
    "start_time": "2021-12-22T12:44:19.653Z"
   },
   {
    "duration": 581,
    "start_time": "2021-12-22T12:44:55.773Z"
   },
   {
    "duration": 592,
    "start_time": "2021-12-22T12:45:06.890Z"
   },
   {
    "duration": 717,
    "start_time": "2021-12-22T12:45:18.285Z"
   },
   {
    "duration": 627,
    "start_time": "2021-12-22T12:45:27.246Z"
   },
   {
    "duration": 585,
    "start_time": "2021-12-22T12:45:32.933Z"
   },
   {
    "duration": 281,
    "start_time": "2021-12-22T12:45:50.313Z"
   },
   {
    "duration": 380,
    "start_time": "2021-12-22T12:45:55.875Z"
   },
   {
    "duration": 737,
    "start_time": "2021-12-22T12:46:00.770Z"
   },
   {
    "duration": 860,
    "start_time": "2021-12-22T12:46:04.366Z"
   },
   {
    "duration": 338,
    "start_time": "2021-12-22T12:46:12.887Z"
   },
   {
    "duration": 333,
    "start_time": "2021-12-22T12:47:03.984Z"
   },
   {
    "duration": 328,
    "start_time": "2021-12-22T12:50:29.028Z"
   },
   {
    "duration": 324,
    "start_time": "2021-12-22T12:50:40.437Z"
   },
   {
    "duration": 11,
    "start_time": "2021-12-22T12:52:16.777Z"
   },
   {
    "duration": 26,
    "start_time": "2021-12-22T12:52:22.341Z"
   },
   {
    "duration": 13,
    "start_time": "2021-12-22T12:55:00.272Z"
   },
   {
    "duration": 27,
    "start_time": "2021-12-22T12:55:22.897Z"
   },
   {
    "duration": 14,
    "start_time": "2021-12-22T12:55:40.953Z"
   },
   {
    "duration": 6304,
    "start_time": "2021-12-22T12:56:55.042Z"
   },
   {
    "duration": 18,
    "start_time": "2021-12-22T12:57:30.155Z"
   },
   {
    "duration": 264,
    "start_time": "2021-12-22T12:57:49.625Z"
   },
   {
    "duration": 268,
    "start_time": "2021-12-22T12:58:06.948Z"
   },
   {
    "duration": 275,
    "start_time": "2021-12-22T12:58:16.469Z"
   },
   {
    "duration": 262,
    "start_time": "2021-12-22T12:58:28.606Z"
   },
   {
    "duration": 20,
    "start_time": "2021-12-22T12:58:36.762Z"
   },
   {
    "duration": 334,
    "start_time": "2021-12-22T12:59:24.018Z"
   },
   {
    "duration": 334,
    "start_time": "2021-12-22T12:59:38.437Z"
   },
   {
    "duration": 341,
    "start_time": "2021-12-22T12:59:46.333Z"
   },
   {
    "duration": 387,
    "start_time": "2021-12-22T12:59:56.371Z"
   },
   {
    "duration": 346,
    "start_time": "2021-12-22T13:00:02.664Z"
   },
   {
    "duration": 1404,
    "start_time": "2021-12-22T13:01:35.017Z"
   },
   {
    "duration": 584,
    "start_time": "2021-12-22T13:02:40.459Z"
   },
   {
    "duration": 514,
    "start_time": "2021-12-22T13:03:18.108Z"
   },
   {
    "duration": 644,
    "start_time": "2021-12-22T13:23:39.754Z"
   },
   {
    "duration": 58,
    "start_time": "2021-12-22T13:23:40.399Z"
   },
   {
    "duration": 18,
    "start_time": "2021-12-22T13:23:40.907Z"
   },
   {
    "duration": 19,
    "start_time": "2021-12-22T13:23:41.891Z"
   },
   {
    "duration": 11,
    "start_time": "2021-12-22T13:23:42.416Z"
   },
   {
    "duration": 3,
    "start_time": "2021-12-22T13:23:44.024Z"
   },
   {
    "duration": 334,
    "start_time": "2021-12-22T13:23:44.571Z"
   },
   {
    "duration": 13,
    "start_time": "2021-12-22T13:24:28.412Z"
   },
   {
    "duration": 985,
    "start_time": "2021-12-22T13:25:27.689Z"
   },
   {
    "duration": 680,
    "start_time": "2021-12-22T13:25:37.702Z"
   },
   {
    "duration": 323,
    "start_time": "2021-12-22T13:25:41.176Z"
   },
   {
    "duration": 327,
    "start_time": "2021-12-22T13:26:51.841Z"
   },
   {
    "duration": 334,
    "start_time": "2021-12-22T13:27:03.738Z"
   },
   {
    "duration": 351,
    "start_time": "2021-12-22T13:27:58.475Z"
   },
   {
    "duration": 338,
    "start_time": "2021-12-22T13:28:14.726Z"
   },
   {
    "duration": 340,
    "start_time": "2021-12-22T13:28:58.530Z"
   },
   {
    "duration": 20,
    "start_time": "2021-12-22T13:29:52.019Z"
   },
   {
    "duration": 21,
    "start_time": "2021-12-22T13:30:08.191Z"
   },
   {
    "duration": 16,
    "start_time": "2021-12-22T13:31:28.713Z"
   },
   {
    "duration": 24,
    "start_time": "2021-12-22T13:32:41.236Z"
   },
   {
    "duration": 20,
    "start_time": "2021-12-22T13:33:11.528Z"
   },
   {
    "duration": 31,
    "start_time": "2021-12-22T13:33:48.668Z"
   },
   {
    "duration": 321,
    "start_time": "2021-12-23T06:20:56.734Z"
   },
   {
    "duration": 639,
    "start_time": "2021-12-23T06:21:03.906Z"
   },
   {
    "duration": 367,
    "start_time": "2021-12-23T06:21:04.547Z"
   },
   {
    "duration": 19,
    "start_time": "2021-12-23T06:21:04.917Z"
   },
   {
    "duration": 7,
    "start_time": "2021-12-23T06:21:04.938Z"
   },
   {
    "duration": 342,
    "start_time": "2021-12-23T06:21:04.946Z"
   },
   {
    "duration": 6,
    "start_time": "2021-12-23T06:21:05.290Z"
   },
   {
    "duration": 5,
    "start_time": "2021-12-23T06:21:16.416Z"
   },
   {
    "duration": 319,
    "start_time": "2021-12-23T06:21:48.043Z"
   },
   {
    "duration": 5,
    "start_time": "2021-12-23T06:22:25.217Z"
   },
   {
    "duration": 14,
    "start_time": "2021-12-23T06:22:55.498Z"
   },
   {
    "duration": 320,
    "start_time": "2021-12-23T06:24:21.931Z"
   },
   {
    "duration": 379,
    "start_time": "2021-12-23T06:24:49.483Z"
   },
   {
    "duration": 680,
    "start_time": "2021-12-23T06:24:56.292Z"
   },
   {
    "duration": 359,
    "start_time": "2021-12-23T06:25:02.475Z"
   },
   {
    "duration": 333,
    "start_time": "2021-12-23T06:25:06.541Z"
   },
   {
    "duration": 105,
    "start_time": "2021-12-23T06:26:14.922Z"
   },
   {
    "duration": 141,
    "start_time": "2021-12-23T06:26:23.227Z"
   },
   {
    "duration": 327,
    "start_time": "2021-12-23T06:26:32.867Z"
   },
   {
    "duration": 334,
    "start_time": "2021-12-23T06:26:51.213Z"
   },
   {
    "duration": 323,
    "start_time": "2021-12-23T08:00:42.399Z"
   },
   {
    "duration": 332,
    "start_time": "2021-12-23T08:00:56.177Z"
   },
   {
    "duration": 638,
    "start_time": "2021-12-23T08:02:04.377Z"
   },
   {
    "duration": 333,
    "start_time": "2021-12-23T08:02:32.546Z"
   },
   {
    "duration": 21,
    "start_time": "2021-12-23T08:03:51.222Z"
   },
   {
    "duration": 5,
    "start_time": "2021-12-23T08:08:04.150Z"
   },
   {
    "duration": 5,
    "start_time": "2021-12-23T08:08:21.422Z"
   },
   {
    "duration": 4,
    "start_time": "2021-12-23T08:08:30.640Z"
   },
   {
    "duration": 4,
    "start_time": "2021-12-23T08:08:41.310Z"
   },
   {
    "duration": 5,
    "start_time": "2021-12-23T08:08:57.534Z"
   },
   {
    "duration": 568,
    "start_time": "2021-12-23T10:09:43.814Z"
   },
   {
    "duration": 63,
    "start_time": "2021-12-23T10:09:44.385Z"
   },
   {
    "duration": 27,
    "start_time": "2021-12-23T10:09:44.451Z"
   },
   {
    "duration": 5,
    "start_time": "2021-12-23T10:09:44.481Z"
   },
   {
    "duration": 9,
    "start_time": "2021-12-23T10:09:44.488Z"
   },
   {
    "duration": 6,
    "start_time": "2021-12-23T10:09:44.499Z"
   },
   {
    "duration": 12,
    "start_time": "2021-12-23T10:09:44.506Z"
   },
   {
    "duration": 51,
    "start_time": "2021-12-23T10:09:44.520Z"
   },
   {
    "duration": 3,
    "start_time": "2021-12-23T10:09:44.574Z"
   },
   {
    "duration": 416,
    "start_time": "2021-12-23T10:09:44.579Z"
   },
   {
    "duration": 4,
    "start_time": "2021-12-23T10:09:44.997Z"
   },
   {
    "duration": 5,
    "start_time": "2021-12-23T10:13:57.989Z"
   },
   {
    "duration": 7,
    "start_time": "2021-12-23T10:14:03.439Z"
   },
   {
    "duration": 379,
    "start_time": "2021-12-23T10:15:19.023Z"
   },
   {
    "duration": 4852,
    "start_time": "2021-12-23T10:16:01.185Z"
   },
   {
    "duration": 82,
    "start_time": "2021-12-23T10:16:29.134Z"
   },
   {
    "duration": 92,
    "start_time": "2021-12-23T10:16:53.502Z"
   },
   {
    "duration": 4988,
    "start_time": "2021-12-23T10:16:56.469Z"
   },
   {
    "duration": 8,
    "start_time": "2021-12-23T10:17:16.816Z"
   },
   {
    "duration": 7,
    "start_time": "2021-12-23T10:17:19.522Z"
   },
   {
    "duration": 5,
    "start_time": "2021-12-23T10:17:35.927Z"
   },
   {
    "duration": 256,
    "start_time": "2021-12-23T10:18:15.308Z"
   },
   {
    "duration": 10,
    "start_time": "2021-12-23T10:18:44.319Z"
   },
   {
    "duration": 12,
    "start_time": "2021-12-23T10:18:59.687Z"
   },
   {
    "duration": 10,
    "start_time": "2021-12-23T10:21:06.116Z"
   },
   {
    "duration": 573,
    "start_time": "2021-12-23T10:24:04.098Z"
   },
   {
    "duration": 61,
    "start_time": "2021-12-23T10:24:04.673Z"
   },
   {
    "duration": 18,
    "start_time": "2021-12-23T10:24:04.737Z"
   },
   {
    "duration": 11,
    "start_time": "2021-12-23T10:24:04.761Z"
   },
   {
    "duration": 6,
    "start_time": "2021-12-23T10:24:04.773Z"
   },
   {
    "duration": 358,
    "start_time": "2021-12-23T10:24:04.781Z"
   },
   {
    "duration": 4,
    "start_time": "2021-12-23T10:24:05.141Z"
   },
   {
    "duration": 1060,
    "start_time": "2021-12-23T10:24:05.147Z"
   },
   {
    "duration": 11,
    "start_time": "2021-12-23T10:24:30.761Z"
   },
   {
    "duration": 12,
    "start_time": "2021-12-23T10:24:37.980Z"
   },
   {
    "duration": 11,
    "start_time": "2021-12-23T10:25:00.733Z"
   },
   {
    "duration": 262,
    "start_time": "2021-12-23T10:25:16.514Z"
   },
   {
    "duration": 11,
    "start_time": "2021-12-23T10:25:36.419Z"
   },
   {
    "duration": 11,
    "start_time": "2021-12-23T10:25:49.683Z"
   },
   {
    "duration": 4,
    "start_time": "2021-12-23T10:26:28.390Z"
   },
   {
    "duration": 11,
    "start_time": "2021-12-23T10:28:44.166Z"
   },
   {
    "duration": 4,
    "start_time": "2021-12-23T10:29:09.961Z"
   },
   {
    "duration": 11,
    "start_time": "2021-12-23T10:29:47.657Z"
   },
   {
    "duration": 379,
    "start_time": "2021-12-23T10:30:38.269Z"
   },
   {
    "duration": 21,
    "start_time": "2021-12-23T10:31:03.447Z"
   },
   {
    "duration": 24,
    "start_time": "2021-12-23T10:31:49.803Z"
   },
   {
    "duration": 22,
    "start_time": "2021-12-23T10:32:22.746Z"
   },
   {
    "duration": 25,
    "start_time": "2021-12-23T10:32:32.741Z"
   },
   {
    "duration": 19,
    "start_time": "2021-12-23T10:32:59.908Z"
   },
   {
    "duration": 126,
    "start_time": "2021-12-23T10:33:40.786Z"
   },
   {
    "duration": 21,
    "start_time": "2021-12-23T10:33:46.321Z"
   },
   {
    "duration": 14,
    "start_time": "2021-12-23T10:36:47.720Z"
   },
   {
    "duration": 10,
    "start_time": "2021-12-23T10:36:56.709Z"
   },
   {
    "duration": 12,
    "start_time": "2021-12-23T10:37:02.261Z"
   },
   {
    "duration": 11,
    "start_time": "2021-12-23T10:37:28.750Z"
   },
   {
    "duration": 91,
    "start_time": "2021-12-23T10:37:51.988Z"
   },
   {
    "duration": 15,
    "start_time": "2021-12-23T10:38:38.844Z"
   },
   {
    "duration": 562,
    "start_time": "2021-12-23T11:19:08.722Z"
   },
   {
    "duration": 61,
    "start_time": "2021-12-23T11:19:09.286Z"
   },
   {
    "duration": 17,
    "start_time": "2021-12-23T11:19:09.349Z"
   },
   {
    "duration": 18,
    "start_time": "2021-12-23T11:19:09.368Z"
   },
   {
    "duration": 34,
    "start_time": "2021-12-23T11:19:09.387Z"
   },
   {
    "duration": 5,
    "start_time": "2021-12-23T11:19:09.423Z"
   },
   {
    "duration": 30,
    "start_time": "2021-12-23T11:19:09.430Z"
   },
   {
    "duration": 355,
    "start_time": "2021-12-23T11:19:09.463Z"
   },
   {
    "duration": 5,
    "start_time": "2021-12-23T11:19:09.820Z"
   },
   {
    "duration": 598,
    "start_time": "2021-12-23T11:22:40.726Z"
   },
   {
    "duration": 58,
    "start_time": "2021-12-23T11:22:41.326Z"
   },
   {
    "duration": 17,
    "start_time": "2021-12-23T11:22:41.387Z"
   },
   {
    "duration": 9,
    "start_time": "2021-12-23T11:22:41.406Z"
   },
   {
    "duration": 8,
    "start_time": "2021-12-23T11:22:41.417Z"
   },
   {
    "duration": 45,
    "start_time": "2021-12-23T11:22:41.427Z"
   },
   {
    "duration": 4,
    "start_time": "2021-12-23T11:22:41.474Z"
   },
   {
    "duration": 5,
    "start_time": "2021-12-23T11:22:41.479Z"
   },
   {
    "duration": 364,
    "start_time": "2021-12-23T11:22:41.486Z"
   },
   {
    "duration": 9,
    "start_time": "2021-12-23T11:22:41.853Z"
   },
   {
    "duration": 5,
    "start_time": "2021-12-23T11:22:57.406Z"
   },
   {
    "duration": 5,
    "start_time": "2021-12-23T11:23:35.766Z"
   },
   {
    "duration": 4,
    "start_time": "2021-12-23T11:23:58.415Z"
   },
   {
    "duration": 5,
    "start_time": "2021-12-23T11:25:58.542Z"
   },
   {
    "duration": 24,
    "start_time": "2021-12-23T11:27:08.371Z"
   },
   {
    "duration": 3,
    "start_time": "2021-12-23T11:35:00.064Z"
   },
   {
    "duration": 308,
    "start_time": "2021-12-23T11:35:48.828Z"
   },
   {
    "duration": 330,
    "start_time": "2021-12-23T11:36:01.708Z"
   },
   {
    "duration": 86,
    "start_time": "2021-12-23T11:38:21.382Z"
   },
   {
    "duration": 101,
    "start_time": "2021-12-23T11:40:13.321Z"
   },
   {
    "duration": 344,
    "start_time": "2021-12-23T11:40:21.645Z"
   },
   {
    "duration": 369,
    "start_time": "2021-12-23T11:40:49.707Z"
   },
   {
    "duration": 26,
    "start_time": "2021-12-23T11:40:55.712Z"
   },
   {
    "duration": 32,
    "start_time": "2021-12-23T11:41:27.256Z"
   },
   {
    "duration": 450,
    "start_time": "2021-12-23T11:43:01.166Z"
   },
   {
    "duration": 21,
    "start_time": "2021-12-23T11:43:02.688Z"
   },
   {
    "duration": 440,
    "start_time": "2021-12-23T11:43:37.039Z"
   },
   {
    "duration": 20,
    "start_time": "2021-12-23T11:43:37.631Z"
   },
   {
    "duration": 253,
    "start_time": "2021-12-23T11:45:43.380Z"
   },
   {
    "duration": 18,
    "start_time": "2021-12-23T11:46:06.849Z"
   },
   {
    "duration": 452,
    "start_time": "2021-12-23T11:46:18.334Z"
   },
   {
    "duration": 19,
    "start_time": "2021-12-23T11:46:18.959Z"
   },
   {
    "duration": 88,
    "start_time": "2021-12-23T11:47:01.156Z"
   },
   {
    "duration": 388,
    "start_time": "2021-12-23T11:47:15.255Z"
   },
   {
    "duration": 431,
    "start_time": "2021-12-23T11:48:14.297Z"
   },
   {
    "duration": 20,
    "start_time": "2021-12-23T11:48:16.162Z"
   },
   {
    "duration": 428,
    "start_time": "2021-12-23T11:48:25.253Z"
   },
   {
    "duration": 20,
    "start_time": "2021-12-23T11:48:26.157Z"
   },
   {
    "duration": 608,
    "start_time": "2021-12-23T13:37:48.665Z"
   },
   {
    "duration": 61,
    "start_time": "2021-12-23T13:37:49.274Z"
   },
   {
    "duration": 17,
    "start_time": "2021-12-23T13:37:49.338Z"
   },
   {
    "duration": 7,
    "start_time": "2021-12-23T13:37:49.361Z"
   },
   {
    "duration": 532,
    "start_time": "2021-12-23T13:37:49.370Z"
   },
   {
    "duration": 20,
    "start_time": "2021-12-23T13:37:49.903Z"
   },
   {
    "duration": 18,
    "start_time": "2021-12-23T13:37:49.924Z"
   },
   {
    "duration": 20,
    "start_time": "2021-12-23T13:37:49.944Z"
   },
   {
    "duration": 15,
    "start_time": "2021-12-23T13:37:49.965Z"
   },
   {
    "duration": 344,
    "start_time": "2021-12-23T13:37:49.981Z"
   },
   {
    "duration": 4,
    "start_time": "2021-12-23T13:37:50.327Z"
   },
   {
    "duration": 20,
    "start_time": "2021-12-23T13:38:23.446Z"
   },
   {
    "duration": 19,
    "start_time": "2021-12-23T13:38:41.433Z"
   },
   {
    "duration": 326,
    "start_time": "2021-12-23T13:38:47.649Z"
   },
   {
    "duration": 16,
    "start_time": "2021-12-23T13:38:54.502Z"
   },
   {
    "duration": 17,
    "start_time": "2021-12-23T13:39:20.298Z"
   },
   {
    "duration": 14,
    "start_time": "2021-12-23T13:39:39.623Z"
   },
   {
    "duration": 13,
    "start_time": "2021-12-23T13:39:48.294Z"
   },
   {
    "duration": 85,
    "start_time": "2021-12-23T13:40:53.478Z"
   },
   {
    "duration": 97,
    "start_time": "2021-12-23T13:40:59.353Z"
   },
   {
    "duration": 85,
    "start_time": "2021-12-23T13:41:20.417Z"
   },
   {
    "duration": 83,
    "start_time": "2021-12-23T13:41:55.769Z"
   },
   {
    "duration": 90,
    "start_time": "2021-12-23T13:42:13.536Z"
   },
   {
    "duration": 254,
    "start_time": "2021-12-23T13:42:47.955Z"
   },
   {
    "duration": 287,
    "start_time": "2021-12-23T13:43:28.199Z"
   },
   {
    "duration": 260,
    "start_time": "2021-12-23T13:44:27.962Z"
   },
   {
    "duration": 18,
    "start_time": "2021-12-23T13:44:56.634Z"
   },
   {
    "duration": 14,
    "start_time": "2021-12-23T13:47:04.924Z"
   },
   {
    "duration": 31,
    "start_time": "2021-12-23T13:47:45.356Z"
   },
   {
    "duration": 10,
    "start_time": "2021-12-23T13:48:30.640Z"
   },
   {
    "duration": 29,
    "start_time": "2021-12-23T13:48:32.407Z"
   },
   {
    "duration": 27,
    "start_time": "2021-12-23T13:49:34.100Z"
   },
   {
    "duration": 31,
    "start_time": "2021-12-23T13:49:37.176Z"
   },
   {
    "duration": 28,
    "start_time": "2021-12-23T13:49:38.563Z"
   },
   {
    "duration": 29,
    "start_time": "2021-12-23T13:49:39.947Z"
   },
   {
    "duration": 29,
    "start_time": "2021-12-23T13:49:41.357Z"
   },
   {
    "duration": 30,
    "start_time": "2021-12-23T13:49:42.430Z"
   },
   {
    "duration": 28,
    "start_time": "2021-12-23T13:49:43.722Z"
   },
   {
    "duration": 30,
    "start_time": "2021-12-23T13:49:44.983Z"
   },
   {
    "duration": 29,
    "start_time": "2021-12-23T13:49:47.443Z"
   },
   {
    "duration": 9,
    "start_time": "2021-12-23T13:49:50.047Z"
   },
   {
    "duration": 30,
    "start_time": "2021-12-23T13:49:51.009Z"
   },
   {
    "duration": 56,
    "start_time": "2021-12-23T13:49:55.204Z"
   },
   {
    "duration": 2,
    "start_time": "2021-12-23T13:49:57.057Z"
   },
   {
    "duration": 60,
    "start_time": "2021-12-23T13:49:57.479Z"
   },
   {
    "duration": 12,
    "start_time": "2021-12-23T13:49:58.903Z"
   },
   {
    "duration": 9,
    "start_time": "2021-12-23T13:50:03.186Z"
   },
   {
    "duration": 31,
    "start_time": "2021-12-23T13:50:06.309Z"
   },
   {
    "duration": 30,
    "start_time": "2021-12-23T13:50:18.890Z"
   },
   {
    "duration": 31,
    "start_time": "2021-12-23T13:50:20.974Z"
   },
   {
    "duration": 29,
    "start_time": "2021-12-23T13:50:22.214Z"
   },
   {
    "duration": 30,
    "start_time": "2021-12-23T13:50:23.723Z"
   },
   {
    "duration": 28,
    "start_time": "2021-12-23T13:50:26.174Z"
   },
   {
    "duration": 29,
    "start_time": "2021-12-23T13:50:27.529Z"
   },
   {
    "duration": 24,
    "start_time": "2021-12-23T13:58:44.097Z"
   },
   {
    "duration": 24,
    "start_time": "2021-12-23T13:59:54.560Z"
   },
   {
    "duration": 17,
    "start_time": "2021-12-23T14:00:48.168Z"
   },
   {
    "duration": 26,
    "start_time": "2021-12-23T14:00:59.505Z"
   },
   {
    "duration": 604,
    "start_time": "2021-12-23T14:02:19.039Z"
   },
   {
    "duration": 59,
    "start_time": "2021-12-23T14:02:19.691Z"
   },
   {
    "duration": 18,
    "start_time": "2021-12-23T14:02:20.586Z"
   },
   {
    "duration": 8,
    "start_time": "2021-12-23T14:02:24.169Z"
   },
   {
    "duration": 40,
    "start_time": "2021-12-23T14:02:26.443Z"
   },
   {
    "duration": 33,
    "start_time": "2021-12-23T14:02:53.705Z"
   },
   {
    "duration": 33,
    "start_time": "2021-12-23T14:03:01.946Z"
   },
   {
    "duration": 41,
    "start_time": "2021-12-23T14:04:23.827Z"
   },
   {
    "duration": 41,
    "start_time": "2021-12-23T14:04:41.611Z"
   },
   {
    "duration": 40,
    "start_time": "2021-12-23T14:04:44.596Z"
   },
   {
    "duration": 49,
    "start_time": "2021-12-23T14:05:01.891Z"
   },
   {
    "duration": 49,
    "start_time": "2021-12-23T14:55:23.826Z"
   },
   {
    "duration": 49,
    "start_time": "2021-12-23T14:55:25.580Z"
   },
   {
    "duration": 47,
    "start_time": "2021-12-23T14:56:23.183Z"
   },
   {
    "duration": 49,
    "start_time": "2021-12-23T14:56:35.413Z"
   },
   {
    "duration": 45,
    "start_time": "2021-12-23T14:57:11.863Z"
   },
   {
    "duration": 3,
    "start_time": "2021-12-23T14:57:16.705Z"
   },
   {
    "duration": 56,
    "start_time": "2021-12-23T14:57:17.196Z"
   },
   {
    "duration": 12,
    "start_time": "2021-12-23T14:57:17.791Z"
   },
   {
    "duration": 9,
    "start_time": "2021-12-23T14:57:19.782Z"
   },
   {
    "duration": 36,
    "start_time": "2021-12-23T14:57:21.882Z"
   },
   {
    "duration": 571,
    "start_time": "2021-12-23T15:06:30.591Z"
   },
   {
    "duration": 62,
    "start_time": "2021-12-23T15:06:31.164Z"
   },
   {
    "duration": 19,
    "start_time": "2021-12-23T15:06:31.294Z"
   },
   {
    "duration": 8,
    "start_time": "2021-12-23T15:06:32.632Z"
   },
   {
    "duration": 36,
    "start_time": "2021-12-23T15:06:33.428Z"
   },
   {
    "duration": 63,
    "start_time": "2021-12-23T15:11:11.171Z"
   },
   {
    "duration": 60,
    "start_time": "2021-12-23T15:12:13.657Z"
   },
   {
    "duration": 63,
    "start_time": "2021-12-23T15:12:20.208Z"
   },
   {
    "duration": 6,
    "start_time": "2021-12-23T15:13:27.711Z"
   },
   {
    "duration": 6,
    "start_time": "2021-12-23T15:13:33.036Z"
   },
   {
    "duration": 5,
    "start_time": "2021-12-23T15:13:44.304Z"
   },
   {
    "duration": 6,
    "start_time": "2021-12-23T15:13:48.573Z"
   },
   {
    "duration": 5,
    "start_time": "2021-12-23T15:13:54.414Z"
   },
   {
    "duration": 18,
    "start_time": "2021-12-23T15:15:07.624Z"
   },
   {
    "duration": 6,
    "start_time": "2021-12-23T15:15:48.802Z"
   },
   {
    "duration": 18,
    "start_time": "2021-12-23T15:15:57.696Z"
   },
   {
    "duration": 16,
    "start_time": "2021-12-23T15:17:47.099Z"
   },
   {
    "duration": 581,
    "start_time": "2021-12-23T15:58:25.606Z"
   },
   {
    "duration": 58,
    "start_time": "2021-12-23T15:58:26.189Z"
   },
   {
    "duration": 21,
    "start_time": "2021-12-23T15:58:26.252Z"
   },
   {
    "duration": 16,
    "start_time": "2021-12-23T15:58:26.275Z"
   },
   {
    "duration": 72,
    "start_time": "2021-12-23T15:58:26.293Z"
   },
   {
    "duration": 4,
    "start_time": "2021-12-23T15:58:26.366Z"
   },
   {
    "duration": 26,
    "start_time": "2021-12-23T15:58:26.373Z"
   },
   {
    "duration": 478,
    "start_time": "2021-12-23T15:58:26.401Z"
   },
   {
    "duration": 23,
    "start_time": "2021-12-23T15:58:26.880Z"
   },
   {
    "duration": 21,
    "start_time": "2021-12-23T15:58:26.905Z"
   },
   {
    "duration": 4,
    "start_time": "2021-12-23T15:58:26.928Z"
   },
   {
    "duration": 4,
    "start_time": "2021-12-23T15:58:26.961Z"
   },
   {
    "duration": 350,
    "start_time": "2021-12-23T15:58:26.967Z"
   },
   {
    "duration": 5,
    "start_time": "2021-12-23T15:58:27.319Z"
   },
   {
    "duration": 329,
    "start_time": "2021-12-23T15:59:59.832Z"
   },
   {
    "duration": 257,
    "start_time": "2021-12-23T16:00:33.158Z"
   },
   {
    "duration": 58,
    "start_time": "2021-12-23T16:00:38.111Z"
   },
   {
    "duration": 12,
    "start_time": "2021-12-23T16:00:38.663Z"
   },
   {
    "duration": 10,
    "start_time": "2021-12-23T16:00:40.423Z"
   },
   {
    "duration": 63,
    "start_time": "2021-12-23T16:00:41.864Z"
   },
   {
    "duration": 5,
    "start_time": "2021-12-23T16:00:42.922Z"
   },
   {
    "duration": 18,
    "start_time": "2021-12-23T16:00:43.988Z"
   },
   {
    "duration": 25,
    "start_time": "2021-12-23T16:00:51.488Z"
   },
   {
    "duration": 245,
    "start_time": "2021-12-23T16:02:10.754Z"
   },
   {
    "duration": 28,
    "start_time": "2021-12-23T16:02:23.266Z"
   },
   {
    "duration": 59,
    "start_time": "2021-12-23T16:02:41.432Z"
   },
   {
    "duration": 27,
    "start_time": "2021-12-23T16:02:47.459Z"
   },
   {
    "duration": 25,
    "start_time": "2021-12-23T16:03:12.989Z"
   },
   {
    "duration": 20,
    "start_time": "2021-12-23T16:04:53.369Z"
   },
   {
    "duration": 448,
    "start_time": "2021-12-23T16:17:03.966Z"
   },
   {
    "duration": 304,
    "start_time": "2021-12-23T16:17:36.461Z"
   },
   {
    "duration": 264,
    "start_time": "2021-12-23T16:17:41.638Z"
   },
   {
    "duration": 34,
    "start_time": "2021-12-23T16:18:00.034Z"
   },
   {
    "duration": 22,
    "start_time": "2021-12-23T16:18:43.087Z"
   },
   {
    "duration": 19,
    "start_time": "2021-12-23T16:19:22.873Z"
   },
   {
    "duration": 18,
    "start_time": "2021-12-23T16:19:34.195Z"
   },
   {
    "duration": 16,
    "start_time": "2021-12-23T16:20:28.861Z"
   },
   {
    "duration": 251,
    "start_time": "2021-12-23T16:20:52.426Z"
   },
   {
    "duration": 21,
    "start_time": "2021-12-23T16:20:58.027Z"
   },
   {
    "duration": 56,
    "start_time": "2021-12-23T16:21:17.942Z"
   },
   {
    "duration": 21,
    "start_time": "2021-12-23T16:21:29.733Z"
   },
   {
    "duration": 18,
    "start_time": "2021-12-23T16:21:43.184Z"
   },
   {
    "duration": 4,
    "start_time": "2021-12-23T18:12:40.410Z"
   },
   {
    "duration": 809,
    "start_time": "2021-12-23T18:12:53.426Z"
   },
   {
    "duration": 101,
    "start_time": "2021-12-23T18:12:54.238Z"
   },
   {
    "duration": 37,
    "start_time": "2021-12-23T18:12:54.343Z"
   },
   {
    "duration": 12,
    "start_time": "2021-12-23T18:12:54.384Z"
   },
   {
    "duration": 4,
    "start_time": "2021-12-23T18:12:54.400Z"
   },
   {
    "duration": 141,
    "start_time": "2021-12-23T18:12:54.406Z"
   },
   {
    "duration": 17,
    "start_time": "2021-12-23T18:12:54.549Z"
   },
   {
    "duration": 27,
    "start_time": "2021-12-23T18:12:54.569Z"
   },
   {
    "duration": 826,
    "start_time": "2021-12-23T18:12:54.600Z"
   },
   {
    "duration": 33,
    "start_time": "2021-12-23T18:12:55.429Z"
   },
   {
    "duration": 37,
    "start_time": "2021-12-23T18:12:55.464Z"
   },
   {
    "duration": 5,
    "start_time": "2021-12-23T18:12:55.503Z"
   },
   {
    "duration": 4,
    "start_time": "2021-12-23T18:12:55.511Z"
   },
   {
    "duration": 630,
    "start_time": "2021-12-23T18:12:55.518Z"
   },
   {
    "duration": 6,
    "start_time": "2021-12-23T18:12:56.151Z"
   },
   {
    "duration": 14,
    "start_time": "2021-12-23T18:13:40.579Z"
   },
   {
    "duration": 26,
    "start_time": "2021-12-23T18:14:16.375Z"
   },
   {
    "duration": 740,
    "start_time": "2021-12-23T18:19:25.616Z"
   },
   {
    "duration": 83,
    "start_time": "2021-12-23T18:19:26.359Z"
   },
   {
    "duration": 33,
    "start_time": "2021-12-23T18:19:26.446Z"
   },
   {
    "duration": 11,
    "start_time": "2021-12-23T18:19:26.482Z"
   },
   {
    "duration": 562,
    "start_time": "2021-12-23T18:19:26.496Z"
   },
   {
    "duration": 84,
    "start_time": "2021-12-23T18:19:26.978Z"
   },
   {
    "duration": 84,
    "start_time": "2021-12-23T18:19:26.980Z"
   },
   {
    "duration": 71,
    "start_time": "2021-12-23T18:19:26.996Z"
   },
   {
    "duration": 71,
    "start_time": "2021-12-23T18:19:26.998Z"
   },
   {
    "duration": 72,
    "start_time": "2021-12-23T18:19:27.000Z"
   },
   {
    "duration": 68,
    "start_time": "2021-12-23T18:19:27.006Z"
   },
   {
    "duration": 68,
    "start_time": "2021-12-23T18:19:27.008Z"
   },
   {
    "duration": 69,
    "start_time": "2021-12-23T18:19:27.010Z"
   },
   {
    "duration": 69,
    "start_time": "2021-12-23T18:19:27.012Z"
   },
   {
    "duration": 70,
    "start_time": "2021-12-23T18:19:27.014Z"
   },
   {
    "duration": 71,
    "start_time": "2021-12-23T18:19:27.015Z"
   },
   {
    "duration": 15,
    "start_time": "2021-12-23T18:19:53.570Z"
   },
   {
    "duration": 13,
    "start_time": "2021-12-23T18:20:15.936Z"
   },
   {
    "duration": 11,
    "start_time": "2021-12-23T18:20:20.251Z"
   },
   {
    "duration": 13,
    "start_time": "2021-12-23T18:20:28.142Z"
   },
   {
    "duration": 11,
    "start_time": "2021-12-23T18:20:34.157Z"
   },
   {
    "duration": 301,
    "start_time": "2021-12-23T18:20:51.670Z"
   },
   {
    "duration": 13,
    "start_time": "2021-12-23T18:21:03.216Z"
   },
   {
    "duration": 9,
    "start_time": "2021-12-23T18:21:23.221Z"
   },
   {
    "duration": 9,
    "start_time": "2021-12-23T18:21:34.156Z"
   },
   {
    "duration": 7,
    "start_time": "2021-12-23T18:21:48.666Z"
   },
   {
    "duration": 7,
    "start_time": "2021-12-23T18:21:54.878Z"
   },
   {
    "duration": 9,
    "start_time": "2021-12-23T18:21:58.912Z"
   },
   {
    "duration": 8,
    "start_time": "2021-12-23T18:22:25.811Z"
   },
   {
    "duration": 8,
    "start_time": "2021-12-23T18:22:29.570Z"
   },
   {
    "duration": 397,
    "start_time": "2021-12-23T18:22:44.963Z"
   },
   {
    "duration": 279,
    "start_time": "2021-12-23T18:22:53.604Z"
   },
   {
    "duration": 321,
    "start_time": "2021-12-23T18:22:56.578Z"
   },
   {
    "duration": 11,
    "start_time": "2021-12-23T18:23:00.617Z"
   },
   {
    "duration": 8,
    "start_time": "2021-12-23T18:23:04.605Z"
   },
   {
    "duration": 22,
    "start_time": "2021-12-23T18:23:15.068Z"
   },
   {
    "duration": 8,
    "start_time": "2021-12-23T18:23:28.902Z"
   },
   {
    "duration": 292,
    "start_time": "2021-12-23T18:23:33.800Z"
   },
   {
    "duration": 297,
    "start_time": "2021-12-23T18:23:38.512Z"
   },
   {
    "duration": 447,
    "start_time": "2021-12-23T18:23:43.706Z"
   },
   {
    "duration": 7,
    "start_time": "2021-12-23T18:23:47.934Z"
   },
   {
    "duration": 7,
    "start_time": "2021-12-23T18:24:14.434Z"
   },
   {
    "duration": 6,
    "start_time": "2021-12-23T18:24:19.301Z"
   },
   {
    "duration": 3,
    "start_time": "2021-12-23T18:24:25.831Z"
   },
   {
    "duration": 76,
    "start_time": "2021-12-23T18:24:26.252Z"
   },
   {
    "duration": 12,
    "start_time": "2021-12-23T18:24:32.043Z"
   },
   {
    "duration": 7,
    "start_time": "2021-12-23T18:24:34.398Z"
   },
   {
    "duration": 7,
    "start_time": "2021-12-23T18:24:34.921Z"
   },
   {
    "duration": 6,
    "start_time": "2021-12-23T18:24:35.554Z"
   },
   {
    "duration": 16,
    "start_time": "2021-12-23T18:24:48.997Z"
   },
   {
    "duration": 6,
    "start_time": "2021-12-23T18:25:08.080Z"
   },
   {
    "duration": 8,
    "start_time": "2021-12-23T18:25:37.587Z"
   },
   {
    "duration": 36,
    "start_time": "2021-12-23T18:25:45.999Z"
   },
   {
    "duration": 51,
    "start_time": "2021-12-23T18:26:08.618Z"
   },
   {
    "duration": 23,
    "start_time": "2021-12-23T18:26:47.789Z"
   },
   {
    "duration": 26,
    "start_time": "2021-12-23T18:27:31.278Z"
   },
   {
    "duration": 26,
    "start_time": "2021-12-23T18:27:57.968Z"
   },
   {
    "duration": 22,
    "start_time": "2021-12-23T18:28:13.453Z"
   },
   {
    "duration": 22,
    "start_time": "2021-12-23T18:28:25.043Z"
   },
   {
    "duration": 36,
    "start_time": "2021-12-23T18:28:34.602Z"
   },
   {
    "duration": 23,
    "start_time": "2021-12-23T18:29:35.588Z"
   },
   {
    "duration": 17,
    "start_time": "2021-12-23T18:33:33.749Z"
   },
   {
    "duration": 287,
    "start_time": "2021-12-29T04:31:37.685Z"
   },
   {
    "duration": 584,
    "start_time": "2021-12-29T04:31:47.162Z"
   },
   {
    "duration": 55,
    "start_time": "2021-12-29T04:31:47.748Z"
   },
   {
    "duration": 16,
    "start_time": "2021-12-29T04:31:47.806Z"
   },
   {
    "duration": 9,
    "start_time": "2021-12-29T04:31:47.824Z"
   },
   {
    "duration": 6,
    "start_time": "2021-12-29T04:31:47.835Z"
   },
   {
    "duration": 4,
    "start_time": "2021-12-29T04:31:47.842Z"
   },
   {
    "duration": 14,
    "start_time": "2021-12-29T04:31:47.847Z"
   },
   {
    "duration": 12,
    "start_time": "2021-12-29T04:31:47.862Z"
   },
   {
    "duration": 12,
    "start_time": "2021-12-29T04:31:47.876Z"
   },
   {
    "duration": 2,
    "start_time": "2021-12-29T04:31:47.889Z"
   },
   {
    "duration": 84,
    "start_time": "2021-12-29T04:31:47.892Z"
   },
   {
    "duration": 3,
    "start_time": "2021-12-29T04:31:47.978Z"
   },
   {
    "duration": 17,
    "start_time": "2021-12-29T04:31:47.983Z"
   },
   {
    "duration": 404,
    "start_time": "2021-12-29T04:31:48.001Z"
   },
   {
    "duration": 18,
    "start_time": "2021-12-29T04:31:48.407Z"
   },
   {
    "duration": 27,
    "start_time": "2021-12-29T04:31:48.426Z"
   },
   {
    "duration": 4,
    "start_time": "2021-12-29T04:31:48.454Z"
   },
   {
    "duration": 14,
    "start_time": "2021-12-29T04:31:48.460Z"
   },
   {
    "duration": 314,
    "start_time": "2021-12-29T04:31:48.476Z"
   },
   {
    "duration": 5,
    "start_time": "2021-12-29T04:31:48.792Z"
   },
   {
    "duration": 21,
    "start_time": "2021-12-29T04:31:48.798Z"
   },
   {
    "duration": 30,
    "start_time": "2021-12-29T04:57:46.002Z"
   },
   {
    "duration": 17,
    "start_time": "2021-12-29T05:18:33.441Z"
   },
   {
    "duration": 304,
    "start_time": "2021-12-29T05:19:45.642Z"
   },
   {
    "duration": 16,
    "start_time": "2021-12-29T05:19:59.873Z"
   },
   {
    "duration": 53,
    "start_time": "2021-12-29T05:24:52.750Z"
   },
   {
    "duration": 13,
    "start_time": "2021-12-29T05:24:58.218Z"
   },
   {
    "duration": 31,
    "start_time": "2021-12-29T05:25:03.519Z"
   },
   {
    "duration": 16,
    "start_time": "2021-12-29T05:25:08.195Z"
   },
   {
    "duration": 13,
    "start_time": "2021-12-29T05:55:28.034Z"
   },
   {
    "duration": 15,
    "start_time": "2021-12-29T05:55:34.977Z"
   },
   {
    "duration": 3,
    "start_time": "2021-12-29T06:40:26.448Z"
   },
   {
    "duration": 5777,
    "start_time": "2021-12-29T06:42:31.596Z"
   },
   {
    "duration": 340,
    "start_time": "2021-12-29T06:42:46.483Z"
   },
   {
    "duration": 3,
    "start_time": "2021-12-29T06:43:36.106Z"
   },
   {
    "duration": 380,
    "start_time": "2021-12-29T06:43:37.020Z"
   },
   {
    "duration": 576,
    "start_time": "2021-12-29T10:39:22.358Z"
   },
   {
    "duration": 62,
    "start_time": "2021-12-29T10:39:22.937Z"
   },
   {
    "duration": 21,
    "start_time": "2021-12-29T10:39:23.001Z"
   },
   {
    "duration": 57,
    "start_time": "2021-12-29T10:39:23.024Z"
   },
   {
    "duration": 21,
    "start_time": "2021-12-29T10:39:23.083Z"
   },
   {
    "duration": 4,
    "start_time": "2021-12-29T10:39:23.106Z"
   },
   {
    "duration": 1477,
    "start_time": "2021-12-30T10:44:29.910Z"
   },
   {
    "duration": 59,
    "start_time": "2021-12-30T10:44:31.389Z"
   },
   {
    "duration": 21,
    "start_time": "2021-12-30T10:44:31.450Z"
   },
   {
    "duration": 46,
    "start_time": "2021-12-30T10:44:31.473Z"
   },
   {
    "duration": 16,
    "start_time": "2021-12-30T10:44:31.521Z"
   },
   {
    "duration": 11,
    "start_time": "2021-12-30T10:44:31.540Z"
   },
   {
    "duration": 4,
    "start_time": "2021-12-30T10:46:48.790Z"
   },
   {
    "duration": 4,
    "start_time": "2021-12-30T10:47:50.976Z"
   },
   {
    "duration": 24,
    "start_time": "2021-12-30T10:49:32.980Z"
   },
   {
    "duration": 10,
    "start_time": "2021-12-30T10:49:41.972Z"
   },
   {
    "duration": 10,
    "start_time": "2021-12-30T10:49:47.255Z"
   },
   {
    "duration": 13,
    "start_time": "2021-12-30T10:51:08.736Z"
   },
   {
    "duration": 225,
    "start_time": "2021-12-30T10:51:33.129Z"
   },
   {
    "duration": 55,
    "start_time": "2021-12-30T10:51:37.094Z"
   },
   {
    "duration": 10,
    "start_time": "2021-12-30T10:51:39.513Z"
   },
   {
    "duration": 8,
    "start_time": "2021-12-30T10:51:50.201Z"
   },
   {
    "duration": 9,
    "start_time": "2021-12-30T10:52:30.866Z"
   },
   {
    "duration": 7,
    "start_time": "2021-12-30T10:55:25.441Z"
   },
   {
    "duration": 6,
    "start_time": "2021-12-30T10:55:48.254Z"
   },
   {
    "duration": 14,
    "start_time": "2021-12-30T10:56:11.963Z"
   },
   {
    "duration": 61,
    "start_time": "2021-12-30T10:56:44.043Z"
   },
   {
    "duration": 20,
    "start_time": "2021-12-30T10:56:46.394Z"
   },
   {
    "duration": 10,
    "start_time": "2021-12-30T10:57:16.480Z"
   },
   {
    "duration": 17,
    "start_time": "2021-12-30T10:57:24.112Z"
   },
   {
    "duration": 11,
    "start_time": "2021-12-30T10:57:33.774Z"
   },
   {
    "duration": 9,
    "start_time": "2021-12-30T10:57:41.130Z"
   },
   {
    "duration": 11,
    "start_time": "2021-12-30T10:57:46.977Z"
   },
   {
    "duration": 12,
    "start_time": "2021-12-30T10:58:57.507Z"
   },
   {
    "duration": 10,
    "start_time": "2021-12-30T10:59:11.681Z"
   },
   {
    "duration": 13,
    "start_time": "2021-12-30T10:59:16.185Z"
   },
   {
    "duration": 12,
    "start_time": "2021-12-30T11:00:00.363Z"
   },
   {
    "duration": 11,
    "start_time": "2021-12-30T11:00:29.857Z"
   },
   {
    "duration": 12,
    "start_time": "2021-12-30T11:00:39.437Z"
   },
   {
    "duration": 4571,
    "start_time": "2021-12-30T11:01:08.045Z"
   },
   {
    "duration": 602,
    "start_time": "2021-12-30T11:01:15.206Z"
   },
   {
    "duration": 61,
    "start_time": "2021-12-30T11:01:15.811Z"
   },
   {
    "duration": 22,
    "start_time": "2021-12-30T11:01:15.874Z"
   },
   {
    "duration": 40,
    "start_time": "2021-12-30T11:01:15.899Z"
   },
   {
    "duration": 17,
    "start_time": "2021-12-30T11:01:15.940Z"
   },
   {
    "duration": 33,
    "start_time": "2021-12-30T11:01:15.959Z"
   },
   {
    "duration": 17,
    "start_time": "2021-12-30T11:01:15.995Z"
   },
   {
    "duration": 11,
    "start_time": "2021-12-30T11:01:16.015Z"
   },
   {
    "duration": 26,
    "start_time": "2021-12-30T11:01:16.028Z"
   },
   {
    "duration": 4549,
    "start_time": "2021-12-30T11:01:16.056Z"
   },
   {
    "duration": 10,
    "start_time": "2021-12-30T11:01:38.780Z"
   },
   {
    "duration": 16,
    "start_time": "2021-12-30T11:02:08.864Z"
   },
   {
    "duration": 57,
    "start_time": "2021-12-30T11:02:51.736Z"
   },
   {
    "duration": 11,
    "start_time": "2021-12-30T11:02:57.255Z"
   },
   {
    "duration": 14,
    "start_time": "2021-12-30T11:03:08.471Z"
   },
   {
    "duration": 6,
    "start_time": "2021-12-30T11:03:57.011Z"
   },
   {
    "duration": 7,
    "start_time": "2021-12-30T11:04:21.380Z"
   },
   {
    "duration": 7,
    "start_time": "2021-12-30T11:05:00.655Z"
   },
   {
    "duration": 8,
    "start_time": "2021-12-30T11:05:14.788Z"
   },
   {
    "duration": 12,
    "start_time": "2021-12-30T11:05:37.059Z"
   },
   {
    "duration": 8,
    "start_time": "2021-12-30T11:05:44.808Z"
   },
   {
    "duration": 9,
    "start_time": "2021-12-30T11:05:51.299Z"
   },
   {
    "duration": 11,
    "start_time": "2021-12-30T11:06:29.401Z"
   },
   {
    "duration": 10,
    "start_time": "2021-12-30T11:06:36.864Z"
   },
   {
    "duration": 8,
    "start_time": "2021-12-30T11:06:54.609Z"
   },
   {
    "duration": 10,
    "start_time": "2021-12-30T11:07:33.453Z"
   },
   {
    "duration": 12,
    "start_time": "2021-12-30T11:07:44.126Z"
   },
   {
    "duration": 9,
    "start_time": "2021-12-30T11:08:02.048Z"
   },
   {
    "duration": 11,
    "start_time": "2021-12-30T11:08:08.394Z"
   },
   {
    "duration": 13,
    "start_time": "2021-12-30T11:08:32.277Z"
   },
   {
    "duration": 542,
    "start_time": "2021-12-30T12:43:07.941Z"
   },
   {
    "duration": 66,
    "start_time": "2021-12-30T12:43:08.485Z"
   },
   {
    "duration": 19,
    "start_time": "2021-12-30T12:43:08.553Z"
   },
   {
    "duration": 50,
    "start_time": "2021-12-30T12:43:08.574Z"
   },
   {
    "duration": 15,
    "start_time": "2021-12-30T12:43:08.626Z"
   },
   {
    "duration": 3,
    "start_time": "2021-12-30T12:43:08.643Z"
   },
   {
    "duration": 10,
    "start_time": "2021-12-30T12:43:08.648Z"
   },
   {
    "duration": 13,
    "start_time": "2021-12-30T12:43:08.659Z"
   },
   {
    "duration": 14,
    "start_time": "2021-12-30T12:43:08.691Z"
   },
   {
    "duration": 2,
    "start_time": "2021-12-30T12:43:08.708Z"
   },
   {
    "duration": 579,
    "start_time": "2021-12-30T14:11:20.406Z"
   },
   {
    "duration": 63,
    "start_time": "2021-12-30T14:11:20.987Z"
   },
   {
    "duration": 20,
    "start_time": "2021-12-30T14:11:21.052Z"
   },
   {
    "duration": 41,
    "start_time": "2021-12-30T14:11:21.074Z"
   },
   {
    "duration": 15,
    "start_time": "2021-12-30T14:11:21.117Z"
   },
   {
    "duration": 3,
    "start_time": "2021-12-30T14:11:21.134Z"
   },
   {
    "duration": 15,
    "start_time": "2021-12-30T14:11:21.138Z"
   },
   {
    "duration": 12,
    "start_time": "2021-12-30T14:11:21.156Z"
   },
   {
    "duration": 28,
    "start_time": "2021-12-30T14:11:21.170Z"
   },
   {
    "duration": 2,
    "start_time": "2021-12-30T14:11:21.200Z"
   },
   {
    "duration": 5,
    "start_time": "2021-12-30T14:12:01.120Z"
   },
   {
    "duration": 6,
    "start_time": "2021-12-30T14:12:06.102Z"
   },
   {
    "duration": 5,
    "start_time": "2021-12-30T14:12:17.382Z"
   },
   {
    "duration": 7,
    "start_time": "2021-12-30T14:13:27.666Z"
   },
   {
    "duration": 6,
    "start_time": "2021-12-30T14:13:37.630Z"
   },
   {
    "duration": 6,
    "start_time": "2021-12-30T14:13:44.748Z"
   },
   {
    "duration": 528,
    "start_time": "2021-12-30T15:35:58.939Z"
   },
   {
    "duration": 58,
    "start_time": "2021-12-30T15:35:59.469Z"
   },
   {
    "duration": 19,
    "start_time": "2021-12-30T15:35:59.529Z"
   },
   {
    "duration": 51,
    "start_time": "2021-12-30T15:35:59.550Z"
   },
   {
    "duration": 16,
    "start_time": "2021-12-30T15:35:59.602Z"
   },
   {
    "duration": 3,
    "start_time": "2021-12-30T15:35:59.620Z"
   },
   {
    "duration": 10,
    "start_time": "2021-12-30T15:35:59.625Z"
   },
   {
    "duration": 5,
    "start_time": "2021-12-30T15:35:59.637Z"
   },
   {
    "duration": 9,
    "start_time": "2021-12-30T15:35:59.643Z"
   },
   {
    "duration": 46,
    "start_time": "2021-12-30T15:35:59.654Z"
   },
   {
    "duration": 2,
    "start_time": "2021-12-30T15:35:59.702Z"
   },
   {
    "duration": 6,
    "start_time": "2021-12-30T15:37:47.831Z"
   },
   {
    "duration": 59,
    "start_time": "2021-12-30T15:43:51.949Z"
   },
   {
    "duration": 7,
    "start_time": "2021-12-30T15:44:20.843Z"
   },
   {
    "duration": 23,
    "start_time": "2021-12-30T15:44:34.216Z"
   },
   {
    "duration": 8,
    "start_time": "2021-12-30T15:44:50.952Z"
   },
   {
    "duration": 6,
    "start_time": "2021-12-30T15:47:44.457Z"
   },
   {
    "duration": 4,
    "start_time": "2021-12-30T15:47:50.087Z"
   },
   {
    "duration": 6,
    "start_time": "2021-12-30T15:48:05.178Z"
   },
   {
    "duration": 5,
    "start_time": "2021-12-30T15:48:17.845Z"
   },
   {
    "duration": 5,
    "start_time": "2021-12-30T15:49:13.971Z"
   },
   {
    "duration": 763,
    "start_time": "2021-12-31T16:24:44.402Z"
   },
   {
    "duration": 76,
    "start_time": "2021-12-31T16:24:45.168Z"
   },
   {
    "duration": 31,
    "start_time": "2021-12-31T16:24:45.253Z"
   },
   {
    "duration": 71,
    "start_time": "2021-12-31T16:24:45.288Z"
   },
   {
    "duration": 28,
    "start_time": "2021-12-31T16:24:45.362Z"
   },
   {
    "duration": 28,
    "start_time": "2021-12-31T16:24:45.393Z"
   },
   {
    "duration": 13,
    "start_time": "2021-12-31T16:24:45.423Z"
   },
   {
    "duration": 6,
    "start_time": "2021-12-31T16:24:45.439Z"
   },
   {
    "duration": 7,
    "start_time": "2021-12-31T16:24:45.448Z"
   },
   {
    "duration": 12,
    "start_time": "2021-12-31T16:24:45.458Z"
   },
   {
    "duration": 56,
    "start_time": "2021-12-31T16:24:45.472Z"
   },
   {
    "duration": 3,
    "start_time": "2021-12-31T16:24:45.531Z"
   },
   {
    "duration": 544,
    "start_time": "2022-01-05T10:32:02.812Z"
   },
   {
    "duration": 58,
    "start_time": "2022-01-05T10:32:03.358Z"
   },
   {
    "duration": 19,
    "start_time": "2022-01-05T10:32:03.421Z"
   },
   {
    "duration": 50,
    "start_time": "2022-01-05T10:32:03.442Z"
   },
   {
    "duration": 17,
    "start_time": "2022-01-05T10:32:03.494Z"
   },
   {
    "duration": 5,
    "start_time": "2022-01-05T10:32:03.513Z"
   },
   {
    "duration": 10,
    "start_time": "2022-01-05T10:32:03.521Z"
   },
   {
    "duration": 7,
    "start_time": "2022-01-05T10:32:03.533Z"
   },
   {
    "duration": 8,
    "start_time": "2022-01-05T10:32:03.541Z"
   },
   {
    "duration": 44,
    "start_time": "2022-01-05T10:32:03.551Z"
   },
   {
    "duration": 11,
    "start_time": "2022-01-05T10:32:03.596Z"
   },
   {
    "duration": 2,
    "start_time": "2022-01-05T10:32:03.608Z"
   },
   {
    "duration": 524,
    "start_time": "2022-01-05T11:18:34.632Z"
   },
   {
    "duration": 57,
    "start_time": "2022-01-05T11:18:35.158Z"
   },
   {
    "duration": 18,
    "start_time": "2022-01-05T11:18:35.218Z"
   },
   {
    "duration": 33,
    "start_time": "2022-01-05T11:18:35.238Z"
   },
   {
    "duration": 32,
    "start_time": "2022-01-05T11:18:35.272Z"
   },
   {
    "duration": 3,
    "start_time": "2022-01-05T11:18:35.306Z"
   },
   {
    "duration": 11,
    "start_time": "2022-01-05T11:18:35.310Z"
   },
   {
    "duration": 8,
    "start_time": "2022-01-05T11:18:35.323Z"
   },
   {
    "duration": 8,
    "start_time": "2022-01-05T11:18:35.332Z"
   },
   {
    "duration": 12,
    "start_time": "2022-01-05T11:18:35.341Z"
   },
   {
    "duration": 10,
    "start_time": "2022-01-05T11:18:35.354Z"
   },
   {
    "duration": 27,
    "start_time": "2022-01-05T11:18:35.365Z"
   },
   {
    "duration": 7,
    "start_time": "2022-01-05T11:30:21.732Z"
   },
   {
    "duration": 8,
    "start_time": "2022-01-05T11:30:58.655Z"
   },
   {
    "duration": 19,
    "start_time": "2022-01-05T11:31:04.466Z"
   },
   {
    "duration": 538,
    "start_time": "2022-01-05T11:31:23.108Z"
   },
   {
    "duration": 58,
    "start_time": "2022-01-05T11:31:23.648Z"
   },
   {
    "duration": 19,
    "start_time": "2022-01-05T11:31:23.708Z"
   },
   {
    "duration": 34,
    "start_time": "2022-01-05T11:31:23.729Z"
   },
   {
    "duration": 32,
    "start_time": "2022-01-05T11:31:23.765Z"
   },
   {
    "duration": 3,
    "start_time": "2022-01-05T11:31:23.798Z"
   },
   {
    "duration": 11,
    "start_time": "2022-01-05T11:31:23.803Z"
   },
   {
    "duration": 13,
    "start_time": "2022-01-05T11:31:23.815Z"
   },
   {
    "duration": 9,
    "start_time": "2022-01-05T11:31:23.831Z"
   },
   {
    "duration": 10,
    "start_time": "2022-01-05T11:31:23.842Z"
   },
   {
    "duration": 2,
    "start_time": "2022-01-05T11:31:23.853Z"
   },
   {
    "duration": 555,
    "start_time": "2022-01-05T12:08:03.809Z"
   },
   {
    "duration": 62,
    "start_time": "2022-01-05T12:08:04.366Z"
   },
   {
    "duration": 21,
    "start_time": "2022-01-05T12:08:04.431Z"
   },
   {
    "duration": 55,
    "start_time": "2022-01-05T12:08:04.455Z"
   },
   {
    "duration": 18,
    "start_time": "2022-01-05T12:08:04.512Z"
   },
   {
    "duration": 4,
    "start_time": "2022-01-05T12:08:04.532Z"
   },
   {
    "duration": 12,
    "start_time": "2022-01-05T12:08:04.538Z"
   },
   {
    "duration": 9,
    "start_time": "2022-01-05T12:08:04.552Z"
   },
   {
    "duration": 11,
    "start_time": "2022-01-05T12:08:04.591Z"
   },
   {
    "duration": 10,
    "start_time": "2022-01-05T12:08:04.604Z"
   },
   {
    "duration": 2,
    "start_time": "2022-01-05T12:08:04.616Z"
   },
   {
    "duration": 571,
    "start_time": "2022-01-05T13:17:45.008Z"
   },
   {
    "duration": 64,
    "start_time": "2022-01-05T13:17:45.581Z"
   },
   {
    "duration": 20,
    "start_time": "2022-01-05T13:17:45.648Z"
   },
   {
    "duration": 49,
    "start_time": "2022-01-05T13:17:45.670Z"
   },
   {
    "duration": 17,
    "start_time": "2022-01-05T13:17:45.721Z"
   },
   {
    "duration": 3,
    "start_time": "2022-01-05T13:17:45.740Z"
   },
   {
    "duration": 11,
    "start_time": "2022-01-05T13:17:45.745Z"
   },
   {
    "duration": 11,
    "start_time": "2022-01-05T13:17:45.758Z"
   },
   {
    "duration": 37,
    "start_time": "2022-01-05T13:17:45.771Z"
   },
   {
    "duration": 12,
    "start_time": "2022-01-05T13:17:45.809Z"
   },
   {
    "duration": 7,
    "start_time": "2022-01-05T13:17:45.822Z"
   },
   {
    "duration": 5,
    "start_time": "2022-01-05T13:20:52.689Z"
   },
   {
    "duration": 257,
    "start_time": "2022-01-05T13:21:45.099Z"
   },
   {
    "duration": 14,
    "start_time": "2022-01-05T13:21:53.095Z"
   },
   {
    "duration": 8,
    "start_time": "2022-01-05T13:23:59.587Z"
   },
   {
    "duration": 6,
    "start_time": "2022-01-05T13:24:10.654Z"
   },
   {
    "duration": 7,
    "start_time": "2022-01-05T13:24:44.935Z"
   },
   {
    "duration": 7,
    "start_time": "2022-01-05T13:25:26.066Z"
   },
   {
    "duration": 6,
    "start_time": "2022-01-05T13:25:49.849Z"
   },
   {
    "duration": 7,
    "start_time": "2022-01-05T13:26:11.284Z"
   },
   {
    "duration": 9,
    "start_time": "2022-01-05T13:26:21.093Z"
   },
   {
    "duration": 21,
    "start_time": "2022-01-05T13:27:15.800Z"
   },
   {
    "duration": 20,
    "start_time": "2022-01-05T13:28:40.943Z"
   },
   {
    "duration": 14,
    "start_time": "2022-01-05T13:28:53.895Z"
   },
   {
    "duration": 12,
    "start_time": "2022-01-05T13:28:55.266Z"
   },
   {
    "duration": 6,
    "start_time": "2022-01-05T13:29:05.239Z"
   },
   {
    "duration": 8,
    "start_time": "2022-01-05T13:29:09.891Z"
   },
   {
    "duration": 605,
    "start_time": "2022-01-12T13:42:30.074Z"
   },
   {
    "duration": 59,
    "start_time": "2022-01-12T13:42:30.681Z"
   },
   {
    "duration": 20,
    "start_time": "2022-01-12T13:42:30.743Z"
   },
   {
    "duration": 48,
    "start_time": "2022-01-12T13:42:30.765Z"
   },
   {
    "duration": 16,
    "start_time": "2022-01-12T13:42:30.815Z"
   },
   {
    "duration": 3,
    "start_time": "2022-01-12T13:42:30.833Z"
   },
   {
    "duration": 14,
    "start_time": "2022-01-12T13:42:30.838Z"
   },
   {
    "duration": 8,
    "start_time": "2022-01-12T13:42:30.854Z"
   },
   {
    "duration": 29,
    "start_time": "2022-01-12T13:42:30.863Z"
   },
   {
    "duration": 10,
    "start_time": "2022-01-12T13:42:30.894Z"
   },
   {
    "duration": 10,
    "start_time": "2022-01-12T13:42:30.905Z"
   },
   {
    "duration": 16,
    "start_time": "2022-01-12T13:42:30.916Z"
   },
   {
    "duration": 6,
    "start_time": "2022-01-12T13:50:13.811Z"
   },
   {
    "duration": 6,
    "start_time": "2022-01-12T13:51:47.538Z"
   },
   {
    "duration": 9,
    "start_time": "2022-01-12T13:52:10.057Z"
   },
   {
    "duration": 8,
    "start_time": "2022-01-12T13:52:33.846Z"
   },
   {
    "duration": 2,
    "start_time": "2022-01-12T13:52:41.554Z"
   },
   {
    "duration": 61,
    "start_time": "2022-01-12T13:52:41.827Z"
   },
   {
    "duration": 14,
    "start_time": "2022-01-12T13:52:42.099Z"
   },
   {
    "duration": 33,
    "start_time": "2022-01-12T13:52:42.390Z"
   },
   {
    "duration": 17,
    "start_time": "2022-01-12T13:52:42.684Z"
   },
   {
    "duration": 3,
    "start_time": "2022-01-12T13:52:44.572Z"
   },
   {
    "duration": 8,
    "start_time": "2022-01-12T13:52:45.439Z"
   },
   {
    "duration": 13,
    "start_time": "2022-01-12T13:52:47.266Z"
   },
   {
    "duration": 10,
    "start_time": "2022-01-12T13:52:48.690Z"
   },
   {
    "duration": 11,
    "start_time": "2022-01-12T13:52:49.371Z"
   },
   {
    "duration": 12,
    "start_time": "2022-01-12T13:52:50.519Z"
   },
   {
    "duration": 6,
    "start_time": "2022-01-12T13:56:20.838Z"
   },
   {
    "duration": 6,
    "start_time": "2022-01-12T13:59:28.326Z"
   },
   {
    "duration": 7,
    "start_time": "2022-01-12T13:59:33.257Z"
   },
   {
    "duration": 23,
    "start_time": "2022-01-12T13:59:50.772Z"
   },
   {
    "duration": 21,
    "start_time": "2022-01-12T14:04:04.234Z"
   },
   {
    "duration": 7,
    "start_time": "2022-01-12T14:04:17.711Z"
   },
   {
    "duration": 7,
    "start_time": "2022-01-12T14:07:12.393Z"
   },
   {
    "duration": 6,
    "start_time": "2022-01-12T14:07:19.261Z"
   },
   {
    "duration": 233,
    "start_time": "2022-01-12T14:08:22.374Z"
   },
   {
    "duration": 9,
    "start_time": "2022-01-12T14:08:30.714Z"
   },
   {
    "duration": 228,
    "start_time": "2022-01-12T14:08:48.461Z"
   },
   {
    "duration": 187,
    "start_time": "2022-01-12T14:09:34.743Z"
   },
   {
    "duration": 10,
    "start_time": "2022-01-12T14:09:40.334Z"
   },
   {
    "duration": 7,
    "start_time": "2022-01-12T14:10:40.932Z"
   },
   {
    "duration": 5,
    "start_time": "2022-01-12T14:11:05.223Z"
   },
   {
    "duration": 8,
    "start_time": "2022-01-12T14:12:30.846Z"
   },
   {
    "duration": 12,
    "start_time": "2022-01-12T14:12:37.265Z"
   },
   {
    "duration": 7,
    "start_time": "2022-01-12T14:13:24.053Z"
   },
   {
    "duration": 7,
    "start_time": "2022-01-12T14:17:19.914Z"
   },
   {
    "duration": 7,
    "start_time": "2022-01-12T14:17:20.696Z"
   },
   {
    "duration": 4725,
    "start_time": "2022-01-12T14:18:28.755Z"
   },
   {
    "duration": 556,
    "start_time": "2022-01-12T14:18:35.201Z"
   },
   {
    "duration": 58,
    "start_time": "2022-01-12T14:18:35.758Z"
   },
   {
    "duration": 20,
    "start_time": "2022-01-12T14:18:35.818Z"
   },
   {
    "duration": 33,
    "start_time": "2022-01-12T14:18:35.841Z"
   },
   {
    "duration": 30,
    "start_time": "2022-01-12T14:18:35.875Z"
   },
   {
    "duration": 3,
    "start_time": "2022-01-12T14:18:35.906Z"
   },
   {
    "duration": 11,
    "start_time": "2022-01-12T14:18:35.911Z"
   },
   {
    "duration": 9,
    "start_time": "2022-01-12T14:18:35.925Z"
   },
   {
    "duration": 9,
    "start_time": "2022-01-12T14:18:35.936Z"
   },
   {
    "duration": 10,
    "start_time": "2022-01-12T14:18:35.946Z"
   },
   {
    "duration": 43,
    "start_time": "2022-01-12T14:18:35.957Z"
   },
   {
    "duration": 6,
    "start_time": "2022-01-12T14:18:36.001Z"
   },
   {
    "duration": 4664,
    "start_time": "2022-01-12T14:18:36.009Z"
   },
   {
    "duration": 249,
    "start_time": "2022-01-12T14:18:40.426Z"
   },
   {
    "duration": 216,
    "start_time": "2022-01-12T14:18:40.460Z"
   },
   {
    "duration": 4793,
    "start_time": "2022-01-12T14:19:22.070Z"
   },
   {
    "duration": 508,
    "start_time": "2022-01-13T09:00:06.366Z"
   },
   {
    "duration": 55,
    "start_time": "2022-01-13T09:00:06.875Z"
   },
   {
    "duration": 18,
    "start_time": "2022-01-13T09:00:06.932Z"
   },
   {
    "duration": 32,
    "start_time": "2022-01-13T09:00:06.952Z"
   },
   {
    "duration": 39,
    "start_time": "2022-01-13T09:00:06.985Z"
   },
   {
    "duration": 3,
    "start_time": "2022-01-13T09:00:07.026Z"
   },
   {
    "duration": 21,
    "start_time": "2022-01-13T09:00:07.031Z"
   },
   {
    "duration": 18,
    "start_time": "2022-01-13T09:00:07.054Z"
   },
   {
    "duration": 14,
    "start_time": "2022-01-13T09:00:07.073Z"
   },
   {
    "duration": 20,
    "start_time": "2022-01-13T09:00:07.088Z"
   },
   {
    "duration": 10,
    "start_time": "2022-01-13T09:00:07.109Z"
   },
   {
    "duration": 5,
    "start_time": "2022-01-13T09:00:07.121Z"
   },
   {
    "duration": 5296,
    "start_time": "2022-01-13T09:00:07.128Z"
   },
   {
    "duration": 614,
    "start_time": "2022-01-13T09:00:11.812Z"
   },
   {
    "duration": 595,
    "start_time": "2022-01-13T09:00:11.832Z"
   },
   {
    "duration": 4650,
    "start_time": "2022-01-13T09:27:02.269Z"
   },
   {
    "duration": 533,
    "start_time": "2022-01-13T09:27:08.736Z"
   },
   {
    "duration": 54,
    "start_time": "2022-01-13T09:27:09.271Z"
   },
   {
    "duration": 19,
    "start_time": "2022-01-13T09:27:09.327Z"
   },
   {
    "duration": 37,
    "start_time": "2022-01-13T09:27:09.348Z"
   },
   {
    "duration": 33,
    "start_time": "2022-01-13T09:27:09.388Z"
   },
   {
    "duration": 4,
    "start_time": "2022-01-13T09:27:09.423Z"
   },
   {
    "duration": 12,
    "start_time": "2022-01-13T09:27:09.428Z"
   },
   {
    "duration": 10,
    "start_time": "2022-01-13T09:27:09.442Z"
   },
   {
    "duration": 9,
    "start_time": "2022-01-13T09:27:09.454Z"
   },
   {
    "duration": 13,
    "start_time": "2022-01-13T09:27:09.465Z"
   },
   {
    "duration": 5499,
    "start_time": "2022-01-13T09:27:09.479Z"
   },
   {
    "duration": 625,
    "start_time": "2022-01-13T09:27:14.354Z"
   },
   {
    "duration": 608,
    "start_time": "2022-01-13T09:27:14.372Z"
   },
   {
    "duration": 592,
    "start_time": "2022-01-13T09:27:14.390Z"
   },
   {
    "duration": 4866,
    "start_time": "2022-01-13T09:27:23.848Z"
   },
   {
    "duration": 12,
    "start_time": "2022-01-13T09:27:36.669Z"
   },
   {
    "duration": 506,
    "start_time": "2022-01-13T10:18:14.964Z"
   },
   {
    "duration": 52,
    "start_time": "2022-01-13T10:18:15.472Z"
   },
   {
    "duration": 19,
    "start_time": "2022-01-13T10:18:15.526Z"
   },
   {
    "duration": 28,
    "start_time": "2022-01-13T10:18:15.546Z"
   },
   {
    "duration": 39,
    "start_time": "2022-01-13T10:18:15.576Z"
   },
   {
    "duration": 3,
    "start_time": "2022-01-13T10:18:15.617Z"
   },
   {
    "duration": 12,
    "start_time": "2022-01-13T10:18:15.622Z"
   },
   {
    "duration": 21,
    "start_time": "2022-01-13T10:18:15.636Z"
   },
   {
    "duration": 10,
    "start_time": "2022-01-13T10:18:15.658Z"
   },
   {
    "duration": 10,
    "start_time": "2022-01-13T10:18:15.669Z"
   },
   {
    "duration": 8,
    "start_time": "2022-01-13T10:18:15.680Z"
   },
   {
    "duration": 23,
    "start_time": "2022-01-13T10:18:15.690Z"
   },
   {
    "duration": 4,
    "start_time": "2022-01-13T10:18:15.714Z"
   },
   {
    "duration": 20,
    "start_time": "2022-01-13T10:18:15.720Z"
   },
   {
    "duration": 11,
    "start_time": "2022-01-13T10:19:35.100Z"
   },
   {
    "duration": 9,
    "start_time": "2022-01-13T10:20:04.128Z"
   },
   {
    "duration": 246,
    "start_time": "2022-01-13T10:22:32.944Z"
   },
   {
    "duration": 67,
    "start_time": "2022-01-13T10:22:51.750Z"
   },
   {
    "duration": 201,
    "start_time": "2022-01-13T10:23:00.248Z"
   },
   {
    "duration": 205,
    "start_time": "2022-01-13T10:23:17.728Z"
   },
   {
    "duration": 214,
    "start_time": "2022-01-13T10:40:49.649Z"
   },
   {
    "duration": 14,
    "start_time": "2022-01-13T10:41:07.610Z"
   },
   {
    "duration": 11,
    "start_time": "2022-01-13T10:41:16.726Z"
   },
   {
    "duration": 11,
    "start_time": "2022-01-13T10:41:18.793Z"
   },
   {
    "duration": 17,
    "start_time": "2022-01-13T10:41:25.573Z"
   },
   {
    "duration": 30,
    "start_time": "2022-01-13T10:41:39.382Z"
   },
   {
    "duration": 11,
    "start_time": "2022-01-13T10:42:27.815Z"
   },
   {
    "duration": 14,
    "start_time": "2022-01-13T10:42:29.325Z"
   },
   {
    "duration": 5,
    "start_time": "2022-01-13T10:43:03.171Z"
   },
   {
    "duration": 5,
    "start_time": "2022-01-13T10:43:09.063Z"
   },
   {
    "duration": 11,
    "start_time": "2022-01-13T10:43:52.365Z"
   },
   {
    "duration": 11,
    "start_time": "2022-01-13T10:43:54.130Z"
   },
   {
    "duration": 13,
    "start_time": "2022-01-13T10:45:20.691Z"
   },
   {
    "duration": 186,
    "start_time": "2022-01-13T10:48:23.034Z"
   },
   {
    "duration": 19,
    "start_time": "2022-01-13T10:48:50.380Z"
   },
   {
    "duration": 18,
    "start_time": "2022-01-13T10:49:17.500Z"
   },
   {
    "duration": 30,
    "start_time": "2022-01-13T10:51:11.907Z"
   },
   {
    "duration": 17,
    "start_time": "2022-01-13T10:53:18.204Z"
   },
   {
    "duration": 2,
    "start_time": "2022-01-13T11:00:37.709Z"
   },
   {
    "duration": 51,
    "start_time": "2022-01-13T11:00:38.180Z"
   },
   {
    "duration": 22,
    "start_time": "2022-01-13T11:00:39.016Z"
   },
   {
    "duration": 35,
    "start_time": "2022-01-13T11:00:43.249Z"
   },
   {
    "duration": 15,
    "start_time": "2022-01-13T11:00:50.824Z"
   },
   {
    "duration": 8,
    "start_time": "2022-01-13T11:00:56.832Z"
   },
   {
    "duration": 8,
    "start_time": "2022-01-13T11:00:59.178Z"
   },
   {
    "duration": 10,
    "start_time": "2022-01-13T11:01:00.756Z"
   },
   {
    "duration": 62,
    "start_time": "2022-01-13T11:01:19.766Z"
   },
   {
    "duration": 5,
    "start_time": "2022-01-13T11:02:37.842Z"
   },
   {
    "duration": 5,
    "start_time": "2022-01-13T11:03:11.685Z"
   },
   {
    "duration": 5,
    "start_time": "2022-01-13T11:03:23.211Z"
   },
   {
    "duration": 70,
    "start_time": "2022-01-13T11:04:40.736Z"
   },
   {
    "duration": 4,
    "start_time": "2022-01-13T11:04:58.901Z"
   },
   {
    "duration": 5,
    "start_time": "2022-01-13T11:05:31.999Z"
   },
   {
    "duration": 6,
    "start_time": "2022-01-13T11:05:42.544Z"
   },
   {
    "duration": 7,
    "start_time": "2022-01-13T11:06:44.685Z"
   },
   {
    "duration": 6,
    "start_time": "2022-01-13T11:07:09.002Z"
   },
   {
    "duration": 8,
    "start_time": "2022-01-13T11:20:40.779Z"
   },
   {
    "duration": 18,
    "start_time": "2022-01-13T11:20:49.545Z"
   },
   {
    "duration": 10,
    "start_time": "2022-01-13T11:21:00.887Z"
   },
   {
    "duration": 13,
    "start_time": "2022-01-13T11:21:36.853Z"
   },
   {
    "duration": 13,
    "start_time": "2022-01-13T11:22:14.001Z"
   },
   {
    "duration": 13,
    "start_time": "2022-01-13T11:22:55.088Z"
   },
   {
    "duration": 14,
    "start_time": "2022-01-13T11:23:03.259Z"
   },
   {
    "duration": 14,
    "start_time": "2022-01-13T11:23:05.026Z"
   },
   {
    "duration": 305,
    "start_time": "2022-01-13T11:25:47.605Z"
   },
   {
    "duration": 213,
    "start_time": "2022-01-13T11:26:09.112Z"
   },
   {
    "duration": 57,
    "start_time": "2022-01-13T11:26:20.189Z"
   },
   {
    "duration": 8,
    "start_time": "2022-01-13T11:26:29.709Z"
   },
   {
    "duration": 7,
    "start_time": "2022-01-13T11:26:48.025Z"
   },
   {
    "duration": 9,
    "start_time": "2022-01-13T11:26:56.885Z"
   },
   {
    "duration": 8,
    "start_time": "2022-01-13T11:27:54.413Z"
   },
   {
    "duration": 8,
    "start_time": "2022-01-13T11:28:10.561Z"
   },
   {
    "duration": 7,
    "start_time": "2022-01-13T11:28:23.964Z"
   },
   {
    "duration": 7,
    "start_time": "2022-01-13T11:28:32.792Z"
   },
   {
    "duration": 7,
    "start_time": "2022-01-13T11:28:52.663Z"
   },
   {
    "duration": 7,
    "start_time": "2022-01-13T11:29:04.774Z"
   },
   {
    "duration": 7,
    "start_time": "2022-01-13T11:29:17.562Z"
   },
   {
    "duration": 7,
    "start_time": "2022-01-13T11:30:20.874Z"
   },
   {
    "duration": 7,
    "start_time": "2022-01-13T11:30:35.075Z"
   },
   {
    "duration": 7,
    "start_time": "2022-01-13T11:31:12.870Z"
   },
   {
    "duration": 6,
    "start_time": "2022-01-13T11:31:23.622Z"
   },
   {
    "duration": 7,
    "start_time": "2022-01-13T11:31:44.412Z"
   },
   {
    "duration": 7,
    "start_time": "2022-01-13T11:32:00.191Z"
   },
   {
    "duration": 7,
    "start_time": "2022-01-13T11:32:20.550Z"
   },
   {
    "duration": 4,
    "start_time": "2022-01-13T11:34:33.627Z"
   },
   {
    "duration": 217,
    "start_time": "2022-01-13T11:34:47.961Z"
   },
   {
    "duration": 5,
    "start_time": "2022-01-13T11:34:53.048Z"
   },
   {
    "duration": 6,
    "start_time": "2022-01-13T11:34:59.424Z"
   },
   {
    "duration": 6,
    "start_time": "2022-01-13T11:35:13.038Z"
   },
   {
    "duration": 5,
    "start_time": "2022-01-13T11:35:34.191Z"
   },
   {
    "duration": 4,
    "start_time": "2022-01-13T11:35:59.889Z"
   },
   {
    "duration": 3,
    "start_time": "2022-01-13T11:36:05.105Z"
   },
   {
    "duration": 3,
    "start_time": "2022-01-13T11:36:22.119Z"
   },
   {
    "duration": 4,
    "start_time": "2022-01-13T11:36:59.581Z"
   },
   {
    "duration": 3,
    "start_time": "2022-01-13T11:37:28.928Z"
   },
   {
    "duration": 3,
    "start_time": "2022-01-13T11:39:05.856Z"
   },
   {
    "duration": 3,
    "start_time": "2022-01-13T11:39:21.952Z"
   },
   {
    "duration": 4,
    "start_time": "2022-01-13T11:39:29.165Z"
   },
   {
    "duration": 4,
    "start_time": "2022-01-13T11:40:20.413Z"
   },
   {
    "duration": 5,
    "start_time": "2022-01-13T11:40:32.948Z"
   },
   {
    "duration": 237,
    "start_time": "2022-01-13T11:44:28.988Z"
   },
   {
    "duration": 216,
    "start_time": "2022-01-13T11:44:45.305Z"
   },
   {
    "duration": 212,
    "start_time": "2022-01-13T11:46:01.613Z"
   },
   {
    "duration": 233,
    "start_time": "2022-01-13T11:46:32.104Z"
   },
   {
    "duration": 234,
    "start_time": "2022-01-13T11:46:55.409Z"
   },
   {
    "duration": 609,
    "start_time": "2022-01-14T16:30:37.033Z"
   },
   {
    "duration": 65,
    "start_time": "2022-01-14T16:30:37.644Z"
   },
   {
    "duration": 21,
    "start_time": "2022-01-14T16:30:37.712Z"
   },
   {
    "duration": 44,
    "start_time": "2022-01-14T16:30:37.736Z"
   },
   {
    "duration": 30,
    "start_time": "2022-01-14T16:30:37.782Z"
   },
   {
    "duration": 9,
    "start_time": "2022-01-14T16:30:37.814Z"
   },
   {
    "duration": 12,
    "start_time": "2022-01-14T16:30:37.824Z"
   },
   {
    "duration": 9,
    "start_time": "2022-01-14T16:30:37.838Z"
   },
   {
    "duration": 87,
    "start_time": "2022-01-14T16:30:37.849Z"
   },
   {
    "duration": 384,
    "start_time": "2022-01-14T16:30:37.554Z"
   },
   {
    "duration": 383,
    "start_time": "2022-01-14T16:30:37.556Z"
   },
   {
    "duration": 379,
    "start_time": "2022-01-14T16:30:37.561Z"
   },
   {
    "duration": 377,
    "start_time": "2022-01-14T16:30:37.564Z"
   },
   {
    "duration": 376,
    "start_time": "2022-01-14T16:30:37.566Z"
   },
   {
    "duration": 4,
    "start_time": "2022-01-14T16:30:48.137Z"
   },
   {
    "duration": 6,
    "start_time": "2022-01-14T16:32:13.119Z"
   },
   {
    "duration": 435,
    "start_time": "2022-01-14T16:32:19.367Z"
   },
   {
    "duration": 11,
    "start_time": "2022-01-14T16:32:25.521Z"
   },
   {
    "duration": 95,
    "start_time": "2022-01-14T16:39:22.846Z"
   },
   {
    "duration": 93,
    "start_time": "2022-01-14T16:39:28.885Z"
   },
   {
    "duration": 5,
    "start_time": "2022-01-14T16:39:35.622Z"
   },
   {
    "duration": 5,
    "start_time": "2022-01-14T16:39:45.560Z"
   },
   {
    "duration": 22,
    "start_time": "2022-01-14T16:40:14.110Z"
   },
   {
    "duration": 262,
    "start_time": "2022-01-14T16:40:26.148Z"
   },
   {
    "duration": 24,
    "start_time": "2022-01-14T16:40:36.362Z"
   },
   {
    "duration": 28,
    "start_time": "2022-01-14T16:40:54.202Z"
   },
   {
    "duration": 24,
    "start_time": "2022-01-14T16:41:06.007Z"
   },
   {
    "duration": 7,
    "start_time": "2022-01-14T16:41:26.971Z"
   },
   {
    "duration": 6,
    "start_time": "2022-01-14T16:41:32.455Z"
   },
   {
    "duration": 6,
    "start_time": "2022-01-14T16:41:54.553Z"
   },
   {
    "duration": 6,
    "start_time": "2022-01-14T16:42:22.697Z"
   },
   {
    "duration": 7,
    "start_time": "2022-01-14T16:43:15.515Z"
   },
   {
    "duration": 266,
    "start_time": "2022-01-14T16:43:33.403Z"
   },
   {
    "duration": 8,
    "start_time": "2022-01-14T16:43:38.698Z"
   },
   {
    "duration": 1260,
    "start_time": "2022-01-14T16:43:58.355Z"
   },
   {
    "duration": 10,
    "start_time": "2022-01-14T16:44:05.652Z"
   },
   {
    "duration": 11,
    "start_time": "2022-01-14T16:44:29.274Z"
   },
   {
    "duration": 6420,
    "start_time": "2022-01-14T16:45:37.248Z"
   },
   {
    "duration": 6,
    "start_time": "2022-01-14T16:46:19.978Z"
   },
   {
    "duration": 6,
    "start_time": "2022-01-14T16:46:59.217Z"
   },
   {
    "duration": 1153,
    "start_time": "2022-01-14T16:50:56.136Z"
   },
   {
    "duration": 325,
    "start_time": "2022-01-14T16:55:11.898Z"
   },
   {
    "duration": 305,
    "start_time": "2022-01-14T16:55:18.358Z"
   },
   {
    "duration": 307,
    "start_time": "2022-01-14T16:55:27.381Z"
   },
   {
    "duration": 273,
    "start_time": "2022-01-14T16:55:31.723Z"
   },
   {
    "duration": 2,
    "start_time": "2022-01-14T16:56:38.963Z"
   },
   {
    "duration": 1118,
    "start_time": "2022-01-14T16:56:47.049Z"
   },
   {
    "duration": 1167,
    "start_time": "2022-01-14T16:56:57.718Z"
   },
   {
    "duration": 16,
    "start_time": "2022-01-14T16:57:31.490Z"
   },
   {
    "duration": 2095,
    "start_time": "2022-01-14T16:57:47.572Z"
   },
   {
    "duration": 1231,
    "start_time": "2022-01-14T16:58:15.690Z"
   },
   {
    "duration": 583,
    "start_time": "2022-01-15T11:35:47.378Z"
   },
   {
    "duration": 58,
    "start_time": "2022-01-15T11:35:47.963Z"
   },
   {
    "duration": 20,
    "start_time": "2022-01-15T11:35:48.022Z"
   },
   {
    "duration": 33,
    "start_time": "2022-01-15T11:35:48.044Z"
   },
   {
    "duration": 29,
    "start_time": "2022-01-15T11:35:48.078Z"
   },
   {
    "duration": 8,
    "start_time": "2022-01-15T11:35:48.108Z"
   },
   {
    "duration": 11,
    "start_time": "2022-01-15T11:35:48.118Z"
   },
   {
    "duration": 9,
    "start_time": "2022-01-15T11:35:48.131Z"
   },
   {
    "duration": 5,
    "start_time": "2022-01-15T11:35:48.142Z"
   },
   {
    "duration": 42,
    "start_time": "2022-01-15T11:35:48.149Z"
   },
   {
    "duration": 6,
    "start_time": "2022-01-15T11:35:48.193Z"
   },
   {
    "duration": 11,
    "start_time": "2022-01-15T11:35:48.201Z"
   },
   {
    "duration": 12,
    "start_time": "2022-01-15T11:35:48.214Z"
   },
   {
    "duration": 17,
    "start_time": "2022-01-15T11:35:48.228Z"
   },
   {
    "duration": 45,
    "start_time": "2022-01-15T11:35:48.247Z"
   },
   {
    "duration": 12,
    "start_time": "2022-01-15T11:37:57.756Z"
   },
   {
    "duration": 11,
    "start_time": "2022-01-15T11:38:19.382Z"
   },
   {
    "duration": 10,
    "start_time": "2022-01-15T11:38:26.706Z"
   },
   {
    "duration": 13,
    "start_time": "2022-01-15T11:39:52.910Z"
   },
   {
    "duration": 13,
    "start_time": "2022-01-15T11:54:20.809Z"
   },
   {
    "duration": 10,
    "start_time": "2022-01-15T11:54:31.774Z"
   },
   {
    "duration": 10,
    "start_time": "2022-01-15T11:54:44.161Z"
   },
   {
    "duration": 11,
    "start_time": "2022-01-15T11:55:36.749Z"
   },
   {
    "duration": 13,
    "start_time": "2022-01-15T11:55:44.062Z"
   },
   {
    "duration": 11,
    "start_time": "2022-01-15T11:55:49.663Z"
   },
   {
    "duration": 16,
    "start_time": "2022-01-15T11:55:54.757Z"
   },
   {
    "duration": 783,
    "start_time": "2022-01-16T11:26:59.479Z"
   },
   {
    "duration": 93,
    "start_time": "2022-01-16T11:27:00.266Z"
   },
   {
    "duration": 30,
    "start_time": "2022-01-16T11:27:00.362Z"
   },
   {
    "duration": 70,
    "start_time": "2022-01-16T11:27:00.395Z"
   },
   {
    "duration": 25,
    "start_time": "2022-01-16T11:27:00.468Z"
   },
   {
    "duration": 31,
    "start_time": "2022-01-16T11:27:00.496Z"
   },
   {
    "duration": 17,
    "start_time": "2022-01-16T11:27:00.529Z"
   },
   {
    "duration": 21,
    "start_time": "2022-01-16T11:27:00.549Z"
   },
   {
    "duration": 7,
    "start_time": "2022-01-16T11:27:00.573Z"
   },
   {
    "duration": 52,
    "start_time": "2022-01-16T11:27:00.583Z"
   },
   {
    "duration": 10,
    "start_time": "2022-01-16T11:27:00.638Z"
   },
   {
    "duration": 22,
    "start_time": "2022-01-16T11:27:00.651Z"
   },
   {
    "duration": 59,
    "start_time": "2022-01-16T11:27:00.676Z"
   },
   {
    "duration": 37,
    "start_time": "2022-01-16T11:27:00.738Z"
   },
   {
    "duration": 20,
    "start_time": "2022-01-16T11:27:00.778Z"
   },
   {
    "duration": 723,
    "start_time": "2022-01-16T11:31:55.822Z"
   },
   {
    "duration": 77,
    "start_time": "2022-01-16T11:31:56.549Z"
   },
   {
    "duration": 32,
    "start_time": "2022-01-16T11:31:56.630Z"
   },
   {
    "duration": 63,
    "start_time": "2022-01-16T11:31:56.665Z"
   },
   {
    "duration": 25,
    "start_time": "2022-01-16T11:31:56.730Z"
   },
   {
    "duration": 12,
    "start_time": "2022-01-16T11:31:56.757Z"
   },
   {
    "duration": 18,
    "start_time": "2022-01-16T11:31:56.771Z"
   },
   {
    "duration": 37,
    "start_time": "2022-01-16T11:31:56.791Z"
   },
   {
    "duration": 8,
    "start_time": "2022-01-16T11:31:56.832Z"
   },
   {
    "duration": 20,
    "start_time": "2022-01-16T11:31:56.842Z"
   },
   {
    "duration": 8,
    "start_time": "2022-01-16T11:31:56.864Z"
   },
   {
    "duration": 56,
    "start_time": "2022-01-16T11:31:56.874Z"
   },
   {
    "duration": 19,
    "start_time": "2022-01-16T11:31:56.932Z"
   },
   {
    "duration": 27,
    "start_time": "2022-01-16T11:31:56.953Z"
   },
   {
    "duration": 42,
    "start_time": "2022-01-16T11:31:56.983Z"
   },
   {
    "duration": 41,
    "start_time": "2022-01-16T11:33:16.311Z"
   },
   {
    "duration": 19,
    "start_time": "2022-01-16T11:33:46.171Z"
   },
   {
    "duration": 96,
    "start_time": "2022-01-16T11:33:53.428Z"
   },
   {
    "duration": 41,
    "start_time": "2022-01-16T11:33:57.651Z"
   },
   {
    "duration": 33,
    "start_time": "2022-01-16T11:34:12.218Z"
   },
   {
    "duration": 18,
    "start_time": "2022-01-16T11:34:17.845Z"
   },
   {
    "duration": 34,
    "start_time": "2022-01-16T11:34:24.541Z"
   },
   {
    "duration": 18,
    "start_time": "2022-01-16T11:34:49.010Z"
   },
   {
    "duration": 19,
    "start_time": "2022-01-16T11:34:54.141Z"
   },
   {
    "duration": 17,
    "start_time": "2022-01-16T11:34:58.673Z"
   },
   {
    "duration": 18,
    "start_time": "2022-01-16T11:35:07.556Z"
   },
   {
    "duration": 18,
    "start_time": "2022-01-16T11:35:12.872Z"
   },
   {
    "duration": 17,
    "start_time": "2022-01-16T11:35:25.604Z"
   },
   {
    "duration": 84,
    "start_time": "2022-01-16T11:35:30.721Z"
   },
   {
    "duration": 40,
    "start_time": "2022-01-16T11:35:38.719Z"
   },
   {
    "duration": 12,
    "start_time": "2022-01-16T11:36:53.046Z"
   },
   {
    "duration": 10,
    "start_time": "2022-01-16T11:36:59.682Z"
   },
   {
    "duration": 13,
    "start_time": "2022-01-16T11:37:08.622Z"
   },
   {
    "duration": 9,
    "start_time": "2022-01-16T11:37:15.546Z"
   },
   {
    "duration": 8,
    "start_time": "2022-01-16T11:39:16.700Z"
   },
   {
    "duration": 7,
    "start_time": "2022-01-16T11:39:26.728Z"
   },
   {
    "duration": 6,
    "start_time": "2022-01-16T11:39:35.371Z"
   },
   {
    "duration": 7,
    "start_time": "2022-01-16T11:40:08.260Z"
   },
   {
    "duration": 158,
    "start_time": "2022-01-16T11:40:29.812Z"
   },
   {
    "duration": 103,
    "start_time": "2022-01-16T11:40:37.818Z"
   },
   {
    "duration": 34,
    "start_time": "2022-01-16T11:40:41.120Z"
   },
   {
    "duration": 375,
    "start_time": "2022-01-16T11:41:17.848Z"
   },
   {
    "duration": 37,
    "start_time": "2022-01-16T11:41:34.773Z"
   },
   {
    "duration": 9,
    "start_time": "2022-01-16T11:42:01.528Z"
   },
   {
    "duration": 20,
    "start_time": "2022-01-16T11:42:08.197Z"
   },
   {
    "duration": 271,
    "start_time": "2022-01-16T13:44:18.083Z"
   },
   {
    "duration": 592,
    "start_time": "2022-01-16T13:44:27.227Z"
   },
   {
    "duration": 56,
    "start_time": "2022-01-16T13:44:27.822Z"
   },
   {
    "duration": 18,
    "start_time": "2022-01-16T13:44:27.882Z"
   },
   {
    "duration": 47,
    "start_time": "2022-01-16T13:44:27.902Z"
   },
   {
    "duration": 14,
    "start_time": "2022-01-16T13:44:27.951Z"
   },
   {
    "duration": 7,
    "start_time": "2022-01-16T13:44:27.967Z"
   },
   {
    "duration": 13,
    "start_time": "2022-01-16T13:44:27.976Z"
   },
   {
    "duration": 8,
    "start_time": "2022-01-16T13:44:27.992Z"
   },
   {
    "duration": 5,
    "start_time": "2022-01-16T13:44:28.002Z"
   },
   {
    "duration": 38,
    "start_time": "2022-01-16T13:44:28.009Z"
   },
   {
    "duration": 12,
    "start_time": "2022-01-16T13:44:28.048Z"
   },
   {
    "duration": 9,
    "start_time": "2022-01-16T13:44:28.061Z"
   },
   {
    "duration": 15,
    "start_time": "2022-01-16T13:44:28.072Z"
   },
   {
    "duration": 16,
    "start_time": "2022-01-16T13:44:28.088Z"
   },
   {
    "duration": 44,
    "start_time": "2022-01-16T13:44:28.105Z"
   },
   {
    "duration": 11,
    "start_time": "2022-01-16T13:44:28.151Z"
   },
   {
    "duration": 1840,
    "start_time": "2022-01-16T13:47:43.377Z"
   },
   {
    "duration": 25,
    "start_time": "2022-01-16T13:48:06.854Z"
   },
   {
    "duration": 12,
    "start_time": "2022-01-16T13:48:17.063Z"
   },
   {
    "duration": 11,
    "start_time": "2022-01-16T13:48:28.251Z"
   },
   {
    "duration": 243,
    "start_time": "2022-01-16T13:48:38.049Z"
   },
   {
    "duration": 232,
    "start_time": "2022-01-16T13:48:44.133Z"
   },
   {
    "duration": 241,
    "start_time": "2022-01-16T13:48:58.966Z"
   },
   {
    "duration": 13,
    "start_time": "2022-01-16T13:49:27.136Z"
   },
   {
    "duration": 24,
    "start_time": "2022-01-16T13:49:54.200Z"
   },
   {
    "duration": 12,
    "start_time": "2022-01-16T13:50:12.888Z"
   },
   {
    "duration": 12,
    "start_time": "2022-01-16T13:50:17.580Z"
   },
   {
    "duration": 12,
    "start_time": "2022-01-16T13:50:22.357Z"
   },
   {
    "duration": 12,
    "start_time": "2022-01-16T13:50:34.953Z"
   },
   {
    "duration": 12,
    "start_time": "2022-01-16T13:51:28.813Z"
   },
   {
    "duration": 14,
    "start_time": "2022-01-16T13:51:36.301Z"
   },
   {
    "duration": 13,
    "start_time": "2022-01-16T13:53:39.017Z"
   },
   {
    "duration": 25,
    "start_time": "2022-01-16T13:53:48.773Z"
   },
   {
    "duration": 2,
    "start_time": "2022-01-16T13:53:58.241Z"
   },
   {
    "duration": 59,
    "start_time": "2022-01-16T13:53:58.789Z"
   },
   {
    "duration": 13,
    "start_time": "2022-01-16T13:53:59.551Z"
   },
   {
    "duration": 28,
    "start_time": "2022-01-16T13:54:00.168Z"
   },
   {
    "duration": 16,
    "start_time": "2022-01-16T13:54:00.860Z"
   },
   {
    "duration": 8,
    "start_time": "2022-01-16T13:54:04.811Z"
   },
   {
    "duration": 10,
    "start_time": "2022-01-16T13:54:06.189Z"
   },
   {
    "duration": 10,
    "start_time": "2022-01-16T13:54:07.564Z"
   },
   {
    "duration": 7,
    "start_time": "2022-01-16T13:54:10.748Z"
   },
   {
    "duration": 25,
    "start_time": "2022-01-16T13:54:12.641Z"
   },
   {
    "duration": 12,
    "start_time": "2022-01-16T13:54:24.736Z"
   },
   {
    "duration": 12,
    "start_time": "2022-01-16T13:54:29.181Z"
   },
   {
    "duration": 12,
    "start_time": "2022-01-16T13:54:33.520Z"
   },
   {
    "duration": 13,
    "start_time": "2022-01-16T13:57:52.420Z"
   },
   {
    "duration": 13,
    "start_time": "2022-01-16T14:01:00.278Z"
   },
   {
    "duration": 11,
    "start_time": "2022-01-16T14:01:09.683Z"
   },
   {
    "duration": 25,
    "start_time": "2022-01-16T14:04:17.142Z"
   },
   {
    "duration": 22,
    "start_time": "2022-01-16T14:04:33.941Z"
   },
   {
    "duration": 19,
    "start_time": "2022-01-16T14:04:48.011Z"
   },
   {
    "duration": 19,
    "start_time": "2022-01-16T14:05:07.435Z"
   },
   {
    "duration": 21,
    "start_time": "2022-01-16T14:06:47.150Z"
   },
   {
    "duration": 19,
    "start_time": "2022-01-16T14:07:04.024Z"
   },
   {
    "duration": 22,
    "start_time": "2022-01-16T14:07:25.823Z"
   },
   {
    "duration": 22,
    "start_time": "2022-01-16T14:07:34.301Z"
   },
   {
    "duration": 20,
    "start_time": "2022-01-16T14:07:43.502Z"
   },
   {
    "duration": 22,
    "start_time": "2022-01-16T14:07:47.407Z"
   },
   {
    "duration": 26,
    "start_time": "2022-01-16T14:07:52.121Z"
   },
   {
    "duration": 20,
    "start_time": "2022-01-16T14:07:56.004Z"
   },
   {
    "duration": 19,
    "start_time": "2022-01-16T14:07:59.449Z"
   },
   {
    "duration": 21,
    "start_time": "2022-01-16T14:08:29.689Z"
   },
   {
    "duration": 21,
    "start_time": "2022-01-16T14:08:45.698Z"
   },
   {
    "duration": 15,
    "start_time": "2022-01-16T14:08:53.937Z"
   },
   {
    "duration": 81,
    "start_time": "2022-01-16T14:13:52.613Z"
   },
   {
    "duration": 6,
    "start_time": "2022-01-16T14:13:56.649Z"
   },
   {
    "duration": 79,
    "start_time": "2022-01-16T14:14:08.951Z"
   },
   {
    "duration": 6,
    "start_time": "2022-01-16T14:14:12.457Z"
   },
   {
    "duration": 6,
    "start_time": "2022-01-16T14:15:10.056Z"
   },
   {
    "duration": 7,
    "start_time": "2022-01-16T14:15:48.644Z"
   },
   {
    "duration": 7,
    "start_time": "2022-01-16T14:15:58.923Z"
   },
   {
    "duration": 7,
    "start_time": "2022-01-16T14:16:07.100Z"
   },
   {
    "duration": 7,
    "start_time": "2022-01-16T14:16:23.280Z"
   },
   {
    "duration": 7,
    "start_time": "2022-01-16T14:17:41.583Z"
   },
   {
    "duration": 547,
    "start_time": "2022-01-16T14:18:00.968Z"
   },
   {
    "duration": 276,
    "start_time": "2022-01-16T14:18:03.041Z"
   },
   {
    "duration": 282,
    "start_time": "2022-01-16T14:18:11.125Z"
   },
   {
    "duration": 9,
    "start_time": "2022-01-16T14:18:17.082Z"
   },
   {
    "duration": 8,
    "start_time": "2022-01-16T14:18:51.409Z"
   },
   {
    "duration": 5,
    "start_time": "2022-01-16T14:19:14.672Z"
   },
   {
    "duration": 6,
    "start_time": "2022-01-16T14:19:22.701Z"
   },
   {
    "duration": 5,
    "start_time": "2022-01-16T14:19:31.896Z"
   },
   {
    "duration": 9,
    "start_time": "2022-01-16T14:19:34.527Z"
   },
   {
    "duration": 8,
    "start_time": "2022-01-16T14:19:41.575Z"
   },
   {
    "duration": 6,
    "start_time": "2022-01-16T14:19:50.044Z"
   },
   {
    "duration": 13,
    "start_time": "2022-01-16T14:42:26.658Z"
   },
   {
    "duration": 11,
    "start_time": "2022-01-16T14:43:42.682Z"
   },
   {
    "duration": 8,
    "start_time": "2022-01-16T14:45:53.946Z"
   },
   {
    "duration": 9,
    "start_time": "2022-01-16T14:46:44.285Z"
   },
   {
    "duration": 86,
    "start_time": "2022-01-16T14:48:07.370Z"
   },
   {
    "duration": 81,
    "start_time": "2022-01-16T14:48:41.422Z"
   },
   {
    "duration": 84,
    "start_time": "2022-01-16T14:49:09.037Z"
   },
   {
    "duration": 265,
    "start_time": "2022-01-16T14:49:24.723Z"
   },
   {
    "duration": 96,
    "start_time": "2022-01-16T14:50:09.175Z"
   },
   {
    "duration": 13,
    "start_time": "2022-01-16T14:50:31.829Z"
   },
   {
    "duration": 6,
    "start_time": "2022-01-16T14:50:37.810Z"
   },
   {
    "duration": 61,
    "start_time": "2022-01-16T14:51:45.683Z"
   },
   {
    "duration": 10,
    "start_time": "2022-01-16T14:52:05.333Z"
   },
   {
    "duration": 107,
    "start_time": "2022-01-16T14:53:12.540Z"
   },
   {
    "duration": 319,
    "start_time": "2022-01-16T14:53:18.616Z"
   },
   {
    "duration": 8,
    "start_time": "2022-01-16T14:53:25.739Z"
   },
   {
    "duration": 6,
    "start_time": "2022-01-16T14:53:31.871Z"
   },
   {
    "duration": 6,
    "start_time": "2022-01-16T14:53:58.736Z"
   },
   {
    "duration": 10,
    "start_time": "2022-01-16T14:59:59.817Z"
   },
   {
    "duration": 8,
    "start_time": "2022-01-16T15:00:07.570Z"
   },
   {
    "duration": 18,
    "start_time": "2022-01-16T15:00:18.913Z"
   },
   {
    "duration": 13,
    "start_time": "2022-01-16T15:00:39.411Z"
   },
   {
    "duration": 18,
    "start_time": "2022-01-16T15:00:41.204Z"
   },
   {
    "duration": 11,
    "start_time": "2022-01-16T15:00:48.439Z"
   },
   {
    "duration": 10,
    "start_time": "2022-01-16T15:02:32.582Z"
   },
   {
    "duration": 9,
    "start_time": "2022-01-16T15:04:16.920Z"
   },
   {
    "duration": 14,
    "start_time": "2022-01-16T15:07:06.542Z"
   },
   {
    "duration": 33,
    "start_time": "2022-01-16T15:07:27.529Z"
   },
   {
    "duration": 15,
    "start_time": "2022-01-16T15:08:45.766Z"
   },
   {
    "duration": 30,
    "start_time": "2022-01-16T15:08:48.954Z"
   },
   {
    "duration": 11,
    "start_time": "2022-01-16T15:10:49.652Z"
   },
   {
    "duration": 6,
    "start_time": "2022-01-16T15:13:24.068Z"
   },
   {
    "duration": 4,
    "start_time": "2022-01-16T15:14:04.916Z"
   },
   {
    "duration": 12,
    "start_time": "2022-01-16T15:14:09.695Z"
   },
   {
    "duration": 6,
    "start_time": "2022-01-16T15:15:14.244Z"
   },
   {
    "duration": 233,
    "start_time": "2022-01-16T15:15:28.053Z"
   },
   {
    "duration": 246,
    "start_time": "2022-01-16T15:15:33.329Z"
   },
   {
    "duration": 5,
    "start_time": "2022-01-16T15:15:49.269Z"
   },
   {
    "duration": 302,
    "start_time": "2022-01-16T15:15:54.810Z"
   },
   {
    "duration": 248,
    "start_time": "2022-01-16T15:15:58.383Z"
   },
   {
    "duration": 7,
    "start_time": "2022-01-16T15:16:24.475Z"
   },
   {
    "duration": 243,
    "start_time": "2022-01-16T15:16:29.783Z"
   },
   {
    "duration": 6,
    "start_time": "2022-01-16T15:16:33.224Z"
   },
   {
    "duration": 272,
    "start_time": "2022-01-16T15:16:40.479Z"
   },
   {
    "duration": 8,
    "start_time": "2022-01-16T15:17:01.254Z"
   },
   {
    "duration": 5,
    "start_time": "2022-01-16T15:28:06.715Z"
   },
   {
    "duration": 22,
    "start_time": "2022-01-16T15:28:15.421Z"
   },
   {
    "duration": 3,
    "start_time": "2022-01-16T15:28:28.348Z"
   },
   {
    "duration": 20,
    "start_time": "2022-01-16T15:28:28.946Z"
   },
   {
    "duration": 5,
    "start_time": "2022-01-16T15:29:36.224Z"
   },
   {
    "duration": 19,
    "start_time": "2022-01-16T15:29:37.128Z"
   },
   {
    "duration": 4,
    "start_time": "2022-01-16T15:29:39.494Z"
   },
   {
    "duration": 19,
    "start_time": "2022-01-16T15:29:39.948Z"
   },
   {
    "duration": 4,
    "start_time": "2022-01-16T15:29:41.702Z"
   },
   {
    "duration": 19,
    "start_time": "2022-01-16T15:29:42.170Z"
   },
   {
    "duration": 4,
    "start_time": "2022-01-16T15:29:43.878Z"
   },
   {
    "duration": 19,
    "start_time": "2022-01-16T15:29:44.222Z"
   },
   {
    "duration": 5,
    "start_time": "2022-01-16T15:29:45.989Z"
   },
   {
    "duration": 19,
    "start_time": "2022-01-16T15:29:46.346Z"
   },
   {
    "duration": 7,
    "start_time": "2022-01-16T15:30:03.223Z"
   },
   {
    "duration": 20,
    "start_time": "2022-01-16T15:30:04.792Z"
   },
   {
    "duration": 5,
    "start_time": "2022-01-16T15:30:58.739Z"
   },
   {
    "duration": 6,
    "start_time": "2022-01-16T15:32:21.514Z"
   },
   {
    "duration": 19,
    "start_time": "2022-01-16T15:32:22.966Z"
   },
   {
    "duration": 12,
    "start_time": "2022-01-16T15:32:40.506Z"
   },
   {
    "duration": 15,
    "start_time": "2022-01-16T15:35:40.334Z"
   },
   {
    "duration": 13,
    "start_time": "2022-01-16T15:35:44.728Z"
   },
   {
    "duration": 572,
    "start_time": "2022-01-16T15:36:17.724Z"
   },
   {
    "duration": 57,
    "start_time": "2022-01-16T15:36:18.298Z"
   },
   {
    "duration": 24,
    "start_time": "2022-01-16T15:36:18.357Z"
   },
   {
    "duration": 30,
    "start_time": "2022-01-16T15:36:18.383Z"
   },
   {
    "duration": 38,
    "start_time": "2022-01-16T15:36:18.414Z"
   },
   {
    "duration": 8,
    "start_time": "2022-01-16T15:36:18.453Z"
   },
   {
    "duration": 12,
    "start_time": "2022-01-16T15:36:18.462Z"
   },
   {
    "duration": 8,
    "start_time": "2022-01-16T15:36:18.476Z"
   },
   {
    "duration": 7,
    "start_time": "2022-01-16T15:36:18.485Z"
   },
   {
    "duration": 8,
    "start_time": "2022-01-16T15:36:18.494Z"
   },
   {
    "duration": 4,
    "start_time": "2022-01-16T15:36:18.503Z"
   },
   {
    "duration": 44,
    "start_time": "2022-01-16T15:36:18.509Z"
   },
   {
    "duration": 13,
    "start_time": "2022-01-16T15:36:18.554Z"
   },
   {
    "duration": 18,
    "start_time": "2022-01-16T15:36:18.569Z"
   },
   {
    "duration": 10,
    "start_time": "2022-01-16T15:36:18.588Z"
   },
   {
    "duration": 17,
    "start_time": "2022-01-16T15:36:18.599Z"
   },
   {
    "duration": 48,
    "start_time": "2022-01-16T15:36:18.618Z"
   },
   {
    "duration": 9,
    "start_time": "2022-01-16T15:36:18.667Z"
   },
   {
    "duration": 4,
    "start_time": "2022-01-16T15:36:18.678Z"
   },
   {
    "duration": 15,
    "start_time": "2022-01-16T15:36:18.683Z"
   },
   {
    "duration": 13,
    "start_time": "2022-01-16T15:36:18.700Z"
   },
   {
    "duration": 32,
    "start_time": "2022-01-16T15:38:00.000Z"
   },
   {
    "duration": 17,
    "start_time": "2022-01-16T15:38:19.129Z"
   },
   {
    "duration": 18,
    "start_time": "2022-01-16T15:38:27.346Z"
   },
   {
    "duration": 573,
    "start_time": "2022-01-16T15:43:37.509Z"
   },
   {
    "duration": 56,
    "start_time": "2022-01-16T15:43:38.083Z"
   },
   {
    "duration": 22,
    "start_time": "2022-01-16T15:43:38.141Z"
   },
   {
    "duration": 29,
    "start_time": "2022-01-16T15:43:38.165Z"
   },
   {
    "duration": 14,
    "start_time": "2022-01-16T15:43:38.195Z"
   },
   {
    "duration": 7,
    "start_time": "2022-01-16T15:43:38.211Z"
   },
   {
    "duration": 7,
    "start_time": "2022-01-16T15:43:38.241Z"
   },
   {
    "duration": 8,
    "start_time": "2022-01-16T15:43:38.250Z"
   },
   {
    "duration": 4,
    "start_time": "2022-01-16T15:43:38.261Z"
   },
   {
    "duration": 8,
    "start_time": "2022-01-16T15:43:38.266Z"
   },
   {
    "duration": 4,
    "start_time": "2022-01-16T15:43:38.276Z"
   },
   {
    "duration": 17,
    "start_time": "2022-01-16T15:43:38.282Z"
   },
   {
    "duration": 44,
    "start_time": "2022-01-16T15:43:38.301Z"
   },
   {
    "duration": 16,
    "start_time": "2022-01-16T15:43:38.346Z"
   },
   {
    "duration": 8,
    "start_time": "2022-01-16T15:43:38.364Z"
   },
   {
    "duration": 19,
    "start_time": "2022-01-16T15:43:38.373Z"
   },
   {
    "duration": 28,
    "start_time": "2022-01-16T15:43:38.394Z"
   },
   {
    "duration": 26,
    "start_time": "2022-01-16T15:43:38.423Z"
   },
   {
    "duration": 5,
    "start_time": "2022-01-16T15:43:38.450Z"
   },
   {
    "duration": 10,
    "start_time": "2022-01-16T15:43:38.456Z"
   },
   {
    "duration": 15,
    "start_time": "2022-01-16T15:43:38.468Z"
   },
   {
    "duration": 13,
    "start_time": "2022-01-16T15:43:38.485Z"
   },
   {
    "duration": 6,
    "start_time": "2022-01-16T15:44:07.491Z"
   },
   {
    "duration": 316,
    "start_time": "2022-01-16T15:45:52.214Z"
   },
   {
    "duration": 3233,
    "start_time": "2022-01-16T15:48:16.080Z"
   },
   {
    "duration": 3,
    "start_time": "2022-01-16T15:48:46.906Z"
   },
   {
    "duration": 3168,
    "start_time": "2022-01-16T15:48:48.575Z"
   },
   {
    "duration": 2651,
    "start_time": "2022-01-16T15:49:32.276Z"
   },
   {
    "duration": 73,
    "start_time": "2022-01-16T15:49:39.612Z"
   },
   {
    "duration": 2930,
    "start_time": "2022-01-16T16:01:25.983Z"
   },
   {
    "duration": 3,
    "start_time": "2022-01-16T16:03:49.587Z"
   },
   {
    "duration": 2728,
    "start_time": "2022-01-16T16:04:39.987Z"
   },
   {
    "duration": 44,
    "start_time": "2022-01-16T16:04:43.452Z"
   },
   {
    "duration": 3,
    "start_time": "2022-01-16T16:06:06.074Z"
   },
   {
    "duration": 3027,
    "start_time": "2022-01-16T16:06:06.628Z"
   },
   {
    "duration": 40,
    "start_time": "2022-01-16T16:06:09.657Z"
   },
   {
    "duration": 252,
    "start_time": "2022-01-16T16:07:43.056Z"
   },
   {
    "duration": 2726,
    "start_time": "2022-01-16T16:09:54.639Z"
   },
   {
    "duration": 10,
    "start_time": "2022-01-16T16:10:00.480Z"
   },
   {
    "duration": 2803,
    "start_time": "2022-01-16T16:10:32.671Z"
   },
   {
    "duration": 9,
    "start_time": "2022-01-16T16:10:35.476Z"
   },
   {
    "duration": 7,
    "start_time": "2022-01-16T16:11:03.470Z"
   },
   {
    "duration": 734,
    "start_time": "2022-01-17T13:31:17.416Z"
   },
   {
    "duration": 80,
    "start_time": "2022-01-17T13:31:18.153Z"
   },
   {
    "duration": 64,
    "start_time": "2022-01-17T13:31:18.236Z"
   },
   {
    "duration": 66,
    "start_time": "2022-01-17T13:31:18.303Z"
   },
   {
    "duration": 28,
    "start_time": "2022-01-17T13:31:18.373Z"
   },
   {
    "duration": 12,
    "start_time": "2022-01-17T13:31:18.403Z"
   },
   {
    "duration": 16,
    "start_time": "2022-01-17T13:31:18.418Z"
   },
   {
    "duration": 39,
    "start_time": "2022-01-17T13:31:18.436Z"
   },
   {
    "duration": 8,
    "start_time": "2022-01-17T13:31:18.480Z"
   },
   {
    "duration": 19,
    "start_time": "2022-01-17T13:31:18.491Z"
   },
   {
    "duration": 7,
    "start_time": "2022-01-17T13:31:18.512Z"
   },
   {
    "duration": 65,
    "start_time": "2022-01-17T13:31:18.521Z"
   },
   {
    "duration": 21,
    "start_time": "2022-01-17T13:31:18.588Z"
   },
   {
    "duration": 29,
    "start_time": "2022-01-17T13:31:18.612Z"
   },
   {
    "duration": 17,
    "start_time": "2022-01-17T13:31:18.668Z"
   },
   {
    "duration": 23,
    "start_time": "2022-01-17T13:31:18.688Z"
   },
   {
    "duration": 76,
    "start_time": "2022-01-17T13:31:18.714Z"
   },
   {
    "duration": 15,
    "start_time": "2022-01-17T13:31:18.792Z"
   },
   {
    "duration": 7,
    "start_time": "2022-01-17T13:31:18.809Z"
   },
   {
    "duration": 50,
    "start_time": "2022-01-17T13:31:18.818Z"
   },
   {
    "duration": 31,
    "start_time": "2022-01-17T13:31:18.872Z"
   },
   {
    "duration": 25,
    "start_time": "2022-01-17T13:31:18.906Z"
   },
   {
    "duration": 38,
    "start_time": "2022-01-17T13:31:18.934Z"
   },
   {
    "duration": 5,
    "start_time": "2022-01-17T13:31:18.975Z"
   },
   {
    "duration": 4988,
    "start_time": "2022-01-17T13:31:18.983Z"
   },
   {
    "duration": 15,
    "start_time": "2022-01-17T13:31:23.975Z"
   },
   {
    "duration": 13,
    "start_time": "2022-01-17T13:32:15.962Z"
   },
   {
    "duration": 15,
    "start_time": "2022-01-17T13:32:27.417Z"
   },
   {
    "duration": 13,
    "start_time": "2022-01-17T13:32:56.935Z"
   },
   {
    "duration": 13,
    "start_time": "2022-01-17T13:32:59.621Z"
   },
   {
    "duration": 16,
    "start_time": "2022-01-17T13:33:15.416Z"
   },
   {
    "duration": 13,
    "start_time": "2022-01-17T13:33:45.654Z"
   },
   {
    "duration": 12,
    "start_time": "2022-01-17T13:34:00.605Z"
   },
   {
    "duration": 13,
    "start_time": "2022-01-17T13:34:08.076Z"
   },
   {
    "duration": 11,
    "start_time": "2022-01-17T13:34:11.399Z"
   },
   {
    "duration": 11,
    "start_time": "2022-01-17T13:34:18.883Z"
   },
   {
    "duration": 12,
    "start_time": "2022-01-17T13:34:30.626Z"
   },
   {
    "duration": 18,
    "start_time": "2022-01-17T13:35:24.655Z"
   },
   {
    "duration": 493,
    "start_time": "2022-01-17T13:36:22.745Z"
   },
   {
    "duration": 17,
    "start_time": "2022-01-17T13:36:40.328Z"
   },
   {
    "duration": 13,
    "start_time": "2022-01-17T13:36:54.311Z"
   },
   {
    "duration": 281,
    "start_time": "2022-01-17T13:37:08.358Z"
   },
   {
    "duration": 14,
    "start_time": "2022-01-17T13:37:42.337Z"
   },
   {
    "duration": 828,
    "start_time": "2022-01-18T08:31:13.887Z"
   },
   {
    "duration": 54,
    "start_time": "2022-01-18T08:31:14.716Z"
   },
   {
    "duration": 22,
    "start_time": "2022-01-18T08:31:14.772Z"
   },
   {
    "duration": 37,
    "start_time": "2022-01-18T08:31:14.796Z"
   },
   {
    "duration": 15,
    "start_time": "2022-01-18T08:31:14.834Z"
   },
   {
    "duration": 7,
    "start_time": "2022-01-18T08:31:14.850Z"
   },
   {
    "duration": 10,
    "start_time": "2022-01-18T08:31:14.858Z"
   },
   {
    "duration": 8,
    "start_time": "2022-01-18T08:31:14.870Z"
   },
   {
    "duration": 4,
    "start_time": "2022-01-18T08:31:14.880Z"
   },
   {
    "duration": 8,
    "start_time": "2022-01-18T08:31:14.886Z"
   },
   {
    "duration": 34,
    "start_time": "2022-01-18T08:31:14.895Z"
   },
   {
    "duration": 16,
    "start_time": "2022-01-18T08:31:14.931Z"
   },
   {
    "duration": 12,
    "start_time": "2022-01-18T08:31:14.949Z"
   },
   {
    "duration": 18,
    "start_time": "2022-01-18T08:31:14.963Z"
   },
   {
    "duration": 10,
    "start_time": "2022-01-18T08:31:14.982Z"
   },
   {
    "duration": 45,
    "start_time": "2022-01-18T08:31:14.994Z"
   },
   {
    "duration": 28,
    "start_time": "2022-01-18T08:31:15.041Z"
   },
   {
    "duration": 9,
    "start_time": "2022-01-18T08:31:15.070Z"
   },
   {
    "duration": 6,
    "start_time": "2022-01-18T08:31:15.081Z"
   },
   {
    "duration": 11,
    "start_time": "2022-01-18T08:31:15.088Z"
   },
   {
    "duration": 39,
    "start_time": "2022-01-18T08:31:15.100Z"
   },
   {
    "duration": 13,
    "start_time": "2022-01-18T08:31:15.141Z"
   },
   {
    "duration": 6,
    "start_time": "2022-01-18T08:31:15.156Z"
   },
   {
    "duration": 2,
    "start_time": "2022-01-18T08:31:15.164Z"
   },
   {
    "duration": 3315,
    "start_time": "2022-01-18T08:31:15.168Z"
   },
   {
    "duration": 10,
    "start_time": "2022-01-18T08:31:18.485Z"
   },
   {
    "duration": 8,
    "start_time": "2022-01-18T08:35:02.477Z"
   },
   {
    "duration": 1131,
    "start_time": "2022-01-18T08:35:53.186Z"
   },
   {
    "duration": 922,
    "start_time": "2022-01-18T08:35:56.148Z"
   },
   {
    "duration": 9,
    "start_time": "2022-01-18T08:36:06.598Z"
   },
   {
    "duration": 9,
    "start_time": "2022-01-18T08:36:29.818Z"
   },
   {
    "duration": 9,
    "start_time": "2022-01-18T08:36:58.934Z"
   },
   {
    "duration": 8,
    "start_time": "2022-01-18T08:37:18.770Z"
   },
   {
    "duration": 9,
    "start_time": "2022-01-18T08:40:26.880Z"
   },
   {
    "duration": 10,
    "start_time": "2022-01-18T08:40:37.082Z"
   },
   {
    "duration": 8,
    "start_time": "2022-01-18T08:41:02.957Z"
   },
   {
    "duration": 4,
    "start_time": "2022-01-18T08:42:08.108Z"
   },
   {
    "duration": 3003,
    "start_time": "2022-01-18T08:42:08.649Z"
   },
   {
    "duration": 10,
    "start_time": "2022-01-18T08:42:11.654Z"
   },
   {
    "duration": 4,
    "start_time": "2022-01-18T08:46:21.010Z"
   },
   {
    "duration": 5,
    "start_time": "2022-01-18T08:46:29.283Z"
   },
   {
    "duration": 5,
    "start_time": "2022-01-18T08:46:33.914Z"
   },
   {
    "duration": 4,
    "start_time": "2022-01-18T08:47:15.751Z"
   },
   {
    "duration": 4,
    "start_time": "2022-01-18T08:47:22.846Z"
   },
   {
    "duration": 5,
    "start_time": "2022-01-18T08:50:15.630Z"
   },
   {
    "duration": 109,
    "start_time": "2022-01-18T08:51:14.846Z"
   },
   {
    "duration": 2,
    "start_time": "2022-01-18T08:52:05.775Z"
   },
   {
    "duration": 3,
    "start_time": "2022-01-18T08:52:50.131Z"
   },
   {
    "duration": 3,
    "start_time": "2022-01-18T08:53:01.659Z"
   },
   {
    "duration": 436,
    "start_time": "2022-01-18T08:53:07.118Z"
   },
   {
    "duration": 3,
    "start_time": "2022-01-18T08:53:10.273Z"
   },
   {
    "duration": 395,
    "start_time": "2022-01-18T08:57:24.280Z"
   },
   {
    "duration": 9,
    "start_time": "2022-01-18T08:57:37.901Z"
   },
   {
    "duration": 5,
    "start_time": "2022-01-18T08:57:39.165Z"
   },
   {
    "duration": 3,
    "start_time": "2022-01-18T08:57:40.696Z"
   },
   {
    "duration": 4,
    "start_time": "2022-01-18T08:57:41.762Z"
   },
   {
    "duration": 2,
    "start_time": "2022-01-18T09:00:21.761Z"
   },
   {
    "duration": 3,
    "start_time": "2022-01-18T09:03:33.059Z"
   },
   {
    "duration": 5,
    "start_time": "2022-01-18T09:03:40.374Z"
   },
   {
    "duration": 328,
    "start_time": "2022-01-18T09:04:31.944Z"
   },
   {
    "duration": 2,
    "start_time": "2022-01-18T09:04:45.425Z"
   },
   {
    "duration": 3,
    "start_time": "2022-01-18T09:07:29.499Z"
   },
   {
    "duration": 4,
    "start_time": "2022-01-18T09:07:38.086Z"
   },
   {
    "duration": 4,
    "start_time": "2022-01-18T09:07:48.263Z"
   },
   {
    "duration": 3,
    "start_time": "2022-01-18T09:08:08.222Z"
   },
   {
    "duration": 4,
    "start_time": "2022-01-18T09:08:15.619Z"
   },
   {
    "duration": 3,
    "start_time": "2022-01-18T09:08:21.793Z"
   },
   {
    "duration": 4,
    "start_time": "2022-01-18T09:10:21.358Z"
   },
   {
    "duration": 19,
    "start_time": "2022-01-18T09:10:27.887Z"
   },
   {
    "duration": 11,
    "start_time": "2022-01-18T09:10:36.991Z"
   },
   {
    "duration": 3,
    "start_time": "2022-01-18T09:16:31.957Z"
   },
   {
    "duration": 4,
    "start_time": "2022-01-18T09:19:38.595Z"
   },
   {
    "duration": 4,
    "start_time": "2022-01-18T09:19:52.941Z"
   },
   {
    "duration": 4,
    "start_time": "2022-01-18T09:19:56.826Z"
   },
   {
    "duration": 333,
    "start_time": "2022-01-18T09:20:51.681Z"
   },
   {
    "duration": 8326,
    "start_time": "2022-01-18T09:20:59.137Z"
   },
   {
    "duration": 17,
    "start_time": "2022-01-18T09:22:26.650Z"
   },
   {
    "duration": -241,
    "start_time": "2022-01-18T09:22:53.742Z"
   },
   {
    "duration": 8065,
    "start_time": "2022-01-18T09:22:55.006Z"
   },
   {
    "duration": -284,
    "start_time": "2022-01-18T09:23:03.357Z"
   },
   {
    "duration": 638,
    "start_time": "2022-01-18T09:23:13.309Z"
   },
   {
    "duration": 56,
    "start_time": "2022-01-18T09:23:13.950Z"
   },
   {
    "duration": 28,
    "start_time": "2022-01-18T09:23:14.008Z"
   },
   {
    "duration": 36,
    "start_time": "2022-01-18T09:23:14.038Z"
   },
   {
    "duration": 15,
    "start_time": "2022-01-18T09:23:14.076Z"
   },
   {
    "duration": 7,
    "start_time": "2022-01-18T09:23:14.093Z"
   },
   {
    "duration": 33,
    "start_time": "2022-01-18T09:23:14.102Z"
   },
   {
    "duration": 20,
    "start_time": "2022-01-18T09:23:14.139Z"
   },
   {
    "duration": 6,
    "start_time": "2022-01-18T09:23:14.161Z"
   },
   {
    "duration": 7,
    "start_time": "2022-01-18T09:23:14.168Z"
   },
   {
    "duration": 7,
    "start_time": "2022-01-18T09:23:14.177Z"
   },
   {
    "duration": 46,
    "start_time": "2022-01-18T09:23:14.186Z"
   },
   {
    "duration": 17,
    "start_time": "2022-01-18T09:23:14.234Z"
   },
   {
    "duration": 30,
    "start_time": "2022-01-18T09:23:14.253Z"
   },
   {
    "duration": 10,
    "start_time": "2022-01-18T09:23:14.285Z"
   },
   {
    "duration": 30,
    "start_time": "2022-01-18T09:23:14.297Z"
   },
   {
    "duration": 33,
    "start_time": "2022-01-18T09:23:14.330Z"
   },
   {
    "duration": 11,
    "start_time": "2022-01-18T09:23:14.365Z"
   },
   {
    "duration": 5,
    "start_time": "2022-01-18T09:23:14.378Z"
   },
   {
    "duration": 15,
    "start_time": "2022-01-18T09:23:14.385Z"
   },
   {
    "duration": 45,
    "start_time": "2022-01-18T09:23:14.401Z"
   },
   {
    "duration": 14,
    "start_time": "2022-01-18T09:23:14.448Z"
   },
   {
    "duration": 6,
    "start_time": "2022-01-18T09:23:14.465Z"
   },
   {
    "duration": 2,
    "start_time": "2022-01-18T09:23:14.473Z"
   },
   {
    "duration": 3957,
    "start_time": "2022-01-18T09:23:14.477Z"
   },
   {
    "duration": 12,
    "start_time": "2022-01-18T09:23:18.437Z"
   },
   {
    "duration": 9,
    "start_time": "2022-01-18T09:23:18.451Z"
   },
   {
    "duration": 3,
    "start_time": "2022-01-18T09:23:18.462Z"
   },
   {
    "duration": 5,
    "start_time": "2022-01-18T09:23:18.467Z"
   },
   {
    "duration": 5,
    "start_time": "2022-01-18T09:23:18.474Z"
   },
   {
    "duration": 6,
    "start_time": "2022-01-18T09:23:18.480Z"
   },
   {
    "duration": 5,
    "start_time": "2022-01-18T09:23:18.487Z"
   },
   {
    "duration": 8474,
    "start_time": "2022-01-18T09:23:18.493Z"
   },
   {
    "duration": -284,
    "start_time": "2022-01-18T09:23:27.253Z"
   },
   {
    "duration": -285,
    "start_time": "2022-01-18T09:23:27.256Z"
   },
   {
    "duration": 4,
    "start_time": "2022-01-18T09:23:35.077Z"
   },
   {
    "duration": 7358,
    "start_time": "2022-01-18T09:23:41.687Z"
   },
   {
    "duration": 6,
    "start_time": "2022-01-18T09:23:59.138Z"
   },
   {
    "duration": 4,
    "start_time": "2022-01-18T09:24:02.423Z"
   },
   {
    "duration": 4,
    "start_time": "2022-01-18T09:24:05.989Z"
   },
   {
    "duration": 4,
    "start_time": "2022-01-18T09:24:13.708Z"
   },
   {
    "duration": 5,
    "start_time": "2022-01-18T09:24:34.430Z"
   },
   {
    "duration": 5305,
    "start_time": "2022-01-18T09:24:39.303Z"
   },
   {
    "duration": 18,
    "start_time": "2022-01-18T09:24:55.305Z"
   },
   {
    "duration": 19,
    "start_time": "2022-01-18T09:25:05.039Z"
   },
   {
    "duration": 24,
    "start_time": "2022-01-18T09:25:31.022Z"
   },
   {
    "duration": 18,
    "start_time": "2022-01-18T09:25:40.650Z"
   },
   {
    "duration": 23,
    "start_time": "2022-01-18T09:27:11.930Z"
   },
   {
    "duration": 3,
    "start_time": "2022-01-18T09:27:14.638Z"
   },
   {
    "duration": 6,
    "start_time": "2022-01-18T09:27:14.941Z"
   },
   {
    "duration": 3643,
    "start_time": "2022-01-18T09:27:15.256Z"
   },
   {
    "duration": 14,
    "start_time": "2022-01-18T09:27:18.901Z"
   },
   {
    "duration": 5,
    "start_time": "2022-01-18T09:27:20.517Z"
   },
   {
    "duration": 2,
    "start_time": "2022-01-18T09:27:22.224Z"
   },
   {
    "duration": 4,
    "start_time": "2022-01-18T09:27:23.000Z"
   },
   {
    "duration": 3,
    "start_time": "2022-01-18T09:27:27.401Z"
   },
   {
    "duration": 3,
    "start_time": "2022-01-18T09:27:28.055Z"
   },
   {
    "duration": 3,
    "start_time": "2022-01-18T09:27:28.948Z"
   },
   {
    "duration": 19696,
    "start_time": "2022-01-18T09:27:29.849Z"
   },
   {
    "duration": 3,
    "start_time": "2022-01-18T09:27:49.547Z"
   },
   {
    "duration": 4,
    "start_time": "2022-01-18T09:35:50.791Z"
   },
   {
    "duration": 17,
    "start_time": "2022-01-18T09:35:59.985Z"
   },
   {
    "duration": 5,
    "start_time": "2022-01-18T09:36:21.737Z"
   },
   {
    "duration": 4,
    "start_time": "2022-01-18T09:36:31.180Z"
   },
   {
    "duration": 19362,
    "start_time": "2022-01-18T09:38:00.203Z"
   },
   {
    "duration": 611,
    "start_time": "2022-01-18T09:38:39.332Z"
   },
   {
    "duration": 56,
    "start_time": "2022-01-18T09:38:39.945Z"
   },
   {
    "duration": 24,
    "start_time": "2022-01-18T09:38:40.004Z"
   },
   {
    "duration": 33,
    "start_time": "2022-01-18T09:38:40.029Z"
   },
   {
    "duration": 14,
    "start_time": "2022-01-18T09:38:40.063Z"
   },
   {
    "duration": 12,
    "start_time": "2022-01-18T09:38:40.079Z"
   },
   {
    "duration": 10,
    "start_time": "2022-01-18T09:38:40.093Z"
   },
   {
    "duration": 24,
    "start_time": "2022-01-18T09:38:40.104Z"
   },
   {
    "duration": 6,
    "start_time": "2022-01-18T09:38:40.129Z"
   },
   {
    "duration": 11,
    "start_time": "2022-01-18T09:38:40.136Z"
   },
   {
    "duration": 5,
    "start_time": "2022-01-18T09:38:40.149Z"
   },
   {
    "duration": 24,
    "start_time": "2022-01-18T09:38:40.155Z"
   },
   {
    "duration": 12,
    "start_time": "2022-01-18T09:38:40.180Z"
   },
   {
    "duration": 41,
    "start_time": "2022-01-18T09:38:40.193Z"
   },
   {
    "duration": 8,
    "start_time": "2022-01-18T09:38:40.236Z"
   },
   {
    "duration": 16,
    "start_time": "2022-01-18T09:38:40.246Z"
   },
   {
    "duration": 28,
    "start_time": "2022-01-18T09:38:40.263Z"
   },
   {
    "duration": 9,
    "start_time": "2022-01-18T09:38:40.293Z"
   },
   {
    "duration": 24,
    "start_time": "2022-01-18T09:38:40.303Z"
   },
   {
    "duration": 15,
    "start_time": "2022-01-18T09:38:40.329Z"
   },
   {
    "duration": 14,
    "start_time": "2022-01-18T09:38:40.346Z"
   },
   {
    "duration": 15,
    "start_time": "2022-01-18T09:38:40.362Z"
   },
   {
    "duration": 3,
    "start_time": "2022-01-18T09:38:40.379Z"
   },
   {
    "duration": 5,
    "start_time": "2022-01-18T09:38:40.384Z"
   },
   {
    "duration": 3471,
    "start_time": "2022-01-18T09:38:40.390Z"
   },
   {
    "duration": 11,
    "start_time": "2022-01-18T09:38:43.863Z"
   },
   {
    "duration": 5,
    "start_time": "2022-01-18T09:38:43.875Z"
   },
   {
    "duration": 4,
    "start_time": "2022-01-18T09:38:43.882Z"
   },
   {
    "duration": 7,
    "start_time": "2022-01-18T09:38:43.887Z"
   },
   {
    "duration": 5,
    "start_time": "2022-01-18T09:38:43.895Z"
   },
   {
    "duration": 25,
    "start_time": "2022-01-18T09:38:43.902Z"
   },
   {
    "duration": 406,
    "start_time": "2022-01-18T09:38:43.929Z"
   },
   {
    "duration": 8146,
    "start_time": "2022-01-18T09:39:08.189Z"
   },
   {
    "duration": 4,
    "start_time": "2022-01-18T09:39:33.937Z"
   },
   {
    "duration": 19069,
    "start_time": "2022-01-18T09:39:36.381Z"
   },
   {
    "duration": 13,
    "start_time": "2022-01-18T09:40:02.172Z"
   },
   {
    "duration": 5,
    "start_time": "2022-01-18T09:41:33.545Z"
   },
   {
    "duration": 5,
    "start_time": "2022-01-18T09:41:52.285Z"
   },
   {
    "duration": 6,
    "start_time": "2022-01-18T09:42:40.246Z"
   },
   {
    "duration": 353,
    "start_time": "2022-01-18T09:43:17.532Z"
   },
   {
    "duration": 123,
    "start_time": "2022-01-18T09:43:24.321Z"
   },
   {
    "duration": 330,
    "start_time": "2022-01-18T09:43:27.648Z"
   },
   {
    "duration": 6,
    "start_time": "2022-01-18T09:43:38.049Z"
   },
   {
    "duration": 5,
    "start_time": "2022-01-18T09:43:48.653Z"
   },
   {
    "duration": 6,
    "start_time": "2022-01-18T09:44:10.111Z"
   },
   {
    "duration": 12,
    "start_time": "2022-01-18T09:47:02.456Z"
   },
   {
    "duration": 5,
    "start_time": "2022-01-18T09:47:56.538Z"
   },
   {
    "duration": 4,
    "start_time": "2022-01-18T09:48:29.401Z"
   },
   {
    "duration": 313,
    "start_time": "2022-01-18T09:48:56.386Z"
   },
   {
    "duration": 5,
    "start_time": "2022-01-18T09:49:03.824Z"
   },
   {
    "duration": 5,
    "start_time": "2022-01-18T09:50:08.024Z"
   },
   {
    "duration": 5,
    "start_time": "2022-01-18T09:50:25.012Z"
   },
   {
    "duration": 5,
    "start_time": "2022-01-18T10:51:22.081Z"
   },
   {
    "duration": 4,
    "start_time": "2022-01-18T10:51:36.298Z"
   },
   {
    "duration": 565,
    "start_time": "2022-01-18T10:51:55.255Z"
   },
   {
    "duration": 56,
    "start_time": "2022-01-18T10:51:55.822Z"
   },
   {
    "duration": 17,
    "start_time": "2022-01-18T10:51:55.880Z"
   },
   {
    "duration": 32,
    "start_time": "2022-01-18T10:51:55.899Z"
   },
   {
    "duration": 14,
    "start_time": "2022-01-18T10:51:55.933Z"
   },
   {
    "duration": 7,
    "start_time": "2022-01-18T10:51:55.949Z"
   },
   {
    "duration": 8,
    "start_time": "2022-01-18T10:51:55.957Z"
   },
   {
    "duration": 8,
    "start_time": "2022-01-18T10:51:55.967Z"
   },
   {
    "duration": 8,
    "start_time": "2022-01-18T10:51:55.977Z"
   },
   {
    "duration": 7,
    "start_time": "2022-01-18T10:51:55.986Z"
   },
   {
    "duration": 33,
    "start_time": "2022-01-18T10:51:55.995Z"
   },
   {
    "duration": 16,
    "start_time": "2022-01-18T10:51:56.029Z"
   },
   {
    "duration": 14,
    "start_time": "2022-01-18T10:51:56.046Z"
   },
   {
    "duration": 16,
    "start_time": "2022-01-18T10:51:56.062Z"
   },
   {
    "duration": 8,
    "start_time": "2022-01-18T10:51:56.080Z"
   },
   {
    "duration": 41,
    "start_time": "2022-01-18T10:51:56.089Z"
   },
   {
    "duration": 27,
    "start_time": "2022-01-18T10:51:56.132Z"
   },
   {
    "duration": 9,
    "start_time": "2022-01-18T10:51:56.160Z"
   },
   {
    "duration": 4,
    "start_time": "2022-01-18T10:51:56.171Z"
   },
   {
    "duration": 13,
    "start_time": "2022-01-18T10:51:56.177Z"
   },
   {
    "duration": 37,
    "start_time": "2022-01-18T10:51:56.191Z"
   },
   {
    "duration": 17,
    "start_time": "2022-01-18T10:51:56.229Z"
   },
   {
    "duration": 4,
    "start_time": "2022-01-18T10:51:56.249Z"
   },
   {
    "duration": 3,
    "start_time": "2022-01-18T10:51:56.255Z"
   },
   {
    "duration": 3334,
    "start_time": "2022-01-18T10:51:56.259Z"
   },
   {
    "duration": 11,
    "start_time": "2022-01-18T10:51:59.595Z"
   },
   {
    "duration": 22,
    "start_time": "2022-01-18T10:51:59.607Z"
   },
   {
    "duration": 4,
    "start_time": "2022-01-18T10:51:59.630Z"
   },
   {
    "duration": 6,
    "start_time": "2022-01-18T10:51:59.635Z"
   },
   {
    "duration": 7,
    "start_time": "2022-01-18T10:51:59.642Z"
   },
   {
    "duration": 6,
    "start_time": "2022-01-18T10:51:59.651Z"
   },
   {
    "duration": 18820,
    "start_time": "2022-01-18T10:51:59.658Z"
   },
   {
    "duration": 4,
    "start_time": "2022-01-18T10:52:18.479Z"
   },
   {
    "duration": 10,
    "start_time": "2022-01-18T10:52:18.484Z"
   },
   {
    "duration": 5,
    "start_time": "2022-01-18T10:52:18.495Z"
   },
   {
    "duration": 4,
    "start_time": "2022-01-18T10:52:18.502Z"
   },
   {
    "duration": 20,
    "start_time": "2022-01-18T10:52:18.507Z"
   },
   {
    "duration": 1462,
    "start_time": "2022-01-18T10:53:26.516Z"
   },
   {
    "duration": 1281,
    "start_time": "2022-01-18T10:53:47.232Z"
   },
   {
    "duration": 1583,
    "start_time": "2022-01-18T10:54:02.413Z"
   },
   {
    "duration": 12,
    "start_time": "2022-01-18T10:54:11.287Z"
   },
   {
    "duration": 12,
    "start_time": "2022-01-18T10:54:26.092Z"
   },
   {
    "duration": 365,
    "start_time": "2022-01-18T10:55:04.627Z"
   },
   {
    "duration": 8,
    "start_time": "2022-01-18T10:55:14.979Z"
   },
   {
    "duration": 21,
    "start_time": "2022-01-18T10:55:25.625Z"
   },
   {
    "duration": 19,
    "start_time": "2022-01-18T10:55:57.978Z"
   },
   {
    "duration": 17,
    "start_time": "2022-01-18T10:56:25.150Z"
   },
   {
    "duration": 4,
    "start_time": "2022-01-18T11:01:51.790Z"
   },
   {
    "duration": 10,
    "start_time": "2022-01-18T11:01:52.646Z"
   },
   {
    "duration": 17,
    "start_time": "2022-01-18T11:01:53.789Z"
   },
   {
    "duration": 17,
    "start_time": "2022-01-18T11:02:08.528Z"
   },
   {
    "duration": 4,
    "start_time": "2022-01-18T11:04:40.242Z"
   },
   {
    "duration": 10,
    "start_time": "2022-01-18T11:04:40.875Z"
   },
   {
    "duration": 18,
    "start_time": "2022-01-18T11:04:41.785Z"
   },
   {
    "duration": 10,
    "start_time": "2022-01-18T11:04:56.087Z"
   },
   {
    "duration": 3,
    "start_time": "2022-01-18T11:11:58.864Z"
   },
   {
    "duration": 6,
    "start_time": "2022-01-18T11:13:00.232Z"
   },
   {
    "duration": 2,
    "start_time": "2022-01-18T11:13:22.401Z"
   },
   {
    "duration": 7,
    "start_time": "2022-01-18T11:13:22.827Z"
   },
   {
    "duration": 12,
    "start_time": "2022-01-18T11:13:35.622Z"
   },
   {
    "duration": 3,
    "start_time": "2022-01-18T11:16:25.705Z"
   },
   {
    "duration": 12,
    "start_time": "2022-01-18T11:16:29.930Z"
   },
   {
    "duration": 8,
    "start_time": "2022-01-18T11:16:30.105Z"
   },
   {
    "duration": 12,
    "start_time": "2022-01-18T11:16:30.425Z"
   },
   {
    "duration": 79,
    "start_time": "2022-01-18T11:19:05.491Z"
   },
   {
    "duration": 18,
    "start_time": "2022-01-18T11:19:39.869Z"
   },
   {
    "duration": 477,
    "start_time": "2022-01-18T11:21:59.774Z"
   },
   {
    "duration": 390,
    "start_time": "2022-01-18T11:22:04.754Z"
   },
   {
    "duration": 366,
    "start_time": "2022-01-18T11:22:07.547Z"
   },
   {
    "duration": 72,
    "start_time": "2022-01-18T11:23:30.679Z"
   },
   {
    "duration": 17,
    "start_time": "2022-01-18T11:23:52.694Z"
   },
   {
    "duration": 17,
    "start_time": "2022-01-18T11:25:14.611Z"
   },
   {
    "duration": 14,
    "start_time": "2022-01-18T11:25:23.056Z"
   },
   {
    "duration": 17,
    "start_time": "2022-01-18T11:25:45.655Z"
   },
   {
    "duration": 15,
    "start_time": "2022-01-18T11:28:18.675Z"
   },
   {
    "duration": 324,
    "start_time": "2022-01-18T11:33:23.392Z"
   },
   {
    "duration": 468,
    "start_time": "2022-01-18T11:34:11.493Z"
   },
   {
    "duration": 37,
    "start_time": "2022-01-18T11:37:04.670Z"
   },
   {
    "duration": 20,
    "start_time": "2022-01-18T11:38:50.903Z"
   },
   {
    "duration": 324,
    "start_time": "2022-01-18T11:39:36.234Z"
   },
   {
    "duration": 321,
    "start_time": "2022-01-18T11:39:45.750Z"
   },
   {
    "duration": 20,
    "start_time": "2022-01-18T11:39:54.023Z"
   },
   {
    "duration": 325,
    "start_time": "2022-01-18T11:40:56.180Z"
   },
   {
    "duration": 21,
    "start_time": "2022-01-18T11:41:02.824Z"
   },
   {
    "duration": 366,
    "start_time": "2022-01-18T11:41:29.593Z"
   },
   {
    "duration": 20,
    "start_time": "2022-01-18T11:41:32.595Z"
   },
   {
    "duration": 19,
    "start_time": "2022-01-18T11:45:19.784Z"
   },
   {
    "duration": 315,
    "start_time": "2022-01-18T11:45:45.967Z"
   },
   {
    "duration": 330,
    "start_time": "2022-01-18T11:45:51.505Z"
   },
   {
    "duration": 319,
    "start_time": "2022-01-18T11:45:57.278Z"
   },
   {
    "duration": 664,
    "start_time": "2022-01-18T11:46:06.938Z"
   },
   {
    "duration": 131,
    "start_time": "2022-01-18T11:46:13.590Z"
   },
   {
    "duration": 19,
    "start_time": "2022-01-18T11:46:16.656Z"
   },
   {
    "duration": 326,
    "start_time": "2022-01-18T11:47:25.411Z"
   },
   {
    "duration": 18,
    "start_time": "2022-01-18T11:47:30.487Z"
   },
   {
    "duration": 669,
    "start_time": "2022-01-18T12:02:15.668Z"
   },
   {
    "duration": 57,
    "start_time": "2022-01-18T12:02:16.339Z"
   },
   {
    "duration": 19,
    "start_time": "2022-01-18T12:02:16.398Z"
   },
   {
    "duration": 33,
    "start_time": "2022-01-18T12:02:16.419Z"
   },
   {
    "duration": 15,
    "start_time": "2022-01-18T12:02:16.454Z"
   },
   {
    "duration": 8,
    "start_time": "2022-01-18T12:02:16.470Z"
   },
   {
    "duration": 14,
    "start_time": "2022-01-18T12:02:16.480Z"
   },
   {
    "duration": 13,
    "start_time": "2022-01-18T12:02:16.496Z"
   },
   {
    "duration": 6,
    "start_time": "2022-01-18T12:02:16.527Z"
   },
   {
    "duration": 20,
    "start_time": "2022-01-18T12:02:16.534Z"
   },
   {
    "duration": 5,
    "start_time": "2022-01-18T12:02:16.555Z"
   },
   {
    "duration": 17,
    "start_time": "2022-01-18T12:02:16.562Z"
   },
   {
    "duration": 11,
    "start_time": "2022-01-18T12:02:16.581Z"
   },
   {
    "duration": 34,
    "start_time": "2022-01-18T12:02:16.593Z"
   },
   {
    "duration": 10,
    "start_time": "2022-01-18T12:02:16.629Z"
   },
   {
    "duration": 15,
    "start_time": "2022-01-18T12:02:16.640Z"
   },
   {
    "duration": 31,
    "start_time": "2022-01-18T12:02:16.657Z"
   },
   {
    "duration": 9,
    "start_time": "2022-01-18T12:02:16.689Z"
   },
   {
    "duration": 27,
    "start_time": "2022-01-18T12:02:16.700Z"
   },
   {
    "duration": 12,
    "start_time": "2022-01-18T12:02:16.729Z"
   },
   {
    "duration": 14,
    "start_time": "2022-01-18T12:02:16.742Z"
   },
   {
    "duration": 16,
    "start_time": "2022-01-18T12:02:16.758Z"
   },
   {
    "duration": 5,
    "start_time": "2022-01-18T12:02:16.777Z"
   },
   {
    "duration": 3,
    "start_time": "2022-01-18T12:02:16.784Z"
   },
   {
    "duration": 3561,
    "start_time": "2022-01-18T12:02:16.789Z"
   },
   {
    "duration": 10,
    "start_time": "2022-01-18T12:02:20.352Z"
   },
   {
    "duration": 8,
    "start_time": "2022-01-18T12:02:20.363Z"
   },
   {
    "duration": 4,
    "start_time": "2022-01-18T12:02:20.373Z"
   },
   {
    "duration": 6,
    "start_time": "2022-01-18T12:02:20.378Z"
   },
   {
    "duration": 5,
    "start_time": "2022-01-18T12:02:20.385Z"
   },
   {
    "duration": 7,
    "start_time": "2022-01-18T12:02:20.391Z"
   },
   {
    "duration": 19080,
    "start_time": "2022-01-18T12:02:20.399Z"
   },
   {
    "duration": 5,
    "start_time": "2022-01-18T12:02:39.481Z"
   },
   {
    "duration": 7,
    "start_time": "2022-01-18T12:02:39.487Z"
   },
   {
    "duration": 12,
    "start_time": "2022-01-18T12:02:39.495Z"
   },
   {
    "duration": 22,
    "start_time": "2022-01-18T12:02:39.509Z"
   },
   {
    "duration": 27,
    "start_time": "2022-01-18T12:02:39.533Z"
   },
   {
    "duration": 409,
    "start_time": "2022-01-18T12:02:59.119Z"
   },
   {
    "duration": 330,
    "start_time": "2022-01-18T12:03:05.088Z"
   },
   {
    "duration": 8516,
    "start_time": "2022-01-18T12:03:12.497Z"
   },
   {
    "duration": 8626,
    "start_time": "2022-01-18T12:03:22.919Z"
   },
   {
    "duration": 375,
    "start_time": "2022-01-18T12:03:32.418Z"
   },
   {
    "duration": 375,
    "start_time": "2022-01-18T12:03:48.179Z"
   },
   {
    "duration": 19,
    "start_time": "2022-01-18T12:03:52.478Z"
   },
   {
    "duration": 358,
    "start_time": "2022-01-18T12:05:13.118Z"
   },
   {
    "duration": 37,
    "start_time": "2022-01-18T12:05:43.959Z"
   },
   {
    "duration": 341,
    "start_time": "2022-01-18T14:36:57.367Z"
   },
   {
    "duration": 411,
    "start_time": "2022-01-18T14:37:13.617Z"
   },
   {
    "duration": 1245,
    "start_time": "2022-01-18T14:37:22.349Z"
   },
   {
    "duration": 328,
    "start_time": "2022-01-18T14:38:09.312Z"
   },
   {
    "duration": 563,
    "start_time": "2022-01-18T14:39:23.349Z"
   },
   {
    "duration": 12,
    "start_time": "2022-01-18T14:40:04.187Z"
   },
   {
    "duration": 20,
    "start_time": "2022-01-18T14:40:16.844Z"
   },
   {
    "duration": 2,
    "start_time": "2022-01-18T14:43:12.590Z"
   },
   {
    "duration": 7,
    "start_time": "2022-01-18T14:43:43.031Z"
   },
   {
    "duration": 13,
    "start_time": "2022-01-18T14:43:48.260Z"
   },
   {
    "duration": 21,
    "start_time": "2022-01-18T14:44:02.991Z"
   },
   {
    "duration": 321,
    "start_time": "2022-01-18T14:44:33.465Z"
   },
   {
    "duration": 38,
    "start_time": "2022-01-18T14:45:18.343Z"
   },
   {
    "duration": 945,
    "start_time": "2022-01-18T14:45:41.779Z"
   },
   {
    "duration": 915,
    "start_time": "2022-01-18T14:45:54.083Z"
   },
   {
    "duration": 38,
    "start_time": "2022-01-18T14:46:04.197Z"
   },
   {
    "duration": 32,
    "start_time": "2022-01-18T14:46:28.583Z"
   },
   {
    "duration": 113,
    "start_time": "2022-01-18T14:46:57.758Z"
   },
   {
    "duration": 21,
    "start_time": "2022-01-18T14:47:02.822Z"
   },
   {
    "duration": 32,
    "start_time": "2022-01-18T14:47:46.383Z"
   },
   {
    "duration": 885,
    "start_time": "2022-01-18T14:47:58.285Z"
   },
   {
    "duration": 384,
    "start_time": "2022-01-18T14:48:11.188Z"
   },
   {
    "duration": 838,
    "start_time": "2022-01-18T14:48:18.428Z"
   },
   {
    "duration": 31,
    "start_time": "2022-01-18T14:48:20.609Z"
   },
   {
    "duration": 311,
    "start_time": "2022-01-18T14:48:45.365Z"
   },
   {
    "duration": 389,
    "start_time": "2022-01-18T14:48:52.037Z"
   },
   {
    "duration": 21,
    "start_time": "2022-01-18T14:49:31.798Z"
   },
   {
    "duration": 2,
    "start_time": "2022-01-18T14:51:19.687Z"
   },
   {
    "duration": 11,
    "start_time": "2022-01-18T14:51:19.964Z"
   },
   {
    "duration": 8,
    "start_time": "2022-01-18T14:51:20.175Z"
   },
   {
    "duration": 7,
    "start_time": "2022-01-18T14:51:20.400Z"
   },
   {
    "duration": 13,
    "start_time": "2022-01-18T14:51:22.127Z"
   },
   {
    "duration": 21,
    "start_time": "2022-01-18T14:51:22.936Z"
   },
   {
    "duration": 338,
    "start_time": "2022-01-18T14:51:46.810Z"
   },
   {
    "duration": 338,
    "start_time": "2022-01-18T14:51:51.345Z"
   },
   {
    "duration": 354,
    "start_time": "2022-01-18T14:52:04.960Z"
   },
   {
    "duration": 326,
    "start_time": "2022-01-18T14:52:20.861Z"
   },
   {
    "duration": 20,
    "start_time": "2022-01-18T14:52:32.208Z"
   },
   {
    "duration": 337,
    "start_time": "2022-01-18T14:52:46.615Z"
   },
   {
    "duration": 20,
    "start_time": "2022-01-18T14:52:58.430Z"
   },
   {
    "duration": 16,
    "start_time": "2022-01-18T15:05:38.613Z"
   },
   {
    "duration": 17,
    "start_time": "2022-01-18T15:06:02.387Z"
   },
   {
    "duration": 339,
    "start_time": "2022-01-18T15:06:49.392Z"
   },
   {
    "duration": 15,
    "start_time": "2022-01-18T15:06:54.882Z"
   },
   {
    "duration": 68,
    "start_time": "2022-01-18T15:07:18.164Z"
   },
   {
    "duration": 69,
    "start_time": "2022-01-18T15:07:22.610Z"
   },
   {
    "duration": 330,
    "start_time": "2022-01-18T15:07:34.594Z"
   },
   {
    "duration": 357,
    "start_time": "2022-01-18T15:07:42.562Z"
   },
   {
    "duration": 72,
    "start_time": "2022-01-18T15:07:51.681Z"
   },
   {
    "duration": 339,
    "start_time": "2022-01-18T15:08:00.843Z"
   },
   {
    "duration": 316,
    "start_time": "2022-01-18T15:08:04.189Z"
   },
   {
    "duration": 317,
    "start_time": "2022-01-18T15:08:14.189Z"
   },
   {
    "duration": 18,
    "start_time": "2022-01-18T15:08:19.519Z"
   },
   {
    "duration": 19,
    "start_time": "2022-01-18T15:08:35.277Z"
   },
   {
    "duration": 1407,
    "start_time": "2022-01-18T15:10:02.626Z"
   },
   {
    "duration": 17,
    "start_time": "2022-01-18T15:13:10.580Z"
   },
   {
    "duration": 411,
    "start_time": "2022-01-18T15:13:32.581Z"
   },
   {
    "duration": 24,
    "start_time": "2022-01-18T15:13:42.983Z"
   },
   {
    "duration": 22,
    "start_time": "2022-01-18T15:14:20.598Z"
   },
   {
    "duration": 22,
    "start_time": "2022-01-18T15:14:26.206Z"
   },
   {
    "duration": 22,
    "start_time": "2022-01-18T15:14:32.926Z"
   },
   {
    "duration": 21,
    "start_time": "2022-01-18T15:14:40.180Z"
   },
   {
    "duration": 316,
    "start_time": "2022-01-18T15:16:09.255Z"
   },
   {
    "duration": 18,
    "start_time": "2022-01-18T15:16:18.343Z"
   },
   {
    "duration": 155,
    "start_time": "2022-01-18T15:16:50.253Z"
   },
   {
    "duration": 102,
    "start_time": "2022-01-18T15:16:58.481Z"
   },
   {
    "duration": 19,
    "start_time": "2022-01-18T15:17:04.363Z"
   },
   {
    "duration": 30,
    "start_time": "2022-01-18T15:17:15.031Z"
   },
   {
    "duration": 19,
    "start_time": "2022-01-18T15:18:23.755Z"
   },
   {
    "duration": 17,
    "start_time": "2022-01-18T15:19:38.584Z"
   },
   {
    "duration": 6,
    "start_time": "2022-01-18T15:19:47.739Z"
   },
   {
    "duration": 4,
    "start_time": "2022-01-18T15:20:03.744Z"
   },
   {
    "duration": 16,
    "start_time": "2022-01-18T15:20:43.038Z"
   },
   {
    "duration": 3,
    "start_time": "2022-01-18T15:25:17.126Z"
   },
   {
    "duration": 10,
    "start_time": "2022-01-18T15:25:18.081Z"
   },
   {
    "duration": 6,
    "start_time": "2022-01-18T15:25:18.442Z"
   },
   {
    "duration": 6,
    "start_time": "2022-01-18T15:25:18.838Z"
   },
   {
    "duration": 13,
    "start_time": "2022-01-18T15:25:21.477Z"
   },
   {
    "duration": 15,
    "start_time": "2022-01-18T15:25:23.016Z"
   },
   {
    "duration": -385,
    "start_time": "2022-01-18T15:25:39.003Z"
   },
   {
    "duration": 3,
    "start_time": "2022-01-18T15:25:46.239Z"
   },
   {
    "duration": 14,
    "start_time": "2022-01-18T15:25:46.689Z"
   },
   {
    "duration": 6,
    "start_time": "2022-01-18T15:25:46.957Z"
   },
   {
    "duration": 6,
    "start_time": "2022-01-18T15:25:47.188Z"
   },
   {
    "duration": 11,
    "start_time": "2022-01-18T15:25:48.944Z"
   },
   {
    "duration": 14,
    "start_time": "2022-01-18T15:25:54.514Z"
   },
   {
    "duration": 5,
    "start_time": "2022-01-18T15:25:59.195Z"
   },
   {
    "duration": 5,
    "start_time": "2022-01-18T15:26:17.913Z"
   },
   {
    "duration": 4,
    "start_time": "2022-01-18T15:26:41.211Z"
   },
   {
    "duration": 4,
    "start_time": "2022-01-18T15:26:50.105Z"
   },
   {
    "duration": 6,
    "start_time": "2022-01-18T15:26:56.595Z"
   },
   {
    "duration": 3,
    "start_time": "2022-01-18T15:27:15.576Z"
   },
   {
    "duration": 6,
    "start_time": "2022-01-18T15:27:15.988Z"
   },
   {
    "duration": 6,
    "start_time": "2022-01-18T15:29:07.201Z"
   },
   {
    "duration": 5,
    "start_time": "2022-01-18T15:29:14.804Z"
   },
   {
    "duration": 17,
    "start_time": "2022-01-18T15:29:53.739Z"
   },
   {
    "duration": 4,
    "start_time": "2022-01-18T15:31:29.576Z"
   },
   {
    "duration": 8,
    "start_time": "2022-01-18T15:31:30.917Z"
   },
   {
    "duration": 338,
    "start_time": "2022-01-18T15:32:43.862Z"
   },
   {
    "duration": 8,
    "start_time": "2022-01-18T15:32:47.450Z"
   },
   {
    "duration": 7,
    "start_time": "2022-01-18T15:32:58.101Z"
   },
   {
    "duration": 13,
    "start_time": "2022-01-18T15:36:06.926Z"
   },
   {
    "duration": 6,
    "start_time": "2022-01-18T15:36:15.682Z"
   },
   {
    "duration": 15,
    "start_time": "2022-01-18T15:36:36.407Z"
   },
   {
    "duration": 6,
    "start_time": "2022-01-18T15:36:37.503Z"
   },
   {
    "duration": 16,
    "start_time": "2022-01-18T15:36:59.115Z"
   },
   {
    "duration": 6,
    "start_time": "2022-01-18T15:37:00.410Z"
   },
   {
    "duration": 4,
    "start_time": "2022-01-18T15:37:43.231Z"
   },
   {
    "duration": 6,
    "start_time": "2022-01-18T15:37:46.817Z"
   },
   {
    "duration": 4,
    "start_time": "2022-01-18T15:38:08.066Z"
   },
   {
    "duration": 6,
    "start_time": "2022-01-18T15:38:08.693Z"
   },
   {
    "duration": 7,
    "start_time": "2022-01-18T15:38:25.305Z"
   },
   {
    "duration": 5,
    "start_time": "2022-01-18T15:39:27.681Z"
   },
   {
    "duration": 7,
    "start_time": "2022-01-18T15:39:28.572Z"
   },
   {
    "duration": 7,
    "start_time": "2022-01-18T15:39:34.916Z"
   },
   {
    "duration": 4,
    "start_time": "2022-01-18T15:39:46.281Z"
   },
   {
    "duration": 7,
    "start_time": "2022-01-18T15:39:47.376Z"
   },
   {
    "duration": 3,
    "start_time": "2022-01-18T15:40:10.691Z"
   },
   {
    "duration": 8,
    "start_time": "2022-01-18T15:40:11.455Z"
   },
   {
    "duration": 4,
    "start_time": "2022-01-18T15:40:17.323Z"
   },
   {
    "duration": 7,
    "start_time": "2022-01-18T15:40:18.187Z"
   },
   {
    "duration": 5,
    "start_time": "2022-01-18T15:41:02.953Z"
   },
   {
    "duration": 7,
    "start_time": "2022-01-18T15:41:04.137Z"
   },
   {
    "duration": 7,
    "start_time": "2022-01-18T15:41:16.675Z"
   },
   {
    "duration": 16,
    "start_time": "2022-01-18T15:41:24.070Z"
   },
   {
    "duration": 4,
    "start_time": "2022-01-18T15:41:24.500Z"
   },
   {
    "duration": 7,
    "start_time": "2022-01-18T15:41:25.373Z"
   },
   {
    "duration": 12,
    "start_time": "2022-01-18T15:44:07.597Z"
   },
   {
    "duration": 15,
    "start_time": "2022-01-18T15:44:23.831Z"
   },
   {
    "duration": 6,
    "start_time": "2022-01-18T15:44:30.021Z"
   },
   {
    "duration": 6,
    "start_time": "2022-01-18T15:45:19.682Z"
   },
   {
    "duration": 7,
    "start_time": "2022-01-18T15:45:28.141Z"
   },
   {
    "duration": 10,
    "start_time": "2022-01-18T15:45:47.504Z"
   },
   {
    "duration": 2,
    "start_time": "2022-01-18T15:47:33.644Z"
   },
   {
    "duration": 4,
    "start_time": "2022-01-18T15:51:03.727Z"
   },
   {
    "duration": 3,
    "start_time": "2022-01-18T15:51:05.098Z"
   },
   {
    "duration": 3,
    "start_time": "2022-01-18T15:51:05.698Z"
   },
   {
    "duration": 8,
    "start_time": "2022-01-18T15:51:06.039Z"
   },
   {
    "duration": 7,
    "start_time": "2022-01-18T15:51:06.324Z"
   },
   {
    "duration": 6,
    "start_time": "2022-01-18T15:51:06.616Z"
   },
   {
    "duration": 15,
    "start_time": "2022-01-18T15:51:08.135Z"
   },
   {
    "duration": 4,
    "start_time": "2022-01-18T15:51:08.349Z"
   },
   {
    "duration": 8,
    "start_time": "2022-01-18T15:51:08.574Z"
   },
   {
    "duration": 15,
    "start_time": "2022-01-18T15:51:09.443Z"
   },
   {
    "duration": 4,
    "start_time": "2022-01-18T15:51:09.695Z"
   },
   {
    "duration": 7,
    "start_time": "2022-01-18T15:51:09.935Z"
   },
   {
    "duration": 16,
    "start_time": "2022-01-18T15:51:10.993Z"
   },
   {
    "duration": 6,
    "start_time": "2022-01-18T15:51:11.248Z"
   },
   {
    "duration": 5,
    "start_time": "2022-01-18T15:51:11.584Z"
   },
   {
    "duration": 8,
    "start_time": "2022-01-18T15:51:15.015Z"
   },
   {
    "duration": 14,
    "start_time": "2022-01-18T15:55:16.353Z"
   },
   {
    "duration": 5,
    "start_time": "2022-01-18T15:55:29.980Z"
   },
   {
    "duration": 4,
    "start_time": "2022-01-18T15:58:56.352Z"
   },
   {
    "duration": 7,
    "start_time": "2022-01-18T15:59:02.905Z"
   },
   {
    "duration": 7,
    "start_time": "2022-01-18T16:07:58.985Z"
   },
   {
    "duration": 7,
    "start_time": "2022-01-18T16:09:52.375Z"
   },
   {
    "duration": 3,
    "start_time": "2022-01-18T16:10:33.922Z"
   },
   {
    "duration": 549,
    "start_time": "2022-01-18T16:10:45.488Z"
   },
   {
    "duration": 8183,
    "start_time": "2022-01-18T16:13:34.463Z"
   },
   {
    "duration": -385,
    "start_time": "2022-01-18T16:13:43.033Z"
   },
   {
    "duration": 7,
    "start_time": "2022-01-18T16:14:27.860Z"
   },
   {
    "duration": 8086,
    "start_time": "2022-01-18T16:14:55.440Z"
   },
   {
    "duration": 3,
    "start_time": "2022-01-18T16:15:14.408Z"
   },
   {
    "duration": 366,
    "start_time": "2022-01-18T16:15:17.144Z"
   },
   {
    "duration": 348,
    "start_time": "2022-01-18T16:15:39.043Z"
   },
   {
    "duration": 197,
    "start_time": "2022-01-18T16:15:42.678Z"
   },
   {
    "duration": 329,
    "start_time": "2022-01-18T16:15:43.034Z"
   },
   {
    "duration": 332,
    "start_time": "2022-01-18T16:15:43.429Z"
   },
   {
    "duration": 14,
    "start_time": "2022-01-18T16:15:49.319Z"
   },
   {
    "duration": 4,
    "start_time": "2022-01-18T16:15:49.974Z"
   },
   {
    "duration": 8163,
    "start_time": "2022-01-18T16:15:50.663Z"
   },
   {
    "duration": -283,
    "start_time": "2022-01-18T16:15:59.111Z"
   },
   {
    "duration": 8187,
    "start_time": "2022-01-18T16:16:45.494Z"
   },
   {
    "duration": 8399,
    "start_time": "2022-01-18T16:17:06.377Z"
   },
   {
    "duration": 15,
    "start_time": "2022-01-18T16:17:43.225Z"
   },
   {
    "duration": 7,
    "start_time": "2022-01-18T16:17:56.777Z"
   },
   {
    "duration": 16,
    "start_time": "2022-01-18T16:18:00.752Z"
   },
   {
    "duration": 4,
    "start_time": "2022-01-18T16:18:01.080Z"
   },
   {
    "duration": 8,
    "start_time": "2022-01-18T16:18:01.420Z"
   },
   {
    "duration": 8412,
    "start_time": "2022-01-18T16:18:02.100Z"
   },
   {
    "duration": 2,
    "start_time": "2022-01-18T16:19:56.835Z"
   },
   {
    "duration": 5,
    "start_time": "2022-01-18T16:20:00.528Z"
   },
   {
    "duration": 19088,
    "start_time": "2022-01-18T16:20:25.801Z"
   },
   {
    "duration": 12,
    "start_time": "2022-01-18T16:20:57.910Z"
   },
   {
    "duration": 23598,
    "start_time": "2022-01-18T16:21:28.954Z"
   },
   {
    "duration": 12,
    "start_time": "2022-01-18T16:21:52.554Z"
   },
   {
    "duration": 341,
    "start_time": "2022-01-18T16:22:29.564Z"
   },
   {
    "duration": 3,
    "start_time": "2022-01-18T16:22:30.166Z"
   },
   {
    "duration": 435,
    "start_time": "2022-01-18T16:22:35.756Z"
   },
   {
    "duration": 12,
    "start_time": "2022-01-18T16:22:47.595Z"
   },
   {
    "duration": 17,
    "start_time": "2022-01-18T16:22:58.852Z"
   },
   {
    "duration": 3,
    "start_time": "2022-01-18T16:23:05.109Z"
   },
   {
    "duration": 7,
    "start_time": "2022-01-18T16:23:06.031Z"
   },
   {
    "duration": 3,
    "start_time": "2022-01-18T16:24:03.264Z"
   },
   {
    "duration": 4,
    "start_time": "2022-01-18T16:24:23.283Z"
   },
   {
    "duration": 644,
    "start_time": "2022-01-18T16:34:27.308Z"
   },
   {
    "duration": 58,
    "start_time": "2022-01-18T16:34:27.954Z"
   },
   {
    "duration": 20,
    "start_time": "2022-01-18T16:34:28.014Z"
   },
   {
    "duration": 32,
    "start_time": "2022-01-18T16:34:28.036Z"
   },
   {
    "duration": 14,
    "start_time": "2022-01-18T16:34:28.070Z"
   },
   {
    "duration": 7,
    "start_time": "2022-01-18T16:34:28.086Z"
   },
   {
    "duration": 32,
    "start_time": "2022-01-18T16:34:28.095Z"
   },
   {
    "duration": 10,
    "start_time": "2022-01-18T16:34:28.130Z"
   },
   {
    "duration": 6,
    "start_time": "2022-01-18T16:34:28.142Z"
   },
   {
    "duration": 8,
    "start_time": "2022-01-18T16:34:28.150Z"
   },
   {
    "duration": 4,
    "start_time": "2022-01-18T16:34:28.160Z"
   },
   {
    "duration": 16,
    "start_time": "2022-01-18T16:34:28.166Z"
   },
   {
    "duration": 43,
    "start_time": "2022-01-18T16:34:28.184Z"
   },
   {
    "duration": 17,
    "start_time": "2022-01-18T16:34:28.229Z"
   },
   {
    "duration": 8,
    "start_time": "2022-01-18T16:34:28.248Z"
   },
   {
    "duration": 16,
    "start_time": "2022-01-18T16:34:28.258Z"
   },
   {
    "duration": 29,
    "start_time": "2022-01-18T16:34:28.275Z"
   },
   {
    "duration": 30,
    "start_time": "2022-01-18T16:34:28.305Z"
   },
   {
    "duration": 5,
    "start_time": "2022-01-18T16:34:28.336Z"
   },
   {
    "duration": 11,
    "start_time": "2022-01-18T16:34:28.343Z"
   },
   {
    "duration": 15,
    "start_time": "2022-01-18T16:34:28.355Z"
   },
   {
    "duration": 16,
    "start_time": "2022-01-18T16:34:28.371Z"
   },
   {
    "duration": 36,
    "start_time": "2022-01-18T16:34:28.391Z"
   },
   {
    "duration": 4,
    "start_time": "2022-01-18T16:34:28.429Z"
   },
   {
    "duration": 3652,
    "start_time": "2022-01-18T16:34:28.434Z"
   },
   {
    "duration": 10,
    "start_time": "2022-01-18T16:34:32.088Z"
   },
   {
    "duration": 5,
    "start_time": "2022-01-18T16:34:32.100Z"
   },
   {
    "duration": 4,
    "start_time": "2022-01-18T16:34:32.107Z"
   },
   {
    "duration": 15,
    "start_time": "2022-01-18T16:34:32.113Z"
   },
   {
    "duration": 7,
    "start_time": "2022-01-18T16:34:32.129Z"
   },
   {
    "duration": 6,
    "start_time": "2022-01-18T16:34:32.137Z"
   },
   {
    "duration": 23901,
    "start_time": "2022-01-18T16:34:32.144Z"
   },
   {
    "duration": 11,
    "start_time": "2022-01-18T16:34:56.046Z"
   },
   {
    "duration": 7,
    "start_time": "2022-01-18T16:34:56.058Z"
   },
   {
    "duration": 10,
    "start_time": "2022-01-18T16:34:56.066Z"
   },
   {
    "duration": 5,
    "start_time": "2022-01-18T16:34:56.077Z"
   },
   {
    "duration": 9,
    "start_time": "2022-01-18T16:34:56.083Z"
   },
   {
    "duration": 7,
    "start_time": "2022-01-18T16:34:56.094Z"
   },
   {
    "duration": 7,
    "start_time": "2022-01-18T16:34:56.103Z"
   },
   {
    "duration": 32,
    "start_time": "2022-01-18T16:34:56.112Z"
   },
   {
    "duration": 3,
    "start_time": "2022-01-18T16:34:56.146Z"
   },
   {
    "duration": 9,
    "start_time": "2022-01-18T16:34:56.151Z"
   },
   {
    "duration": 19,
    "start_time": "2022-01-18T16:34:56.161Z"
   },
   {
    "duration": 3,
    "start_time": "2022-01-18T16:34:56.182Z"
   },
   {
    "duration": 9,
    "start_time": "2022-01-18T16:34:56.186Z"
   },
   {
    "duration": 35,
    "start_time": "2022-01-18T16:34:56.196Z"
   },
   {
    "duration": 3,
    "start_time": "2022-01-18T16:34:56.232Z"
   },
   {
    "duration": 8,
    "start_time": "2022-01-18T16:34:56.237Z"
   },
   {
    "duration": 14,
    "start_time": "2022-01-18T16:34:56.247Z"
   },
   {
    "duration": 3,
    "start_time": "2022-01-18T16:34:56.263Z"
   },
   {
    "duration": 11,
    "start_time": "2022-01-18T16:34:56.267Z"
   },
   {
    "duration": 12,
    "start_time": "2022-01-18T16:34:56.279Z"
   },
   {
    "duration": 5,
    "start_time": "2022-01-18T16:34:56.294Z"
   },
   {
    "duration": 818,
    "start_time": "2022-01-18T16:36:59.510Z"
   },
   {
    "duration": 3,
    "start_time": "2022-01-18T16:37:41.779Z"
   },
   {
    "duration": 359,
    "start_time": "2022-01-18T16:39:30.392Z"
   },
   {
    "duration": 328,
    "start_time": "2022-01-18T16:39:37.370Z"
   },
   {
    "duration": 372,
    "start_time": "2022-01-18T16:39:47.315Z"
   },
   {
    "duration": 336,
    "start_time": "2022-01-18T16:40:08.235Z"
   },
   {
    "duration": 328,
    "start_time": "2022-01-18T16:40:12.232Z"
   },
   {
    "duration": 335,
    "start_time": "2022-01-18T16:40:24.527Z"
   },
   {
    "duration": 4,
    "start_time": "2022-01-18T16:40:53.379Z"
   },
   {
    "duration": 3,
    "start_time": "2022-01-18T16:42:14.459Z"
   },
   {
    "duration": 3,
    "start_time": "2022-01-18T16:42:37.300Z"
   },
   {
    "duration": 46,
    "start_time": "2022-01-18T16:43:40.287Z"
   },
   {
    "duration": 10,
    "start_time": "2022-01-18T16:44:03.195Z"
   },
   {
    "duration": 13,
    "start_time": "2022-01-18T16:44:40.731Z"
   },
   {
    "duration": 30,
    "start_time": "2022-01-18T16:45:24.616Z"
   },
   {
    "duration": 3,
    "start_time": "2022-01-18T16:47:39.910Z"
   },
   {
    "duration": 9,
    "start_time": "2022-01-18T16:47:46.211Z"
   },
   {
    "duration": 5,
    "start_time": "2022-01-18T16:47:48.655Z"
   },
   {
    "duration": 3,
    "start_time": "2022-01-18T16:48:12.871Z"
   },
   {
    "duration": 4,
    "start_time": "2022-01-18T16:48:14.079Z"
   },
   {
    "duration": 4,
    "start_time": "2022-01-18T16:52:58.854Z"
   },
   {
    "duration": 7,
    "start_time": "2022-01-18T16:53:06.832Z"
   },
   {
    "duration": 6,
    "start_time": "2022-01-18T16:53:15.119Z"
   },
   {
    "duration": 335,
    "start_time": "2022-01-18T16:53:46.836Z"
   },
   {
    "duration": 7,
    "start_time": "2022-01-18T16:53:56.873Z"
   },
   {
    "duration": 7,
    "start_time": "2022-01-18T16:54:15.038Z"
   },
   {
    "duration": 7,
    "start_time": "2022-01-18T16:55:26.114Z"
   },
   {
    "duration": 7,
    "start_time": "2022-01-18T16:57:21.951Z"
   },
   {
    "duration": 105,
    "start_time": "2022-01-18T16:57:26.225Z"
   },
   {
    "duration": 363,
    "start_time": "2022-01-18T16:58:25.541Z"
   },
   {
    "duration": 4,
    "start_time": "2022-01-18T17:01:46.543Z"
   },
   {
    "duration": -281,
    "start_time": "2022-01-18T17:02:00.661Z"
   },
   {
    "duration": 7940,
    "start_time": "2022-01-18T17:02:07.056Z"
   },
   {
    "duration": 5,
    "start_time": "2022-01-18T17:02:17.348Z"
   },
   {
    "duration": 4,
    "start_time": "2022-01-18T17:02:20.004Z"
   },
   {
    "duration": 3,
    "start_time": "2022-01-18T17:02:22.955Z"
   },
   {
    "duration": 5,
    "start_time": "2022-01-18T17:02:25.773Z"
   },
   {
    "duration": 209,
    "start_time": "2022-01-18T17:02:42.155Z"
   },
   {
    "duration": 328,
    "start_time": "2022-01-18T17:02:47.672Z"
   },
   {
    "duration": 4,
    "start_time": "2022-01-18T17:03:00.461Z"
   },
   {
    "duration": 4,
    "start_time": "2022-01-18T17:03:07.862Z"
   },
   {
    "duration": 4,
    "start_time": "2022-01-18T17:03:11.043Z"
   },
   {
    "duration": 4,
    "start_time": "2022-01-18T17:03:13.903Z"
   },
   {
    "duration": 4,
    "start_time": "2022-01-18T17:03:17.525Z"
   },
   {
    "duration": 3,
    "start_time": "2022-01-18T17:05:22.624Z"
   },
   {
    "duration": 4702,
    "start_time": "2022-01-18T17:06:07.550Z"
   },
   {
    "duration": 11,
    "start_time": "2022-01-18T17:06:12.254Z"
   },
   {
    "duration": 13,
    "start_time": "2022-01-18T17:06:23.300Z"
   },
   {
    "duration": 564,
    "start_time": "2022-01-18T17:07:16.773Z"
   },
   {
    "duration": 50,
    "start_time": "2022-01-18T17:07:17.339Z"
   },
   {
    "duration": 11,
    "start_time": "2022-01-18T17:07:17.391Z"
   },
   {
    "duration": 24,
    "start_time": "2022-01-18T17:07:17.404Z"
   },
   {
    "duration": 27,
    "start_time": "2022-01-18T17:07:17.429Z"
   },
   {
    "duration": 14,
    "start_time": "2022-01-18T17:07:17.458Z"
   },
   {
    "duration": 7,
    "start_time": "2022-01-18T17:07:17.474Z"
   },
   {
    "duration": 11,
    "start_time": "2022-01-18T17:07:17.484Z"
   },
   {
    "duration": 31,
    "start_time": "2022-01-18T17:07:17.497Z"
   },
   {
    "duration": 5,
    "start_time": "2022-01-18T17:07:17.530Z"
   },
   {
    "duration": 16,
    "start_time": "2022-01-18T17:07:17.537Z"
   },
   {
    "duration": 11,
    "start_time": "2022-01-18T17:07:17.555Z"
   },
   {
    "duration": 15,
    "start_time": "2022-01-18T17:07:17.568Z"
   },
   {
    "duration": 12,
    "start_time": "2022-01-18T17:07:17.584Z"
   },
   {
    "duration": 33,
    "start_time": "2022-01-18T17:07:17.597Z"
   },
   {
    "duration": 9,
    "start_time": "2022-01-18T17:07:17.632Z"
   },
   {
    "duration": 13,
    "start_time": "2022-01-18T17:07:17.643Z"
   },
   {
    "duration": 27,
    "start_time": "2022-01-18T17:07:17.657Z"
   },
   {
    "duration": 11,
    "start_time": "2022-01-18T17:07:17.686Z"
   },
   {
    "duration": 29,
    "start_time": "2022-01-18T17:07:17.698Z"
   },
   {
    "duration": 16,
    "start_time": "2022-01-18T17:07:17.728Z"
   },
   {
    "duration": 14,
    "start_time": "2022-01-18T17:07:17.745Z"
   },
   {
    "duration": 15,
    "start_time": "2022-01-18T17:07:17.762Z"
   },
   {
    "duration": 6,
    "start_time": "2022-01-18T17:07:17.779Z"
   },
   {
    "duration": 3,
    "start_time": "2022-01-18T17:07:17.786Z"
   },
   {
    "duration": 3443,
    "start_time": "2022-01-18T17:07:17.790Z"
   },
   {
    "duration": 11,
    "start_time": "2022-01-18T17:07:21.235Z"
   },
   {
    "duration": 11,
    "start_time": "2022-01-18T17:07:21.247Z"
   },
   {
    "duration": 4,
    "start_time": "2022-01-18T17:07:21.260Z"
   },
   {
    "duration": 5,
    "start_time": "2022-01-18T17:07:21.266Z"
   },
   {
    "duration": 13,
    "start_time": "2022-01-18T17:07:21.272Z"
   },
   {
    "duration": 13,
    "start_time": "2022-01-18T17:07:21.287Z"
   },
   {
    "duration": 3669,
    "start_time": "2022-01-18T17:07:21.301Z"
   },
   {
    "duration": 15,
    "start_time": "2022-01-18T17:07:24.971Z"
   },
   {
    "duration": 24,
    "start_time": "2022-01-18T17:07:24.987Z"
   },
   {
    "duration": 14,
    "start_time": "2022-01-18T17:07:25.013Z"
   },
   {
    "duration": 46,
    "start_time": "2022-01-18T17:07:25.028Z"
   },
   {
    "duration": 27,
    "start_time": "2022-01-18T17:07:25.075Z"
   },
   {
    "duration": 24,
    "start_time": "2022-01-18T17:07:25.103Z"
   },
   {
    "duration": 25,
    "start_time": "2022-01-18T17:07:25.128Z"
   },
   {
    "duration": 31,
    "start_time": "2022-01-18T17:07:25.154Z"
   },
   {
    "duration": 20,
    "start_time": "2022-01-18T17:07:25.187Z"
   },
   {
    "duration": 28,
    "start_time": "2022-01-18T17:07:25.208Z"
   },
   {
    "duration": 32,
    "start_time": "2022-01-18T17:07:25.238Z"
   },
   {
    "duration": 21,
    "start_time": "2022-01-18T17:07:25.272Z"
   },
   {
    "duration": 34,
    "start_time": "2022-01-18T17:07:25.294Z"
   },
   {
    "duration": 27,
    "start_time": "2022-01-18T17:07:25.330Z"
   },
   {
    "duration": 23,
    "start_time": "2022-01-18T17:07:25.359Z"
   },
   {
    "duration": 29,
    "start_time": "2022-01-18T17:07:25.383Z"
   },
   {
    "duration": 486,
    "start_time": "2022-01-18T17:07:25.414Z"
   },
   {
    "duration": -258,
    "start_time": "2022-01-18T17:07:26.160Z"
   },
   {
    "duration": -272,
    "start_time": "2022-01-18T17:07:26.175Z"
   },
   {
    "duration": -289,
    "start_time": "2022-01-18T17:07:26.193Z"
   },
   {
    "duration": -307,
    "start_time": "2022-01-18T17:07:26.212Z"
   },
   {
    "duration": 15,
    "start_time": "2022-01-18T17:07:54.410Z"
   },
   {
    "duration": 4,
    "start_time": "2022-01-18T17:07:57.054Z"
   },
   {
    "duration": 8,
    "start_time": "2022-01-18T17:07:57.583Z"
   },
   {
    "duration": 10278,
    "start_time": "2022-01-18T17:07:58.566Z"
   },
   {
    "duration": 4002,
    "start_time": "2022-01-18T17:09:16.140Z"
   },
   {
    "duration": 15,
    "start_time": "2022-01-18T17:09:23.103Z"
   },
   {
    "duration": 5,
    "start_time": "2022-01-18T17:11:14.286Z"
   },
   {
    "duration": 6,
    "start_time": "2022-01-18T17:11:22.679Z"
   },
   {
    "duration": 5,
    "start_time": "2022-01-18T17:11:48.151Z"
   },
   {
    "duration": 7,
    "start_time": "2022-01-18T17:11:57.072Z"
   },
   {
    "duration": 107,
    "start_time": "2022-01-18T17:12:19.765Z"
   },
   {
    "duration": 127,
    "start_time": "2022-01-18T17:12:29.775Z"
   },
   {
    "duration": 374,
    "start_time": "2022-01-18T17:12:41.230Z"
   },
   {
    "duration": 8,
    "start_time": "2022-01-18T17:13:29.040Z"
   },
   {
    "duration": 393,
    "start_time": "2022-01-18T17:13:47.487Z"
   },
   {
    "duration": 7,
    "start_time": "2022-01-18T17:13:53.935Z"
   },
   {
    "duration": 8,
    "start_time": "2022-01-18T17:14:16.134Z"
   },
   {
    "duration": 3,
    "start_time": "2022-01-18T17:14:18.887Z"
   },
   {
    "duration": 4132,
    "start_time": "2022-01-18T17:14:19.559Z"
   },
   {
    "duration": 14,
    "start_time": "2022-01-18T17:14:23.693Z"
   },
   {
    "duration": 32,
    "start_time": "2022-01-18T17:14:23.708Z"
   },
   {
    "duration": 25,
    "start_time": "2022-01-18T17:14:23.741Z"
   },
   {
    "duration": 3,
    "start_time": "2022-01-18T17:14:56.932Z"
   },
   {
    "duration": 4365,
    "start_time": "2022-01-18T17:14:58.613Z"
   },
   {
    "duration": 15,
    "start_time": "2022-01-18T17:15:02.980Z"
   },
   {
    "duration": 347,
    "start_time": "2022-01-18T17:16:14.751Z"
   },
   {
    "duration": 4,
    "start_time": "2022-01-18T17:17:09.204Z"
   },
   {
    "duration": 7,
    "start_time": "2022-01-18T17:17:11.707Z"
   },
   {
    "duration": 16,
    "start_time": "2022-01-18T17:17:32.032Z"
   },
   {
    "duration": 4203,
    "start_time": "2022-01-18T17:18:06.881Z"
   },
   {
    "duration": 7,
    "start_time": "2022-01-18T17:18:23.950Z"
   },
   {
    "duration": 7,
    "start_time": "2022-01-18T17:18:37.057Z"
   },
   {
    "duration": 21,
    "start_time": "2022-01-18T17:18:39.191Z"
   },
   {
    "duration": 4,
    "start_time": "2022-01-18T17:18:39.684Z"
   },
   {
    "duration": 11,
    "start_time": "2022-01-18T17:18:40.213Z"
   },
   {
    "duration": 9,
    "start_time": "2022-01-18T17:18:45.521Z"
   },
   {
    "duration": 451,
    "start_time": "2022-01-18T17:19:12.802Z"
   },
   {
    "duration": 9,
    "start_time": "2022-01-18T17:20:49.229Z"
   },
   {
    "duration": 11,
    "start_time": "2022-01-18T17:20:53.523Z"
   },
   {
    "duration": 4,
    "start_time": "2022-01-18T17:22:19.651Z"
   },
   {
    "duration": 4775,
    "start_time": "2022-01-18T17:22:21.103Z"
   },
   {
    "duration": 13,
    "start_time": "2022-01-18T17:22:25.879Z"
   },
   {
    "duration": 825,
    "start_time": "2022-01-18T17:22:41.462Z"
   },
   {
    "duration": 76,
    "start_time": "2022-01-18T17:22:42.289Z"
   },
   {
    "duration": 15,
    "start_time": "2022-01-18T17:22:42.368Z"
   },
   {
    "duration": 30,
    "start_time": "2022-01-18T17:22:42.386Z"
   },
   {
    "duration": 47,
    "start_time": "2022-01-18T17:22:42.428Z"
   },
   {
    "duration": 26,
    "start_time": "2022-01-18T17:22:42.477Z"
   },
   {
    "duration": 32,
    "start_time": "2022-01-18T17:22:42.505Z"
   },
   {
    "duration": 10,
    "start_time": "2022-01-18T17:22:42.541Z"
   },
   {
    "duration": 10,
    "start_time": "2022-01-18T17:22:42.553Z"
   },
   {
    "duration": 9,
    "start_time": "2022-01-18T17:22:42.565Z"
   },
   {
    "duration": 11,
    "start_time": "2022-01-18T17:22:42.576Z"
   },
   {
    "duration": 6,
    "start_time": "2022-01-18T17:22:42.589Z"
   },
   {
    "duration": 44,
    "start_time": "2022-01-18T17:22:42.597Z"
   },
   {
    "duration": 12,
    "start_time": "2022-01-18T17:22:42.643Z"
   },
   {
    "duration": 17,
    "start_time": "2022-01-18T17:22:42.657Z"
   },
   {
    "duration": 9,
    "start_time": "2022-01-18T17:22:42.675Z"
   },
   {
    "duration": 51,
    "start_time": "2022-01-18T17:22:42.686Z"
   },
   {
    "duration": 29,
    "start_time": "2022-01-18T17:22:42.739Z"
   },
   {
    "duration": 10,
    "start_time": "2022-01-18T17:22:42.769Z"
   },
   {
    "duration": 18,
    "start_time": "2022-01-18T17:22:42.780Z"
   },
   {
    "duration": 28,
    "start_time": "2022-01-18T17:22:42.799Z"
   },
   {
    "duration": 17,
    "start_time": "2022-01-18T17:22:42.829Z"
   },
   {
    "duration": 16,
    "start_time": "2022-01-18T17:22:42.849Z"
   },
   {
    "duration": 4,
    "start_time": "2022-01-18T17:22:42.867Z"
   },
   {
    "duration": 4,
    "start_time": "2022-01-18T17:22:42.873Z"
   },
   {
    "duration": 3887,
    "start_time": "2022-01-18T17:22:42.878Z"
   },
   {
    "duration": 11,
    "start_time": "2022-01-18T17:22:46.768Z"
   },
   {
    "duration": 7,
    "start_time": "2022-01-18T17:22:46.781Z"
   },
   {
    "duration": 6,
    "start_time": "2022-01-18T17:22:46.789Z"
   },
   {
    "duration": 6,
    "start_time": "2022-01-18T17:22:46.796Z"
   },
   {
    "duration": 28,
    "start_time": "2022-01-18T17:22:46.804Z"
   },
   {
    "duration": 3,
    "start_time": "2022-01-18T17:22:46.833Z"
   },
   {
    "duration": 5016,
    "start_time": "2022-01-18T17:22:46.838Z"
   },
   {
    "duration": 20,
    "start_time": "2022-01-18T17:22:51.856Z"
   },
   {
    "duration": 7,
    "start_time": "2022-01-18T17:22:51.878Z"
   },
   {
    "duration": 5,
    "start_time": "2022-01-18T17:22:51.887Z"
   },
   {
    "duration": 4,
    "start_time": "2022-01-18T17:22:51.894Z"
   },
   {
    "duration": 27,
    "start_time": "2022-01-18T17:22:51.900Z"
   },
   {
    "duration": 7,
    "start_time": "2022-01-18T17:22:51.929Z"
   },
   {
    "duration": 12,
    "start_time": "2022-01-18T17:22:51.938Z"
   },
   {
    "duration": 25,
    "start_time": "2022-01-18T17:22:51.952Z"
   },
   {
    "duration": 4,
    "start_time": "2022-01-18T17:22:51.978Z"
   },
   {
    "duration": 20,
    "start_time": "2022-01-18T17:22:51.984Z"
   },
   {
    "duration": 31,
    "start_time": "2022-01-18T17:22:52.006Z"
   },
   {
    "duration": 3,
    "start_time": "2022-01-18T17:22:52.039Z"
   },
   {
    "duration": 10,
    "start_time": "2022-01-18T17:22:52.044Z"
   },
   {
    "duration": 16,
    "start_time": "2022-01-18T17:22:52.056Z"
   },
   {
    "duration": 5,
    "start_time": "2022-01-18T17:22:52.074Z"
   },
   {
    "duration": 14,
    "start_time": "2022-01-18T17:22:52.081Z"
   },
   {
    "duration": 480,
    "start_time": "2022-01-18T17:22:52.097Z"
   },
   {
    "duration": -288,
    "start_time": "2022-01-18T17:22:52.867Z"
   },
   {
    "duration": -307,
    "start_time": "2022-01-18T17:22:52.886Z"
   },
   {
    "duration": -325,
    "start_time": "2022-01-18T17:22:52.905Z"
   },
   {
    "duration": -341,
    "start_time": "2022-01-18T17:22:52.922Z"
   },
   {
    "duration": 344,
    "start_time": "2022-01-18T17:23:08.257Z"
   },
   {
    "duration": 19,
    "start_time": "2022-01-18T17:23:16.508Z"
   },
   {
    "duration": 4,
    "start_time": "2022-01-18T17:23:19.802Z"
   },
   {
    "duration": 7,
    "start_time": "2022-01-18T17:23:20.768Z"
   },
   {
    "duration": 7,
    "start_time": "2022-01-18T17:23:24.035Z"
   },
   {
    "duration": 3,
    "start_time": "2022-01-18T17:23:58.617Z"
   },
   {
    "duration": 8,
    "start_time": "2022-01-18T17:24:20.867Z"
   },
   {
    "duration": 5,
    "start_time": "2022-01-18T17:30:25.054Z"
   },
   {
    "duration": 8693,
    "start_time": "2022-01-18T17:30:25.944Z"
   },
   {
    "duration": -422,
    "start_time": "2022-01-18T17:30:35.062Z"
   },
   {
    "duration": -436,
    "start_time": "2022-01-18T17:30:35.078Z"
   },
   {
    "duration": -456,
    "start_time": "2022-01-18T17:30:35.099Z"
   },
   {
    "duration": 9125,
    "start_time": "2022-01-18T17:31:12.049Z"
   },
   {
    "duration": 3,
    "start_time": "2022-01-18T17:31:55.487Z"
   },
   {
    "duration": 9459,
    "start_time": "2022-01-18T17:31:56.742Z"
   },
   {
    "duration": 4579,
    "start_time": "2022-01-18T17:32:41.835Z"
   },
   {
    "duration": 21,
    "start_time": "2022-01-18T17:32:46.416Z"
   },
   {
    "duration": 3,
    "start_time": "2022-01-18T17:32:46.439Z"
   },
   {
    "duration": 7,
    "start_time": "2022-01-18T17:32:46.444Z"
   },
   {
    "duration": 4,
    "start_time": "2022-01-18T17:32:46.453Z"
   },
   {
    "duration": 4,
    "start_time": "2022-01-18T17:32:46.459Z"
   },
   {
    "duration": 7,
    "start_time": "2022-01-18T17:32:46.880Z"
   },
   {
    "duration": 8,
    "start_time": "2022-01-18T17:32:48.535Z"
   },
   {
    "duration": 7,
    "start_time": "2022-01-18T17:32:48.916Z"
   },
   {
    "duration": 6,
    "start_time": "2022-01-18T17:32:49.313Z"
   },
   {
    "duration": 19,
    "start_time": "2022-01-18T17:32:52.161Z"
   },
   {
    "duration": 4,
    "start_time": "2022-01-18T17:32:52.396Z"
   },
   {
    "duration": 8,
    "start_time": "2022-01-18T17:32:52.629Z"
   },
   {
    "duration": 16,
    "start_time": "2022-01-18T17:32:53.567Z"
   },
   {
    "duration": 4,
    "start_time": "2022-01-18T17:32:53.787Z"
   },
   {
    "duration": 8,
    "start_time": "2022-01-18T17:32:54.017Z"
   },
   {
    "duration": 16,
    "start_time": "2022-01-18T17:32:56.035Z"
   },
   {
    "duration": 4,
    "start_time": "2022-01-18T17:32:56.582Z"
   },
   {
    "duration": 8,
    "start_time": "2022-01-18T17:32:57.355Z"
   },
   {
    "duration": 25,
    "start_time": "2022-01-18T17:33:04.006Z"
   },
   {
    "duration": 6,
    "start_time": "2022-01-18T17:33:04.907Z"
   },
   {
    "duration": 11,
    "start_time": "2022-01-18T17:33:06.051Z"
   },
   {
    "duration": 9,
    "start_time": "2022-01-18T17:33:16.305Z"
   },
   {
    "duration": 15,
    "start_time": "2022-01-18T17:40:03.545Z"
   },
   {
    "duration": 13,
    "start_time": "2022-01-18T17:40:56.072Z"
   },
   {
    "duration": 19,
    "start_time": "2022-01-18T17:41:21.210Z"
   },
   {
    "duration": 8,
    "start_time": "2022-01-18T17:41:34.855Z"
   },
   {
    "duration": 4,
    "start_time": "2022-01-18T17:42:57.967Z"
   },
   {
    "duration": 11,
    "start_time": "2022-01-18T17:43:08.370Z"
   },
   {
    "duration": 11,
    "start_time": "2022-01-18T17:43:37.871Z"
   },
   {
    "duration": 24,
    "start_time": "2022-01-18T17:45:24.037Z"
   },
   {
    "duration": 39,
    "start_time": "2022-01-18T17:45:24.724Z"
   },
   {
    "duration": 15,
    "start_time": "2022-01-18T17:46:16.945Z"
   },
   {
    "duration": 15,
    "start_time": "2022-01-18T17:46:26.870Z"
   },
   {
    "duration": 18,
    "start_time": "2022-01-18T17:47:00.173Z"
   },
   {
    "duration": 12,
    "start_time": "2022-01-18T17:47:01.067Z"
   },
   {
    "duration": 555,
    "start_time": "2022-01-22T08:45:31.808Z"
   },
   {
    "duration": 50,
    "start_time": "2022-01-22T08:45:32.365Z"
   },
   {
    "duration": 11,
    "start_time": "2022-01-22T08:45:32.417Z"
   },
   {
    "duration": 38,
    "start_time": "2022-01-22T08:45:32.430Z"
   },
   {
    "duration": 42,
    "start_time": "2022-01-22T08:45:32.470Z"
   },
   {
    "duration": 20,
    "start_time": "2022-01-22T08:45:32.514Z"
   },
   {
    "duration": 9,
    "start_time": "2022-01-22T08:45:32.536Z"
   },
   {
    "duration": 18,
    "start_time": "2022-01-22T08:45:32.547Z"
   },
   {
    "duration": 28,
    "start_time": "2022-01-22T08:45:32.567Z"
   },
   {
    "duration": 15,
    "start_time": "2022-01-22T08:45:32.597Z"
   },
   {
    "duration": 16,
    "start_time": "2022-01-22T08:45:32.613Z"
   },
   {
    "duration": 19,
    "start_time": "2022-01-22T08:45:32.630Z"
   },
   {
    "duration": 21,
    "start_time": "2022-01-22T08:45:32.651Z"
   },
   {
    "duration": 16,
    "start_time": "2022-01-22T08:45:32.673Z"
   },
   {
    "duration": 19,
    "start_time": "2022-01-22T08:45:32.690Z"
   },
   {
    "duration": 8,
    "start_time": "2022-01-22T08:45:32.711Z"
   },
   {
    "duration": 32,
    "start_time": "2022-01-22T08:45:32.721Z"
   },
   {
    "duration": 37,
    "start_time": "2022-01-22T08:45:32.754Z"
   },
   {
    "duration": 10,
    "start_time": "2022-01-22T08:45:32.792Z"
   },
   {
    "duration": 14,
    "start_time": "2022-01-22T08:45:32.803Z"
   },
   {
    "duration": 20,
    "start_time": "2022-01-22T08:45:32.819Z"
   },
   {
    "duration": 28,
    "start_time": "2022-01-22T08:45:32.840Z"
   },
   {
    "duration": 16,
    "start_time": "2022-01-22T08:45:32.872Z"
   },
   {
    "duration": 3,
    "start_time": "2022-01-22T08:45:32.891Z"
   },
   {
    "duration": 18,
    "start_time": "2022-01-22T08:45:32.896Z"
   },
   {
    "duration": 3209,
    "start_time": "2022-01-22T08:45:32.916Z"
   },
   {
    "duration": 12,
    "start_time": "2022-01-22T08:45:36.127Z"
   },
   {
    "duration": 5,
    "start_time": "2022-01-22T08:45:36.141Z"
   },
   {
    "duration": 6,
    "start_time": "2022-01-22T08:45:36.148Z"
   },
   {
    "duration": 6,
    "start_time": "2022-01-22T08:45:36.155Z"
   },
   {
    "duration": 36,
    "start_time": "2022-01-22T08:45:36.163Z"
   },
   {
    "duration": 3,
    "start_time": "2022-01-22T08:45:36.201Z"
   },
   {
    "duration": 3914,
    "start_time": "2022-01-22T08:45:36.206Z"
   },
   {
    "duration": 13,
    "start_time": "2022-01-22T08:45:40.121Z"
   },
   {
    "duration": 3,
    "start_time": "2022-01-22T08:45:40.136Z"
   },
   {
    "duration": 4,
    "start_time": "2022-01-22T08:45:40.141Z"
   },
   {
    "duration": 12,
    "start_time": "2022-01-22T08:45:40.147Z"
   },
   {
    "duration": 6,
    "start_time": "2022-01-22T08:45:40.160Z"
   },
   {
    "duration": 9,
    "start_time": "2022-01-22T08:45:40.168Z"
   },
   {
    "duration": 22,
    "start_time": "2022-01-22T08:45:40.178Z"
   },
   {
    "duration": 9,
    "start_time": "2022-01-22T08:45:40.202Z"
   },
   {
    "duration": 6,
    "start_time": "2022-01-22T08:45:40.212Z"
   },
   {
    "duration": 24,
    "start_time": "2022-01-22T08:45:40.220Z"
   },
   {
    "duration": 3,
    "start_time": "2022-01-22T08:45:40.246Z"
   },
   {
    "duration": 9,
    "start_time": "2022-01-22T08:45:40.251Z"
   },
   {
    "duration": 47,
    "start_time": "2022-01-22T08:45:40.261Z"
   },
   {
    "duration": 4,
    "start_time": "2022-01-22T08:45:40.309Z"
   },
   {
    "duration": 9,
    "start_time": "2022-01-22T08:45:40.315Z"
   },
   {
    "duration": 18,
    "start_time": "2022-01-22T08:45:40.325Z"
   },
   {
    "duration": 4,
    "start_time": "2022-01-22T08:45:40.344Z"
   },
   {
    "duration": 12,
    "start_time": "2022-01-22T08:45:40.349Z"
   },
   {
    "duration": 46,
    "start_time": "2022-01-22T08:45:40.363Z"
   },
   {
    "duration": 5,
    "start_time": "2022-01-22T08:45:40.411Z"
   },
   {
    "duration": 10,
    "start_time": "2022-01-22T08:45:40.417Z"
   },
   {
    "duration": 20,
    "start_time": "2022-01-22T08:45:40.428Z"
   },
   {
    "duration": 12,
    "start_time": "2022-01-22T08:45:40.449Z"
   },
   {
    "duration": 9,
    "start_time": "2022-01-22T08:45:58.139Z"
   },
   {
    "duration": 4,
    "start_time": "2022-01-22T08:47:43.485Z"
   },
   {
    "duration": 4,
    "start_time": "2022-01-22T08:47:55.109Z"
   },
   {
    "duration": 9,
    "start_time": "2022-01-22T08:48:05.358Z"
   },
   {
    "duration": 9,
    "start_time": "2022-01-22T08:51:45.584Z"
   },
   {
    "duration": 405,
    "start_time": "2022-01-22T14:39:24.825Z"
   },
   {
    "duration": 621,
    "start_time": "2022-01-22T14:39:31.120Z"
   },
   {
    "duration": 52,
    "start_time": "2022-01-22T14:39:31.743Z"
   },
   {
    "duration": 11,
    "start_time": "2022-01-22T14:39:31.798Z"
   },
   {
    "duration": 36,
    "start_time": "2022-01-22T14:39:31.811Z"
   },
   {
    "duration": 61,
    "start_time": "2022-01-22T14:39:31.849Z"
   },
   {
    "duration": 17,
    "start_time": "2022-01-22T14:39:31.912Z"
   },
   {
    "duration": 29,
    "start_time": "2022-01-22T14:39:31.930Z"
   },
   {
    "duration": 17,
    "start_time": "2022-01-22T14:39:31.961Z"
   },
   {
    "duration": 34,
    "start_time": "2022-01-22T14:39:31.980Z"
   },
   {
    "duration": 27,
    "start_time": "2022-01-22T14:39:32.016Z"
   },
   {
    "duration": 32,
    "start_time": "2022-01-22T14:39:32.045Z"
   },
   {
    "duration": 24,
    "start_time": "2022-01-22T14:39:32.079Z"
   },
   {
    "duration": 27,
    "start_time": "2022-01-22T14:39:32.105Z"
   },
   {
    "duration": 26,
    "start_time": "2022-01-22T14:39:32.134Z"
   },
   {
    "duration": 43,
    "start_time": "2022-01-22T14:39:32.162Z"
   },
   {
    "duration": 13,
    "start_time": "2022-01-22T14:39:32.207Z"
   },
   {
    "duration": 31,
    "start_time": "2022-01-22T14:39:32.222Z"
   },
   {
    "duration": 58,
    "start_time": "2022-01-22T14:39:32.255Z"
   },
   {
    "duration": 15,
    "start_time": "2022-01-22T14:39:32.316Z"
   },
   {
    "duration": 15,
    "start_time": "2022-01-22T14:39:32.333Z"
   },
   {
    "duration": 49,
    "start_time": "2022-01-22T14:39:32.351Z"
   },
   {
    "duration": 24,
    "start_time": "2022-01-22T14:39:32.402Z"
   },
   {
    "duration": 18,
    "start_time": "2022-01-22T14:39:32.430Z"
   },
   {
    "duration": 28,
    "start_time": "2022-01-22T14:39:32.449Z"
   },
   {
    "duration": 9,
    "start_time": "2022-01-22T14:39:32.478Z"
   },
   {
    "duration": 4024,
    "start_time": "2022-01-22T14:39:32.489Z"
   },
   {
    "duration": 12,
    "start_time": "2022-01-22T14:39:36.515Z"
   },
   {
    "duration": 25,
    "start_time": "2022-01-22T14:39:36.529Z"
   },
   {
    "duration": 32,
    "start_time": "2022-01-22T14:39:36.556Z"
   },
   {
    "duration": 15,
    "start_time": "2022-01-22T14:39:36.590Z"
   },
   {
    "duration": 14,
    "start_time": "2022-01-22T14:39:36.606Z"
   },
   {
    "duration": 5,
    "start_time": "2022-01-22T14:39:36.622Z"
   },
   {
    "duration": 4614,
    "start_time": "2022-01-22T14:39:36.629Z"
   },
   {
    "duration": 16,
    "start_time": "2022-01-22T14:39:41.245Z"
   },
   {
    "duration": 11,
    "start_time": "2022-01-22T14:39:41.263Z"
   },
   {
    "duration": 19,
    "start_time": "2022-01-22T14:39:41.275Z"
   },
   {
    "duration": 9,
    "start_time": "2022-01-22T14:39:41.295Z"
   },
   {
    "duration": 20,
    "start_time": "2022-01-22T14:39:41.306Z"
   },
   {
    "duration": 26,
    "start_time": "2022-01-22T14:39:41.327Z"
   },
   {
    "duration": 21,
    "start_time": "2022-01-22T14:39:41.354Z"
   },
   {
    "duration": 19,
    "start_time": "2022-01-22T14:39:41.377Z"
   },
   {
    "duration": 16,
    "start_time": "2022-01-22T14:39:41.397Z"
   },
   {
    "duration": 45,
    "start_time": "2022-01-22T14:39:41.414Z"
   },
   {
    "duration": 4,
    "start_time": "2022-01-22T14:39:41.461Z"
   },
   {
    "duration": 27,
    "start_time": "2022-01-22T14:39:41.466Z"
   },
   {
    "duration": 26,
    "start_time": "2022-01-22T14:39:41.495Z"
   },
   {
    "duration": 31,
    "start_time": "2022-01-22T14:39:41.522Z"
   },
   {
    "duration": 19,
    "start_time": "2022-01-22T14:39:41.554Z"
   },
   {
    "duration": 23,
    "start_time": "2022-01-22T14:39:41.574Z"
   },
   {
    "duration": 8,
    "start_time": "2022-01-22T14:39:41.598Z"
   },
   {
    "duration": 23,
    "start_time": "2022-01-22T14:39:41.607Z"
   },
   {
    "duration": 22,
    "start_time": "2022-01-22T14:39:41.632Z"
   },
   {
    "duration": 17,
    "start_time": "2022-01-22T14:39:41.655Z"
   },
   {
    "duration": 28,
    "start_time": "2022-01-22T14:39:41.673Z"
   },
   {
    "duration": 40,
    "start_time": "2022-01-22T14:39:41.703Z"
   },
   {
    "duration": 17,
    "start_time": "2022-01-22T14:39:41.745Z"
   },
   {
    "duration": 13,
    "start_time": "2022-01-22T14:39:54.623Z"
   },
   {
    "duration": 7,
    "start_time": "2022-01-22T14:42:30.041Z"
   },
   {
    "duration": 6,
    "start_time": "2022-01-22T17:36:00.038Z"
   },
   {
    "duration": 305,
    "start_time": "2022-01-22T17:36:04.062Z"
   },
   {
    "duration": 1064,
    "start_time": "2022-01-22T17:36:10.018Z"
   },
   {
    "duration": 91,
    "start_time": "2022-01-22T17:36:11.086Z"
   },
   {
    "duration": 23,
    "start_time": "2022-01-22T17:36:11.181Z"
   },
   {
    "duration": 60,
    "start_time": "2022-01-22T17:36:11.208Z"
   },
   {
    "duration": 69,
    "start_time": "2022-01-22T17:36:11.271Z"
   },
   {
    "duration": 26,
    "start_time": "2022-01-22T17:36:11.343Z"
   },
   {
    "duration": 12,
    "start_time": "2022-01-22T17:36:11.372Z"
   },
   {
    "duration": 47,
    "start_time": "2022-01-22T17:36:11.390Z"
   },
   {
    "duration": 14,
    "start_time": "2022-01-22T17:36:11.441Z"
   },
   {
    "duration": 12,
    "start_time": "2022-01-22T17:36:11.457Z"
   },
   {
    "duration": 28,
    "start_time": "2022-01-22T17:36:11.471Z"
   },
   {
    "duration": 13,
    "start_time": "2022-01-22T17:36:11.502Z"
   },
   {
    "duration": 38,
    "start_time": "2022-01-22T17:36:11.518Z"
   },
   {
    "duration": 22,
    "start_time": "2022-01-22T17:36:11.558Z"
   },
   {
    "duration": 51,
    "start_time": "2022-01-22T17:36:11.582Z"
   },
   {
    "duration": 12,
    "start_time": "2022-01-22T17:36:11.636Z"
   },
   {
    "duration": 37,
    "start_time": "2022-01-22T17:36:11.651Z"
   },
   {
    "duration": 71,
    "start_time": "2022-01-22T17:36:11.691Z"
   },
   {
    "duration": 17,
    "start_time": "2022-01-22T17:36:11.765Z"
   },
   {
    "duration": 9,
    "start_time": "2022-01-22T17:36:11.785Z"
   },
   {
    "duration": 49,
    "start_time": "2022-01-22T17:36:11.796Z"
   },
   {
    "duration": 25,
    "start_time": "2022-01-22T17:36:11.848Z"
   },
   {
    "duration": 59,
    "start_time": "2022-01-22T17:36:11.881Z"
   },
   {
    "duration": 5,
    "start_time": "2022-01-22T17:36:11.945Z"
   },
   {
    "duration": 11,
    "start_time": "2022-01-22T17:36:11.952Z"
   },
   {
    "duration": 4948,
    "start_time": "2022-01-22T17:36:11.966Z"
   },
   {
    "duration": 28,
    "start_time": "2022-01-22T17:36:16.916Z"
   },
   {
    "duration": 9,
    "start_time": "2022-01-22T17:36:16.948Z"
   },
   {
    "duration": 9,
    "start_time": "2022-01-22T17:36:16.959Z"
   },
   {
    "duration": 9,
    "start_time": "2022-01-22T17:36:16.970Z"
   },
   {
    "duration": 53,
    "start_time": "2022-01-22T17:36:16.982Z"
   },
   {
    "duration": 6,
    "start_time": "2022-01-22T17:36:17.038Z"
   },
   {
    "duration": 5958,
    "start_time": "2022-01-22T17:36:17.047Z"
   },
   {
    "duration": 28,
    "start_time": "2022-01-22T17:36:23.007Z"
   },
   {
    "duration": 7,
    "start_time": "2022-01-22T17:36:23.038Z"
   },
   {
    "duration": 6804,
    "start_time": "2022-01-22T17:36:23.047Z"
   },
   {
    "duration": -1723,
    "start_time": "2022-01-22T17:36:31.576Z"
   },
   {
    "duration": -1724,
    "start_time": "2022-01-22T17:36:31.579Z"
   },
   {
    "duration": -1728,
    "start_time": "2022-01-22T17:36:31.584Z"
   },
   {
    "duration": -1730,
    "start_time": "2022-01-22T17:36:31.588Z"
   },
   {
    "duration": -1735,
    "start_time": "2022-01-22T17:36:31.594Z"
   },
   {
    "duration": -1738,
    "start_time": "2022-01-22T17:36:31.598Z"
   },
   {
    "duration": -1741,
    "start_time": "2022-01-22T17:36:31.602Z"
   },
   {
    "duration": -1743,
    "start_time": "2022-01-22T17:36:31.606Z"
   },
   {
    "duration": -1748,
    "start_time": "2022-01-22T17:36:31.612Z"
   },
   {
    "duration": -1751,
    "start_time": "2022-01-22T17:36:31.616Z"
   },
   {
    "duration": -1754,
    "start_time": "2022-01-22T17:36:31.620Z"
   },
   {
    "duration": -1759,
    "start_time": "2022-01-22T17:36:31.627Z"
   },
   {
    "duration": -1761,
    "start_time": "2022-01-22T17:36:31.630Z"
   },
   {
    "duration": -1764,
    "start_time": "2022-01-22T17:36:31.634Z"
   },
   {
    "duration": -1768,
    "start_time": "2022-01-22T17:36:31.639Z"
   },
   {
    "duration": -1850,
    "start_time": "2022-01-22T17:36:31.723Z"
   },
   {
    "duration": -1856,
    "start_time": "2022-01-22T17:36:31.730Z"
   },
   {
    "duration": -1859,
    "start_time": "2022-01-22T17:36:31.734Z"
   },
   {
    "duration": -1862,
    "start_time": "2022-01-22T17:36:31.738Z"
   },
   {
    "duration": -1866,
    "start_time": "2022-01-22T17:36:31.744Z"
   },
   {
    "duration": -1869,
    "start_time": "2022-01-22T17:36:31.748Z"
   },
   {
    "duration": 5,
    "start_time": "2022-01-22T17:36:39.819Z"
   },
   {
    "duration": 6056,
    "start_time": "2022-01-22T17:36:40.604Z"
   },
   {
    "duration": 5,
    "start_time": "2022-01-22T17:36:54.902Z"
   },
   {
    "duration": 4,
    "start_time": "2022-01-22T17:36:55.446Z"
   },
   {
    "duration": 4,
    "start_time": "2022-01-22T17:36:56.058Z"
   },
   {
    "duration": 13,
    "start_time": "2022-01-22T17:36:57.077Z"
   },
   {
    "duration": 16,
    "start_time": "2022-01-22T17:36:57.464Z"
   },
   {
    "duration": 10,
    "start_time": "2022-01-22T17:36:57.773Z"
   },
   {
    "duration": 10,
    "start_time": "2022-01-22T17:36:58.113Z"
   },
   {
    "duration": 32,
    "start_time": "2022-01-22T17:37:00.165Z"
   },
   {
    "duration": 6,
    "start_time": "2022-01-22T17:37:00.389Z"
   },
   {
    "duration": 10,
    "start_time": "2022-01-22T17:37:00.605Z"
   },
   {
    "duration": 25,
    "start_time": "2022-01-22T17:37:01.644Z"
   },
   {
    "duration": 5,
    "start_time": "2022-01-22T17:37:01.876Z"
   },
   {
    "duration": 11,
    "start_time": "2022-01-22T17:37:02.107Z"
   },
   {
    "duration": 24,
    "start_time": "2022-01-22T17:37:03.754Z"
   },
   {
    "duration": 5,
    "start_time": "2022-01-22T17:37:04.071Z"
   },
   {
    "duration": 10,
    "start_time": "2022-01-22T17:37:04.361Z"
   },
   {
    "duration": 24,
    "start_time": "2022-01-22T17:37:07.040Z"
   },
   {
    "duration": 10,
    "start_time": "2022-01-22T17:37:16.607Z"
   },
   {
    "duration": 6,
    "start_time": "2022-01-22T17:38:15.282Z"
   },
   {
    "duration": 15,
    "start_time": "2022-01-22T17:38:16.503Z"
   },
   {
    "duration": 10,
    "start_time": "2022-01-22T17:38:16.966Z"
   },
   {
    "duration": 5,
    "start_time": "2022-01-22T17:38:33.869Z"
   },
   {
    "duration": 17,
    "start_time": "2022-01-22T17:38:34.575Z"
   },
   {
    "duration": 10,
    "start_time": "2022-01-22T17:38:35.157Z"
   },
   {
    "duration": 5,
    "start_time": "2022-01-22T17:38:53.899Z"
   },
   {
    "duration": 15,
    "start_time": "2022-01-22T17:38:54.829Z"
   },
   {
    "duration": 10,
    "start_time": "2022-01-22T17:38:55.955Z"
   },
   {
    "duration": 5,
    "start_time": "2022-01-22T17:39:23.596Z"
   },
   {
    "duration": 15,
    "start_time": "2022-01-22T17:39:24.489Z"
   },
   {
    "duration": 10,
    "start_time": "2022-01-22T17:39:24.996Z"
   },
   {
    "duration": 7,
    "start_time": "2022-01-22T17:39:53.292Z"
   },
   {
    "duration": 5,
    "start_time": "2022-01-22T17:40:02.978Z"
   },
   {
    "duration": 13,
    "start_time": "2022-01-22T17:40:04.477Z"
   },
   {
    "duration": 10,
    "start_time": "2022-01-22T17:40:04.901Z"
   },
   {
    "duration": 24,
    "start_time": "2022-01-22T17:40:32.651Z"
   },
   {
    "duration": 6,
    "start_time": "2022-01-22T17:40:33.034Z"
   },
   {
    "duration": 11,
    "start_time": "2022-01-22T17:40:33.420Z"
   },
   {
    "duration": 28,
    "start_time": "2022-01-22T17:41:18.174Z"
   },
   {
    "duration": 17,
    "start_time": "2022-01-22T17:41:18.515Z"
   },
   {
    "duration": 5,
    "start_time": "2022-01-22T17:43:53.969Z"
   },
   {
    "duration": 14,
    "start_time": "2022-01-22T17:43:55.188Z"
   },
   {
    "duration": 10,
    "start_time": "2022-01-22T17:43:55.505Z"
   },
   {
    "duration": 4,
    "start_time": "2022-01-22T17:43:57.128Z"
   },
   {
    "duration": 4,
    "start_time": "2022-01-22T17:43:57.509Z"
   },
   {
    "duration": 5,
    "start_time": "2022-01-22T17:43:57.865Z"
   },
   {
    "duration": 10,
    "start_time": "2022-01-22T17:43:58.408Z"
   },
   {
    "duration": 14,
    "start_time": "2022-01-22T17:43:58.607Z"
   },
   {
    "duration": 10,
    "start_time": "2022-01-22T17:43:58.805Z"
   },
   {
    "duration": 10,
    "start_time": "2022-01-22T17:43:59.006Z"
   },
   {
    "duration": 24,
    "start_time": "2022-01-22T17:44:00.525Z"
   },
   {
    "duration": 7,
    "start_time": "2022-01-22T17:44:00.945Z"
   },
   {
    "duration": 13,
    "start_time": "2022-01-22T17:44:01.582Z"
   },
   {
    "duration": 27,
    "start_time": "2022-01-22T17:44:04.253Z"
   },
   {
    "duration": 6,
    "start_time": "2022-01-22T17:44:04.700Z"
   },
   {
    "duration": 11,
    "start_time": "2022-01-22T17:44:04.920Z"
   },
   {
    "duration": 27,
    "start_time": "2022-01-22T17:44:07.910Z"
   },
   {
    "duration": 7,
    "start_time": "2022-01-22T17:44:08.367Z"
   },
   {
    "duration": 11,
    "start_time": "2022-01-22T17:44:08.899Z"
   },
   {
    "duration": 7,
    "start_time": "2022-01-22T17:44:55.295Z"
   },
   {
    "duration": 15,
    "start_time": "2022-01-22T17:44:56.224Z"
   },
   {
    "duration": 10,
    "start_time": "2022-01-22T17:44:56.655Z"
   },
   {
    "duration": 6,
    "start_time": "2022-01-22T17:45:26.554Z"
   },
   {
    "duration": 14,
    "start_time": "2022-01-22T17:45:27.283Z"
   },
   {
    "duration": 10,
    "start_time": "2022-01-22T17:45:28.134Z"
   },
   {
    "duration": 5,
    "start_time": "2022-01-22T17:45:37.427Z"
   },
   {
    "duration": 11,
    "start_time": "2022-01-22T17:45:37.758Z"
   },
   {
    "duration": 24,
    "start_time": "2022-01-22T17:45:39.670Z"
   },
   {
    "duration": 5,
    "start_time": "2022-01-22T17:45:39.933Z"
   },
   {
    "duration": 11,
    "start_time": "2022-01-22T17:45:40.328Z"
   },
   {
    "duration": 5,
    "start_time": "2022-01-22T17:46:09.462Z"
   },
   {
    "duration": 5,
    "start_time": "2022-01-22T17:46:23.430Z"
   },
   {
    "duration": 15,
    "start_time": "2022-01-22T17:46:24.083Z"
   },
   {
    "duration": 10,
    "start_time": "2022-01-22T17:46:24.275Z"
   },
   {
    "duration": 4,
    "start_time": "2022-01-22T17:46:25.095Z"
   },
   {
    "duration": 11,
    "start_time": "2022-01-22T17:46:38.038Z"
   },
   {
    "duration": 27,
    "start_time": "2022-01-22T17:46:40.443Z"
   },
   {
    "duration": 6,
    "start_time": "2022-01-22T17:46:40.682Z"
   },
   {
    "duration": 11,
    "start_time": "2022-01-22T17:46:41.081Z"
   },
   {
    "duration": 25,
    "start_time": "2022-01-22T17:46:44.236Z"
   },
   {
    "duration": 6,
    "start_time": "2022-01-22T17:46:44.499Z"
   },
   {
    "duration": 11,
    "start_time": "2022-01-22T17:46:44.837Z"
   },
   {
    "duration": 775,
    "start_time": "2022-01-22T17:53:02.205Z"
   },
   {
    "duration": 65,
    "start_time": "2022-01-22T17:53:02.983Z"
   },
   {
    "duration": 16,
    "start_time": "2022-01-22T17:53:03.051Z"
   },
   {
    "duration": 31,
    "start_time": "2022-01-22T17:53:03.070Z"
   },
   {
    "duration": 73,
    "start_time": "2022-01-22T17:53:03.103Z"
   },
   {
    "duration": 56,
    "start_time": "2022-01-22T17:53:03.178Z"
   },
   {
    "duration": 18,
    "start_time": "2022-01-22T17:53:03.238Z"
   },
   {
    "duration": 14,
    "start_time": "2022-01-22T17:53:03.262Z"
   },
   {
    "duration": 13,
    "start_time": "2022-01-22T17:53:03.281Z"
   },
   {
    "duration": 41,
    "start_time": "2022-01-22T17:53:03.296Z"
   },
   {
    "duration": 20,
    "start_time": "2022-01-22T17:53:03.340Z"
   },
   {
    "duration": 8,
    "start_time": "2022-01-22T17:53:03.362Z"
   },
   {
    "duration": 36,
    "start_time": "2022-01-22T17:53:03.373Z"
   },
   {
    "duration": 41,
    "start_time": "2022-01-22T17:53:03.411Z"
   },
   {
    "duration": 26,
    "start_time": "2022-01-22T17:53:03.454Z"
   },
   {
    "duration": 12,
    "start_time": "2022-01-22T17:53:03.483Z"
   },
   {
    "duration": 51,
    "start_time": "2022-01-22T17:53:03.498Z"
   },
   {
    "duration": 46,
    "start_time": "2022-01-22T17:53:03.551Z"
   },
   {
    "duration": 33,
    "start_time": "2022-01-22T17:53:03.599Z"
   },
   {
    "duration": 6,
    "start_time": "2022-01-22T17:53:03.635Z"
   },
   {
    "duration": 22,
    "start_time": "2022-01-22T17:53:03.643Z"
   },
   {
    "duration": 20,
    "start_time": "2022-01-22T17:53:03.668Z"
   },
   {
    "duration": 57,
    "start_time": "2022-01-22T17:53:03.694Z"
   },
   {
    "duration": 6,
    "start_time": "2022-01-22T17:53:03.754Z"
   },
   {
    "duration": 8,
    "start_time": "2022-01-22T17:53:03.762Z"
   },
   {
    "duration": 5323,
    "start_time": "2022-01-22T17:53:03.772Z"
   },
   {
    "duration": 16,
    "start_time": "2022-01-22T17:53:09.098Z"
   },
   {
    "duration": 8,
    "start_time": "2022-01-22T17:53:09.133Z"
   },
   {
    "duration": 8,
    "start_time": "2022-01-22T17:53:09.144Z"
   },
   {
    "duration": 7,
    "start_time": "2022-01-22T17:53:09.155Z"
   },
   {
    "duration": 15,
    "start_time": "2022-01-22T17:53:09.164Z"
   },
   {
    "duration": 6,
    "start_time": "2022-01-22T17:53:09.181Z"
   },
   {
    "duration": 6270,
    "start_time": "2022-01-22T17:53:09.189Z"
   },
   {
    "duration": 19,
    "start_time": "2022-01-22T17:53:15.461Z"
   },
   {
    "duration": 7,
    "start_time": "2022-01-22T17:53:15.482Z"
   },
   {
    "duration": 7881,
    "start_time": "2022-01-22T17:53:15.491Z"
   },
   {
    "duration": -1722,
    "start_time": "2022-01-22T17:53:25.097Z"
   },
   {
    "duration": -1726,
    "start_time": "2022-01-22T17:53:25.102Z"
   },
   {
    "duration": -1728,
    "start_time": "2022-01-22T17:53:25.106Z"
   },
   {
    "duration": -1732,
    "start_time": "2022-01-22T17:53:25.112Z"
   },
   {
    "duration": -1734,
    "start_time": "2022-01-22T17:53:25.115Z"
   },
   {
    "duration": -1736,
    "start_time": "2022-01-22T17:53:25.119Z"
   },
   {
    "duration": -1739,
    "start_time": "2022-01-22T17:53:25.123Z"
   },
   {
    "duration": -1743,
    "start_time": "2022-01-22T17:53:25.129Z"
   },
   {
    "duration": -1744,
    "start_time": "2022-01-22T17:53:25.132Z"
   },
   {
    "duration": -1747,
    "start_time": "2022-01-22T17:53:25.136Z"
   },
   {
    "duration": -1749,
    "start_time": "2022-01-22T17:53:25.140Z"
   },
   {
    "duration": -1754,
    "start_time": "2022-01-22T17:53:25.146Z"
   },
   {
    "duration": -1756,
    "start_time": "2022-01-22T17:53:25.150Z"
   },
   {
    "duration": -1757,
    "start_time": "2022-01-22T17:53:25.153Z"
   },
   {
    "duration": -1760,
    "start_time": "2022-01-22T17:53:25.157Z"
   },
   {
    "duration": -1765,
    "start_time": "2022-01-22T17:53:25.164Z"
   },
   {
    "duration": -1766,
    "start_time": "2022-01-22T17:53:25.167Z"
   },
   {
    "duration": -1768,
    "start_time": "2022-01-22T17:53:25.170Z"
   },
   {
    "duration": -1770,
    "start_time": "2022-01-22T17:53:25.174Z"
   },
   {
    "duration": -1774,
    "start_time": "2022-01-22T17:53:25.180Z"
   },
   {
    "duration": -1775,
    "start_time": "2022-01-22T17:53:25.183Z"
   },
   {
    "duration": 712,
    "start_time": "2022-01-22T17:53:47.291Z"
   },
   {
    "duration": 63,
    "start_time": "2022-01-22T17:53:48.005Z"
   },
   {
    "duration": 15,
    "start_time": "2022-01-22T17:53:48.071Z"
   },
   {
    "duration": 50,
    "start_time": "2022-01-22T17:53:48.088Z"
   },
   {
    "duration": 47,
    "start_time": "2022-01-22T17:53:48.140Z"
   },
   {
    "duration": 24,
    "start_time": "2022-01-22T17:53:48.189Z"
   },
   {
    "duration": 11,
    "start_time": "2022-01-22T17:53:48.233Z"
   },
   {
    "duration": 12,
    "start_time": "2022-01-22T17:53:48.248Z"
   },
   {
    "duration": 13,
    "start_time": "2022-01-22T17:53:48.263Z"
   },
   {
    "duration": 10,
    "start_time": "2022-01-22T17:53:48.278Z"
   },
   {
    "duration": 46,
    "start_time": "2022-01-22T17:53:48.291Z"
   },
   {
    "duration": 7,
    "start_time": "2022-01-22T17:53:48.340Z"
   },
   {
    "duration": 30,
    "start_time": "2022-01-22T17:53:48.349Z"
   },
   {
    "duration": 20,
    "start_time": "2022-01-22T17:53:48.381Z"
   },
   {
    "duration": 50,
    "start_time": "2022-01-22T17:53:48.404Z"
   },
   {
    "duration": 12,
    "start_time": "2022-01-22T17:53:48.456Z"
   },
   {
    "duration": 24,
    "start_time": "2022-01-22T17:53:48.470Z"
   },
   {
    "duration": 76,
    "start_time": "2022-01-22T17:53:48.496Z"
   },
   {
    "duration": 14,
    "start_time": "2022-01-22T17:53:48.574Z"
   },
   {
    "duration": 7,
    "start_time": "2022-01-22T17:53:48.590Z"
   },
   {
    "duration": 44,
    "start_time": "2022-01-22T17:53:48.599Z"
   },
   {
    "duration": 23,
    "start_time": "2022-01-22T17:53:48.645Z"
   },
   {
    "duration": 24,
    "start_time": "2022-01-22T17:53:48.673Z"
   },
   {
    "duration": 5,
    "start_time": "2022-01-22T17:53:48.700Z"
   },
   {
    "duration": 4,
    "start_time": "2022-01-22T17:53:48.733Z"
   },
   {
    "duration": 5012,
    "start_time": "2022-01-22T17:53:48.739Z"
   },
   {
    "duration": 15,
    "start_time": "2022-01-22T17:53:53.754Z"
   },
   {
    "duration": 18,
    "start_time": "2022-01-22T17:53:53.772Z"
   },
   {
    "duration": 10,
    "start_time": "2022-01-22T17:53:53.793Z"
   },
   {
    "duration": 8,
    "start_time": "2022-01-22T17:53:53.806Z"
   },
   {
    "duration": 12,
    "start_time": "2022-01-22T17:53:53.833Z"
   },
   {
    "duration": 6,
    "start_time": "2022-01-22T17:53:53.847Z"
   },
   {
    "duration": 6402,
    "start_time": "2022-01-22T17:53:53.856Z"
   },
   {
    "duration": 20,
    "start_time": "2022-01-22T17:54:00.260Z"
   },
   {
    "duration": 20,
    "start_time": "2022-01-22T17:54:00.282Z"
   },
   {
    "duration": 17,
    "start_time": "2022-01-22T17:54:00.305Z"
   },
   {
    "duration": 16,
    "start_time": "2022-01-22T17:54:00.324Z"
   },
   {
    "duration": 11,
    "start_time": "2022-01-22T17:54:00.342Z"
   },
   {
    "duration": 25,
    "start_time": "2022-01-22T17:54:00.355Z"
   },
   {
    "duration": 24,
    "start_time": "2022-01-22T17:54:00.382Z"
   },
   {
    "duration": 19,
    "start_time": "2022-01-22T17:54:00.409Z"
   },
   {
    "duration": 18,
    "start_time": "2022-01-22T17:54:00.431Z"
   },
   {
    "duration": 44,
    "start_time": "2022-01-22T17:54:00.451Z"
   },
   {
    "duration": 6,
    "start_time": "2022-01-22T17:54:00.498Z"
   },
   {
    "duration": 20,
    "start_time": "2022-01-22T17:54:00.506Z"
   },
   {
    "duration": 34,
    "start_time": "2022-01-22T17:54:00.529Z"
   },
   {
    "duration": 5,
    "start_time": "2022-01-22T17:54:00.566Z"
   },
   {
    "duration": 17,
    "start_time": "2022-01-22T17:54:00.573Z"
   },
   {
    "duration": 41,
    "start_time": "2022-01-22T17:54:00.592Z"
   },
   {
    "duration": 5,
    "start_time": "2022-01-22T17:54:00.636Z"
   },
   {
    "duration": 18,
    "start_time": "2022-01-22T17:54:00.644Z"
   },
   {
    "duration": 42,
    "start_time": "2022-01-22T17:54:00.665Z"
   },
   {
    "duration": 63,
    "start_time": "2022-01-22T17:54:00.711Z"
   },
   {
    "duration": 24,
    "start_time": "2022-01-22T17:54:00.777Z"
   },
   {
    "duration": 28,
    "start_time": "2022-01-22T17:54:00.803Z"
   },
   {
    "duration": 16,
    "start_time": "2022-01-22T17:54:00.834Z"
   },
   {
    "duration": 6,
    "start_time": "2022-01-22T17:56:18.416Z"
   },
   {
    "duration": 4,
    "start_time": "2022-01-22T17:56:21.223Z"
   },
   {
    "duration": 4,
    "start_time": "2022-01-22T17:56:21.342Z"
   },
   {
    "duration": 5,
    "start_time": "2022-01-22T17:56:21.466Z"
   },
   {
    "duration": 13,
    "start_time": "2022-01-22T17:56:21.645Z"
   },
   {
    "duration": 16,
    "start_time": "2022-01-22T17:56:21.704Z"
   },
   {
    "duration": 12,
    "start_time": "2022-01-22T17:56:21.761Z"
   },
   {
    "duration": 12,
    "start_time": "2022-01-22T17:56:21.823Z"
   },
   {
    "duration": 23,
    "start_time": "2022-01-22T17:56:22.245Z"
   },
   {
    "duration": 6,
    "start_time": "2022-01-22T17:56:22.301Z"
   },
   {
    "duration": 12,
    "start_time": "2022-01-22T17:56:22.361Z"
   },
   {
    "duration": 25,
    "start_time": "2022-01-22T17:56:22.660Z"
   },
   {
    "duration": 7,
    "start_time": "2022-01-22T17:56:22.722Z"
   },
   {
    "duration": 12,
    "start_time": "2022-01-22T17:56:22.781Z"
   },
   {
    "duration": 39,
    "start_time": "2022-01-22T17:56:23.084Z"
   },
   {
    "duration": 8,
    "start_time": "2022-01-22T17:56:23.158Z"
   },
   {
    "duration": 14,
    "start_time": "2022-01-22T17:56:23.233Z"
   },
   {
    "duration": 5,
    "start_time": "2022-01-22T17:57:00.501Z"
   },
   {
    "duration": 12,
    "start_time": "2022-01-22T17:57:11.281Z"
   },
   {
    "duration": 15,
    "start_time": "2022-01-22T17:57:11.587Z"
   },
   {
    "duration": 11,
    "start_time": "2022-01-22T17:57:14.005Z"
   },
   {
    "duration": 11,
    "start_time": "2022-01-22T17:57:14.019Z"
   },
   {
    "duration": 28,
    "start_time": "2022-01-22T17:57:26.122Z"
   },
   {
    "duration": 6,
    "start_time": "2022-01-22T17:57:26.452Z"
   },
   {
    "duration": 12,
    "start_time": "2022-01-22T17:57:26.950Z"
   },
   {
    "duration": 5,
    "start_time": "2022-01-22T17:58:03.222Z"
   },
   {
    "duration": 768,
    "start_time": "2022-01-22T17:58:10.302Z"
   },
   {
    "duration": 64,
    "start_time": "2022-01-22T17:58:11.073Z"
   },
   {
    "duration": 16,
    "start_time": "2022-01-22T17:58:11.140Z"
   },
   {
    "duration": 36,
    "start_time": "2022-01-22T17:58:11.159Z"
   },
   {
    "duration": 66,
    "start_time": "2022-01-22T17:58:11.197Z"
   },
   {
    "duration": 25,
    "start_time": "2022-01-22T17:58:11.266Z"
   },
   {
    "duration": 10,
    "start_time": "2022-01-22T17:58:11.294Z"
   },
   {
    "duration": 34,
    "start_time": "2022-01-22T17:58:11.306Z"
   },
   {
    "duration": 12,
    "start_time": "2022-01-22T17:58:11.344Z"
   },
   {
    "duration": 11,
    "start_time": "2022-01-22T17:58:11.359Z"
   },
   {
    "duration": 19,
    "start_time": "2022-01-22T17:58:11.372Z"
   },
   {
    "duration": 7,
    "start_time": "2022-01-22T17:58:11.393Z"
   },
   {
    "duration": 54,
    "start_time": "2022-01-22T17:58:11.402Z"
   },
   {
    "duration": 21,
    "start_time": "2022-01-22T17:58:11.458Z"
   },
   {
    "duration": 54,
    "start_time": "2022-01-22T17:58:11.482Z"
   },
   {
    "duration": 12,
    "start_time": "2022-01-22T17:58:11.538Z"
   },
   {
    "duration": 22,
    "start_time": "2022-01-22T17:58:11.553Z"
   },
   {
    "duration": 71,
    "start_time": "2022-01-22T17:58:11.578Z"
   },
   {
    "duration": 15,
    "start_time": "2022-01-22T17:58:11.652Z"
   },
   {
    "duration": 7,
    "start_time": "2022-01-22T17:58:11.669Z"
   },
   {
    "duration": 14,
    "start_time": "2022-01-22T17:58:11.679Z"
   },
   {
    "duration": 57,
    "start_time": "2022-01-22T17:58:11.696Z"
   },
   {
    "duration": 24,
    "start_time": "2022-01-22T17:58:11.755Z"
   },
   {
    "duration": 6,
    "start_time": "2022-01-22T17:58:11.782Z"
   },
   {
    "duration": 13,
    "start_time": "2022-01-22T17:58:11.790Z"
   },
   {
    "duration": 4958,
    "start_time": "2022-01-22T17:58:11.805Z"
   },
   {
    "duration": 17,
    "start_time": "2022-01-22T17:58:16.769Z"
   },
   {
    "duration": 8,
    "start_time": "2022-01-22T17:58:16.789Z"
   },
   {
    "duration": 7,
    "start_time": "2022-01-22T17:58:16.799Z"
   },
   {
    "duration": 9,
    "start_time": "2022-01-22T17:58:16.833Z"
   },
   {
    "duration": 16,
    "start_time": "2022-01-22T17:58:16.844Z"
   },
   {
    "duration": 24,
    "start_time": "2022-01-22T17:58:16.862Z"
   },
   {
    "duration": 6424,
    "start_time": "2022-01-22T17:58:16.889Z"
   },
   {
    "duration": 19,
    "start_time": "2022-01-22T17:58:23.315Z"
   },
   {
    "duration": 7,
    "start_time": "2022-01-22T17:58:23.337Z"
   },
   {
    "duration": 6,
    "start_time": "2022-01-22T17:58:23.347Z"
   },
   {
    "duration": 5,
    "start_time": "2022-01-22T17:58:23.355Z"
   },
   {
    "duration": 5,
    "start_time": "2022-01-22T17:58:23.363Z"
   },
   {
    "duration": 63,
    "start_time": "2022-01-22T17:58:23.371Z"
   },
   {
    "duration": 19,
    "start_time": "2022-01-22T17:58:23.436Z"
   },
   {
    "duration": 13,
    "start_time": "2022-01-22T17:58:23.458Z"
   },
   {
    "duration": 12,
    "start_time": "2022-01-22T17:58:23.473Z"
   },
   {
    "duration": 66,
    "start_time": "2022-01-22T17:58:23.487Z"
   },
   {
    "duration": 6,
    "start_time": "2022-01-22T17:58:23.555Z"
   },
   {
    "duration": 15,
    "start_time": "2022-01-22T17:58:23.563Z"
   },
   {
    "duration": 26,
    "start_time": "2022-01-22T17:58:23.580Z"
   },
   {
    "duration": 25,
    "start_time": "2022-01-22T17:58:23.608Z"
   },
   {
    "duration": 11,
    "start_time": "2022-01-22T17:58:23.636Z"
   },
   {
    "duration": 26,
    "start_time": "2022-01-22T17:58:23.649Z"
   },
   {
    "duration": 5,
    "start_time": "2022-01-22T17:58:23.677Z"
   },
   {
    "duration": 47,
    "start_time": "2022-01-22T17:58:23.685Z"
   },
   {
    "duration": 26,
    "start_time": "2022-01-22T17:58:23.735Z"
   },
   {
    "duration": 6,
    "start_time": "2022-01-22T17:58:23.763Z"
   },
   {
    "duration": 13,
    "start_time": "2022-01-22T17:58:23.771Z"
   },
   {
    "duration": 62,
    "start_time": "2022-01-22T17:58:23.786Z"
   },
   {
    "duration": 17,
    "start_time": "2022-01-22T17:58:23.850Z"
   },
   {
    "duration": 1965,
    "start_time": "2022-01-23T14:35:45.186Z"
   },
   {
    "duration": 89,
    "start_time": "2022-01-23T14:35:47.155Z"
   },
   {
    "duration": 27,
    "start_time": "2022-01-23T14:35:47.248Z"
   },
   {
    "duration": 31,
    "start_time": "2022-01-23T14:35:47.278Z"
   },
   {
    "duration": 79,
    "start_time": "2022-01-23T14:35:47.312Z"
   },
   {
    "duration": 26,
    "start_time": "2022-01-23T14:35:47.394Z"
   },
   {
    "duration": 12,
    "start_time": "2022-01-23T14:35:47.423Z"
   },
   {
    "duration": 15,
    "start_time": "2022-01-23T14:35:47.465Z"
   },
   {
    "duration": 12,
    "start_time": "2022-01-23T14:35:47.484Z"
   },
   {
    "duration": 8,
    "start_time": "2022-01-23T14:35:47.499Z"
   },
   {
    "duration": 16,
    "start_time": "2022-01-23T14:35:47.510Z"
   },
   {
    "duration": 40,
    "start_time": "2022-01-23T14:35:47.529Z"
   },
   {
    "duration": 25,
    "start_time": "2022-01-23T14:35:47.572Z"
   },
   {
    "duration": 21,
    "start_time": "2022-01-23T14:35:47.599Z"
   },
   {
    "duration": 60,
    "start_time": "2022-01-23T14:35:47.622Z"
   },
   {
    "duration": 12,
    "start_time": "2022-01-23T14:35:47.684Z"
   },
   {
    "duration": 27,
    "start_time": "2022-01-23T14:35:47.699Z"
   },
   {
    "duration": 74,
    "start_time": "2022-01-23T14:35:47.728Z"
   },
   {
    "duration": 17,
    "start_time": "2022-01-23T14:35:47.804Z"
   },
   {
    "duration": 8,
    "start_time": "2022-01-23T14:35:47.824Z"
   },
   {
    "duration": 44,
    "start_time": "2022-01-23T14:35:47.835Z"
   },
   {
    "duration": 25,
    "start_time": "2022-01-23T14:35:47.882Z"
   },
   {
    "duration": 55,
    "start_time": "2022-01-23T14:35:47.910Z"
   },
   {
    "duration": 6,
    "start_time": "2022-01-23T14:35:47.967Z"
   },
   {
    "duration": 6,
    "start_time": "2022-01-23T14:35:47.976Z"
   },
   {
    "duration": 5610,
    "start_time": "2022-01-23T14:35:47.984Z"
   },
   {
    "duration": 26,
    "start_time": "2022-01-23T14:35:53.603Z"
   },
   {
    "duration": 8,
    "start_time": "2022-01-23T14:35:53.632Z"
   },
   {
    "duration": 31,
    "start_time": "2022-01-23T14:35:53.642Z"
   },
   {
    "duration": 9,
    "start_time": "2022-01-23T14:35:53.676Z"
   },
   {
    "duration": 15,
    "start_time": "2022-01-23T14:35:53.687Z"
   },
   {
    "duration": 6,
    "start_time": "2022-01-23T14:35:53.705Z"
   },
   {
    "duration": 7488,
    "start_time": "2022-01-23T14:35:53.713Z"
   },
   {
    "duration": 18,
    "start_time": "2022-01-23T14:36:01.203Z"
   },
   {
    "duration": 18,
    "start_time": "2022-01-23T14:36:01.224Z"
   },
   {
    "duration": 10,
    "start_time": "2022-01-23T14:36:01.245Z"
   },
   {
    "duration": 15,
    "start_time": "2022-01-23T14:36:01.257Z"
   },
   {
    "duration": 25,
    "start_time": "2022-01-23T14:36:01.274Z"
   },
   {
    "duration": 48,
    "start_time": "2022-01-23T14:36:01.301Z"
   },
   {
    "duration": 38,
    "start_time": "2022-01-23T14:36:01.351Z"
   },
   {
    "duration": 33,
    "start_time": "2022-01-23T14:36:01.391Z"
   },
   {
    "duration": 18,
    "start_time": "2022-01-23T14:36:01.426Z"
   },
   {
    "duration": 45,
    "start_time": "2022-01-23T14:36:01.446Z"
   },
   {
    "duration": 6,
    "start_time": "2022-01-23T14:36:01.493Z"
   },
   {
    "duration": 39,
    "start_time": "2022-01-23T14:36:01.502Z"
   },
   {
    "duration": 40,
    "start_time": "2022-01-23T14:36:01.544Z"
   },
   {
    "duration": 5,
    "start_time": "2022-01-23T14:36:01.586Z"
   },
   {
    "duration": 24,
    "start_time": "2022-01-23T14:36:01.594Z"
   },
   {
    "duration": 30,
    "start_time": "2022-01-23T14:36:01.621Z"
   },
   {
    "duration": 7,
    "start_time": "2022-01-23T14:36:01.666Z"
   },
   {
    "duration": 25,
    "start_time": "2022-01-23T14:36:01.675Z"
   },
   {
    "duration": 50,
    "start_time": "2022-01-23T14:36:01.703Z"
   },
   {
    "duration": 12,
    "start_time": "2022-01-23T14:36:01.757Z"
   },
   {
    "duration": 48,
    "start_time": "2022-01-23T14:36:01.772Z"
   },
   {
    "duration": 38,
    "start_time": "2022-01-23T14:36:01.822Z"
   },
   {
    "duration": 19,
    "start_time": "2022-01-23T14:36:01.863Z"
   },
   {
    "duration": 837,
    "start_time": "2022-03-05T14:27:32.861Z"
   },
   {
    "duration": 62,
    "start_time": "2022-03-05T14:27:33.700Z"
   },
   {
    "duration": 26,
    "start_time": "2022-03-05T14:27:33.765Z"
   },
   {
    "duration": 36,
    "start_time": "2022-03-05T14:27:33.794Z"
   },
   {
    "duration": 76,
    "start_time": "2022-03-05T14:27:33.833Z"
   },
   {
    "duration": 27,
    "start_time": "2022-03-05T14:27:33.911Z"
   },
   {
    "duration": 12,
    "start_time": "2022-03-05T14:27:33.941Z"
   },
   {
    "duration": 15,
    "start_time": "2022-03-05T14:27:33.975Z"
   },
   {
    "duration": 15,
    "start_time": "2022-03-05T14:27:33.996Z"
   },
   {
    "duration": 8,
    "start_time": "2022-03-05T14:27:34.014Z"
   },
   {
    "duration": 55,
    "start_time": "2022-03-05T14:27:34.024Z"
   },
   {
    "duration": 10,
    "start_time": "2022-03-05T14:27:34.082Z"
   },
   {
    "duration": 29,
    "start_time": "2022-03-05T14:27:34.094Z"
   },
   {
    "duration": 53,
    "start_time": "2022-03-05T14:27:34.126Z"
   },
   {
    "duration": 33,
    "start_time": "2022-03-05T14:27:34.182Z"
   },
   {
    "duration": 16,
    "start_time": "2022-03-05T14:27:34.217Z"
   },
   {
    "duration": 53,
    "start_time": "2022-03-05T14:27:34.236Z"
   },
   {
    "duration": 49,
    "start_time": "2022-03-05T14:27:34.292Z"
   },
   {
    "duration": 47,
    "start_time": "2022-03-05T14:27:34.344Z"
   },
   {
    "duration": 8,
    "start_time": "2022-03-05T14:27:34.393Z"
   },
   {
    "duration": 27,
    "start_time": "2022-03-05T14:27:34.403Z"
   },
   {
    "duration": 57,
    "start_time": "2022-03-05T14:27:34.432Z"
   },
   {
    "duration": 26,
    "start_time": "2022-03-05T14:27:34.491Z"
   },
   {
    "duration": 6,
    "start_time": "2022-03-05T14:27:34.519Z"
   },
   {
    "duration": 4,
    "start_time": "2022-03-05T14:27:34.528Z"
   },
   {
    "duration": 5321,
    "start_time": "2022-03-05T14:27:34.534Z"
   },
   {
    "duration": 21,
    "start_time": "2022-03-05T14:27:39.874Z"
   },
   {
    "duration": 9,
    "start_time": "2022-03-05T14:27:39.899Z"
   },
   {
    "duration": 7,
    "start_time": "2022-03-05T14:27:39.910Z"
   },
   {
    "duration": 14,
    "start_time": "2022-03-05T14:27:39.920Z"
   },
   {
    "duration": 58,
    "start_time": "2022-03-05T14:27:39.937Z"
   },
   {
    "duration": 7,
    "start_time": "2022-03-05T14:27:39.998Z"
   },
   {
    "duration": 6749,
    "start_time": "2022-03-05T14:27:40.007Z"
   },
   {
    "duration": 27,
    "start_time": "2022-03-05T14:27:46.758Z"
   },
   {
    "duration": 7,
    "start_time": "2022-03-05T14:27:46.789Z"
   },
   {
    "duration": 7,
    "start_time": "2022-03-05T14:27:46.799Z"
   },
   {
    "duration": 10,
    "start_time": "2022-03-05T14:27:46.808Z"
   },
   {
    "duration": 6,
    "start_time": "2022-03-05T14:27:46.820Z"
   },
   {
    "duration": 56,
    "start_time": "2022-03-05T14:27:46.828Z"
   },
   {
    "duration": 23,
    "start_time": "2022-03-05T14:27:46.886Z"
   },
   {
    "duration": 11,
    "start_time": "2022-03-05T14:27:46.911Z"
   },
   {
    "duration": 24,
    "start_time": "2022-03-05T14:27:46.925Z"
   },
   {
    "duration": 57,
    "start_time": "2022-03-05T14:27:46.952Z"
   },
   {
    "duration": 7,
    "start_time": "2022-03-05T14:27:47.011Z"
   },
   {
    "duration": 20,
    "start_time": "2022-03-05T14:27:47.022Z"
   },
   {
    "duration": 54,
    "start_time": "2022-03-05T14:27:47.045Z"
   },
   {
    "duration": 7,
    "start_time": "2022-03-05T14:27:47.102Z"
   },
   {
    "duration": 17,
    "start_time": "2022-03-05T14:27:47.111Z"
   },
   {
    "duration": 47,
    "start_time": "2022-03-05T14:27:47.130Z"
   },
   {
    "duration": 8,
    "start_time": "2022-03-05T14:27:47.181Z"
   },
   {
    "duration": 15,
    "start_time": "2022-03-05T14:27:47.192Z"
   },
   {
    "duration": 64,
    "start_time": "2022-03-05T14:27:47.210Z"
   },
   {
    "duration": 8,
    "start_time": "2022-03-05T14:27:47.277Z"
   },
   {
    "duration": 21,
    "start_time": "2022-03-05T14:27:47.287Z"
   },
   {
    "duration": 31,
    "start_time": "2022-03-05T14:27:47.310Z"
   },
   {
    "duration": 43,
    "start_time": "2022-03-05T14:27:47.343Z"
   }
  ],
  "kernelspec": {
   "display_name": "Python 3 (ipykernel)",
   "language": "python",
   "name": "python3"
  },
  "language_info": {
   "codemirror_mode": {
    "name": "ipython",
    "version": 3
   },
   "file_extension": ".py",
   "mimetype": "text/x-python",
   "name": "python",
   "nbconvert_exporter": "python",
   "pygments_lexer": "ipython3",
   "version": "3.8.10"
  },
  "toc": {
   "base_numbering": 1,
   "nav_menu": {},
   "number_sections": true,
   "sideBar": true,
   "skip_h1_title": true,
   "title_cell": "Table of Contents",
   "title_sidebar": "Contents",
   "toc_cell": false,
   "toc_position": {},
   "toc_section_display": true,
   "toc_window_display": false
  }
 },
 "nbformat": 4,
 "nbformat_minor": 2
}
